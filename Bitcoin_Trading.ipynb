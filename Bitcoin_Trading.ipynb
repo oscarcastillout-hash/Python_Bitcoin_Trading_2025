{
  "cells": [
    {
      "cell_type": "markdown",
      "metadata": {
        "colab_type": "text",
        "id": "view-in-github"
      },
      "source": [
        "<a href=\"https://colab.research.google.com/github/oscarcastillout-hash/Python-Stock-Trading-Portfolio-Project/blob/main/Bitcoin_Trading.ipynb\" target=\"_parent\"><img src=\"https://colab.research.google.com/assets/colab-badge.svg\" alt=\"Open In Colab\"/></a>"
      ]
    },
    {
      "cell_type": "markdown",
      "metadata": {
        "id": "NGIf9em_nJe-"
      },
      "source": [
        "# 📈 Bitcoin Price Analysis (2024–2025)\n",
        "\n",
        "This project analyzes the historical price trends of Bitcoin over the past year using Python. It demonstrates data acquisition from public APIs, interactive visualization with Plotly, and technical indicator computation for exploratory financial analysis.\n",
        "\n",
        "---\n",
        "\n",
        "## 🔍 Project Overview\n",
        "\n",
        "- **Asset**: Bitcoin (BTC)\n",
        "- **Timeframe**: October 2024 – October 2025\n",
        "- **Data Source**: CoinGecko API\n",
        "- **Tools Used**: Python, Pandas, Plotly, Dash, TA-Lib\n",
        "- **Focus Areas**:\n",
        "  - Price evolution and volatility\n",
        "  - Daily returns and cumulative growth\n",
        "  - RSI and other technical indicators\n",
        "  - Interactive dashboard (optional)\n",
        "\n",
        "---\n",
        "\n",
        "## 🧰 Features\n",
        "\n",
        "- ✅ Fetches past year of historical BTC price data\n",
        "- 📊 Visualizes price trends with interactive charts\n",
        "- 📈 Computes daily returns and volatility\n",
        "- 📉 Adds technical indicators (RSI, MACD)\n",
        "- 🧪 Optional: Forecasting with Prophet or LSTM\n",
        "- 🧱 Modular code structure for reproducibility\n",
        "\n"
      ]
    },
    {
      "cell_type": "code",
      "execution_count": null,
      "metadata": {
        "colab": {
          "base_uri": "https://localhost:8080/"
        },
        "id": "2oNIhH7bnHVQ",
        "outputId": "20f0aa9f-0133-4350-a56b-1833379e74d2"
      },
      "outputs": [],
      "source": [
        "## Install libraries\n",
        "!pip install pandas requests plotly dash"
      ]
    },
    {
      "cell_type": "code",
      "execution_count": 2,
      "metadata": {
        "colab": {
          "base_uri": "https://localhost:8080/",
          "height": 0
        },
        "id": "7I3mn660nzt5",
        "outputId": "1b66fddd-4d0b-4613-acf0-3683e9e8904d"
      },
      "outputs": [
        {
          "name": "stdout",
          "output_type": "stream",
          "text": [
            "Data fetched successfully for the last 365 days.\n"
          ]
        }
      ],
      "source": [
        "## Fetch Historical Data\n",
        "import requests\n",
        "import pandas as pd\n",
        "\n",
        "url = \"https://api.coingecko.com/api/v3/coins/bitcoin/market_chart\"\n",
        "params = {\"vs_currency\": \"usd\", \"days\": \"365\"}  # ~1 year\n",
        "\n",
        "data = requests.get(url, params=params).json()\n",
        "\n",
        "if 'prices' in data:\n",
        "    prices = pd.DataFrame(data['prices'], columns=['timestamp', 'price'])\n",
        "    prices['timestamp'] = pd.to_datetime(prices['timestamp'], unit='ms')\n",
        "    prices.set_index('timestamp', inplace=True)\n",
        "    print(\"Data fetched successfully for the last 365 days.\")\n",
        "else:\n",
        "    print(\"Error fetching data from CoinGecko API:\", data)"
      ]
    },
    {
      "cell_type": "code",
      "execution_count": 3,
      "metadata": {
        "colab": {
          "base_uri": "https://localhost:8080/",
          "height": 300
        },
        "id": "faa68068",
        "outputId": "0ee6752b-9323-436a-ac76-a15c0b6eef99"
      },
      "outputs": [
        {
          "data": {
            "application/vnd.microsoft.datawrangler.viewer.v0+json": {
              "columns": [
                {
                  "name": "index",
                  "rawType": "object",
                  "type": "string"
                },
                {
                  "name": "price",
                  "rawType": "float64",
                  "type": "float"
                }
              ],
              "ref": "bcb8c31a-61e3-4ed5-804e-c2a66c273f32",
              "rows": [
                [
                  "count",
                  "366.0"
                ],
                [
                  "mean",
                  "100274.9578051113"
                ],
                [
                  "std",
                  "13296.48059424883"
                ],
                [
                  "min",
                  "66585.66535501445"
                ],
                [
                  "25%",
                  "93524.93553199613"
                ],
                [
                  "50%",
                  "101416.93565561877"
                ],
                [
                  "75%",
                  "110249.36427488773"
                ],
                [
                  "max",
                  "124773.50823074432"
                ]
              ],
              "shape": {
                "columns": 1,
                "rows": 8
              }
            },
            "text/html": [
              "<div>\n",
              "<style scoped>\n",
              "    .dataframe tbody tr th:only-of-type {\n",
              "        vertical-align: middle;\n",
              "    }\n",
              "\n",
              "    .dataframe tbody tr th {\n",
              "        vertical-align: top;\n",
              "    }\n",
              "\n",
              "    .dataframe thead th {\n",
              "        text-align: right;\n",
              "    }\n",
              "</style>\n",
              "<table border=\"1\" class=\"dataframe\">\n",
              "  <thead>\n",
              "    <tr style=\"text-align: right;\">\n",
              "      <th></th>\n",
              "      <th>price</th>\n",
              "    </tr>\n",
              "  </thead>\n",
              "  <tbody>\n",
              "    <tr>\n",
              "      <th>count</th>\n",
              "      <td>366.000000</td>\n",
              "    </tr>\n",
              "    <tr>\n",
              "      <th>mean</th>\n",
              "      <td>100274.957805</td>\n",
              "    </tr>\n",
              "    <tr>\n",
              "      <th>std</th>\n",
              "      <td>13296.480594</td>\n",
              "    </tr>\n",
              "    <tr>\n",
              "      <th>min</th>\n",
              "      <td>66585.665355</td>\n",
              "    </tr>\n",
              "    <tr>\n",
              "      <th>25%</th>\n",
              "      <td>93524.935532</td>\n",
              "    </tr>\n",
              "    <tr>\n",
              "      <th>50%</th>\n",
              "      <td>101416.935656</td>\n",
              "    </tr>\n",
              "    <tr>\n",
              "      <th>75%</th>\n",
              "      <td>110249.364275</td>\n",
              "    </tr>\n",
              "    <tr>\n",
              "      <th>max</th>\n",
              "      <td>124773.508231</td>\n",
              "    </tr>\n",
              "  </tbody>\n",
              "</table>\n",
              "</div>"
            ],
            "text/plain": [
              "               price\n",
              "count     366.000000\n",
              "mean   100274.957805\n",
              "std     13296.480594\n",
              "min     66585.665355\n",
              "25%     93524.935532\n",
              "50%    101416.935656\n",
              "75%    110249.364275\n",
              "max    124773.508231"
            ]
          },
          "metadata": {},
          "output_type": "display_data"
        }
      ],
      "source": [
        "## Show summary statistics\n",
        "display(prices.describe())"
      ]
    },
    {
      "cell_type": "code",
      "execution_count": 4,
      "metadata": {
        "colab": {
          "base_uri": "https://localhost:8080/",
          "height": 542
        },
        "id": "8a31962f",
        "outputId": "f852bbf7-f8e9-4d48-c0f6-0c062370524b"
      },
      "outputs": [
        {
          "data": {
            "application/vnd.plotly.v1+json": {
              "config": {
                "plotlyServerURL": "https://plot.ly"
              },
              "data": [
                {
                  "hovertemplate": "timestamp=%{x}<br>price=%{y}<extra></extra>",
                  "legendgroup": "",
                  "line": {
                    "color": "#636efa",
                    "dash": "solid"
                  },
                  "marker": {
                    "symbol": "circle"
                  },
                  "mode": "lines",
                  "name": "",
                  "orientation": "v",
                  "showlegend": false,
                  "type": "scatter",
                  "x": [
                    "2024-10-21T00:00:00",
                    "2024-10-22T00:00:00",
                    "2024-10-23T00:00:00",
                    "2024-10-24T00:00:00",
                    "2024-10-25T00:00:00",
                    "2024-10-26T00:00:00",
                    "2024-10-27T00:00:00",
                    "2024-10-28T00:00:00",
                    "2024-10-29T00:00:00",
                    "2024-10-30T00:00:00",
                    "2024-10-31T00:00:00",
                    "2024-11-01T00:00:00",
                    "2024-11-02T00:00:00",
                    "2024-11-03T00:00:00",
                    "2024-11-04T00:00:00",
                    "2024-11-05T00:00:00",
                    "2024-11-06T00:00:00",
                    "2024-11-07T00:00:00",
                    "2024-11-08T00:00:00",
                    "2024-11-09T00:00:00",
                    "2024-11-10T00:00:00",
                    "2024-11-11T00:00:00",
                    "2024-11-12T00:00:00",
                    "2024-11-13T00:00:00",
                    "2024-11-14T00:00:00",
                    "2024-11-15T00:00:00",
                    "2024-11-16T00:00:00",
                    "2024-11-17T00:00:00",
                    "2024-11-18T00:00:00",
                    "2024-11-19T00:00:00",
                    "2024-11-20T00:00:00",
                    "2024-11-21T00:00:00",
                    "2024-11-22T00:00:00",
                    "2024-11-23T00:00:00",
                    "2024-11-24T00:00:00",
                    "2024-11-25T00:00:00",
                    "2024-11-26T00:00:00",
                    "2024-11-27T00:00:00",
                    "2024-11-28T00:00:00",
                    "2024-11-29T00:00:00",
                    "2024-11-30T00:00:00",
                    "2024-12-01T00:00:00",
                    "2024-12-02T00:00:00",
                    "2024-12-03T00:00:00",
                    "2024-12-04T00:00:00",
                    "2024-12-05T00:00:00",
                    "2024-12-06T00:00:00",
                    "2024-12-07T00:00:00",
                    "2024-12-08T00:00:00",
                    "2024-12-09T00:00:00",
                    "2024-12-10T00:00:00",
                    "2024-12-11T00:00:00",
                    "2024-12-12T00:00:00",
                    "2024-12-13T00:00:00",
                    "2024-12-14T00:00:00",
                    "2024-12-15T00:00:00",
                    "2024-12-16T00:00:00",
                    "2024-12-17T00:00:00",
                    "2024-12-18T00:00:00",
                    "2024-12-19T00:00:00",
                    "2024-12-20T00:00:00",
                    "2024-12-21T00:00:00",
                    "2024-12-22T00:00:00",
                    "2024-12-23T00:00:00",
                    "2024-12-24T00:00:00",
                    "2024-12-25T00:00:00",
                    "2024-12-26T00:00:00",
                    "2024-12-27T00:00:00",
                    "2024-12-28T00:00:00",
                    "2024-12-29T00:00:00",
                    "2024-12-30T00:00:00",
                    "2024-12-31T00:00:00",
                    "2025-01-01T00:00:00",
                    "2025-01-02T00:00:00",
                    "2025-01-03T00:00:00",
                    "2025-01-04T00:00:00",
                    "2025-01-05T00:00:00",
                    "2025-01-06T00:00:00",
                    "2025-01-07T00:00:00",
                    "2025-01-08T00:00:00",
                    "2025-01-09T00:00:00",
                    "2025-01-10T00:00:00",
                    "2025-01-11T00:00:00",
                    "2025-01-12T00:00:00",
                    "2025-01-13T00:00:00",
                    "2025-01-14T00:00:00",
                    "2025-01-15T00:00:00",
                    "2025-01-16T00:00:00",
                    "2025-01-17T00:00:00",
                    "2025-01-18T00:00:00",
                    "2025-01-19T00:00:00",
                    "2025-01-20T00:00:00",
                    "2025-01-21T00:00:00",
                    "2025-01-22T00:00:00",
                    "2025-01-23T00:00:00",
                    "2025-01-24T00:00:00",
                    "2025-01-25T00:00:00",
                    "2025-01-26T00:00:00",
                    "2025-01-27T00:00:00",
                    "2025-01-28T00:00:00",
                    "2025-01-29T00:00:00",
                    "2025-01-30T00:00:00",
                    "2025-01-31T00:00:00",
                    "2025-02-01T00:00:00",
                    "2025-02-02T00:00:00",
                    "2025-02-03T00:00:00",
                    "2025-02-04T00:00:00",
                    "2025-02-05T00:00:00",
                    "2025-02-06T00:00:00",
                    "2025-02-07T00:00:00",
                    "2025-02-08T00:00:00",
                    "2025-02-09T00:00:00",
                    "2025-02-10T00:00:00",
                    "2025-02-11T00:00:00",
                    "2025-02-12T00:00:00",
                    "2025-02-13T00:00:00",
                    "2025-02-14T00:00:00",
                    "2025-02-15T00:00:00",
                    "2025-02-16T00:00:00",
                    "2025-02-17T00:00:00",
                    "2025-02-18T00:00:00",
                    "2025-02-19T00:00:00",
                    "2025-02-20T00:00:00",
                    "2025-02-21T00:00:00",
                    "2025-02-22T00:00:00",
                    "2025-02-23T00:00:00",
                    "2025-02-24T00:00:00",
                    "2025-02-25T00:00:00",
                    "2025-02-26T00:00:00",
                    "2025-02-27T00:00:00",
                    "2025-02-28T00:00:00",
                    "2025-03-01T00:00:00",
                    "2025-03-02T00:00:00",
                    "2025-03-03T00:00:00",
                    "2025-03-04T00:00:00",
                    "2025-03-05T00:00:00",
                    "2025-03-06T00:00:00",
                    "2025-03-07T00:00:00",
                    "2025-03-08T00:00:00",
                    "2025-03-09T00:00:00",
                    "2025-03-10T00:00:00",
                    "2025-03-11T00:00:00",
                    "2025-03-12T00:00:00",
                    "2025-03-13T00:00:00",
                    "2025-03-14T00:00:00",
                    "2025-03-15T00:00:00",
                    "2025-03-16T00:00:00",
                    "2025-03-17T00:00:00",
                    "2025-03-18T00:00:00",
                    "2025-03-19T00:00:00",
                    "2025-03-20T00:00:00",
                    "2025-03-21T00:00:00",
                    "2025-03-22T00:00:00",
                    "2025-03-23T00:00:00",
                    "2025-03-24T00:00:00",
                    "2025-03-25T00:00:00",
                    "2025-03-26T00:00:00",
                    "2025-03-27T00:00:00",
                    "2025-03-28T00:00:00",
                    "2025-03-29T00:00:00",
                    "2025-03-30T00:00:00",
                    "2025-03-31T00:00:00",
                    "2025-04-01T00:00:00",
                    "2025-04-02T00:00:00",
                    "2025-04-03T00:00:00",
                    "2025-04-04T00:00:00",
                    "2025-04-05T00:00:00",
                    "2025-04-06T00:00:00",
                    "2025-04-07T00:00:00",
                    "2025-04-08T00:00:00",
                    "2025-04-09T00:00:00",
                    "2025-04-10T00:00:00",
                    "2025-04-11T00:00:00",
                    "2025-04-12T00:00:00",
                    "2025-04-13T00:00:00",
                    "2025-04-14T00:00:00",
                    "2025-04-15T00:00:00",
                    "2025-04-16T00:00:00",
                    "2025-04-17T00:00:00",
                    "2025-04-18T00:00:00",
                    "2025-04-19T00:00:00",
                    "2025-04-20T00:00:00",
                    "2025-04-21T00:00:00",
                    "2025-04-22T00:00:00",
                    "2025-04-23T00:00:00",
                    "2025-04-24T00:00:00",
                    "2025-04-25T00:00:00",
                    "2025-04-26T00:00:00",
                    "2025-04-27T00:00:00",
                    "2025-04-28T00:00:00",
                    "2025-04-29T00:00:00",
                    "2025-04-30T00:00:00",
                    "2025-05-01T00:00:00",
                    "2025-05-02T00:00:00",
                    "2025-05-03T00:00:00",
                    "2025-05-04T00:00:00",
                    "2025-05-05T00:00:00",
                    "2025-05-06T00:00:00",
                    "2025-05-07T00:00:00",
                    "2025-05-08T00:00:00",
                    "2025-05-09T00:00:00",
                    "2025-05-10T00:00:00",
                    "2025-05-11T00:00:00",
                    "2025-05-12T00:00:00",
                    "2025-05-13T00:00:00",
                    "2025-05-14T00:00:00",
                    "2025-05-15T00:00:00",
                    "2025-05-16T00:00:00",
                    "2025-05-17T00:00:00",
                    "2025-05-18T00:00:00",
                    "2025-05-19T00:00:00",
                    "2025-05-20T00:00:00",
                    "2025-05-21T00:00:00",
                    "2025-05-22T00:00:00",
                    "2025-05-23T00:00:00",
                    "2025-05-24T00:00:00",
                    "2025-05-25T00:00:00",
                    "2025-05-26T00:00:00",
                    "2025-05-27T00:00:00",
                    "2025-05-28T00:00:00",
                    "2025-05-29T00:00:00",
                    "2025-05-30T00:00:00",
                    "2025-05-31T00:00:00",
                    "2025-06-01T00:00:00",
                    "2025-06-02T00:00:00",
                    "2025-06-03T00:00:00",
                    "2025-06-04T00:00:00",
                    "2025-06-05T00:00:00",
                    "2025-06-06T00:00:00",
                    "2025-06-07T00:00:00",
                    "2025-06-08T00:00:00",
                    "2025-06-09T00:00:00",
                    "2025-06-10T00:00:00",
                    "2025-06-11T00:00:00",
                    "2025-06-12T00:00:00",
                    "2025-06-13T00:00:00",
                    "2025-06-14T00:00:00",
                    "2025-06-15T00:00:00",
                    "2025-06-16T00:00:00",
                    "2025-06-17T00:00:00",
                    "2025-06-18T00:00:00",
                    "2025-06-19T00:00:00",
                    "2025-06-20T00:00:00",
                    "2025-06-21T00:00:00",
                    "2025-06-22T00:00:00",
                    "2025-06-23T00:00:00",
                    "2025-06-24T00:00:00",
                    "2025-06-25T00:00:00",
                    "2025-06-26T00:00:00",
                    "2025-06-27T00:00:00",
                    "2025-06-28T00:00:00",
                    "2025-06-29T00:00:00",
                    "2025-06-30T00:00:00",
                    "2025-07-01T00:00:00",
                    "2025-07-02T00:00:00",
                    "2025-07-03T00:00:00",
                    "2025-07-04T00:00:00",
                    "2025-07-05T00:00:00",
                    "2025-07-06T00:00:00",
                    "2025-07-07T00:00:00",
                    "2025-07-08T00:00:00",
                    "2025-07-09T00:00:00",
                    "2025-07-10T00:00:00",
                    "2025-07-11T00:00:00",
                    "2025-07-12T00:00:00",
                    "2025-07-13T00:00:00",
                    "2025-07-14T00:00:00",
                    "2025-07-15T00:00:00",
                    "2025-07-16T00:00:00",
                    "2025-07-17T00:00:00",
                    "2025-07-18T00:00:00",
                    "2025-07-19T00:00:00",
                    "2025-07-20T00:00:00",
                    "2025-07-21T00:00:00",
                    "2025-07-22T00:00:00",
                    "2025-07-23T00:00:00",
                    "2025-07-24T00:00:00",
                    "2025-07-25T00:00:00",
                    "2025-07-26T00:00:00",
                    "2025-07-27T00:00:00",
                    "2025-07-28T00:00:00",
                    "2025-07-29T00:00:00",
                    "2025-07-30T00:00:00",
                    "2025-07-31T00:00:00",
                    "2025-08-01T00:00:00",
                    "2025-08-02T00:00:00",
                    "2025-08-03T00:00:00",
                    "2025-08-04T00:00:00",
                    "2025-08-05T00:00:00",
                    "2025-08-06T00:00:00",
                    "2025-08-07T00:00:00",
                    "2025-08-08T00:00:00",
                    "2025-08-09T00:00:00",
                    "2025-08-10T00:00:00",
                    "2025-08-11T00:00:00",
                    "2025-08-12T00:00:00",
                    "2025-08-13T00:00:00",
                    "2025-08-14T00:00:00",
                    "2025-08-15T00:00:00",
                    "2025-08-16T00:00:00",
                    "2025-08-17T00:00:00",
                    "2025-08-18T00:00:00",
                    "2025-08-19T00:00:00",
                    "2025-08-20T00:00:00",
                    "2025-08-21T00:00:00",
                    "2025-08-22T00:00:00",
                    "2025-08-23T00:00:00",
                    "2025-08-24T00:00:00",
                    "2025-08-25T00:00:00",
                    "2025-08-26T00:00:00",
                    "2025-08-27T00:00:00",
                    "2025-08-28T00:00:00",
                    "2025-08-29T00:00:00",
                    "2025-08-30T00:00:00",
                    "2025-08-31T00:00:00",
                    "2025-09-01T00:00:00",
                    "2025-09-02T00:00:00",
                    "2025-09-03T00:00:00",
                    "2025-09-04T00:00:00",
                    "2025-09-05T00:00:00",
                    "2025-09-06T00:00:00",
                    "2025-09-07T00:00:00",
                    "2025-09-08T00:00:00",
                    "2025-09-09T00:00:00",
                    "2025-09-10T00:00:00",
                    "2025-09-11T00:00:00",
                    "2025-09-12T00:00:00",
                    "2025-09-13T00:00:00",
                    "2025-09-14T00:00:00",
                    "2025-09-15T00:00:00",
                    "2025-09-16T00:00:00",
                    "2025-09-17T00:00:00",
                    "2025-09-18T00:00:00",
                    "2025-09-19T00:00:00",
                    "2025-09-20T00:00:00",
                    "2025-09-21T00:00:00",
                    "2025-09-22T00:00:00",
                    "2025-09-23T00:00:00",
                    "2025-09-24T00:00:00",
                    "2025-09-25T00:00:00",
                    "2025-09-26T00:00:00",
                    "2025-09-27T00:00:00",
                    "2025-09-28T00:00:00",
                    "2025-09-29T00:00:00",
                    "2025-09-30T00:00:00",
                    "2025-10-01T00:00:00",
                    "2025-10-02T00:00:00",
                    "2025-10-03T00:00:00",
                    "2025-10-04T00:00:00",
                    "2025-10-05T00:00:00",
                    "2025-10-06T00:00:00",
                    "2025-10-07T00:00:00",
                    "2025-10-08T00:00:00",
                    "2025-10-09T00:00:00",
                    "2025-10-10T00:00:00",
                    "2025-10-11T00:00:00",
                    "2025-10-12T00:00:00",
                    "2025-10-13T00:00:00",
                    "2025-10-14T00:00:00",
                    "2025-10-15T00:00:00",
                    "2025-10-16T00:00:00",
                    "2025-10-17T00:00:00",
                    "2025-10-18T00:00:00",
                    "2025-10-19T00:00:00",
                    "2025-10-20T00:00:00",
                    "2025-10-20T03:14:33"
                  ],
                  "xaxis": "x",
                  "y": {
                    "bdata": "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",
                    "dtype": "f8"
                  },
                  "yaxis": "y"
                }
              ],
              "layout": {
                "legend": {
                  "tracegroupgap": 0
                },
                "template": {
                  "data": {
                    "bar": [
                      {
                        "error_x": {
                          "color": "#2a3f5f"
                        },
                        "error_y": {
                          "color": "#2a3f5f"
                        },
                        "marker": {
                          "line": {
                            "color": "#E5ECF6",
                            "width": 0.5
                          },
                          "pattern": {
                            "fillmode": "overlay",
                            "size": 10,
                            "solidity": 0.2
                          }
                        },
                        "type": "bar"
                      }
                    ],
                    "barpolar": [
                      {
                        "marker": {
                          "line": {
                            "color": "#E5ECF6",
                            "width": 0.5
                          },
                          "pattern": {
                            "fillmode": "overlay",
                            "size": 10,
                            "solidity": 0.2
                          }
                        },
                        "type": "barpolar"
                      }
                    ],
                    "carpet": [
                      {
                        "aaxis": {
                          "endlinecolor": "#2a3f5f",
                          "gridcolor": "white",
                          "linecolor": "white",
                          "minorgridcolor": "white",
                          "startlinecolor": "#2a3f5f"
                        },
                        "baxis": {
                          "endlinecolor": "#2a3f5f",
                          "gridcolor": "white",
                          "linecolor": "white",
                          "minorgridcolor": "white",
                          "startlinecolor": "#2a3f5f"
                        },
                        "type": "carpet"
                      }
                    ],
                    "choropleth": [
                      {
                        "colorbar": {
                          "outlinewidth": 0,
                          "ticks": ""
                        },
                        "type": "choropleth"
                      }
                    ],
                    "contour": [
                      {
                        "colorbar": {
                          "outlinewidth": 0,
                          "ticks": ""
                        },
                        "colorscale": [
                          [
                            0,
                            "#0d0887"
                          ],
                          [
                            0.1111111111111111,
                            "#46039f"
                          ],
                          [
                            0.2222222222222222,
                            "#7201a8"
                          ],
                          [
                            0.3333333333333333,
                            "#9c179e"
                          ],
                          [
                            0.4444444444444444,
                            "#bd3786"
                          ],
                          [
                            0.5555555555555556,
                            "#d8576b"
                          ],
                          [
                            0.6666666666666666,
                            "#ed7953"
                          ],
                          [
                            0.7777777777777778,
                            "#fb9f3a"
                          ],
                          [
                            0.8888888888888888,
                            "#fdca26"
                          ],
                          [
                            1,
                            "#f0f921"
                          ]
                        ],
                        "type": "contour"
                      }
                    ],
                    "contourcarpet": [
                      {
                        "colorbar": {
                          "outlinewidth": 0,
                          "ticks": ""
                        },
                        "type": "contourcarpet"
                      }
                    ],
                    "heatmap": [
                      {
                        "colorbar": {
                          "outlinewidth": 0,
                          "ticks": ""
                        },
                        "colorscale": [
                          [
                            0,
                            "#0d0887"
                          ],
                          [
                            0.1111111111111111,
                            "#46039f"
                          ],
                          [
                            0.2222222222222222,
                            "#7201a8"
                          ],
                          [
                            0.3333333333333333,
                            "#9c179e"
                          ],
                          [
                            0.4444444444444444,
                            "#bd3786"
                          ],
                          [
                            0.5555555555555556,
                            "#d8576b"
                          ],
                          [
                            0.6666666666666666,
                            "#ed7953"
                          ],
                          [
                            0.7777777777777778,
                            "#fb9f3a"
                          ],
                          [
                            0.8888888888888888,
                            "#fdca26"
                          ],
                          [
                            1,
                            "#f0f921"
                          ]
                        ],
                        "type": "heatmap"
                      }
                    ],
                    "histogram": [
                      {
                        "marker": {
                          "pattern": {
                            "fillmode": "overlay",
                            "size": 10,
                            "solidity": 0.2
                          }
                        },
                        "type": "histogram"
                      }
                    ],
                    "histogram2d": [
                      {
                        "colorbar": {
                          "outlinewidth": 0,
                          "ticks": ""
                        },
                        "colorscale": [
                          [
                            0,
                            "#0d0887"
                          ],
                          [
                            0.1111111111111111,
                            "#46039f"
                          ],
                          [
                            0.2222222222222222,
                            "#7201a8"
                          ],
                          [
                            0.3333333333333333,
                            "#9c179e"
                          ],
                          [
                            0.4444444444444444,
                            "#bd3786"
                          ],
                          [
                            0.5555555555555556,
                            "#d8576b"
                          ],
                          [
                            0.6666666666666666,
                            "#ed7953"
                          ],
                          [
                            0.7777777777777778,
                            "#fb9f3a"
                          ],
                          [
                            0.8888888888888888,
                            "#fdca26"
                          ],
                          [
                            1,
                            "#f0f921"
                          ]
                        ],
                        "type": "histogram2d"
                      }
                    ],
                    "histogram2dcontour": [
                      {
                        "colorbar": {
                          "outlinewidth": 0,
                          "ticks": ""
                        },
                        "colorscale": [
                          [
                            0,
                            "#0d0887"
                          ],
                          [
                            0.1111111111111111,
                            "#46039f"
                          ],
                          [
                            0.2222222222222222,
                            "#7201a8"
                          ],
                          [
                            0.3333333333333333,
                            "#9c179e"
                          ],
                          [
                            0.4444444444444444,
                            "#bd3786"
                          ],
                          [
                            0.5555555555555556,
                            "#d8576b"
                          ],
                          [
                            0.6666666666666666,
                            "#ed7953"
                          ],
                          [
                            0.7777777777777778,
                            "#fb9f3a"
                          ],
                          [
                            0.8888888888888888,
                            "#fdca26"
                          ],
                          [
                            1,
                            "#f0f921"
                          ]
                        ],
                        "type": "histogram2dcontour"
                      }
                    ],
                    "mesh3d": [
                      {
                        "colorbar": {
                          "outlinewidth": 0,
                          "ticks": ""
                        },
                        "type": "mesh3d"
                      }
                    ],
                    "parcoords": [
                      {
                        "line": {
                          "colorbar": {
                            "outlinewidth": 0,
                            "ticks": ""
                          }
                        },
                        "type": "parcoords"
                      }
                    ],
                    "pie": [
                      {
                        "automargin": true,
                        "type": "pie"
                      }
                    ],
                    "scatter": [
                      {
                        "fillpattern": {
                          "fillmode": "overlay",
                          "size": 10,
                          "solidity": 0.2
                        },
                        "type": "scatter"
                      }
                    ],
                    "scatter3d": [
                      {
                        "line": {
                          "colorbar": {
                            "outlinewidth": 0,
                            "ticks": ""
                          }
                        },
                        "marker": {
                          "colorbar": {
                            "outlinewidth": 0,
                            "ticks": ""
                          }
                        },
                        "type": "scatter3d"
                      }
                    ],
                    "scattercarpet": [
                      {
                        "marker": {
                          "colorbar": {
                            "outlinewidth": 0,
                            "ticks": ""
                          }
                        },
                        "type": "scattercarpet"
                      }
                    ],
                    "scattergeo": [
                      {
                        "marker": {
                          "colorbar": {
                            "outlinewidth": 0,
                            "ticks": ""
                          }
                        },
                        "type": "scattergeo"
                      }
                    ],
                    "scattergl": [
                      {
                        "marker": {
                          "colorbar": {
                            "outlinewidth": 0,
                            "ticks": ""
                          }
                        },
                        "type": "scattergl"
                      }
                    ],
                    "scattermap": [
                      {
                        "marker": {
                          "colorbar": {
                            "outlinewidth": 0,
                            "ticks": ""
                          }
                        },
                        "type": "scattermap"
                      }
                    ],
                    "scattermapbox": [
                      {
                        "marker": {
                          "colorbar": {
                            "outlinewidth": 0,
                            "ticks": ""
                          }
                        },
                        "type": "scattermapbox"
                      }
                    ],
                    "scatterpolar": [
                      {
                        "marker": {
                          "colorbar": {
                            "outlinewidth": 0,
                            "ticks": ""
                          }
                        },
                        "type": "scatterpolar"
                      }
                    ],
                    "scatterpolargl": [
                      {
                        "marker": {
                          "colorbar": {
                            "outlinewidth": 0,
                            "ticks": ""
                          }
                        },
                        "type": "scatterpolargl"
                      }
                    ],
                    "scatterternary": [
                      {
                        "marker": {
                          "colorbar": {
                            "outlinewidth": 0,
                            "ticks": ""
                          }
                        },
                        "type": "scatterternary"
                      }
                    ],
                    "surface": [
                      {
                        "colorbar": {
                          "outlinewidth": 0,
                          "ticks": ""
                        },
                        "colorscale": [
                          [
                            0,
                            "#0d0887"
                          ],
                          [
                            0.1111111111111111,
                            "#46039f"
                          ],
                          [
                            0.2222222222222222,
                            "#7201a8"
                          ],
                          [
                            0.3333333333333333,
                            "#9c179e"
                          ],
                          [
                            0.4444444444444444,
                            "#bd3786"
                          ],
                          [
                            0.5555555555555556,
                            "#d8576b"
                          ],
                          [
                            0.6666666666666666,
                            "#ed7953"
                          ],
                          [
                            0.7777777777777778,
                            "#fb9f3a"
                          ],
                          [
                            0.8888888888888888,
                            "#fdca26"
                          ],
                          [
                            1,
                            "#f0f921"
                          ]
                        ],
                        "type": "surface"
                      }
                    ],
                    "table": [
                      {
                        "cells": {
                          "fill": {
                            "color": "#EBF0F8"
                          },
                          "line": {
                            "color": "white"
                          }
                        },
                        "header": {
                          "fill": {
                            "color": "#C8D4E3"
                          },
                          "line": {
                            "color": "white"
                          }
                        },
                        "type": "table"
                      }
                    ]
                  },
                  "layout": {
                    "annotationdefaults": {
                      "arrowcolor": "#2a3f5f",
                      "arrowhead": 0,
                      "arrowwidth": 1
                    },
                    "autotypenumbers": "strict",
                    "coloraxis": {
                      "colorbar": {
                        "outlinewidth": 0,
                        "ticks": ""
                      }
                    },
                    "colorscale": {
                      "diverging": [
                        [
                          0,
                          "#8e0152"
                        ],
                        [
                          0.1,
                          "#c51b7d"
                        ],
                        [
                          0.2,
                          "#de77ae"
                        ],
                        [
                          0.3,
                          "#f1b6da"
                        ],
                        [
                          0.4,
                          "#fde0ef"
                        ],
                        [
                          0.5,
                          "#f7f7f7"
                        ],
                        [
                          0.6,
                          "#e6f5d0"
                        ],
                        [
                          0.7,
                          "#b8e186"
                        ],
                        [
                          0.8,
                          "#7fbc41"
                        ],
                        [
                          0.9,
                          "#4d9221"
                        ],
                        [
                          1,
                          "#276419"
                        ]
                      ],
                      "sequential": [
                        [
                          0,
                          "#0d0887"
                        ],
                        [
                          0.1111111111111111,
                          "#46039f"
                        ],
                        [
                          0.2222222222222222,
                          "#7201a8"
                        ],
                        [
                          0.3333333333333333,
                          "#9c179e"
                        ],
                        [
                          0.4444444444444444,
                          "#bd3786"
                        ],
                        [
                          0.5555555555555556,
                          "#d8576b"
                        ],
                        [
                          0.6666666666666666,
                          "#ed7953"
                        ],
                        [
                          0.7777777777777778,
                          "#fb9f3a"
                        ],
                        [
                          0.8888888888888888,
                          "#fdca26"
                        ],
                        [
                          1,
                          "#f0f921"
                        ]
                      ],
                      "sequentialminus": [
                        [
                          0,
                          "#0d0887"
                        ],
                        [
                          0.1111111111111111,
                          "#46039f"
                        ],
                        [
                          0.2222222222222222,
                          "#7201a8"
                        ],
                        [
                          0.3333333333333333,
                          "#9c179e"
                        ],
                        [
                          0.4444444444444444,
                          "#bd3786"
                        ],
                        [
                          0.5555555555555556,
                          "#d8576b"
                        ],
                        [
                          0.6666666666666666,
                          "#ed7953"
                        ],
                        [
                          0.7777777777777778,
                          "#fb9f3a"
                        ],
                        [
                          0.8888888888888888,
                          "#fdca26"
                        ],
                        [
                          1,
                          "#f0f921"
                        ]
                      ]
                    },
                    "colorway": [
                      "#636efa",
                      "#EF553B",
                      "#00cc96",
                      "#ab63fa",
                      "#FFA15A",
                      "#19d3f3",
                      "#FF6692",
                      "#B6E880",
                      "#FF97FF",
                      "#FECB52"
                    ],
                    "font": {
                      "color": "#2a3f5f"
                    },
                    "geo": {
                      "bgcolor": "white",
                      "lakecolor": "white",
                      "landcolor": "#E5ECF6",
                      "showlakes": true,
                      "showland": true,
                      "subunitcolor": "white"
                    },
                    "hoverlabel": {
                      "align": "left"
                    },
                    "hovermode": "closest",
                    "mapbox": {
                      "style": "light"
                    },
                    "paper_bgcolor": "white",
                    "plot_bgcolor": "#E5ECF6",
                    "polar": {
                      "angularaxis": {
                        "gridcolor": "white",
                        "linecolor": "white",
                        "ticks": ""
                      },
                      "bgcolor": "#E5ECF6",
                      "radialaxis": {
                        "gridcolor": "white",
                        "linecolor": "white",
                        "ticks": ""
                      }
                    },
                    "scene": {
                      "xaxis": {
                        "backgroundcolor": "#E5ECF6",
                        "gridcolor": "white",
                        "gridwidth": 2,
                        "linecolor": "white",
                        "showbackground": true,
                        "ticks": "",
                        "zerolinecolor": "white"
                      },
                      "yaxis": {
                        "backgroundcolor": "#E5ECF6",
                        "gridcolor": "white",
                        "gridwidth": 2,
                        "linecolor": "white",
                        "showbackground": true,
                        "ticks": "",
                        "zerolinecolor": "white"
                      },
                      "zaxis": {
                        "backgroundcolor": "#E5ECF6",
                        "gridcolor": "white",
                        "gridwidth": 2,
                        "linecolor": "white",
                        "showbackground": true,
                        "ticks": "",
                        "zerolinecolor": "white"
                      }
                    },
                    "shapedefaults": {
                      "line": {
                        "color": "#2a3f5f"
                      }
                    },
                    "ternary": {
                      "aaxis": {
                        "gridcolor": "white",
                        "linecolor": "white",
                        "ticks": ""
                      },
                      "baxis": {
                        "gridcolor": "white",
                        "linecolor": "white",
                        "ticks": ""
                      },
                      "bgcolor": "#E5ECF6",
                      "caxis": {
                        "gridcolor": "white",
                        "linecolor": "white",
                        "ticks": ""
                      }
                    },
                    "title": {
                      "x": 0.05
                    },
                    "xaxis": {
                      "automargin": true,
                      "gridcolor": "white",
                      "linecolor": "white",
                      "ticks": "",
                      "title": {
                        "standoff": 15
                      },
                      "zerolinecolor": "white",
                      "zerolinewidth": 2
                    },
                    "yaxis": {
                      "automargin": true,
                      "gridcolor": "white",
                      "linecolor": "white",
                      "ticks": "",
                      "title": {
                        "standoff": 15
                      },
                      "zerolinecolor": "white",
                      "zerolinewidth": 2
                    }
                  }
                },
                "title": {
                  "text": "Bitcoin Price Over Time"
                },
                "xaxis": {
                  "anchor": "y",
                  "domain": [
                    0,
                    1
                  ],
                  "title": {
                    "text": "timestamp"
                  }
                },
                "yaxis": {
                  "anchor": "x",
                  "domain": [
                    0,
                    1
                  ],
                  "title": {
                    "text": "price"
                  }
                }
              }
            }
          },
          "metadata": {},
          "output_type": "display_data"
        }
      ],
      "source": [
        "## Visualization of trading over the past year\n",
        "import plotly.express as px\n",
        "\n",
        "fig = px.line(prices, x=prices.index, y='price', title='Bitcoin Price Over Time')\n",
        "fig.show()"
      ]
    },
    {
      "cell_type": "code",
      "execution_count": 6,
      "metadata": {
        "colab": {
          "base_uri": "https://localhost:8080/",
          "height": 542
        },
        "id": "7df7e195",
        "outputId": "1b6b9600-a5c7-466c-ad75-f63b712a0c10"
      },
      "outputs": [
        {
          "data": {
            "application/vnd.plotly.v1+json": {
              "config": {
                "plotlyServerURL": "https://plot.ly"
              },
              "data": [
                {
                  "name": "Price",
                  "type": "scatter",
                  "x": [
                    "2024-10-21T00:00:00",
                    "2024-10-22T00:00:00",
                    "2024-10-23T00:00:00",
                    "2024-10-24T00:00:00",
                    "2024-10-25T00:00:00",
                    "2024-10-26T00:00:00",
                    "2024-10-27T00:00:00",
                    "2024-10-28T00:00:00",
                    "2024-10-29T00:00:00",
                    "2024-10-30T00:00:00",
                    "2024-10-31T00:00:00",
                    "2024-11-01T00:00:00",
                    "2024-11-02T00:00:00",
                    "2024-11-03T00:00:00",
                    "2024-11-04T00:00:00",
                    "2024-11-05T00:00:00",
                    "2024-11-06T00:00:00",
                    "2024-11-07T00:00:00",
                    "2024-11-08T00:00:00",
                    "2024-11-09T00:00:00",
                    "2024-11-10T00:00:00",
                    "2024-11-11T00:00:00",
                    "2024-11-12T00:00:00",
                    "2024-11-13T00:00:00",
                    "2024-11-14T00:00:00",
                    "2024-11-15T00:00:00",
                    "2024-11-16T00:00:00",
                    "2024-11-17T00:00:00",
                    "2024-11-18T00:00:00",
                    "2024-11-19T00:00:00",
                    "2024-11-20T00:00:00",
                    "2024-11-21T00:00:00",
                    "2024-11-22T00:00:00",
                    "2024-11-23T00:00:00",
                    "2024-11-24T00:00:00",
                    "2024-11-25T00:00:00",
                    "2024-11-26T00:00:00",
                    "2024-11-27T00:00:00",
                    "2024-11-28T00:00:00",
                    "2024-11-29T00:00:00",
                    "2024-11-30T00:00:00",
                    "2024-12-01T00:00:00",
                    "2024-12-02T00:00:00",
                    "2024-12-03T00:00:00",
                    "2024-12-04T00:00:00",
                    "2024-12-05T00:00:00",
                    "2024-12-06T00:00:00",
                    "2024-12-07T00:00:00",
                    "2024-12-08T00:00:00",
                    "2024-12-09T00:00:00",
                    "2024-12-10T00:00:00",
                    "2024-12-11T00:00:00",
                    "2024-12-12T00:00:00",
                    "2024-12-13T00:00:00",
                    "2024-12-14T00:00:00",
                    "2024-12-15T00:00:00",
                    "2024-12-16T00:00:00",
                    "2024-12-17T00:00:00",
                    "2024-12-18T00:00:00",
                    "2024-12-19T00:00:00",
                    "2024-12-20T00:00:00",
                    "2024-12-21T00:00:00",
                    "2024-12-22T00:00:00",
                    "2024-12-23T00:00:00",
                    "2024-12-24T00:00:00",
                    "2024-12-25T00:00:00",
                    "2024-12-26T00:00:00",
                    "2024-12-27T00:00:00",
                    "2024-12-28T00:00:00",
                    "2024-12-29T00:00:00",
                    "2024-12-30T00:00:00",
                    "2024-12-31T00:00:00",
                    "2025-01-01T00:00:00",
                    "2025-01-02T00:00:00",
                    "2025-01-03T00:00:00",
                    "2025-01-04T00:00:00",
                    "2025-01-05T00:00:00",
                    "2025-01-06T00:00:00",
                    "2025-01-07T00:00:00",
                    "2025-01-08T00:00:00",
                    "2025-01-09T00:00:00",
                    "2025-01-10T00:00:00",
                    "2025-01-11T00:00:00",
                    "2025-01-12T00:00:00",
                    "2025-01-13T00:00:00",
                    "2025-01-14T00:00:00",
                    "2025-01-15T00:00:00",
                    "2025-01-16T00:00:00",
                    "2025-01-17T00:00:00",
                    "2025-01-18T00:00:00",
                    "2025-01-19T00:00:00",
                    "2025-01-20T00:00:00",
                    "2025-01-21T00:00:00",
                    "2025-01-22T00:00:00",
                    "2025-01-23T00:00:00",
                    "2025-01-24T00:00:00",
                    "2025-01-25T00:00:00",
                    "2025-01-26T00:00:00",
                    "2025-01-27T00:00:00",
                    "2025-01-28T00:00:00",
                    "2025-01-29T00:00:00",
                    "2025-01-30T00:00:00",
                    "2025-01-31T00:00:00",
                    "2025-02-01T00:00:00",
                    "2025-02-02T00:00:00",
                    "2025-02-03T00:00:00",
                    "2025-02-04T00:00:00",
                    "2025-02-05T00:00:00",
                    "2025-02-06T00:00:00",
                    "2025-02-07T00:00:00",
                    "2025-02-08T00:00:00",
                    "2025-02-09T00:00:00",
                    "2025-02-10T00:00:00",
                    "2025-02-11T00:00:00",
                    "2025-02-12T00:00:00",
                    "2025-02-13T00:00:00",
                    "2025-02-14T00:00:00",
                    "2025-02-15T00:00:00",
                    "2025-02-16T00:00:00",
                    "2025-02-17T00:00:00",
                    "2025-02-18T00:00:00",
                    "2025-02-19T00:00:00",
                    "2025-02-20T00:00:00",
                    "2025-02-21T00:00:00",
                    "2025-02-22T00:00:00",
                    "2025-02-23T00:00:00",
                    "2025-02-24T00:00:00",
                    "2025-02-25T00:00:00",
                    "2025-02-26T00:00:00",
                    "2025-02-27T00:00:00",
                    "2025-02-28T00:00:00",
                    "2025-03-01T00:00:00",
                    "2025-03-02T00:00:00",
                    "2025-03-03T00:00:00",
                    "2025-03-04T00:00:00",
                    "2025-03-05T00:00:00",
                    "2025-03-06T00:00:00",
                    "2025-03-07T00:00:00",
                    "2025-03-08T00:00:00",
                    "2025-03-09T00:00:00",
                    "2025-03-10T00:00:00",
                    "2025-03-11T00:00:00",
                    "2025-03-12T00:00:00",
                    "2025-03-13T00:00:00",
                    "2025-03-14T00:00:00",
                    "2025-03-15T00:00:00",
                    "2025-03-16T00:00:00",
                    "2025-03-17T00:00:00",
                    "2025-03-18T00:00:00",
                    "2025-03-19T00:00:00",
                    "2025-03-20T00:00:00",
                    "2025-03-21T00:00:00",
                    "2025-03-22T00:00:00",
                    "2025-03-23T00:00:00",
                    "2025-03-24T00:00:00",
                    "2025-03-25T00:00:00",
                    "2025-03-26T00:00:00",
                    "2025-03-27T00:00:00",
                    "2025-03-28T00:00:00",
                    "2025-03-29T00:00:00",
                    "2025-03-30T00:00:00",
                    "2025-03-31T00:00:00",
                    "2025-04-01T00:00:00",
                    "2025-04-02T00:00:00",
                    "2025-04-03T00:00:00",
                    "2025-04-04T00:00:00",
                    "2025-04-05T00:00:00",
                    "2025-04-06T00:00:00",
                    "2025-04-07T00:00:00",
                    "2025-04-08T00:00:00",
                    "2025-04-09T00:00:00",
                    "2025-04-10T00:00:00",
                    "2025-04-11T00:00:00",
                    "2025-04-12T00:00:00",
                    "2025-04-13T00:00:00",
                    "2025-04-14T00:00:00",
                    "2025-04-15T00:00:00",
                    "2025-04-16T00:00:00",
                    "2025-04-17T00:00:00",
                    "2025-04-18T00:00:00",
                    "2025-04-19T00:00:00",
                    "2025-04-20T00:00:00",
                    "2025-04-21T00:00:00",
                    "2025-04-22T00:00:00",
                    "2025-04-23T00:00:00",
                    "2025-04-24T00:00:00",
                    "2025-04-25T00:00:00",
                    "2025-04-26T00:00:00",
                    "2025-04-27T00:00:00",
                    "2025-04-28T00:00:00",
                    "2025-04-29T00:00:00",
                    "2025-04-30T00:00:00",
                    "2025-05-01T00:00:00",
                    "2025-05-02T00:00:00",
                    "2025-05-03T00:00:00",
                    "2025-05-04T00:00:00",
                    "2025-05-05T00:00:00",
                    "2025-05-06T00:00:00",
                    "2025-05-07T00:00:00",
                    "2025-05-08T00:00:00",
                    "2025-05-09T00:00:00",
                    "2025-05-10T00:00:00",
                    "2025-05-11T00:00:00",
                    "2025-05-12T00:00:00",
                    "2025-05-13T00:00:00",
                    "2025-05-14T00:00:00",
                    "2025-05-15T00:00:00",
                    "2025-05-16T00:00:00",
                    "2025-05-17T00:00:00",
                    "2025-05-18T00:00:00",
                    "2025-05-19T00:00:00",
                    "2025-05-20T00:00:00",
                    "2025-05-21T00:00:00",
                    "2025-05-22T00:00:00",
                    "2025-05-23T00:00:00",
                    "2025-05-24T00:00:00",
                    "2025-05-25T00:00:00",
                    "2025-05-26T00:00:00",
                    "2025-05-27T00:00:00",
                    "2025-05-28T00:00:00",
                    "2025-05-29T00:00:00",
                    "2025-05-30T00:00:00",
                    "2025-05-31T00:00:00",
                    "2025-06-01T00:00:00",
                    "2025-06-02T00:00:00",
                    "2025-06-03T00:00:00",
                    "2025-06-04T00:00:00",
                    "2025-06-05T00:00:00",
                    "2025-06-06T00:00:00",
                    "2025-06-07T00:00:00",
                    "2025-06-08T00:00:00",
                    "2025-06-09T00:00:00",
                    "2025-06-10T00:00:00",
                    "2025-06-11T00:00:00",
                    "2025-06-12T00:00:00",
                    "2025-06-13T00:00:00",
                    "2025-06-14T00:00:00",
                    "2025-06-15T00:00:00",
                    "2025-06-16T00:00:00",
                    "2025-06-17T00:00:00",
                    "2025-06-18T00:00:00",
                    "2025-06-19T00:00:00",
                    "2025-06-20T00:00:00",
                    "2025-06-21T00:00:00",
                    "2025-06-22T00:00:00",
                    "2025-06-23T00:00:00",
                    "2025-06-24T00:00:00",
                    "2025-06-25T00:00:00",
                    "2025-06-26T00:00:00",
                    "2025-06-27T00:00:00",
                    "2025-06-28T00:00:00",
                    "2025-06-29T00:00:00",
                    "2025-06-30T00:00:00",
                    "2025-07-01T00:00:00",
                    "2025-07-02T00:00:00",
                    "2025-07-03T00:00:00",
                    "2025-07-04T00:00:00",
                    "2025-07-05T00:00:00",
                    "2025-07-06T00:00:00",
                    "2025-07-07T00:00:00",
                    "2025-07-08T00:00:00",
                    "2025-07-09T00:00:00",
                    "2025-07-10T00:00:00",
                    "2025-07-11T00:00:00",
                    "2025-07-12T00:00:00",
                    "2025-07-13T00:00:00",
                    "2025-07-14T00:00:00",
                    "2025-07-15T00:00:00",
                    "2025-07-16T00:00:00",
                    "2025-07-17T00:00:00",
                    "2025-07-18T00:00:00",
                    "2025-07-19T00:00:00",
                    "2025-07-20T00:00:00",
                    "2025-07-21T00:00:00",
                    "2025-07-22T00:00:00",
                    "2025-07-23T00:00:00",
                    "2025-07-24T00:00:00",
                    "2025-07-25T00:00:00",
                    "2025-07-26T00:00:00",
                    "2025-07-27T00:00:00",
                    "2025-07-28T00:00:00",
                    "2025-07-29T00:00:00",
                    "2025-07-30T00:00:00",
                    "2025-07-31T00:00:00",
                    "2025-08-01T00:00:00",
                    "2025-08-02T00:00:00",
                    "2025-08-03T00:00:00",
                    "2025-08-04T00:00:00",
                    "2025-08-05T00:00:00",
                    "2025-08-06T00:00:00",
                    "2025-08-07T00:00:00",
                    "2025-08-08T00:00:00",
                    "2025-08-09T00:00:00",
                    "2025-08-10T00:00:00",
                    "2025-08-11T00:00:00",
                    "2025-08-12T00:00:00",
                    "2025-08-13T00:00:00",
                    "2025-08-14T00:00:00",
                    "2025-08-15T00:00:00",
                    "2025-08-16T00:00:00",
                    "2025-08-17T00:00:00",
                    "2025-08-18T00:00:00",
                    "2025-08-19T00:00:00",
                    "2025-08-20T00:00:00",
                    "2025-08-21T00:00:00",
                    "2025-08-22T00:00:00",
                    "2025-08-23T00:00:00",
                    "2025-08-24T00:00:00",
                    "2025-08-25T00:00:00",
                    "2025-08-26T00:00:00",
                    "2025-08-27T00:00:00",
                    "2025-08-28T00:00:00",
                    "2025-08-29T00:00:00",
                    "2025-08-30T00:00:00",
                    "2025-08-31T00:00:00",
                    "2025-09-01T00:00:00",
                    "2025-09-02T00:00:00",
                    "2025-09-03T00:00:00",
                    "2025-09-04T00:00:00",
                    "2025-09-05T00:00:00",
                    "2025-09-06T00:00:00",
                    "2025-09-07T00:00:00",
                    "2025-09-08T00:00:00",
                    "2025-09-09T00:00:00",
                    "2025-09-10T00:00:00",
                    "2025-09-11T00:00:00",
                    "2025-09-12T00:00:00",
                    "2025-09-13T00:00:00",
                    "2025-09-14T00:00:00",
                    "2025-09-15T00:00:00",
                    "2025-09-16T00:00:00",
                    "2025-09-17T00:00:00",
                    "2025-09-18T00:00:00",
                    "2025-09-19T00:00:00",
                    "2025-09-20T00:00:00",
                    "2025-09-21T00:00:00",
                    "2025-09-22T00:00:00",
                    "2025-09-23T00:00:00",
                    "2025-09-24T00:00:00",
                    "2025-09-25T00:00:00",
                    "2025-09-26T00:00:00",
                    "2025-09-27T00:00:00",
                    "2025-09-28T00:00:00",
                    "2025-09-29T00:00:00",
                    "2025-09-30T00:00:00",
                    "2025-10-01T00:00:00",
                    "2025-10-02T00:00:00",
                    "2025-10-03T00:00:00",
                    "2025-10-04T00:00:00",
                    "2025-10-05T00:00:00",
                    "2025-10-06T00:00:00",
                    "2025-10-07T00:00:00",
                    "2025-10-08T00:00:00",
                    "2025-10-09T00:00:00",
                    "2025-10-10T00:00:00",
                    "2025-10-11T00:00:00",
                    "2025-10-12T00:00:00",
                    "2025-10-13T00:00:00",
                    "2025-10-14T00:00:00",
                    "2025-10-15T00:00:00",
                    "2025-10-16T00:00:00",
                    "2025-10-17T00:00:00",
                    "2025-10-18T00:00:00",
                    "2025-10-19T00:00:00",
                    "2025-10-20T00:00:00",
                    "2025-10-20T03:14:33"
                  ],
                  "xaxis": "x",
                  "y": {
                    "bdata": "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",
                    "dtype": "f8"
                  },
                  "yaxis": "y"
                }
              ],
              "layout": {
                "template": {
                  "data": {
                    "bar": [
                      {
                        "error_x": {
                          "color": "#2a3f5f"
                        },
                        "error_y": {
                          "color": "#2a3f5f"
                        },
                        "marker": {
                          "line": {
                            "color": "#E5ECF6",
                            "width": 0.5
                          },
                          "pattern": {
                            "fillmode": "overlay",
                            "size": 10,
                            "solidity": 0.2
                          }
                        },
                        "type": "bar"
                      }
                    ],
                    "barpolar": [
                      {
                        "marker": {
                          "line": {
                            "color": "#E5ECF6",
                            "width": 0.5
                          },
                          "pattern": {
                            "fillmode": "overlay",
                            "size": 10,
                            "solidity": 0.2
                          }
                        },
                        "type": "barpolar"
                      }
                    ],
                    "carpet": [
                      {
                        "aaxis": {
                          "endlinecolor": "#2a3f5f",
                          "gridcolor": "white",
                          "linecolor": "white",
                          "minorgridcolor": "white",
                          "startlinecolor": "#2a3f5f"
                        },
                        "baxis": {
                          "endlinecolor": "#2a3f5f",
                          "gridcolor": "white",
                          "linecolor": "white",
                          "minorgridcolor": "white",
                          "startlinecolor": "#2a3f5f"
                        },
                        "type": "carpet"
                      }
                    ],
                    "choropleth": [
                      {
                        "colorbar": {
                          "outlinewidth": 0,
                          "ticks": ""
                        },
                        "type": "choropleth"
                      }
                    ],
                    "contour": [
                      {
                        "colorbar": {
                          "outlinewidth": 0,
                          "ticks": ""
                        },
                        "colorscale": [
                          [
                            0,
                            "#0d0887"
                          ],
                          [
                            0.1111111111111111,
                            "#46039f"
                          ],
                          [
                            0.2222222222222222,
                            "#7201a8"
                          ],
                          [
                            0.3333333333333333,
                            "#9c179e"
                          ],
                          [
                            0.4444444444444444,
                            "#bd3786"
                          ],
                          [
                            0.5555555555555556,
                            "#d8576b"
                          ],
                          [
                            0.6666666666666666,
                            "#ed7953"
                          ],
                          [
                            0.7777777777777778,
                            "#fb9f3a"
                          ],
                          [
                            0.8888888888888888,
                            "#fdca26"
                          ],
                          [
                            1,
                            "#f0f921"
                          ]
                        ],
                        "type": "contour"
                      }
                    ],
                    "contourcarpet": [
                      {
                        "colorbar": {
                          "outlinewidth": 0,
                          "ticks": ""
                        },
                        "type": "contourcarpet"
                      }
                    ],
                    "heatmap": [
                      {
                        "colorbar": {
                          "outlinewidth": 0,
                          "ticks": ""
                        },
                        "colorscale": [
                          [
                            0,
                            "#0d0887"
                          ],
                          [
                            0.1111111111111111,
                            "#46039f"
                          ],
                          [
                            0.2222222222222222,
                            "#7201a8"
                          ],
                          [
                            0.3333333333333333,
                            "#9c179e"
                          ],
                          [
                            0.4444444444444444,
                            "#bd3786"
                          ],
                          [
                            0.5555555555555556,
                            "#d8576b"
                          ],
                          [
                            0.6666666666666666,
                            "#ed7953"
                          ],
                          [
                            0.7777777777777778,
                            "#fb9f3a"
                          ],
                          [
                            0.8888888888888888,
                            "#fdca26"
                          ],
                          [
                            1,
                            "#f0f921"
                          ]
                        ],
                        "type": "heatmap"
                      }
                    ],
                    "histogram": [
                      {
                        "marker": {
                          "pattern": {
                            "fillmode": "overlay",
                            "size": 10,
                            "solidity": 0.2
                          }
                        },
                        "type": "histogram"
                      }
                    ],
                    "histogram2d": [
                      {
                        "colorbar": {
                          "outlinewidth": 0,
                          "ticks": ""
                        },
                        "colorscale": [
                          [
                            0,
                            "#0d0887"
                          ],
                          [
                            0.1111111111111111,
                            "#46039f"
                          ],
                          [
                            0.2222222222222222,
                            "#7201a8"
                          ],
                          [
                            0.3333333333333333,
                            "#9c179e"
                          ],
                          [
                            0.4444444444444444,
                            "#bd3786"
                          ],
                          [
                            0.5555555555555556,
                            "#d8576b"
                          ],
                          [
                            0.6666666666666666,
                            "#ed7953"
                          ],
                          [
                            0.7777777777777778,
                            "#fb9f3a"
                          ],
                          [
                            0.8888888888888888,
                            "#fdca26"
                          ],
                          [
                            1,
                            "#f0f921"
                          ]
                        ],
                        "type": "histogram2d"
                      }
                    ],
                    "histogram2dcontour": [
                      {
                        "colorbar": {
                          "outlinewidth": 0,
                          "ticks": ""
                        },
                        "colorscale": [
                          [
                            0,
                            "#0d0887"
                          ],
                          [
                            0.1111111111111111,
                            "#46039f"
                          ],
                          [
                            0.2222222222222222,
                            "#7201a8"
                          ],
                          [
                            0.3333333333333333,
                            "#9c179e"
                          ],
                          [
                            0.4444444444444444,
                            "#bd3786"
                          ],
                          [
                            0.5555555555555556,
                            "#d8576b"
                          ],
                          [
                            0.6666666666666666,
                            "#ed7953"
                          ],
                          [
                            0.7777777777777778,
                            "#fb9f3a"
                          ],
                          [
                            0.8888888888888888,
                            "#fdca26"
                          ],
                          [
                            1,
                            "#f0f921"
                          ]
                        ],
                        "type": "histogram2dcontour"
                      }
                    ],
                    "mesh3d": [
                      {
                        "colorbar": {
                          "outlinewidth": 0,
                          "ticks": ""
                        },
                        "type": "mesh3d"
                      }
                    ],
                    "parcoords": [
                      {
                        "line": {
                          "colorbar": {
                            "outlinewidth": 0,
                            "ticks": ""
                          }
                        },
                        "type": "parcoords"
                      }
                    ],
                    "pie": [
                      {
                        "automargin": true,
                        "type": "pie"
                      }
                    ],
                    "scatter": [
                      {
                        "fillpattern": {
                          "fillmode": "overlay",
                          "size": 10,
                          "solidity": 0.2
                        },
                        "type": "scatter"
                      }
                    ],
                    "scatter3d": [
                      {
                        "line": {
                          "colorbar": {
                            "outlinewidth": 0,
                            "ticks": ""
                          }
                        },
                        "marker": {
                          "colorbar": {
                            "outlinewidth": 0,
                            "ticks": ""
                          }
                        },
                        "type": "scatter3d"
                      }
                    ],
                    "scattercarpet": [
                      {
                        "marker": {
                          "colorbar": {
                            "outlinewidth": 0,
                            "ticks": ""
                          }
                        },
                        "type": "scattercarpet"
                      }
                    ],
                    "scattergeo": [
                      {
                        "marker": {
                          "colorbar": {
                            "outlinewidth": 0,
                            "ticks": ""
                          }
                        },
                        "type": "scattergeo"
                      }
                    ],
                    "scattergl": [
                      {
                        "marker": {
                          "colorbar": {
                            "outlinewidth": 0,
                            "ticks": ""
                          }
                        },
                        "type": "scattergl"
                      }
                    ],
                    "scattermap": [
                      {
                        "marker": {
                          "colorbar": {
                            "outlinewidth": 0,
                            "ticks": ""
                          }
                        },
                        "type": "scattermap"
                      }
                    ],
                    "scattermapbox": [
                      {
                        "marker": {
                          "colorbar": {
                            "outlinewidth": 0,
                            "ticks": ""
                          }
                        },
                        "type": "scattermapbox"
                      }
                    ],
                    "scatterpolar": [
                      {
                        "marker": {
                          "colorbar": {
                            "outlinewidth": 0,
                            "ticks": ""
                          }
                        },
                        "type": "scatterpolar"
                      }
                    ],
                    "scatterpolargl": [
                      {
                        "marker": {
                          "colorbar": {
                            "outlinewidth": 0,
                            "ticks": ""
                          }
                        },
                        "type": "scatterpolargl"
                      }
                    ],
                    "scatterternary": [
                      {
                        "marker": {
                          "colorbar": {
                            "outlinewidth": 0,
                            "ticks": ""
                          }
                        },
                        "type": "scatterternary"
                      }
                    ],
                    "surface": [
                      {
                        "colorbar": {
                          "outlinewidth": 0,
                          "ticks": ""
                        },
                        "colorscale": [
                          [
                            0,
                            "#0d0887"
                          ],
                          [
                            0.1111111111111111,
                            "#46039f"
                          ],
                          [
                            0.2222222222222222,
                            "#7201a8"
                          ],
                          [
                            0.3333333333333333,
                            "#9c179e"
                          ],
                          [
                            0.4444444444444444,
                            "#bd3786"
                          ],
                          [
                            0.5555555555555556,
                            "#d8576b"
                          ],
                          [
                            0.6666666666666666,
                            "#ed7953"
                          ],
                          [
                            0.7777777777777778,
                            "#fb9f3a"
                          ],
                          [
                            0.8888888888888888,
                            "#fdca26"
                          ],
                          [
                            1,
                            "#f0f921"
                          ]
                        ],
                        "type": "surface"
                      }
                    ],
                    "table": [
                      {
                        "cells": {
                          "fill": {
                            "color": "#EBF0F8"
                          },
                          "line": {
                            "color": "white"
                          }
                        },
                        "header": {
                          "fill": {
                            "color": "#C8D4E3"
                          },
                          "line": {
                            "color": "white"
                          }
                        },
                        "type": "table"
                      }
                    ]
                  },
                  "layout": {
                    "annotationdefaults": {
                      "arrowcolor": "#2a3f5f",
                      "arrowhead": 0,
                      "arrowwidth": 1
                    },
                    "autotypenumbers": "strict",
                    "coloraxis": {
                      "colorbar": {
                        "outlinewidth": 0,
                        "ticks": ""
                      }
                    },
                    "colorscale": {
                      "diverging": [
                        [
                          0,
                          "#8e0152"
                        ],
                        [
                          0.1,
                          "#c51b7d"
                        ],
                        [
                          0.2,
                          "#de77ae"
                        ],
                        [
                          0.3,
                          "#f1b6da"
                        ],
                        [
                          0.4,
                          "#fde0ef"
                        ],
                        [
                          0.5,
                          "#f7f7f7"
                        ],
                        [
                          0.6,
                          "#e6f5d0"
                        ],
                        [
                          0.7,
                          "#b8e186"
                        ],
                        [
                          0.8,
                          "#7fbc41"
                        ],
                        [
                          0.9,
                          "#4d9221"
                        ],
                        [
                          1,
                          "#276419"
                        ]
                      ],
                      "sequential": [
                        [
                          0,
                          "#0d0887"
                        ],
                        [
                          0.1111111111111111,
                          "#46039f"
                        ],
                        [
                          0.2222222222222222,
                          "#7201a8"
                        ],
                        [
                          0.3333333333333333,
                          "#9c179e"
                        ],
                        [
                          0.4444444444444444,
                          "#bd3786"
                        ],
                        [
                          0.5555555555555556,
                          "#d8576b"
                        ],
                        [
                          0.6666666666666666,
                          "#ed7953"
                        ],
                        [
                          0.7777777777777778,
                          "#fb9f3a"
                        ],
                        [
                          0.8888888888888888,
                          "#fdca26"
                        ],
                        [
                          1,
                          "#f0f921"
                        ]
                      ],
                      "sequentialminus": [
                        [
                          0,
                          "#0d0887"
                        ],
                        [
                          0.1111111111111111,
                          "#46039f"
                        ],
                        [
                          0.2222222222222222,
                          "#7201a8"
                        ],
                        [
                          0.3333333333333333,
                          "#9c179e"
                        ],
                        [
                          0.4444444444444444,
                          "#bd3786"
                        ],
                        [
                          0.5555555555555556,
                          "#d8576b"
                        ],
                        [
                          0.6666666666666666,
                          "#ed7953"
                        ],
                        [
                          0.7777777777777778,
                          "#fb9f3a"
                        ],
                        [
                          0.8888888888888888,
                          "#fdca26"
                        ],
                        [
                          1,
                          "#f0f921"
                        ]
                      ]
                    },
                    "colorway": [
                      "#636efa",
                      "#EF553B",
                      "#00cc96",
                      "#ab63fa",
                      "#FFA15A",
                      "#19d3f3",
                      "#FF6692",
                      "#B6E880",
                      "#FF97FF",
                      "#FECB52"
                    ],
                    "font": {
                      "color": "#2a3f5f"
                    },
                    "geo": {
                      "bgcolor": "white",
                      "lakecolor": "white",
                      "landcolor": "#E5ECF6",
                      "showlakes": true,
                      "showland": true,
                      "subunitcolor": "white"
                    },
                    "hoverlabel": {
                      "align": "left"
                    },
                    "hovermode": "closest",
                    "mapbox": {
                      "style": "light"
                    },
                    "paper_bgcolor": "white",
                    "plot_bgcolor": "#E5ECF6",
                    "polar": {
                      "angularaxis": {
                        "gridcolor": "white",
                        "linecolor": "white",
                        "ticks": ""
                      },
                      "bgcolor": "#E5ECF6",
                      "radialaxis": {
                        "gridcolor": "white",
                        "linecolor": "white",
                        "ticks": ""
                      }
                    },
                    "scene": {
                      "xaxis": {
                        "backgroundcolor": "#E5ECF6",
                        "gridcolor": "white",
                        "gridwidth": 2,
                        "linecolor": "white",
                        "showbackground": true,
                        "ticks": "",
                        "zerolinecolor": "white"
                      },
                      "yaxis": {
                        "backgroundcolor": "#E5ECF6",
                        "gridcolor": "white",
                        "gridwidth": 2,
                        "linecolor": "white",
                        "showbackground": true,
                        "ticks": "",
                        "zerolinecolor": "white"
                      },
                      "zaxis": {
                        "backgroundcolor": "#E5ECF6",
                        "gridcolor": "white",
                        "gridwidth": 2,
                        "linecolor": "white",
                        "showbackground": true,
                        "ticks": "",
                        "zerolinecolor": "white"
                      }
                    },
                    "shapedefaults": {
                      "line": {
                        "color": "#2a3f5f"
                      }
                    },
                    "ternary": {
                      "aaxis": {
                        "gridcolor": "white",
                        "linecolor": "white",
                        "ticks": ""
                      },
                      "baxis": {
                        "gridcolor": "white",
                        "linecolor": "white",
                        "ticks": ""
                      },
                      "bgcolor": "#E5ECF6",
                      "caxis": {
                        "gridcolor": "white",
                        "linecolor": "white",
                        "ticks": ""
                      }
                    },
                    "title": {
                      "x": 0.05
                    },
                    "xaxis": {
                      "automargin": true,
                      "gridcolor": "white",
                      "linecolor": "white",
                      "ticks": "",
                      "title": {
                        "standoff": 15
                      },
                      "zerolinecolor": "white",
                      "zerolinewidth": 2
                    },
                    "yaxis": {
                      "automargin": true,
                      "gridcolor": "white",
                      "linecolor": "white",
                      "ticks": "",
                      "title": {
                        "standoff": 15
                      },
                      "zerolinecolor": "white",
                      "zerolinewidth": 2
                    }
                  }
                },
                "title": {
                  "text": "Bitcoin Price and Trading Volume Over Time"
                },
                "xaxis": {
                  "anchor": "y",
                  "domain": [
                    0,
                    0.94
                  ],
                  "title": {
                    "text": "Timestamp"
                  }
                },
                "yaxis": {
                  "anchor": "x",
                  "domain": [
                    0,
                    1
                  ],
                  "title": {
                    "text": "Price (USD)"
                  }
                },
                "yaxis2": {
                  "anchor": "x",
                  "overlaying": "y",
                  "side": "right",
                  "title": {
                    "text": "Volume (USD)"
                  }
                }
              }
            }
          },
          "metadata": {},
          "output_type": "display_data"
        }
      ],
      "source": [
        "import plotly.graph_objects as go\n",
        "from plotly.subplots import make_subplots\n",
        "\n",
        "fig = make_subplots(specs=[[{\"secondary_y\": True}]])\n",
        "\n",
        "fig.add_trace(\n",
        "    go.Scatter(x=prices.index, y=prices['price'], name='Price'),\n",
        "    secondary_y=False,\n",
        ")\n",
        "\n",
        "fig.update_layout(\n",
        "    title_text='Bitcoin Price and Trading Volume Over Time',\n",
        "    xaxis_title='Timestamp',\n",
        "    yaxis_title='Price (USD)',\n",
        "    yaxis2_title='Volume (USD)'\n",
        ")\n",
        "\n",
        "fig.show()"
      ]
    },
    {
      "cell_type": "markdown",
      "metadata": {
        "id": "c8a51aef"
      },
      "source": [
        "# Task\n",
        "Fetch trading volume and add it to the plot."
      ]
    },
    {
      "cell_type": "markdown",
      "metadata": {
        "id": "f64b0d5e"
      },
      "source": [
        "## Modify data fetching\n",
        "\n",
        "### Subtask:\n",
        "Update the code to fetch trading volume data in addition to price data.\n"
      ]
    },
    {
      "cell_type": "markdown",
      "metadata": {
        "id": "703f26d9"
      },
      "source": [
        "**Reasoning**:\n",
        "Modify the existing code to fetch trading volume data along with price data and process both datasets.\n",
        "\n"
      ]
    },
    {
      "cell_type": "code",
      "execution_count": 7,
      "metadata": {
        "colab": {
          "base_uri": "https://localhost:8080/",
          "height": 0
        },
        "id": "701d650f",
        "outputId": "1742bea5-86ed-4e20-b450-0c584d8e6ccb"
      },
      "outputs": [
        {
          "name": "stdout",
          "output_type": "stream",
          "text": [
            "Price data fetched successfully for the last 365 days.\n",
            "Trading volume data fetched successfully for the last 365 days.\n"
          ]
        }
      ],
      "source": [
        "url = \"https://api.coingecko.com/api/v3/coins/bitcoin/market_chart\"\n",
        "params = {\"vs_currency\": \"usd\", \"days\": \"365\"}  # ~1 year\n",
        "\n",
        "data = requests.get(url, params=params).json()\n",
        "\n",
        "prices = pd.DataFrame()\n",
        "volumes = pd.DataFrame()\n",
        "\n",
        "if 'prices' in data:\n",
        "    prices = pd.DataFrame(data['prices'], columns=['timestamp', 'price'])\n",
        "    prices['timestamp'] = pd.to_datetime(prices['timestamp'], unit='ms')\n",
        "    prices.set_index('timestamp', inplace=True)\n",
        "    print(\"Price data fetched successfully for the last 365 days.\")\n",
        "else:\n",
        "    print(\"Error fetching price data from CoinGecko API:\", data)\n",
        "\n",
        "if 'total_volumes' in data:\n",
        "    volumes = pd.DataFrame(data['total_volumes'], columns=['timestamp', 'volume'])\n",
        "    volumes['timestamp'] = pd.to_datetime(volumes['timestamp'], unit='ms')\n",
        "    volumes.set_index('timestamp', inplace=True)\n",
        "    print(\"Trading volume data fetched successfully for the last 365 days.\")\n",
        "else:\n",
        "    print(\"Error fetching trading volume data from CoinGecko API:\", data)"
      ]
    },
    {
      "cell_type": "markdown",
      "metadata": {
        "id": "eec028c1"
      },
      "source": [
        "## Combine data\n",
        "\n",
        "### Subtask:\n",
        "Merge or combine the fetched price and volume data into a single DataFrame.\n"
      ]
    },
    {
      "cell_type": "markdown",
      "metadata": {
        "id": "9d471c8d"
      },
      "source": [
        "**Reasoning**:\n",
        "Merge the prices and volumes dataframes on their index and display the head of the combined dataframe.\n",
        "\n"
      ]
    },
    {
      "cell_type": "code",
      "execution_count": 8,
      "metadata": {
        "colab": {
          "base_uri": "https://localhost:8080/",
          "height": 238
        },
        "id": "85bbdade",
        "outputId": "21b18e6e-3f2c-4c55-ba2e-b649f232a453"
      },
      "outputs": [
        {
          "data": {
            "application/vnd.microsoft.datawrangler.viewer.v0+json": {
              "columns": [
                {
                  "name": "timestamp",
                  "rawType": "datetime64[ns]",
                  "type": "datetime"
                },
                {
                  "name": "price",
                  "rawType": "float64",
                  "type": "float"
                },
                {
                  "name": "volume",
                  "rawType": "float64",
                  "type": "float"
                }
              ],
              "ref": "1d03a96f-df62-4c08-bae2-981bbd9c1b71",
              "rows": [
                [
                  "2024-10-21 00:00:00",
                  "68962.82918045693",
                  "17253863432.786995"
                ],
                [
                  "2024-10-22 00:00:00",
                  "67394.85775735618",
                  "40485496091.95008"
                ],
                [
                  "2024-10-23 00:00:00",
                  "67351.04793512498",
                  "31398389967.38113"
                ],
                [
                  "2024-10-24 00:00:00",
                  "66683.96806542306",
                  "32676918488.059"
                ],
                [
                  "2024-10-25 00:00:00",
                  "68214.05205157402",
                  "35892606570.03549"
                ]
              ],
              "shape": {
                "columns": 2,
                "rows": 5
              }
            },
            "text/html": [
              "<div>\n",
              "<style scoped>\n",
              "    .dataframe tbody tr th:only-of-type {\n",
              "        vertical-align: middle;\n",
              "    }\n",
              "\n",
              "    .dataframe tbody tr th {\n",
              "        vertical-align: top;\n",
              "    }\n",
              "\n",
              "    .dataframe thead th {\n",
              "        text-align: right;\n",
              "    }\n",
              "</style>\n",
              "<table border=\"1\" class=\"dataframe\">\n",
              "  <thead>\n",
              "    <tr style=\"text-align: right;\">\n",
              "      <th></th>\n",
              "      <th>price</th>\n",
              "      <th>volume</th>\n",
              "    </tr>\n",
              "    <tr>\n",
              "      <th>timestamp</th>\n",
              "      <th></th>\n",
              "      <th></th>\n",
              "    </tr>\n",
              "  </thead>\n",
              "  <tbody>\n",
              "    <tr>\n",
              "      <th>2024-10-21</th>\n",
              "      <td>68962.829180</td>\n",
              "      <td>1.725386e+10</td>\n",
              "    </tr>\n",
              "    <tr>\n",
              "      <th>2024-10-22</th>\n",
              "      <td>67394.857757</td>\n",
              "      <td>4.048550e+10</td>\n",
              "    </tr>\n",
              "    <tr>\n",
              "      <th>2024-10-23</th>\n",
              "      <td>67351.047935</td>\n",
              "      <td>3.139839e+10</td>\n",
              "    </tr>\n",
              "    <tr>\n",
              "      <th>2024-10-24</th>\n",
              "      <td>66683.968065</td>\n",
              "      <td>3.267692e+10</td>\n",
              "    </tr>\n",
              "    <tr>\n",
              "      <th>2024-10-25</th>\n",
              "      <td>68214.052052</td>\n",
              "      <td>3.589261e+10</td>\n",
              "    </tr>\n",
              "  </tbody>\n",
              "</table>\n",
              "</div>"
            ],
            "text/plain": [
              "                   price        volume\n",
              "timestamp                             \n",
              "2024-10-21  68962.829180  1.725386e+10\n",
              "2024-10-22  67394.857757  4.048550e+10\n",
              "2024-10-23  67351.047935  3.139839e+10\n",
              "2024-10-24  66683.968065  3.267692e+10\n",
              "2024-10-25  68214.052052  3.589261e+10"
            ]
          },
          "metadata": {},
          "output_type": "display_data"
        }
      ],
      "source": [
        "df_combined = prices.merge(volumes, left_index=True, right_index=True)\n",
        "display(df_combined.head())"
      ]
    },
    {
      "cell_type": "markdown",
      "metadata": {
        "id": "6df677fd"
      },
      "source": [
        "## Modify visualization\n",
        "\n",
        "### Subtask:\n",
        "Update the plotting code to display both price and trading volume on the same plot, possibly using a secondary y-axis for volume due to the difference in scale.\n"
      ]
    },
    {
      "cell_type": "markdown",
      "metadata": {
        "id": "87c75729"
      },
      "source": [
        "**Reasoning**:\n",
        "Import the necessary libraries for creating a plot with a secondary y-axis.\n",
        "\n"
      ]
    },
    {
      "cell_type": "code",
      "execution_count": 9,
      "metadata": {
        "id": "bda4758d"
      },
      "outputs": [],
      "source": [
        "import plotly.graph_objects as go\n",
        "from plotly.subplots import make_subplots"
      ]
    },
    {
      "cell_type": "markdown",
      "metadata": {
        "id": "1b8fd48b"
      },
      "source": [
        "**Reasoning**:\n",
        "Create a figure with a secondary y-axis and add traces for price and volume data.\n",
        "\n"
      ]
    },
    {
      "cell_type": "code",
      "execution_count": 10,
      "metadata": {
        "colab": {
          "base_uri": "https://localhost:8080/",
          "height": 542
        },
        "id": "b2c9199d",
        "outputId": "a5a5e8c8-6fc3-47fc-ccb7-bb47d9e15df9"
      },
      "outputs": [
        {
          "data": {
            "application/vnd.plotly.v1+json": {
              "config": {
                "plotlyServerURL": "https://plot.ly"
              },
              "data": [
                {
                  "name": "Price",
                  "type": "scatter",
                  "x": [
                    "2024-10-21T00:00:00",
                    "2024-10-22T00:00:00",
                    "2024-10-23T00:00:00",
                    "2024-10-24T00:00:00",
                    "2024-10-25T00:00:00",
                    "2024-10-26T00:00:00",
                    "2024-10-27T00:00:00",
                    "2024-10-28T00:00:00",
                    "2024-10-29T00:00:00",
                    "2024-10-30T00:00:00",
                    "2024-10-31T00:00:00",
                    "2024-11-01T00:00:00",
                    "2024-11-02T00:00:00",
                    "2024-11-03T00:00:00",
                    "2024-11-04T00:00:00",
                    "2024-11-05T00:00:00",
                    "2024-11-06T00:00:00",
                    "2024-11-07T00:00:00",
                    "2024-11-08T00:00:00",
                    "2024-11-09T00:00:00",
                    "2024-11-10T00:00:00",
                    "2024-11-11T00:00:00",
                    "2024-11-12T00:00:00",
                    "2024-11-13T00:00:00",
                    "2024-11-14T00:00:00",
                    "2024-11-15T00:00:00",
                    "2024-11-16T00:00:00",
                    "2024-11-17T00:00:00",
                    "2024-11-18T00:00:00",
                    "2024-11-19T00:00:00",
                    "2024-11-20T00:00:00",
                    "2024-11-21T00:00:00",
                    "2024-11-22T00:00:00",
                    "2024-11-23T00:00:00",
                    "2024-11-24T00:00:00",
                    "2024-11-25T00:00:00",
                    "2024-11-26T00:00:00",
                    "2024-11-27T00:00:00",
                    "2024-11-28T00:00:00",
                    "2024-11-29T00:00:00",
                    "2024-11-30T00:00:00",
                    "2024-12-01T00:00:00",
                    "2024-12-02T00:00:00",
                    "2024-12-03T00:00:00",
                    "2024-12-04T00:00:00",
                    "2024-12-05T00:00:00",
                    "2024-12-06T00:00:00",
                    "2024-12-07T00:00:00",
                    "2024-12-08T00:00:00",
                    "2024-12-09T00:00:00",
                    "2024-12-10T00:00:00",
                    "2024-12-11T00:00:00",
                    "2024-12-12T00:00:00",
                    "2024-12-13T00:00:00",
                    "2024-12-14T00:00:00",
                    "2024-12-15T00:00:00",
                    "2024-12-16T00:00:00",
                    "2024-12-17T00:00:00",
                    "2024-12-18T00:00:00",
                    "2024-12-19T00:00:00",
                    "2024-12-20T00:00:00",
                    "2024-12-21T00:00:00",
                    "2024-12-22T00:00:00",
                    "2024-12-23T00:00:00",
                    "2024-12-24T00:00:00",
                    "2024-12-25T00:00:00",
                    "2024-12-26T00:00:00",
                    "2024-12-27T00:00:00",
                    "2024-12-28T00:00:00",
                    "2024-12-29T00:00:00",
                    "2024-12-30T00:00:00",
                    "2024-12-31T00:00:00",
                    "2025-01-01T00:00:00",
                    "2025-01-02T00:00:00",
                    "2025-01-03T00:00:00",
                    "2025-01-04T00:00:00",
                    "2025-01-05T00:00:00",
                    "2025-01-06T00:00:00",
                    "2025-01-07T00:00:00",
                    "2025-01-08T00:00:00",
                    "2025-01-09T00:00:00",
                    "2025-01-10T00:00:00",
                    "2025-01-11T00:00:00",
                    "2025-01-12T00:00:00",
                    "2025-01-13T00:00:00",
                    "2025-01-14T00:00:00",
                    "2025-01-15T00:00:00",
                    "2025-01-16T00:00:00",
                    "2025-01-17T00:00:00",
                    "2025-01-18T00:00:00",
                    "2025-01-19T00:00:00",
                    "2025-01-20T00:00:00",
                    "2025-01-21T00:00:00",
                    "2025-01-22T00:00:00",
                    "2025-01-23T00:00:00",
                    "2025-01-24T00:00:00",
                    "2025-01-25T00:00:00",
                    "2025-01-26T00:00:00",
                    "2025-01-27T00:00:00",
                    "2025-01-28T00:00:00",
                    "2025-01-29T00:00:00",
                    "2025-01-30T00:00:00",
                    "2025-01-31T00:00:00",
                    "2025-02-01T00:00:00",
                    "2025-02-02T00:00:00",
                    "2025-02-03T00:00:00",
                    "2025-02-04T00:00:00",
                    "2025-02-05T00:00:00",
                    "2025-02-06T00:00:00",
                    "2025-02-07T00:00:00",
                    "2025-02-08T00:00:00",
                    "2025-02-09T00:00:00",
                    "2025-02-10T00:00:00",
                    "2025-02-11T00:00:00",
                    "2025-02-12T00:00:00",
                    "2025-02-13T00:00:00",
                    "2025-02-14T00:00:00",
                    "2025-02-15T00:00:00",
                    "2025-02-16T00:00:00",
                    "2025-02-17T00:00:00",
                    "2025-02-18T00:00:00",
                    "2025-02-19T00:00:00",
                    "2025-02-20T00:00:00",
                    "2025-02-21T00:00:00",
                    "2025-02-22T00:00:00",
                    "2025-02-23T00:00:00",
                    "2025-02-24T00:00:00",
                    "2025-02-25T00:00:00",
                    "2025-02-26T00:00:00",
                    "2025-02-27T00:00:00",
                    "2025-02-28T00:00:00",
                    "2025-03-01T00:00:00",
                    "2025-03-02T00:00:00",
                    "2025-03-03T00:00:00",
                    "2025-03-04T00:00:00",
                    "2025-03-05T00:00:00",
                    "2025-03-06T00:00:00",
                    "2025-03-07T00:00:00",
                    "2025-03-08T00:00:00",
                    "2025-03-09T00:00:00",
                    "2025-03-10T00:00:00",
                    "2025-03-11T00:00:00",
                    "2025-03-12T00:00:00",
                    "2025-03-13T00:00:00",
                    "2025-03-14T00:00:00",
                    "2025-03-15T00:00:00",
                    "2025-03-16T00:00:00",
                    "2025-03-17T00:00:00",
                    "2025-03-18T00:00:00",
                    "2025-03-19T00:00:00",
                    "2025-03-20T00:00:00",
                    "2025-03-21T00:00:00",
                    "2025-03-22T00:00:00",
                    "2025-03-23T00:00:00",
                    "2025-03-24T00:00:00",
                    "2025-03-25T00:00:00",
                    "2025-03-26T00:00:00",
                    "2025-03-27T00:00:00",
                    "2025-03-28T00:00:00",
                    "2025-03-29T00:00:00",
                    "2025-03-30T00:00:00",
                    "2025-03-31T00:00:00",
                    "2025-04-01T00:00:00",
                    "2025-04-02T00:00:00",
                    "2025-04-03T00:00:00",
                    "2025-04-04T00:00:00",
                    "2025-04-05T00:00:00",
                    "2025-04-06T00:00:00",
                    "2025-04-07T00:00:00",
                    "2025-04-08T00:00:00",
                    "2025-04-09T00:00:00",
                    "2025-04-10T00:00:00",
                    "2025-04-11T00:00:00",
                    "2025-04-12T00:00:00",
                    "2025-04-13T00:00:00",
                    "2025-04-14T00:00:00",
                    "2025-04-15T00:00:00",
                    "2025-04-16T00:00:00",
                    "2025-04-17T00:00:00",
                    "2025-04-18T00:00:00",
                    "2025-04-19T00:00:00",
                    "2025-04-20T00:00:00",
                    "2025-04-21T00:00:00",
                    "2025-04-22T00:00:00",
                    "2025-04-23T00:00:00",
                    "2025-04-24T00:00:00",
                    "2025-04-25T00:00:00",
                    "2025-04-26T00:00:00",
                    "2025-04-27T00:00:00",
                    "2025-04-28T00:00:00",
                    "2025-04-29T00:00:00",
                    "2025-04-30T00:00:00",
                    "2025-05-01T00:00:00",
                    "2025-05-02T00:00:00",
                    "2025-05-03T00:00:00",
                    "2025-05-04T00:00:00",
                    "2025-05-05T00:00:00",
                    "2025-05-06T00:00:00",
                    "2025-05-07T00:00:00",
                    "2025-05-08T00:00:00",
                    "2025-05-09T00:00:00",
                    "2025-05-10T00:00:00",
                    "2025-05-11T00:00:00",
                    "2025-05-12T00:00:00",
                    "2025-05-13T00:00:00",
                    "2025-05-14T00:00:00",
                    "2025-05-15T00:00:00",
                    "2025-05-16T00:00:00",
                    "2025-05-17T00:00:00",
                    "2025-05-18T00:00:00",
                    "2025-05-19T00:00:00",
                    "2025-05-20T00:00:00",
                    "2025-05-21T00:00:00",
                    "2025-05-22T00:00:00",
                    "2025-05-23T00:00:00",
                    "2025-05-24T00:00:00",
                    "2025-05-25T00:00:00",
                    "2025-05-26T00:00:00",
                    "2025-05-27T00:00:00",
                    "2025-05-28T00:00:00",
                    "2025-05-29T00:00:00",
                    "2025-05-30T00:00:00",
                    "2025-05-31T00:00:00",
                    "2025-06-01T00:00:00",
                    "2025-06-02T00:00:00",
                    "2025-06-03T00:00:00",
                    "2025-06-04T00:00:00",
                    "2025-06-05T00:00:00",
                    "2025-06-06T00:00:00",
                    "2025-06-07T00:00:00",
                    "2025-06-08T00:00:00",
                    "2025-06-09T00:00:00",
                    "2025-06-10T00:00:00",
                    "2025-06-11T00:00:00",
                    "2025-06-12T00:00:00",
                    "2025-06-13T00:00:00",
                    "2025-06-14T00:00:00",
                    "2025-06-15T00:00:00",
                    "2025-06-16T00:00:00",
                    "2025-06-17T00:00:00",
                    "2025-06-18T00:00:00",
                    "2025-06-19T00:00:00",
                    "2025-06-20T00:00:00",
                    "2025-06-21T00:00:00",
                    "2025-06-22T00:00:00",
                    "2025-06-23T00:00:00",
                    "2025-06-24T00:00:00",
                    "2025-06-25T00:00:00",
                    "2025-06-26T00:00:00",
                    "2025-06-27T00:00:00",
                    "2025-06-28T00:00:00",
                    "2025-06-29T00:00:00",
                    "2025-06-30T00:00:00",
                    "2025-07-01T00:00:00",
                    "2025-07-02T00:00:00",
                    "2025-07-03T00:00:00",
                    "2025-07-04T00:00:00",
                    "2025-07-05T00:00:00",
                    "2025-07-06T00:00:00",
                    "2025-07-07T00:00:00",
                    "2025-07-08T00:00:00",
                    "2025-07-09T00:00:00",
                    "2025-07-10T00:00:00",
                    "2025-07-11T00:00:00",
                    "2025-07-12T00:00:00",
                    "2025-07-13T00:00:00",
                    "2025-07-14T00:00:00",
                    "2025-07-15T00:00:00",
                    "2025-07-16T00:00:00",
                    "2025-07-17T00:00:00",
                    "2025-07-18T00:00:00",
                    "2025-07-19T00:00:00",
                    "2025-07-20T00:00:00",
                    "2025-07-21T00:00:00",
                    "2025-07-22T00:00:00",
                    "2025-07-23T00:00:00",
                    "2025-07-24T00:00:00",
                    "2025-07-25T00:00:00",
                    "2025-07-26T00:00:00",
                    "2025-07-27T00:00:00",
                    "2025-07-28T00:00:00",
                    "2025-07-29T00:00:00",
                    "2025-07-30T00:00:00",
                    "2025-07-31T00:00:00",
                    "2025-08-01T00:00:00",
                    "2025-08-02T00:00:00",
                    "2025-08-03T00:00:00",
                    "2025-08-04T00:00:00",
                    "2025-08-05T00:00:00",
                    "2025-08-06T00:00:00",
                    "2025-08-07T00:00:00",
                    "2025-08-08T00:00:00",
                    "2025-08-09T00:00:00",
                    "2025-08-10T00:00:00",
                    "2025-08-11T00:00:00",
                    "2025-08-12T00:00:00",
                    "2025-08-13T00:00:00",
                    "2025-08-14T00:00:00",
                    "2025-08-15T00:00:00",
                    "2025-08-16T00:00:00",
                    "2025-08-17T00:00:00",
                    "2025-08-18T00:00:00",
                    "2025-08-19T00:00:00",
                    "2025-08-20T00:00:00",
                    "2025-08-21T00:00:00",
                    "2025-08-22T00:00:00",
                    "2025-08-23T00:00:00",
                    "2025-08-24T00:00:00",
                    "2025-08-25T00:00:00",
                    "2025-08-26T00:00:00",
                    "2025-08-27T00:00:00",
                    "2025-08-28T00:00:00",
                    "2025-08-29T00:00:00",
                    "2025-08-30T00:00:00",
                    "2025-08-31T00:00:00",
                    "2025-09-01T00:00:00",
                    "2025-09-02T00:00:00",
                    "2025-09-03T00:00:00",
                    "2025-09-04T00:00:00",
                    "2025-09-05T00:00:00",
                    "2025-09-06T00:00:00",
                    "2025-09-07T00:00:00",
                    "2025-09-08T00:00:00",
                    "2025-09-09T00:00:00",
                    "2025-09-10T00:00:00",
                    "2025-09-11T00:00:00",
                    "2025-09-12T00:00:00",
                    "2025-09-13T00:00:00",
                    "2025-09-14T00:00:00",
                    "2025-09-15T00:00:00",
                    "2025-09-16T00:00:00",
                    "2025-09-17T00:00:00",
                    "2025-09-18T00:00:00",
                    "2025-09-19T00:00:00",
                    "2025-09-20T00:00:00",
                    "2025-09-21T00:00:00",
                    "2025-09-22T00:00:00",
                    "2025-09-23T00:00:00",
                    "2025-09-24T00:00:00",
                    "2025-09-25T00:00:00",
                    "2025-09-26T00:00:00",
                    "2025-09-27T00:00:00",
                    "2025-09-28T00:00:00",
                    "2025-09-29T00:00:00",
                    "2025-09-30T00:00:00",
                    "2025-10-01T00:00:00",
                    "2025-10-02T00:00:00",
                    "2025-10-03T00:00:00",
                    "2025-10-04T00:00:00",
                    "2025-10-05T00:00:00",
                    "2025-10-06T00:00:00",
                    "2025-10-07T00:00:00",
                    "2025-10-08T00:00:00",
                    "2025-10-09T00:00:00",
                    "2025-10-10T00:00:00",
                    "2025-10-11T00:00:00",
                    "2025-10-12T00:00:00",
                    "2025-10-13T00:00:00",
                    "2025-10-14T00:00:00",
                    "2025-10-15T00:00:00",
                    "2025-10-16T00:00:00",
                    "2025-10-17T00:00:00",
                    "2025-10-18T00:00:00",
                    "2025-10-19T00:00:00",
                    "2025-10-20T00:00:00",
                    "2025-10-20T03:16:00"
                  ],
                  "xaxis": "x",
                  "y": {
                    "bdata": "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",
                    "dtype": "f8"
                  },
                  "yaxis": "y"
                },
                {
                  "name": "Volume",
                  "type": "scatter",
                  "x": [
                    "2024-10-21T00:00:00",
                    "2024-10-22T00:00:00",
                    "2024-10-23T00:00:00",
                    "2024-10-24T00:00:00",
                    "2024-10-25T00:00:00",
                    "2024-10-26T00:00:00",
                    "2024-10-27T00:00:00",
                    "2024-10-28T00:00:00",
                    "2024-10-29T00:00:00",
                    "2024-10-30T00:00:00",
                    "2024-10-31T00:00:00",
                    "2024-11-01T00:00:00",
                    "2024-11-02T00:00:00",
                    "2024-11-03T00:00:00",
                    "2024-11-04T00:00:00",
                    "2024-11-05T00:00:00",
                    "2024-11-06T00:00:00",
                    "2024-11-07T00:00:00",
                    "2024-11-08T00:00:00",
                    "2024-11-09T00:00:00",
                    "2024-11-10T00:00:00",
                    "2024-11-11T00:00:00",
                    "2024-11-12T00:00:00",
                    "2024-11-13T00:00:00",
                    "2024-11-14T00:00:00",
                    "2024-11-15T00:00:00",
                    "2024-11-16T00:00:00",
                    "2024-11-17T00:00:00",
                    "2024-11-18T00:00:00",
                    "2024-11-19T00:00:00",
                    "2024-11-20T00:00:00",
                    "2024-11-21T00:00:00",
                    "2024-11-22T00:00:00",
                    "2024-11-23T00:00:00",
                    "2024-11-24T00:00:00",
                    "2024-11-25T00:00:00",
                    "2024-11-26T00:00:00",
                    "2024-11-27T00:00:00",
                    "2024-11-28T00:00:00",
                    "2024-11-29T00:00:00",
                    "2024-11-30T00:00:00",
                    "2024-12-01T00:00:00",
                    "2024-12-02T00:00:00",
                    "2024-12-03T00:00:00",
                    "2024-12-04T00:00:00",
                    "2024-12-05T00:00:00",
                    "2024-12-06T00:00:00",
                    "2024-12-07T00:00:00",
                    "2024-12-08T00:00:00",
                    "2024-12-09T00:00:00",
                    "2024-12-10T00:00:00",
                    "2024-12-11T00:00:00",
                    "2024-12-12T00:00:00",
                    "2024-12-13T00:00:00",
                    "2024-12-14T00:00:00",
                    "2024-12-15T00:00:00",
                    "2024-12-16T00:00:00",
                    "2024-12-17T00:00:00",
                    "2024-12-18T00:00:00",
                    "2024-12-19T00:00:00",
                    "2024-12-20T00:00:00",
                    "2024-12-21T00:00:00",
                    "2024-12-22T00:00:00",
                    "2024-12-23T00:00:00",
                    "2024-12-24T00:00:00",
                    "2024-12-25T00:00:00",
                    "2024-12-26T00:00:00",
                    "2024-12-27T00:00:00",
                    "2024-12-28T00:00:00",
                    "2024-12-29T00:00:00",
                    "2024-12-30T00:00:00",
                    "2024-12-31T00:00:00",
                    "2025-01-01T00:00:00",
                    "2025-01-02T00:00:00",
                    "2025-01-03T00:00:00",
                    "2025-01-04T00:00:00",
                    "2025-01-05T00:00:00",
                    "2025-01-06T00:00:00",
                    "2025-01-07T00:00:00",
                    "2025-01-08T00:00:00",
                    "2025-01-09T00:00:00",
                    "2025-01-10T00:00:00",
                    "2025-01-11T00:00:00",
                    "2025-01-12T00:00:00",
                    "2025-01-13T00:00:00",
                    "2025-01-14T00:00:00",
                    "2025-01-15T00:00:00",
                    "2025-01-16T00:00:00",
                    "2025-01-17T00:00:00",
                    "2025-01-18T00:00:00",
                    "2025-01-19T00:00:00",
                    "2025-01-20T00:00:00",
                    "2025-01-21T00:00:00",
                    "2025-01-22T00:00:00",
                    "2025-01-23T00:00:00",
                    "2025-01-24T00:00:00",
                    "2025-01-25T00:00:00",
                    "2025-01-26T00:00:00",
                    "2025-01-27T00:00:00",
                    "2025-01-28T00:00:00",
                    "2025-01-29T00:00:00",
                    "2025-01-30T00:00:00",
                    "2025-01-31T00:00:00",
                    "2025-02-01T00:00:00",
                    "2025-02-02T00:00:00",
                    "2025-02-03T00:00:00",
                    "2025-02-04T00:00:00",
                    "2025-02-05T00:00:00",
                    "2025-02-06T00:00:00",
                    "2025-02-07T00:00:00",
                    "2025-02-08T00:00:00",
                    "2025-02-09T00:00:00",
                    "2025-02-10T00:00:00",
                    "2025-02-11T00:00:00",
                    "2025-02-12T00:00:00",
                    "2025-02-13T00:00:00",
                    "2025-02-14T00:00:00",
                    "2025-02-15T00:00:00",
                    "2025-02-16T00:00:00",
                    "2025-02-17T00:00:00",
                    "2025-02-18T00:00:00",
                    "2025-02-19T00:00:00",
                    "2025-02-20T00:00:00",
                    "2025-02-21T00:00:00",
                    "2025-02-22T00:00:00",
                    "2025-02-23T00:00:00",
                    "2025-02-24T00:00:00",
                    "2025-02-25T00:00:00",
                    "2025-02-26T00:00:00",
                    "2025-02-27T00:00:00",
                    "2025-02-28T00:00:00",
                    "2025-03-01T00:00:00",
                    "2025-03-02T00:00:00",
                    "2025-03-03T00:00:00",
                    "2025-03-04T00:00:00",
                    "2025-03-05T00:00:00",
                    "2025-03-06T00:00:00",
                    "2025-03-07T00:00:00",
                    "2025-03-08T00:00:00",
                    "2025-03-09T00:00:00",
                    "2025-03-10T00:00:00",
                    "2025-03-11T00:00:00",
                    "2025-03-12T00:00:00",
                    "2025-03-13T00:00:00",
                    "2025-03-14T00:00:00",
                    "2025-03-15T00:00:00",
                    "2025-03-16T00:00:00",
                    "2025-03-17T00:00:00",
                    "2025-03-18T00:00:00",
                    "2025-03-19T00:00:00",
                    "2025-03-20T00:00:00",
                    "2025-03-21T00:00:00",
                    "2025-03-22T00:00:00",
                    "2025-03-23T00:00:00",
                    "2025-03-24T00:00:00",
                    "2025-03-25T00:00:00",
                    "2025-03-26T00:00:00",
                    "2025-03-27T00:00:00",
                    "2025-03-28T00:00:00",
                    "2025-03-29T00:00:00",
                    "2025-03-30T00:00:00",
                    "2025-03-31T00:00:00",
                    "2025-04-01T00:00:00",
                    "2025-04-02T00:00:00",
                    "2025-04-03T00:00:00",
                    "2025-04-04T00:00:00",
                    "2025-04-05T00:00:00",
                    "2025-04-06T00:00:00",
                    "2025-04-07T00:00:00",
                    "2025-04-08T00:00:00",
                    "2025-04-09T00:00:00",
                    "2025-04-10T00:00:00",
                    "2025-04-11T00:00:00",
                    "2025-04-12T00:00:00",
                    "2025-04-13T00:00:00",
                    "2025-04-14T00:00:00",
                    "2025-04-15T00:00:00",
                    "2025-04-16T00:00:00",
                    "2025-04-17T00:00:00",
                    "2025-04-18T00:00:00",
                    "2025-04-19T00:00:00",
                    "2025-04-20T00:00:00",
                    "2025-04-21T00:00:00",
                    "2025-04-22T00:00:00",
                    "2025-04-23T00:00:00",
                    "2025-04-24T00:00:00",
                    "2025-04-25T00:00:00",
                    "2025-04-26T00:00:00",
                    "2025-04-27T00:00:00",
                    "2025-04-28T00:00:00",
                    "2025-04-29T00:00:00",
                    "2025-04-30T00:00:00",
                    "2025-05-01T00:00:00",
                    "2025-05-02T00:00:00",
                    "2025-05-03T00:00:00",
                    "2025-05-04T00:00:00",
                    "2025-05-05T00:00:00",
                    "2025-05-06T00:00:00",
                    "2025-05-07T00:00:00",
                    "2025-05-08T00:00:00",
                    "2025-05-09T00:00:00",
                    "2025-05-10T00:00:00",
                    "2025-05-11T00:00:00",
                    "2025-05-12T00:00:00",
                    "2025-05-13T00:00:00",
                    "2025-05-14T00:00:00",
                    "2025-05-15T00:00:00",
                    "2025-05-16T00:00:00",
                    "2025-05-17T00:00:00",
                    "2025-05-18T00:00:00",
                    "2025-05-19T00:00:00",
                    "2025-05-20T00:00:00",
                    "2025-05-21T00:00:00",
                    "2025-05-22T00:00:00",
                    "2025-05-23T00:00:00",
                    "2025-05-24T00:00:00",
                    "2025-05-25T00:00:00",
                    "2025-05-26T00:00:00",
                    "2025-05-27T00:00:00",
                    "2025-05-28T00:00:00",
                    "2025-05-29T00:00:00",
                    "2025-05-30T00:00:00",
                    "2025-05-31T00:00:00",
                    "2025-06-01T00:00:00",
                    "2025-06-02T00:00:00",
                    "2025-06-03T00:00:00",
                    "2025-06-04T00:00:00",
                    "2025-06-05T00:00:00",
                    "2025-06-06T00:00:00",
                    "2025-06-07T00:00:00",
                    "2025-06-08T00:00:00",
                    "2025-06-09T00:00:00",
                    "2025-06-10T00:00:00",
                    "2025-06-11T00:00:00",
                    "2025-06-12T00:00:00",
                    "2025-06-13T00:00:00",
                    "2025-06-14T00:00:00",
                    "2025-06-15T00:00:00",
                    "2025-06-16T00:00:00",
                    "2025-06-17T00:00:00",
                    "2025-06-18T00:00:00",
                    "2025-06-19T00:00:00",
                    "2025-06-20T00:00:00",
                    "2025-06-21T00:00:00",
                    "2025-06-22T00:00:00",
                    "2025-06-23T00:00:00",
                    "2025-06-24T00:00:00",
                    "2025-06-25T00:00:00",
                    "2025-06-26T00:00:00",
                    "2025-06-27T00:00:00",
                    "2025-06-28T00:00:00",
                    "2025-06-29T00:00:00",
                    "2025-06-30T00:00:00",
                    "2025-07-01T00:00:00",
                    "2025-07-02T00:00:00",
                    "2025-07-03T00:00:00",
                    "2025-07-04T00:00:00",
                    "2025-07-05T00:00:00",
                    "2025-07-06T00:00:00",
                    "2025-07-07T00:00:00",
                    "2025-07-08T00:00:00",
                    "2025-07-09T00:00:00",
                    "2025-07-10T00:00:00",
                    "2025-07-11T00:00:00",
                    "2025-07-12T00:00:00",
                    "2025-07-13T00:00:00",
                    "2025-07-14T00:00:00",
                    "2025-07-15T00:00:00",
                    "2025-07-16T00:00:00",
                    "2025-07-17T00:00:00",
                    "2025-07-18T00:00:00",
                    "2025-07-19T00:00:00",
                    "2025-07-20T00:00:00",
                    "2025-07-21T00:00:00",
                    "2025-07-22T00:00:00",
                    "2025-07-23T00:00:00",
                    "2025-07-24T00:00:00",
                    "2025-07-25T00:00:00",
                    "2025-07-26T00:00:00",
                    "2025-07-27T00:00:00",
                    "2025-07-28T00:00:00",
                    "2025-07-29T00:00:00",
                    "2025-07-30T00:00:00",
                    "2025-07-31T00:00:00",
                    "2025-08-01T00:00:00",
                    "2025-08-02T00:00:00",
                    "2025-08-03T00:00:00",
                    "2025-08-04T00:00:00",
                    "2025-08-05T00:00:00",
                    "2025-08-06T00:00:00",
                    "2025-08-07T00:00:00",
                    "2025-08-08T00:00:00",
                    "2025-08-09T00:00:00",
                    "2025-08-10T00:00:00",
                    "2025-08-11T00:00:00",
                    "2025-08-12T00:00:00",
                    "2025-08-13T00:00:00",
                    "2025-08-14T00:00:00",
                    "2025-08-15T00:00:00",
                    "2025-08-16T00:00:00",
                    "2025-08-17T00:00:00",
                    "2025-08-18T00:00:00",
                    "2025-08-19T00:00:00",
                    "2025-08-20T00:00:00",
                    "2025-08-21T00:00:00",
                    "2025-08-22T00:00:00",
                    "2025-08-23T00:00:00",
                    "2025-08-24T00:00:00",
                    "2025-08-25T00:00:00",
                    "2025-08-26T00:00:00",
                    "2025-08-27T00:00:00",
                    "2025-08-28T00:00:00",
                    "2025-08-29T00:00:00",
                    "2025-08-30T00:00:00",
                    "2025-08-31T00:00:00",
                    "2025-09-01T00:00:00",
                    "2025-09-02T00:00:00",
                    "2025-09-03T00:00:00",
                    "2025-09-04T00:00:00",
                    "2025-09-05T00:00:00",
                    "2025-09-06T00:00:00",
                    "2025-09-07T00:00:00",
                    "2025-09-08T00:00:00",
                    "2025-09-09T00:00:00",
                    "2025-09-10T00:00:00",
                    "2025-09-11T00:00:00",
                    "2025-09-12T00:00:00",
                    "2025-09-13T00:00:00",
                    "2025-09-14T00:00:00",
                    "2025-09-15T00:00:00",
                    "2025-09-16T00:00:00",
                    "2025-09-17T00:00:00",
                    "2025-09-18T00:00:00",
                    "2025-09-19T00:00:00",
                    "2025-09-20T00:00:00",
                    "2025-09-21T00:00:00",
                    "2025-09-22T00:00:00",
                    "2025-09-23T00:00:00",
                    "2025-09-24T00:00:00",
                    "2025-09-25T00:00:00",
                    "2025-09-26T00:00:00",
                    "2025-09-27T00:00:00",
                    "2025-09-28T00:00:00",
                    "2025-09-29T00:00:00",
                    "2025-09-30T00:00:00",
                    "2025-10-01T00:00:00",
                    "2025-10-02T00:00:00",
                    "2025-10-03T00:00:00",
                    "2025-10-04T00:00:00",
                    "2025-10-05T00:00:00",
                    "2025-10-06T00:00:00",
                    "2025-10-07T00:00:00",
                    "2025-10-08T00:00:00",
                    "2025-10-09T00:00:00",
                    "2025-10-10T00:00:00",
                    "2025-10-11T00:00:00",
                    "2025-10-12T00:00:00",
                    "2025-10-13T00:00:00",
                    "2025-10-14T00:00:00",
                    "2025-10-15T00:00:00",
                    "2025-10-16T00:00:00",
                    "2025-10-17T00:00:00",
                    "2025-10-18T00:00:00",
                    "2025-10-19T00:00:00",
                    "2025-10-20T00:00:00",
                    "2025-10-20T03:16:00"
                  ],
                  "xaxis": "x",
                  "y": {
                    "bdata": "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",
                    "dtype": "f8"
                  },
                  "yaxis": "y2"
                }
              ],
              "layout": {
                "template": {
                  "data": {
                    "bar": [
                      {
                        "error_x": {
                          "color": "#2a3f5f"
                        },
                        "error_y": {
                          "color": "#2a3f5f"
                        },
                        "marker": {
                          "line": {
                            "color": "#E5ECF6",
                            "width": 0.5
                          },
                          "pattern": {
                            "fillmode": "overlay",
                            "size": 10,
                            "solidity": 0.2
                          }
                        },
                        "type": "bar"
                      }
                    ],
                    "barpolar": [
                      {
                        "marker": {
                          "line": {
                            "color": "#E5ECF6",
                            "width": 0.5
                          },
                          "pattern": {
                            "fillmode": "overlay",
                            "size": 10,
                            "solidity": 0.2
                          }
                        },
                        "type": "barpolar"
                      }
                    ],
                    "carpet": [
                      {
                        "aaxis": {
                          "endlinecolor": "#2a3f5f",
                          "gridcolor": "white",
                          "linecolor": "white",
                          "minorgridcolor": "white",
                          "startlinecolor": "#2a3f5f"
                        },
                        "baxis": {
                          "endlinecolor": "#2a3f5f",
                          "gridcolor": "white",
                          "linecolor": "white",
                          "minorgridcolor": "white",
                          "startlinecolor": "#2a3f5f"
                        },
                        "type": "carpet"
                      }
                    ],
                    "choropleth": [
                      {
                        "colorbar": {
                          "outlinewidth": 0,
                          "ticks": ""
                        },
                        "type": "choropleth"
                      }
                    ],
                    "contour": [
                      {
                        "colorbar": {
                          "outlinewidth": 0,
                          "ticks": ""
                        },
                        "colorscale": [
                          [
                            0,
                            "#0d0887"
                          ],
                          [
                            0.1111111111111111,
                            "#46039f"
                          ],
                          [
                            0.2222222222222222,
                            "#7201a8"
                          ],
                          [
                            0.3333333333333333,
                            "#9c179e"
                          ],
                          [
                            0.4444444444444444,
                            "#bd3786"
                          ],
                          [
                            0.5555555555555556,
                            "#d8576b"
                          ],
                          [
                            0.6666666666666666,
                            "#ed7953"
                          ],
                          [
                            0.7777777777777778,
                            "#fb9f3a"
                          ],
                          [
                            0.8888888888888888,
                            "#fdca26"
                          ],
                          [
                            1,
                            "#f0f921"
                          ]
                        ],
                        "type": "contour"
                      }
                    ],
                    "contourcarpet": [
                      {
                        "colorbar": {
                          "outlinewidth": 0,
                          "ticks": ""
                        },
                        "type": "contourcarpet"
                      }
                    ],
                    "heatmap": [
                      {
                        "colorbar": {
                          "outlinewidth": 0,
                          "ticks": ""
                        },
                        "colorscale": [
                          [
                            0,
                            "#0d0887"
                          ],
                          [
                            0.1111111111111111,
                            "#46039f"
                          ],
                          [
                            0.2222222222222222,
                            "#7201a8"
                          ],
                          [
                            0.3333333333333333,
                            "#9c179e"
                          ],
                          [
                            0.4444444444444444,
                            "#bd3786"
                          ],
                          [
                            0.5555555555555556,
                            "#d8576b"
                          ],
                          [
                            0.6666666666666666,
                            "#ed7953"
                          ],
                          [
                            0.7777777777777778,
                            "#fb9f3a"
                          ],
                          [
                            0.8888888888888888,
                            "#fdca26"
                          ],
                          [
                            1,
                            "#f0f921"
                          ]
                        ],
                        "type": "heatmap"
                      }
                    ],
                    "histogram": [
                      {
                        "marker": {
                          "pattern": {
                            "fillmode": "overlay",
                            "size": 10,
                            "solidity": 0.2
                          }
                        },
                        "type": "histogram"
                      }
                    ],
                    "histogram2d": [
                      {
                        "colorbar": {
                          "outlinewidth": 0,
                          "ticks": ""
                        },
                        "colorscale": [
                          [
                            0,
                            "#0d0887"
                          ],
                          [
                            0.1111111111111111,
                            "#46039f"
                          ],
                          [
                            0.2222222222222222,
                            "#7201a8"
                          ],
                          [
                            0.3333333333333333,
                            "#9c179e"
                          ],
                          [
                            0.4444444444444444,
                            "#bd3786"
                          ],
                          [
                            0.5555555555555556,
                            "#d8576b"
                          ],
                          [
                            0.6666666666666666,
                            "#ed7953"
                          ],
                          [
                            0.7777777777777778,
                            "#fb9f3a"
                          ],
                          [
                            0.8888888888888888,
                            "#fdca26"
                          ],
                          [
                            1,
                            "#f0f921"
                          ]
                        ],
                        "type": "histogram2d"
                      }
                    ],
                    "histogram2dcontour": [
                      {
                        "colorbar": {
                          "outlinewidth": 0,
                          "ticks": ""
                        },
                        "colorscale": [
                          [
                            0,
                            "#0d0887"
                          ],
                          [
                            0.1111111111111111,
                            "#46039f"
                          ],
                          [
                            0.2222222222222222,
                            "#7201a8"
                          ],
                          [
                            0.3333333333333333,
                            "#9c179e"
                          ],
                          [
                            0.4444444444444444,
                            "#bd3786"
                          ],
                          [
                            0.5555555555555556,
                            "#d8576b"
                          ],
                          [
                            0.6666666666666666,
                            "#ed7953"
                          ],
                          [
                            0.7777777777777778,
                            "#fb9f3a"
                          ],
                          [
                            0.8888888888888888,
                            "#fdca26"
                          ],
                          [
                            1,
                            "#f0f921"
                          ]
                        ],
                        "type": "histogram2dcontour"
                      }
                    ],
                    "mesh3d": [
                      {
                        "colorbar": {
                          "outlinewidth": 0,
                          "ticks": ""
                        },
                        "type": "mesh3d"
                      }
                    ],
                    "parcoords": [
                      {
                        "line": {
                          "colorbar": {
                            "outlinewidth": 0,
                            "ticks": ""
                          }
                        },
                        "type": "parcoords"
                      }
                    ],
                    "pie": [
                      {
                        "automargin": true,
                        "type": "pie"
                      }
                    ],
                    "scatter": [
                      {
                        "fillpattern": {
                          "fillmode": "overlay",
                          "size": 10,
                          "solidity": 0.2
                        },
                        "type": "scatter"
                      }
                    ],
                    "scatter3d": [
                      {
                        "line": {
                          "colorbar": {
                            "outlinewidth": 0,
                            "ticks": ""
                          }
                        },
                        "marker": {
                          "colorbar": {
                            "outlinewidth": 0,
                            "ticks": ""
                          }
                        },
                        "type": "scatter3d"
                      }
                    ],
                    "scattercarpet": [
                      {
                        "marker": {
                          "colorbar": {
                            "outlinewidth": 0,
                            "ticks": ""
                          }
                        },
                        "type": "scattercarpet"
                      }
                    ],
                    "scattergeo": [
                      {
                        "marker": {
                          "colorbar": {
                            "outlinewidth": 0,
                            "ticks": ""
                          }
                        },
                        "type": "scattergeo"
                      }
                    ],
                    "scattergl": [
                      {
                        "marker": {
                          "colorbar": {
                            "outlinewidth": 0,
                            "ticks": ""
                          }
                        },
                        "type": "scattergl"
                      }
                    ],
                    "scattermap": [
                      {
                        "marker": {
                          "colorbar": {
                            "outlinewidth": 0,
                            "ticks": ""
                          }
                        },
                        "type": "scattermap"
                      }
                    ],
                    "scattermapbox": [
                      {
                        "marker": {
                          "colorbar": {
                            "outlinewidth": 0,
                            "ticks": ""
                          }
                        },
                        "type": "scattermapbox"
                      }
                    ],
                    "scatterpolar": [
                      {
                        "marker": {
                          "colorbar": {
                            "outlinewidth": 0,
                            "ticks": ""
                          }
                        },
                        "type": "scatterpolar"
                      }
                    ],
                    "scatterpolargl": [
                      {
                        "marker": {
                          "colorbar": {
                            "outlinewidth": 0,
                            "ticks": ""
                          }
                        },
                        "type": "scatterpolargl"
                      }
                    ],
                    "scatterternary": [
                      {
                        "marker": {
                          "colorbar": {
                            "outlinewidth": 0,
                            "ticks": ""
                          }
                        },
                        "type": "scatterternary"
                      }
                    ],
                    "surface": [
                      {
                        "colorbar": {
                          "outlinewidth": 0,
                          "ticks": ""
                        },
                        "colorscale": [
                          [
                            0,
                            "#0d0887"
                          ],
                          [
                            0.1111111111111111,
                            "#46039f"
                          ],
                          [
                            0.2222222222222222,
                            "#7201a8"
                          ],
                          [
                            0.3333333333333333,
                            "#9c179e"
                          ],
                          [
                            0.4444444444444444,
                            "#bd3786"
                          ],
                          [
                            0.5555555555555556,
                            "#d8576b"
                          ],
                          [
                            0.6666666666666666,
                            "#ed7953"
                          ],
                          [
                            0.7777777777777778,
                            "#fb9f3a"
                          ],
                          [
                            0.8888888888888888,
                            "#fdca26"
                          ],
                          [
                            1,
                            "#f0f921"
                          ]
                        ],
                        "type": "surface"
                      }
                    ],
                    "table": [
                      {
                        "cells": {
                          "fill": {
                            "color": "#EBF0F8"
                          },
                          "line": {
                            "color": "white"
                          }
                        },
                        "header": {
                          "fill": {
                            "color": "#C8D4E3"
                          },
                          "line": {
                            "color": "white"
                          }
                        },
                        "type": "table"
                      }
                    ]
                  },
                  "layout": {
                    "annotationdefaults": {
                      "arrowcolor": "#2a3f5f",
                      "arrowhead": 0,
                      "arrowwidth": 1
                    },
                    "autotypenumbers": "strict",
                    "coloraxis": {
                      "colorbar": {
                        "outlinewidth": 0,
                        "ticks": ""
                      }
                    },
                    "colorscale": {
                      "diverging": [
                        [
                          0,
                          "#8e0152"
                        ],
                        [
                          0.1,
                          "#c51b7d"
                        ],
                        [
                          0.2,
                          "#de77ae"
                        ],
                        [
                          0.3,
                          "#f1b6da"
                        ],
                        [
                          0.4,
                          "#fde0ef"
                        ],
                        [
                          0.5,
                          "#f7f7f7"
                        ],
                        [
                          0.6,
                          "#e6f5d0"
                        ],
                        [
                          0.7,
                          "#b8e186"
                        ],
                        [
                          0.8,
                          "#7fbc41"
                        ],
                        [
                          0.9,
                          "#4d9221"
                        ],
                        [
                          1,
                          "#276419"
                        ]
                      ],
                      "sequential": [
                        [
                          0,
                          "#0d0887"
                        ],
                        [
                          0.1111111111111111,
                          "#46039f"
                        ],
                        [
                          0.2222222222222222,
                          "#7201a8"
                        ],
                        [
                          0.3333333333333333,
                          "#9c179e"
                        ],
                        [
                          0.4444444444444444,
                          "#bd3786"
                        ],
                        [
                          0.5555555555555556,
                          "#d8576b"
                        ],
                        [
                          0.6666666666666666,
                          "#ed7953"
                        ],
                        [
                          0.7777777777777778,
                          "#fb9f3a"
                        ],
                        [
                          0.8888888888888888,
                          "#fdca26"
                        ],
                        [
                          1,
                          "#f0f921"
                        ]
                      ],
                      "sequentialminus": [
                        [
                          0,
                          "#0d0887"
                        ],
                        [
                          0.1111111111111111,
                          "#46039f"
                        ],
                        [
                          0.2222222222222222,
                          "#7201a8"
                        ],
                        [
                          0.3333333333333333,
                          "#9c179e"
                        ],
                        [
                          0.4444444444444444,
                          "#bd3786"
                        ],
                        [
                          0.5555555555555556,
                          "#d8576b"
                        ],
                        [
                          0.6666666666666666,
                          "#ed7953"
                        ],
                        [
                          0.7777777777777778,
                          "#fb9f3a"
                        ],
                        [
                          0.8888888888888888,
                          "#fdca26"
                        ],
                        [
                          1,
                          "#f0f921"
                        ]
                      ]
                    },
                    "colorway": [
                      "#636efa",
                      "#EF553B",
                      "#00cc96",
                      "#ab63fa",
                      "#FFA15A",
                      "#19d3f3",
                      "#FF6692",
                      "#B6E880",
                      "#FF97FF",
                      "#FECB52"
                    ],
                    "font": {
                      "color": "#2a3f5f"
                    },
                    "geo": {
                      "bgcolor": "white",
                      "lakecolor": "white",
                      "landcolor": "#E5ECF6",
                      "showlakes": true,
                      "showland": true,
                      "subunitcolor": "white"
                    },
                    "hoverlabel": {
                      "align": "left"
                    },
                    "hovermode": "closest",
                    "mapbox": {
                      "style": "light"
                    },
                    "paper_bgcolor": "white",
                    "plot_bgcolor": "#E5ECF6",
                    "polar": {
                      "angularaxis": {
                        "gridcolor": "white",
                        "linecolor": "white",
                        "ticks": ""
                      },
                      "bgcolor": "#E5ECF6",
                      "radialaxis": {
                        "gridcolor": "white",
                        "linecolor": "white",
                        "ticks": ""
                      }
                    },
                    "scene": {
                      "xaxis": {
                        "backgroundcolor": "#E5ECF6",
                        "gridcolor": "white",
                        "gridwidth": 2,
                        "linecolor": "white",
                        "showbackground": true,
                        "ticks": "",
                        "zerolinecolor": "white"
                      },
                      "yaxis": {
                        "backgroundcolor": "#E5ECF6",
                        "gridcolor": "white",
                        "gridwidth": 2,
                        "linecolor": "white",
                        "showbackground": true,
                        "ticks": "",
                        "zerolinecolor": "white"
                      },
                      "zaxis": {
                        "backgroundcolor": "#E5ECF6",
                        "gridcolor": "white",
                        "gridwidth": 2,
                        "linecolor": "white",
                        "showbackground": true,
                        "ticks": "",
                        "zerolinecolor": "white"
                      }
                    },
                    "shapedefaults": {
                      "line": {
                        "color": "#2a3f5f"
                      }
                    },
                    "ternary": {
                      "aaxis": {
                        "gridcolor": "white",
                        "linecolor": "white",
                        "ticks": ""
                      },
                      "baxis": {
                        "gridcolor": "white",
                        "linecolor": "white",
                        "ticks": ""
                      },
                      "bgcolor": "#E5ECF6",
                      "caxis": {
                        "gridcolor": "white",
                        "linecolor": "white",
                        "ticks": ""
                      }
                    },
                    "title": {
                      "x": 0.05
                    },
                    "xaxis": {
                      "automargin": true,
                      "gridcolor": "white",
                      "linecolor": "white",
                      "ticks": "",
                      "title": {
                        "standoff": 15
                      },
                      "zerolinecolor": "white",
                      "zerolinewidth": 2
                    },
                    "yaxis": {
                      "automargin": true,
                      "gridcolor": "white",
                      "linecolor": "white",
                      "ticks": "",
                      "title": {
                        "standoff": 15
                      },
                      "zerolinecolor": "white",
                      "zerolinewidth": 2
                    }
                  }
                },
                "title": {
                  "text": "Bitcoin Price and Trading Volume Over Time"
                },
                "xaxis": {
                  "anchor": "y",
                  "domain": [
                    0,
                    0.94
                  ],
                  "title": {
                    "text": "Timestamp"
                  }
                },
                "yaxis": {
                  "anchor": "x",
                  "domain": [
                    0,
                    1
                  ],
                  "title": {
                    "text": "Price (USD)"
                  }
                },
                "yaxis2": {
                  "anchor": "x",
                  "overlaying": "y",
                  "side": "right",
                  "title": {
                    "text": "Volume (USD)"
                  }
                }
              }
            }
          },
          "metadata": {},
          "output_type": "display_data"
        }
      ],
      "source": [
        "fig = make_subplots(specs=[[{\"secondary_y\": True}]])\n",
        "\n",
        "fig.add_trace(\n",
        "    go.Scatter(x=df_combined.index, y=df_combined['price'], name='Price'),\n",
        "    secondary_y=False,\n",
        ")\n",
        "\n",
        "fig.add_trace(\n",
        "    go.Scatter(x=df_combined.index, y=df_combined['volume'], name='Volume'),\n",
        "    secondary_y=True,\n",
        ")\n",
        "\n",
        "fig.update_layout(\n",
        "    title_text='Bitcoin Price and Trading Volume Over Time',\n",
        "    xaxis_title='Timestamp',\n",
        "    yaxis_title='Price (USD)',\n",
        "    yaxis2_title='Volume (USD)'\n",
        ")\n",
        "\n",
        "fig.show()"
      ]
    },
    {
      "cell_type": "markdown",
      "metadata": {
        "id": "ddfb38f0"
      },
      "source": [
        "# Task\n",
        "Fetch price, trading volume, and market cap data and plot them together."
      ]
    },
    {
      "cell_type": "markdown",
      "metadata": {
        "id": "e2e09d7d"
      },
      "source": [
        "## Modify data fetching\n",
        "\n",
        "### Subtask:\n",
        "Update the code to fetch market cap data in addition to price and volume data.\n"
      ]
    },
    {
      "cell_type": "markdown",
      "metadata": {
        "id": "0e883816"
      },
      "source": [
        "**Reasoning**:\n",
        "Modify the API call to fetch market cap data and process it along with price and volume data.\n",
        "\n"
      ]
    },
    {
      "cell_type": "code",
      "execution_count": 12,
      "metadata": {
        "colab": {
          "base_uri": "https://localhost:8080/",
          "height": 0
        },
        "id": "ec52c692",
        "outputId": "90e00af6-d0e5-4294-fe79-7fd406ac4682"
      },
      "outputs": [
        {
          "name": "stdout",
          "output_type": "stream",
          "text": [
            "Price data fetched successfully for the last 365 days.\n",
            "Trading volume data fetched successfully for the last 365 days.\n",
            "Market cap data fetched successfully for the last 365 days.\n"
          ]
        }
      ],
      "source": [
        "url = \"https://api.coingecko.com/api/v3/coins/bitcoin/market_chart\"\n",
        "params = {\"vs_currency\": \"usd\", \"days\": \"365\"}\n",
        "\n",
        "data = requests.get(url, params=params).json()\n",
        "\n",
        "prices = pd.DataFrame()\n",
        "volumes = pd.DataFrame()\n",
        "market_caps = pd.DataFrame()\n",
        "\n",
        "if 'prices' in data:\n",
        "    prices = pd.DataFrame(data['prices'], columns=['timestamp', 'price'])\n",
        "    prices['timestamp'] = pd.to_datetime(prices['timestamp'], unit='ms')\n",
        "    prices.set_index('timestamp', inplace=True)\n",
        "    print(\"Price data fetched successfully for the last 365 days.\")\n",
        "else:\n",
        "    print(\"Error fetching price data from CoinGecko API:\", data)\n",
        "\n",
        "if 'total_volumes' in data:\n",
        "    volumes = pd.DataFrame(data['total_volumes'], columns=['timestamp', 'volume'])\n",
        "    volumes['timestamp'] = pd.to_datetime(volumes['timestamp'], unit='ms')\n",
        "    volumes.set_index('timestamp', inplace=True)\n",
        "    print(\"Trading volume data fetched successfully for the last 365 days.\")\n",
        "else:\n",
        "    print(\"Error fetching trading volume data from CoinGecko API:\", data)\n",
        "\n",
        "if 'market_caps' in data:\n",
        "    market_caps = pd.DataFrame(data['market_caps'], columns=['timestamp', 'market_cap'])\n",
        "    market_caps['timestamp'] = pd.to_datetime(market_caps['timestamp'], unit='ms')\n",
        "    market_caps.set_index('timestamp', inplace=True)\n",
        "    print(\"Market cap data fetched successfully for the last 365 days.\")\n",
        "else:\n",
        "    print(\"Error fetching market cap data from CoinGecko API:\", data)"
      ]
    },
    {
      "cell_type": "markdown",
      "metadata": {
        "id": "dd21a659"
      },
      "source": [
        "## Combine data\n",
        "\n",
        "### Subtask:\n",
        "Merge or combine the fetched price, volume, and market cap data into a single DataFrame.\n"
      ]
    },
    {
      "cell_type": "markdown",
      "metadata": {
        "id": "450e167e"
      },
      "source": [
        "**Reasoning**:\n",
        "Merge the prices, volumes, and market_caps dataframes on their index and display the head of the combined dataframe.\n",
        "\n"
      ]
    },
    {
      "cell_type": "code",
      "execution_count": 13,
      "metadata": {
        "colab": {
          "base_uri": "https://localhost:8080/",
          "height": 238
        },
        "id": "aae8638d",
        "outputId": "ab7e2515-7128-493f-ec43-d675be16eb76"
      },
      "outputs": [
        {
          "data": {
            "application/vnd.microsoft.datawrangler.viewer.v0+json": {
              "columns": [
                {
                  "name": "timestamp",
                  "rawType": "datetime64[ns]",
                  "type": "datetime"
                },
                {
                  "name": "price",
                  "rawType": "float64",
                  "type": "float"
                },
                {
                  "name": "volume",
                  "rawType": "float64",
                  "type": "float"
                },
                {
                  "name": "market_cap",
                  "rawType": "float64",
                  "type": "float"
                }
              ],
              "ref": "3b354650-d1a6-4fe6-9a29-b4b2059e07d3",
              "rows": [
                [
                  "2024-10-21 00:00:00",
                  "68962.82918045693",
                  "17253863432.786995",
                  "1362381684459.9053"
                ],
                [
                  "2024-10-22 00:00:00",
                  "67394.85775735618",
                  "40485496091.95008",
                  "1332326858574.4448"
                ],
                [
                  "2024-10-23 00:00:00",
                  "67351.04793512498",
                  "31398389967.38113",
                  "1331426858508.4004"
                ],
                [
                  "2024-10-24 00:00:00",
                  "66683.96806542306",
                  "32676918488.059",
                  "1318285437546.2786"
                ],
                [
                  "2024-10-25 00:00:00",
                  "68214.05205157402",
                  "35892606570.03549",
                  "1347888109010.5889"
                ]
              ],
              "shape": {
                "columns": 3,
                "rows": 5
              }
            },
            "text/html": [
              "<div>\n",
              "<style scoped>\n",
              "    .dataframe tbody tr th:only-of-type {\n",
              "        vertical-align: middle;\n",
              "    }\n",
              "\n",
              "    .dataframe tbody tr th {\n",
              "        vertical-align: top;\n",
              "    }\n",
              "\n",
              "    .dataframe thead th {\n",
              "        text-align: right;\n",
              "    }\n",
              "</style>\n",
              "<table border=\"1\" class=\"dataframe\">\n",
              "  <thead>\n",
              "    <tr style=\"text-align: right;\">\n",
              "      <th></th>\n",
              "      <th>price</th>\n",
              "      <th>volume</th>\n",
              "      <th>market_cap</th>\n",
              "    </tr>\n",
              "    <tr>\n",
              "      <th>timestamp</th>\n",
              "      <th></th>\n",
              "      <th></th>\n",
              "      <th></th>\n",
              "    </tr>\n",
              "  </thead>\n",
              "  <tbody>\n",
              "    <tr>\n",
              "      <th>2024-10-21</th>\n",
              "      <td>68962.829180</td>\n",
              "      <td>1.725386e+10</td>\n",
              "      <td>1.362382e+12</td>\n",
              "    </tr>\n",
              "    <tr>\n",
              "      <th>2024-10-22</th>\n",
              "      <td>67394.857757</td>\n",
              "      <td>4.048550e+10</td>\n",
              "      <td>1.332327e+12</td>\n",
              "    </tr>\n",
              "    <tr>\n",
              "      <th>2024-10-23</th>\n",
              "      <td>67351.047935</td>\n",
              "      <td>3.139839e+10</td>\n",
              "      <td>1.331427e+12</td>\n",
              "    </tr>\n",
              "    <tr>\n",
              "      <th>2024-10-24</th>\n",
              "      <td>66683.968065</td>\n",
              "      <td>3.267692e+10</td>\n",
              "      <td>1.318285e+12</td>\n",
              "    </tr>\n",
              "    <tr>\n",
              "      <th>2024-10-25</th>\n",
              "      <td>68214.052052</td>\n",
              "      <td>3.589261e+10</td>\n",
              "      <td>1.347888e+12</td>\n",
              "    </tr>\n",
              "  </tbody>\n",
              "</table>\n",
              "</div>"
            ],
            "text/plain": [
              "                   price        volume    market_cap\n",
              "timestamp                                           \n",
              "2024-10-21  68962.829180  1.725386e+10  1.362382e+12\n",
              "2024-10-22  67394.857757  4.048550e+10  1.332327e+12\n",
              "2024-10-23  67351.047935  3.139839e+10  1.331427e+12\n",
              "2024-10-24  66683.968065  3.267692e+10  1.318285e+12\n",
              "2024-10-25  68214.052052  3.589261e+10  1.347888e+12"
            ]
          },
          "metadata": {},
          "output_type": "display_data"
        }
      ],
      "source": [
        "df_combined = prices.merge(volumes, left_index=True, right_index=True).merge(market_caps, left_index=True, right_index=True)\n",
        "display(df_combined.head())"
      ]
    },
    {
      "cell_type": "code",
      "execution_count": 16,
      "metadata": {
        "colab": {
          "base_uri": "https://localhost:8080/",
          "height": 542
        },
        "id": "Oj4_83ZLqxgO",
        "outputId": "29395e93-d155-407d-b978-81cf98086a6a"
      },
      "outputs": [
        {
          "data": {
            "application/vnd.plotly.v1+json": {
              "config": {
                "plotlyServerURL": "https://plot.ly"
              },
              "data": [
                {
                  "name": "Price",
                  "type": "scatter",
                  "x": [
                    "2024-10-21T00:00:00",
                    "2024-10-22T00:00:00",
                    "2024-10-23T00:00:00",
                    "2024-10-24T00:00:00",
                    "2024-10-25T00:00:00",
                    "2024-10-26T00:00:00",
                    "2024-10-27T00:00:00",
                    "2024-10-28T00:00:00",
                    "2024-10-29T00:00:00",
                    "2024-10-30T00:00:00",
                    "2024-10-31T00:00:00",
                    "2024-11-01T00:00:00",
                    "2024-11-02T00:00:00",
                    "2024-11-03T00:00:00",
                    "2024-11-04T00:00:00",
                    "2024-11-05T00:00:00",
                    "2024-11-06T00:00:00",
                    "2024-11-07T00:00:00",
                    "2024-11-08T00:00:00",
                    "2024-11-09T00:00:00",
                    "2024-11-10T00:00:00",
                    "2024-11-11T00:00:00",
                    "2024-11-12T00:00:00",
                    "2024-11-13T00:00:00",
                    "2024-11-14T00:00:00",
                    "2024-11-15T00:00:00",
                    "2024-11-16T00:00:00",
                    "2024-11-17T00:00:00",
                    "2024-11-18T00:00:00",
                    "2024-11-19T00:00:00",
                    "2024-11-20T00:00:00",
                    "2024-11-21T00:00:00",
                    "2024-11-22T00:00:00",
                    "2024-11-23T00:00:00",
                    "2024-11-24T00:00:00",
                    "2024-11-25T00:00:00",
                    "2024-11-26T00:00:00",
                    "2024-11-27T00:00:00",
                    "2024-11-28T00:00:00",
                    "2024-11-29T00:00:00",
                    "2024-11-30T00:00:00",
                    "2024-12-01T00:00:00",
                    "2024-12-02T00:00:00",
                    "2024-12-03T00:00:00",
                    "2024-12-04T00:00:00",
                    "2024-12-05T00:00:00",
                    "2024-12-06T00:00:00",
                    "2024-12-07T00:00:00",
                    "2024-12-08T00:00:00",
                    "2024-12-09T00:00:00",
                    "2024-12-10T00:00:00",
                    "2024-12-11T00:00:00",
                    "2024-12-12T00:00:00",
                    "2024-12-13T00:00:00",
                    "2024-12-14T00:00:00",
                    "2024-12-15T00:00:00",
                    "2024-12-16T00:00:00",
                    "2024-12-17T00:00:00",
                    "2024-12-18T00:00:00",
                    "2024-12-19T00:00:00",
                    "2024-12-20T00:00:00",
                    "2024-12-21T00:00:00",
                    "2024-12-22T00:00:00",
                    "2024-12-23T00:00:00",
                    "2024-12-24T00:00:00",
                    "2024-12-25T00:00:00",
                    "2024-12-26T00:00:00",
                    "2024-12-27T00:00:00",
                    "2024-12-28T00:00:00",
                    "2024-12-29T00:00:00",
                    "2024-12-30T00:00:00",
                    "2024-12-31T00:00:00",
                    "2025-01-01T00:00:00",
                    "2025-01-02T00:00:00",
                    "2025-01-03T00:00:00",
                    "2025-01-04T00:00:00",
                    "2025-01-05T00:00:00",
                    "2025-01-06T00:00:00",
                    "2025-01-07T00:00:00",
                    "2025-01-08T00:00:00",
                    "2025-01-09T00:00:00",
                    "2025-01-10T00:00:00",
                    "2025-01-11T00:00:00",
                    "2025-01-12T00:00:00",
                    "2025-01-13T00:00:00",
                    "2025-01-14T00:00:00",
                    "2025-01-15T00:00:00",
                    "2025-01-16T00:00:00",
                    "2025-01-17T00:00:00",
                    "2025-01-18T00:00:00",
                    "2025-01-19T00:00:00",
                    "2025-01-20T00:00:00",
                    "2025-01-21T00:00:00",
                    "2025-01-22T00:00:00",
                    "2025-01-23T00:00:00",
                    "2025-01-24T00:00:00",
                    "2025-01-25T00:00:00",
                    "2025-01-26T00:00:00",
                    "2025-01-27T00:00:00",
                    "2025-01-28T00:00:00",
                    "2025-01-29T00:00:00",
                    "2025-01-30T00:00:00",
                    "2025-01-31T00:00:00",
                    "2025-02-01T00:00:00",
                    "2025-02-02T00:00:00",
                    "2025-02-03T00:00:00",
                    "2025-02-04T00:00:00",
                    "2025-02-05T00:00:00",
                    "2025-02-06T00:00:00",
                    "2025-02-07T00:00:00",
                    "2025-02-08T00:00:00",
                    "2025-02-09T00:00:00",
                    "2025-02-10T00:00:00",
                    "2025-02-11T00:00:00",
                    "2025-02-12T00:00:00",
                    "2025-02-13T00:00:00",
                    "2025-02-14T00:00:00",
                    "2025-02-15T00:00:00",
                    "2025-02-16T00:00:00",
                    "2025-02-17T00:00:00",
                    "2025-02-18T00:00:00",
                    "2025-02-19T00:00:00",
                    "2025-02-20T00:00:00",
                    "2025-02-21T00:00:00",
                    "2025-02-22T00:00:00",
                    "2025-02-23T00:00:00",
                    "2025-02-24T00:00:00",
                    "2025-02-25T00:00:00",
                    "2025-02-26T00:00:00",
                    "2025-02-27T00:00:00",
                    "2025-02-28T00:00:00",
                    "2025-03-01T00:00:00",
                    "2025-03-02T00:00:00",
                    "2025-03-03T00:00:00",
                    "2025-03-04T00:00:00",
                    "2025-03-05T00:00:00",
                    "2025-03-06T00:00:00",
                    "2025-03-07T00:00:00",
                    "2025-03-08T00:00:00",
                    "2025-03-09T00:00:00",
                    "2025-03-10T00:00:00",
                    "2025-03-11T00:00:00",
                    "2025-03-12T00:00:00",
                    "2025-03-13T00:00:00",
                    "2025-03-14T00:00:00",
                    "2025-03-15T00:00:00",
                    "2025-03-16T00:00:00",
                    "2025-03-17T00:00:00",
                    "2025-03-18T00:00:00",
                    "2025-03-19T00:00:00",
                    "2025-03-20T00:00:00",
                    "2025-03-21T00:00:00",
                    "2025-03-22T00:00:00",
                    "2025-03-23T00:00:00",
                    "2025-03-24T00:00:00",
                    "2025-03-25T00:00:00",
                    "2025-03-26T00:00:00",
                    "2025-03-27T00:00:00",
                    "2025-03-28T00:00:00",
                    "2025-03-29T00:00:00",
                    "2025-03-30T00:00:00",
                    "2025-03-31T00:00:00",
                    "2025-04-01T00:00:00",
                    "2025-04-02T00:00:00",
                    "2025-04-03T00:00:00",
                    "2025-04-04T00:00:00",
                    "2025-04-05T00:00:00",
                    "2025-04-06T00:00:00",
                    "2025-04-07T00:00:00",
                    "2025-04-08T00:00:00",
                    "2025-04-09T00:00:00",
                    "2025-04-10T00:00:00",
                    "2025-04-11T00:00:00",
                    "2025-04-12T00:00:00",
                    "2025-04-13T00:00:00",
                    "2025-04-14T00:00:00",
                    "2025-04-15T00:00:00",
                    "2025-04-16T00:00:00",
                    "2025-04-17T00:00:00",
                    "2025-04-18T00:00:00",
                    "2025-04-19T00:00:00",
                    "2025-04-20T00:00:00",
                    "2025-04-21T00:00:00",
                    "2025-04-22T00:00:00",
                    "2025-04-23T00:00:00",
                    "2025-04-24T00:00:00",
                    "2025-04-25T00:00:00",
                    "2025-04-26T00:00:00",
                    "2025-04-27T00:00:00",
                    "2025-04-28T00:00:00",
                    "2025-04-29T00:00:00",
                    "2025-04-30T00:00:00",
                    "2025-05-01T00:00:00",
                    "2025-05-02T00:00:00",
                    "2025-05-03T00:00:00",
                    "2025-05-04T00:00:00",
                    "2025-05-05T00:00:00",
                    "2025-05-06T00:00:00",
                    "2025-05-07T00:00:00",
                    "2025-05-08T00:00:00",
                    "2025-05-09T00:00:00",
                    "2025-05-10T00:00:00",
                    "2025-05-11T00:00:00",
                    "2025-05-12T00:00:00",
                    "2025-05-13T00:00:00",
                    "2025-05-14T00:00:00",
                    "2025-05-15T00:00:00",
                    "2025-05-16T00:00:00",
                    "2025-05-17T00:00:00",
                    "2025-05-18T00:00:00",
                    "2025-05-19T00:00:00",
                    "2025-05-20T00:00:00",
                    "2025-05-21T00:00:00",
                    "2025-05-22T00:00:00",
                    "2025-05-23T00:00:00",
                    "2025-05-24T00:00:00",
                    "2025-05-25T00:00:00",
                    "2025-05-26T00:00:00",
                    "2025-05-27T00:00:00",
                    "2025-05-28T00:00:00",
                    "2025-05-29T00:00:00",
                    "2025-05-30T00:00:00",
                    "2025-05-31T00:00:00",
                    "2025-06-01T00:00:00",
                    "2025-06-02T00:00:00",
                    "2025-06-03T00:00:00",
                    "2025-06-04T00:00:00",
                    "2025-06-05T00:00:00",
                    "2025-06-06T00:00:00",
                    "2025-06-07T00:00:00",
                    "2025-06-08T00:00:00",
                    "2025-06-09T00:00:00",
                    "2025-06-10T00:00:00",
                    "2025-06-11T00:00:00",
                    "2025-06-12T00:00:00",
                    "2025-06-13T00:00:00",
                    "2025-06-14T00:00:00",
                    "2025-06-15T00:00:00",
                    "2025-06-16T00:00:00",
                    "2025-06-17T00:00:00",
                    "2025-06-18T00:00:00",
                    "2025-06-19T00:00:00",
                    "2025-06-20T00:00:00",
                    "2025-06-21T00:00:00",
                    "2025-06-22T00:00:00",
                    "2025-06-23T00:00:00",
                    "2025-06-24T00:00:00",
                    "2025-06-25T00:00:00",
                    "2025-06-26T00:00:00",
                    "2025-06-27T00:00:00",
                    "2025-06-28T00:00:00",
                    "2025-06-29T00:00:00",
                    "2025-06-30T00:00:00",
                    "2025-07-01T00:00:00",
                    "2025-07-02T00:00:00",
                    "2025-07-03T00:00:00",
                    "2025-07-04T00:00:00",
                    "2025-07-05T00:00:00",
                    "2025-07-06T00:00:00",
                    "2025-07-07T00:00:00",
                    "2025-07-08T00:00:00",
                    "2025-07-09T00:00:00",
                    "2025-07-10T00:00:00",
                    "2025-07-11T00:00:00",
                    "2025-07-12T00:00:00",
                    "2025-07-13T00:00:00",
                    "2025-07-14T00:00:00",
                    "2025-07-15T00:00:00",
                    "2025-07-16T00:00:00",
                    "2025-07-17T00:00:00",
                    "2025-07-18T00:00:00",
                    "2025-07-19T00:00:00",
                    "2025-07-20T00:00:00",
                    "2025-07-21T00:00:00",
                    "2025-07-22T00:00:00",
                    "2025-07-23T00:00:00",
                    "2025-07-24T00:00:00",
                    "2025-07-25T00:00:00",
                    "2025-07-26T00:00:00",
                    "2025-07-27T00:00:00",
                    "2025-07-28T00:00:00",
                    "2025-07-29T00:00:00",
                    "2025-07-30T00:00:00",
                    "2025-07-31T00:00:00",
                    "2025-08-01T00:00:00",
                    "2025-08-02T00:00:00",
                    "2025-08-03T00:00:00",
                    "2025-08-04T00:00:00",
                    "2025-08-05T00:00:00",
                    "2025-08-06T00:00:00",
                    "2025-08-07T00:00:00",
                    "2025-08-08T00:00:00",
                    "2025-08-09T00:00:00",
                    "2025-08-10T00:00:00",
                    "2025-08-11T00:00:00",
                    "2025-08-12T00:00:00",
                    "2025-08-13T00:00:00",
                    "2025-08-14T00:00:00",
                    "2025-08-15T00:00:00",
                    "2025-08-16T00:00:00",
                    "2025-08-17T00:00:00",
                    "2025-08-18T00:00:00",
                    "2025-08-19T00:00:00",
                    "2025-08-20T00:00:00",
                    "2025-08-21T00:00:00",
                    "2025-08-22T00:00:00",
                    "2025-08-23T00:00:00",
                    "2025-08-24T00:00:00",
                    "2025-08-25T00:00:00",
                    "2025-08-26T00:00:00",
                    "2025-08-27T00:00:00",
                    "2025-08-28T00:00:00",
                    "2025-08-29T00:00:00",
                    "2025-08-30T00:00:00",
                    "2025-08-31T00:00:00",
                    "2025-09-01T00:00:00",
                    "2025-09-02T00:00:00",
                    "2025-09-03T00:00:00",
                    "2025-09-04T00:00:00",
                    "2025-09-05T00:00:00",
                    "2025-09-06T00:00:00",
                    "2025-09-07T00:00:00",
                    "2025-09-08T00:00:00",
                    "2025-09-09T00:00:00",
                    "2025-09-10T00:00:00",
                    "2025-09-11T00:00:00",
                    "2025-09-12T00:00:00",
                    "2025-09-13T00:00:00",
                    "2025-09-14T00:00:00",
                    "2025-09-15T00:00:00",
                    "2025-09-16T00:00:00",
                    "2025-09-17T00:00:00",
                    "2025-09-18T00:00:00",
                    "2025-09-19T00:00:00",
                    "2025-09-20T00:00:00",
                    "2025-09-21T00:00:00",
                    "2025-09-22T00:00:00",
                    "2025-09-23T00:00:00",
                    "2025-09-24T00:00:00",
                    "2025-09-25T00:00:00",
                    "2025-09-26T00:00:00",
                    "2025-09-27T00:00:00",
                    "2025-09-28T00:00:00",
                    "2025-09-29T00:00:00",
                    "2025-09-30T00:00:00",
                    "2025-10-01T00:00:00",
                    "2025-10-02T00:00:00",
                    "2025-10-03T00:00:00",
                    "2025-10-04T00:00:00",
                    "2025-10-05T00:00:00",
                    "2025-10-06T00:00:00",
                    "2025-10-07T00:00:00",
                    "2025-10-08T00:00:00",
                    "2025-10-09T00:00:00",
                    "2025-10-10T00:00:00",
                    "2025-10-11T00:00:00",
                    "2025-10-12T00:00:00",
                    "2025-10-13T00:00:00",
                    "2025-10-14T00:00:00",
                    "2025-10-15T00:00:00",
                    "2025-10-16T00:00:00",
                    "2025-10-17T00:00:00",
                    "2025-10-18T00:00:00",
                    "2025-10-19T00:00:00",
                    "2025-10-20T00:00:00",
                    "2025-10-20T03:16:51"
                  ],
                  "xaxis": "x",
                  "y": {
                    "bdata": "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",
                    "dtype": "f8"
                  },
                  "yaxis": "y"
                },
                {
                  "name": "Volume",
                  "type": "scatter",
                  "x": [
                    "2024-10-21T00:00:00",
                    "2024-10-22T00:00:00",
                    "2024-10-23T00:00:00",
                    "2024-10-24T00:00:00",
                    "2024-10-25T00:00:00",
                    "2024-10-26T00:00:00",
                    "2024-10-27T00:00:00",
                    "2024-10-28T00:00:00",
                    "2024-10-29T00:00:00",
                    "2024-10-30T00:00:00",
                    "2024-10-31T00:00:00",
                    "2024-11-01T00:00:00",
                    "2024-11-02T00:00:00",
                    "2024-11-03T00:00:00",
                    "2024-11-04T00:00:00",
                    "2024-11-05T00:00:00",
                    "2024-11-06T00:00:00",
                    "2024-11-07T00:00:00",
                    "2024-11-08T00:00:00",
                    "2024-11-09T00:00:00",
                    "2024-11-10T00:00:00",
                    "2024-11-11T00:00:00",
                    "2024-11-12T00:00:00",
                    "2024-11-13T00:00:00",
                    "2024-11-14T00:00:00",
                    "2024-11-15T00:00:00",
                    "2024-11-16T00:00:00",
                    "2024-11-17T00:00:00",
                    "2024-11-18T00:00:00",
                    "2024-11-19T00:00:00",
                    "2024-11-20T00:00:00",
                    "2024-11-21T00:00:00",
                    "2024-11-22T00:00:00",
                    "2024-11-23T00:00:00",
                    "2024-11-24T00:00:00",
                    "2024-11-25T00:00:00",
                    "2024-11-26T00:00:00",
                    "2024-11-27T00:00:00",
                    "2024-11-28T00:00:00",
                    "2024-11-29T00:00:00",
                    "2024-11-30T00:00:00",
                    "2024-12-01T00:00:00",
                    "2024-12-02T00:00:00",
                    "2024-12-03T00:00:00",
                    "2024-12-04T00:00:00",
                    "2024-12-05T00:00:00",
                    "2024-12-06T00:00:00",
                    "2024-12-07T00:00:00",
                    "2024-12-08T00:00:00",
                    "2024-12-09T00:00:00",
                    "2024-12-10T00:00:00",
                    "2024-12-11T00:00:00",
                    "2024-12-12T00:00:00",
                    "2024-12-13T00:00:00",
                    "2024-12-14T00:00:00",
                    "2024-12-15T00:00:00",
                    "2024-12-16T00:00:00",
                    "2024-12-17T00:00:00",
                    "2024-12-18T00:00:00",
                    "2024-12-19T00:00:00",
                    "2024-12-20T00:00:00",
                    "2024-12-21T00:00:00",
                    "2024-12-22T00:00:00",
                    "2024-12-23T00:00:00",
                    "2024-12-24T00:00:00",
                    "2024-12-25T00:00:00",
                    "2024-12-26T00:00:00",
                    "2024-12-27T00:00:00",
                    "2024-12-28T00:00:00",
                    "2024-12-29T00:00:00",
                    "2024-12-30T00:00:00",
                    "2024-12-31T00:00:00",
                    "2025-01-01T00:00:00",
                    "2025-01-02T00:00:00",
                    "2025-01-03T00:00:00",
                    "2025-01-04T00:00:00",
                    "2025-01-05T00:00:00",
                    "2025-01-06T00:00:00",
                    "2025-01-07T00:00:00",
                    "2025-01-08T00:00:00",
                    "2025-01-09T00:00:00",
                    "2025-01-10T00:00:00",
                    "2025-01-11T00:00:00",
                    "2025-01-12T00:00:00",
                    "2025-01-13T00:00:00",
                    "2025-01-14T00:00:00",
                    "2025-01-15T00:00:00",
                    "2025-01-16T00:00:00",
                    "2025-01-17T00:00:00",
                    "2025-01-18T00:00:00",
                    "2025-01-19T00:00:00",
                    "2025-01-20T00:00:00",
                    "2025-01-21T00:00:00",
                    "2025-01-22T00:00:00",
                    "2025-01-23T00:00:00",
                    "2025-01-24T00:00:00",
                    "2025-01-25T00:00:00",
                    "2025-01-26T00:00:00",
                    "2025-01-27T00:00:00",
                    "2025-01-28T00:00:00",
                    "2025-01-29T00:00:00",
                    "2025-01-30T00:00:00",
                    "2025-01-31T00:00:00",
                    "2025-02-01T00:00:00",
                    "2025-02-02T00:00:00",
                    "2025-02-03T00:00:00",
                    "2025-02-04T00:00:00",
                    "2025-02-05T00:00:00",
                    "2025-02-06T00:00:00",
                    "2025-02-07T00:00:00",
                    "2025-02-08T00:00:00",
                    "2025-02-09T00:00:00",
                    "2025-02-10T00:00:00",
                    "2025-02-11T00:00:00",
                    "2025-02-12T00:00:00",
                    "2025-02-13T00:00:00",
                    "2025-02-14T00:00:00",
                    "2025-02-15T00:00:00",
                    "2025-02-16T00:00:00",
                    "2025-02-17T00:00:00",
                    "2025-02-18T00:00:00",
                    "2025-02-19T00:00:00",
                    "2025-02-20T00:00:00",
                    "2025-02-21T00:00:00",
                    "2025-02-22T00:00:00",
                    "2025-02-23T00:00:00",
                    "2025-02-24T00:00:00",
                    "2025-02-25T00:00:00",
                    "2025-02-26T00:00:00",
                    "2025-02-27T00:00:00",
                    "2025-02-28T00:00:00",
                    "2025-03-01T00:00:00",
                    "2025-03-02T00:00:00",
                    "2025-03-03T00:00:00",
                    "2025-03-04T00:00:00",
                    "2025-03-05T00:00:00",
                    "2025-03-06T00:00:00",
                    "2025-03-07T00:00:00",
                    "2025-03-08T00:00:00",
                    "2025-03-09T00:00:00",
                    "2025-03-10T00:00:00",
                    "2025-03-11T00:00:00",
                    "2025-03-12T00:00:00",
                    "2025-03-13T00:00:00",
                    "2025-03-14T00:00:00",
                    "2025-03-15T00:00:00",
                    "2025-03-16T00:00:00",
                    "2025-03-17T00:00:00",
                    "2025-03-18T00:00:00",
                    "2025-03-19T00:00:00",
                    "2025-03-20T00:00:00",
                    "2025-03-21T00:00:00",
                    "2025-03-22T00:00:00",
                    "2025-03-23T00:00:00",
                    "2025-03-24T00:00:00",
                    "2025-03-25T00:00:00",
                    "2025-03-26T00:00:00",
                    "2025-03-27T00:00:00",
                    "2025-03-28T00:00:00",
                    "2025-03-29T00:00:00",
                    "2025-03-30T00:00:00",
                    "2025-03-31T00:00:00",
                    "2025-04-01T00:00:00",
                    "2025-04-02T00:00:00",
                    "2025-04-03T00:00:00",
                    "2025-04-04T00:00:00",
                    "2025-04-05T00:00:00",
                    "2025-04-06T00:00:00",
                    "2025-04-07T00:00:00",
                    "2025-04-08T00:00:00",
                    "2025-04-09T00:00:00",
                    "2025-04-10T00:00:00",
                    "2025-04-11T00:00:00",
                    "2025-04-12T00:00:00",
                    "2025-04-13T00:00:00",
                    "2025-04-14T00:00:00",
                    "2025-04-15T00:00:00",
                    "2025-04-16T00:00:00",
                    "2025-04-17T00:00:00",
                    "2025-04-18T00:00:00",
                    "2025-04-19T00:00:00",
                    "2025-04-20T00:00:00",
                    "2025-04-21T00:00:00",
                    "2025-04-22T00:00:00",
                    "2025-04-23T00:00:00",
                    "2025-04-24T00:00:00",
                    "2025-04-25T00:00:00",
                    "2025-04-26T00:00:00",
                    "2025-04-27T00:00:00",
                    "2025-04-28T00:00:00",
                    "2025-04-29T00:00:00",
                    "2025-04-30T00:00:00",
                    "2025-05-01T00:00:00",
                    "2025-05-02T00:00:00",
                    "2025-05-03T00:00:00",
                    "2025-05-04T00:00:00",
                    "2025-05-05T00:00:00",
                    "2025-05-06T00:00:00",
                    "2025-05-07T00:00:00",
                    "2025-05-08T00:00:00",
                    "2025-05-09T00:00:00",
                    "2025-05-10T00:00:00",
                    "2025-05-11T00:00:00",
                    "2025-05-12T00:00:00",
                    "2025-05-13T00:00:00",
                    "2025-05-14T00:00:00",
                    "2025-05-15T00:00:00",
                    "2025-05-16T00:00:00",
                    "2025-05-17T00:00:00",
                    "2025-05-18T00:00:00",
                    "2025-05-19T00:00:00",
                    "2025-05-20T00:00:00",
                    "2025-05-21T00:00:00",
                    "2025-05-22T00:00:00",
                    "2025-05-23T00:00:00",
                    "2025-05-24T00:00:00",
                    "2025-05-25T00:00:00",
                    "2025-05-26T00:00:00",
                    "2025-05-27T00:00:00",
                    "2025-05-28T00:00:00",
                    "2025-05-29T00:00:00",
                    "2025-05-30T00:00:00",
                    "2025-05-31T00:00:00",
                    "2025-06-01T00:00:00",
                    "2025-06-02T00:00:00",
                    "2025-06-03T00:00:00",
                    "2025-06-04T00:00:00",
                    "2025-06-05T00:00:00",
                    "2025-06-06T00:00:00",
                    "2025-06-07T00:00:00",
                    "2025-06-08T00:00:00",
                    "2025-06-09T00:00:00",
                    "2025-06-10T00:00:00",
                    "2025-06-11T00:00:00",
                    "2025-06-12T00:00:00",
                    "2025-06-13T00:00:00",
                    "2025-06-14T00:00:00",
                    "2025-06-15T00:00:00",
                    "2025-06-16T00:00:00",
                    "2025-06-17T00:00:00",
                    "2025-06-18T00:00:00",
                    "2025-06-19T00:00:00",
                    "2025-06-20T00:00:00",
                    "2025-06-21T00:00:00",
                    "2025-06-22T00:00:00",
                    "2025-06-23T00:00:00",
                    "2025-06-24T00:00:00",
                    "2025-06-25T00:00:00",
                    "2025-06-26T00:00:00",
                    "2025-06-27T00:00:00",
                    "2025-06-28T00:00:00",
                    "2025-06-29T00:00:00",
                    "2025-06-30T00:00:00",
                    "2025-07-01T00:00:00",
                    "2025-07-02T00:00:00",
                    "2025-07-03T00:00:00",
                    "2025-07-04T00:00:00",
                    "2025-07-05T00:00:00",
                    "2025-07-06T00:00:00",
                    "2025-07-07T00:00:00",
                    "2025-07-08T00:00:00",
                    "2025-07-09T00:00:00",
                    "2025-07-10T00:00:00",
                    "2025-07-11T00:00:00",
                    "2025-07-12T00:00:00",
                    "2025-07-13T00:00:00",
                    "2025-07-14T00:00:00",
                    "2025-07-15T00:00:00",
                    "2025-07-16T00:00:00",
                    "2025-07-17T00:00:00",
                    "2025-07-18T00:00:00",
                    "2025-07-19T00:00:00",
                    "2025-07-20T00:00:00",
                    "2025-07-21T00:00:00",
                    "2025-07-22T00:00:00",
                    "2025-07-23T00:00:00",
                    "2025-07-24T00:00:00",
                    "2025-07-25T00:00:00",
                    "2025-07-26T00:00:00",
                    "2025-07-27T00:00:00",
                    "2025-07-28T00:00:00",
                    "2025-07-29T00:00:00",
                    "2025-07-30T00:00:00",
                    "2025-07-31T00:00:00",
                    "2025-08-01T00:00:00",
                    "2025-08-02T00:00:00",
                    "2025-08-03T00:00:00",
                    "2025-08-04T00:00:00",
                    "2025-08-05T00:00:00",
                    "2025-08-06T00:00:00",
                    "2025-08-07T00:00:00",
                    "2025-08-08T00:00:00",
                    "2025-08-09T00:00:00",
                    "2025-08-10T00:00:00",
                    "2025-08-11T00:00:00",
                    "2025-08-12T00:00:00",
                    "2025-08-13T00:00:00",
                    "2025-08-14T00:00:00",
                    "2025-08-15T00:00:00",
                    "2025-08-16T00:00:00",
                    "2025-08-17T00:00:00",
                    "2025-08-18T00:00:00",
                    "2025-08-19T00:00:00",
                    "2025-08-20T00:00:00",
                    "2025-08-21T00:00:00",
                    "2025-08-22T00:00:00",
                    "2025-08-23T00:00:00",
                    "2025-08-24T00:00:00",
                    "2025-08-25T00:00:00",
                    "2025-08-26T00:00:00",
                    "2025-08-27T00:00:00",
                    "2025-08-28T00:00:00",
                    "2025-08-29T00:00:00",
                    "2025-08-30T00:00:00",
                    "2025-08-31T00:00:00",
                    "2025-09-01T00:00:00",
                    "2025-09-02T00:00:00",
                    "2025-09-03T00:00:00",
                    "2025-09-04T00:00:00",
                    "2025-09-05T00:00:00",
                    "2025-09-06T00:00:00",
                    "2025-09-07T00:00:00",
                    "2025-09-08T00:00:00",
                    "2025-09-09T00:00:00",
                    "2025-09-10T00:00:00",
                    "2025-09-11T00:00:00",
                    "2025-09-12T00:00:00",
                    "2025-09-13T00:00:00",
                    "2025-09-14T00:00:00",
                    "2025-09-15T00:00:00",
                    "2025-09-16T00:00:00",
                    "2025-09-17T00:00:00",
                    "2025-09-18T00:00:00",
                    "2025-09-19T00:00:00",
                    "2025-09-20T00:00:00",
                    "2025-09-21T00:00:00",
                    "2025-09-22T00:00:00",
                    "2025-09-23T00:00:00",
                    "2025-09-24T00:00:00",
                    "2025-09-25T00:00:00",
                    "2025-09-26T00:00:00",
                    "2025-09-27T00:00:00",
                    "2025-09-28T00:00:00",
                    "2025-09-29T00:00:00",
                    "2025-09-30T00:00:00",
                    "2025-10-01T00:00:00",
                    "2025-10-02T00:00:00",
                    "2025-10-03T00:00:00",
                    "2025-10-04T00:00:00",
                    "2025-10-05T00:00:00",
                    "2025-10-06T00:00:00",
                    "2025-10-07T00:00:00",
                    "2025-10-08T00:00:00",
                    "2025-10-09T00:00:00",
                    "2025-10-10T00:00:00",
                    "2025-10-11T00:00:00",
                    "2025-10-12T00:00:00",
                    "2025-10-13T00:00:00",
                    "2025-10-14T00:00:00",
                    "2025-10-15T00:00:00",
                    "2025-10-16T00:00:00",
                    "2025-10-17T00:00:00",
                    "2025-10-18T00:00:00",
                    "2025-10-19T00:00:00",
                    "2025-10-20T00:00:00",
                    "2025-10-20T03:16:51"
                  ],
                  "xaxis": "x",
                  "y": {
                    "bdata": "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",
                    "dtype": "f8"
                  },
                  "yaxis": "y2"
                },
                {
                  "name": "Market Cap",
                  "type": "scatter",
                  "x": [
                    "2024-10-21T00:00:00",
                    "2024-10-22T00:00:00",
                    "2024-10-23T00:00:00",
                    "2024-10-24T00:00:00",
                    "2024-10-25T00:00:00",
                    "2024-10-26T00:00:00",
                    "2024-10-27T00:00:00",
                    "2024-10-28T00:00:00",
                    "2024-10-29T00:00:00",
                    "2024-10-30T00:00:00",
                    "2024-10-31T00:00:00",
                    "2024-11-01T00:00:00",
                    "2024-11-02T00:00:00",
                    "2024-11-03T00:00:00",
                    "2024-11-04T00:00:00",
                    "2024-11-05T00:00:00",
                    "2024-11-06T00:00:00",
                    "2024-11-07T00:00:00",
                    "2024-11-08T00:00:00",
                    "2024-11-09T00:00:00",
                    "2024-11-10T00:00:00",
                    "2024-11-11T00:00:00",
                    "2024-11-12T00:00:00",
                    "2024-11-13T00:00:00",
                    "2024-11-14T00:00:00",
                    "2024-11-15T00:00:00",
                    "2024-11-16T00:00:00",
                    "2024-11-17T00:00:00",
                    "2024-11-18T00:00:00",
                    "2024-11-19T00:00:00",
                    "2024-11-20T00:00:00",
                    "2024-11-21T00:00:00",
                    "2024-11-22T00:00:00",
                    "2024-11-23T00:00:00",
                    "2024-11-24T00:00:00",
                    "2024-11-25T00:00:00",
                    "2024-11-26T00:00:00",
                    "2024-11-27T00:00:00",
                    "2024-11-28T00:00:00",
                    "2024-11-29T00:00:00",
                    "2024-11-30T00:00:00",
                    "2024-12-01T00:00:00",
                    "2024-12-02T00:00:00",
                    "2024-12-03T00:00:00",
                    "2024-12-04T00:00:00",
                    "2024-12-05T00:00:00",
                    "2024-12-06T00:00:00",
                    "2024-12-07T00:00:00",
                    "2024-12-08T00:00:00",
                    "2024-12-09T00:00:00",
                    "2024-12-10T00:00:00",
                    "2024-12-11T00:00:00",
                    "2024-12-12T00:00:00",
                    "2024-12-13T00:00:00",
                    "2024-12-14T00:00:00",
                    "2024-12-15T00:00:00",
                    "2024-12-16T00:00:00",
                    "2024-12-17T00:00:00",
                    "2024-12-18T00:00:00",
                    "2024-12-19T00:00:00",
                    "2024-12-20T00:00:00",
                    "2024-12-21T00:00:00",
                    "2024-12-22T00:00:00",
                    "2024-12-23T00:00:00",
                    "2024-12-24T00:00:00",
                    "2024-12-25T00:00:00",
                    "2024-12-26T00:00:00",
                    "2024-12-27T00:00:00",
                    "2024-12-28T00:00:00",
                    "2024-12-29T00:00:00",
                    "2024-12-30T00:00:00",
                    "2024-12-31T00:00:00",
                    "2025-01-01T00:00:00",
                    "2025-01-02T00:00:00",
                    "2025-01-03T00:00:00",
                    "2025-01-04T00:00:00",
                    "2025-01-05T00:00:00",
                    "2025-01-06T00:00:00",
                    "2025-01-07T00:00:00",
                    "2025-01-08T00:00:00",
                    "2025-01-09T00:00:00",
                    "2025-01-10T00:00:00",
                    "2025-01-11T00:00:00",
                    "2025-01-12T00:00:00",
                    "2025-01-13T00:00:00",
                    "2025-01-14T00:00:00",
                    "2025-01-15T00:00:00",
                    "2025-01-16T00:00:00",
                    "2025-01-17T00:00:00",
                    "2025-01-18T00:00:00",
                    "2025-01-19T00:00:00",
                    "2025-01-20T00:00:00",
                    "2025-01-21T00:00:00",
                    "2025-01-22T00:00:00",
                    "2025-01-23T00:00:00",
                    "2025-01-24T00:00:00",
                    "2025-01-25T00:00:00",
                    "2025-01-26T00:00:00",
                    "2025-01-27T00:00:00",
                    "2025-01-28T00:00:00",
                    "2025-01-29T00:00:00",
                    "2025-01-30T00:00:00",
                    "2025-01-31T00:00:00",
                    "2025-02-01T00:00:00",
                    "2025-02-02T00:00:00",
                    "2025-02-03T00:00:00",
                    "2025-02-04T00:00:00",
                    "2025-02-05T00:00:00",
                    "2025-02-06T00:00:00",
                    "2025-02-07T00:00:00",
                    "2025-02-08T00:00:00",
                    "2025-02-09T00:00:00",
                    "2025-02-10T00:00:00",
                    "2025-02-11T00:00:00",
                    "2025-02-12T00:00:00",
                    "2025-02-13T00:00:00",
                    "2025-02-14T00:00:00",
                    "2025-02-15T00:00:00",
                    "2025-02-16T00:00:00",
                    "2025-02-17T00:00:00",
                    "2025-02-18T00:00:00",
                    "2025-02-19T00:00:00",
                    "2025-02-20T00:00:00",
                    "2025-02-21T00:00:00",
                    "2025-02-22T00:00:00",
                    "2025-02-23T00:00:00",
                    "2025-02-24T00:00:00",
                    "2025-02-25T00:00:00",
                    "2025-02-26T00:00:00",
                    "2025-02-27T00:00:00",
                    "2025-02-28T00:00:00",
                    "2025-03-01T00:00:00",
                    "2025-03-02T00:00:00",
                    "2025-03-03T00:00:00",
                    "2025-03-04T00:00:00",
                    "2025-03-05T00:00:00",
                    "2025-03-06T00:00:00",
                    "2025-03-07T00:00:00",
                    "2025-03-08T00:00:00",
                    "2025-03-09T00:00:00",
                    "2025-03-10T00:00:00",
                    "2025-03-11T00:00:00",
                    "2025-03-12T00:00:00",
                    "2025-03-13T00:00:00",
                    "2025-03-14T00:00:00",
                    "2025-03-15T00:00:00",
                    "2025-03-16T00:00:00",
                    "2025-03-17T00:00:00",
                    "2025-03-18T00:00:00",
                    "2025-03-19T00:00:00",
                    "2025-03-20T00:00:00",
                    "2025-03-21T00:00:00",
                    "2025-03-22T00:00:00",
                    "2025-03-23T00:00:00",
                    "2025-03-24T00:00:00",
                    "2025-03-25T00:00:00",
                    "2025-03-26T00:00:00",
                    "2025-03-27T00:00:00",
                    "2025-03-28T00:00:00",
                    "2025-03-29T00:00:00",
                    "2025-03-30T00:00:00",
                    "2025-03-31T00:00:00",
                    "2025-04-01T00:00:00",
                    "2025-04-02T00:00:00",
                    "2025-04-03T00:00:00",
                    "2025-04-04T00:00:00",
                    "2025-04-05T00:00:00",
                    "2025-04-06T00:00:00",
                    "2025-04-07T00:00:00",
                    "2025-04-08T00:00:00",
                    "2025-04-09T00:00:00",
                    "2025-04-10T00:00:00",
                    "2025-04-11T00:00:00",
                    "2025-04-12T00:00:00",
                    "2025-04-13T00:00:00",
                    "2025-04-14T00:00:00",
                    "2025-04-15T00:00:00",
                    "2025-04-16T00:00:00",
                    "2025-04-17T00:00:00",
                    "2025-04-18T00:00:00",
                    "2025-04-19T00:00:00",
                    "2025-04-20T00:00:00",
                    "2025-04-21T00:00:00",
                    "2025-04-22T00:00:00",
                    "2025-04-23T00:00:00",
                    "2025-04-24T00:00:00",
                    "2025-04-25T00:00:00",
                    "2025-04-26T00:00:00",
                    "2025-04-27T00:00:00",
                    "2025-04-28T00:00:00",
                    "2025-04-29T00:00:00",
                    "2025-04-30T00:00:00",
                    "2025-05-01T00:00:00",
                    "2025-05-02T00:00:00",
                    "2025-05-03T00:00:00",
                    "2025-05-04T00:00:00",
                    "2025-05-05T00:00:00",
                    "2025-05-06T00:00:00",
                    "2025-05-07T00:00:00",
                    "2025-05-08T00:00:00",
                    "2025-05-09T00:00:00",
                    "2025-05-10T00:00:00",
                    "2025-05-11T00:00:00",
                    "2025-05-12T00:00:00",
                    "2025-05-13T00:00:00",
                    "2025-05-14T00:00:00",
                    "2025-05-15T00:00:00",
                    "2025-05-16T00:00:00",
                    "2025-05-17T00:00:00",
                    "2025-05-18T00:00:00",
                    "2025-05-19T00:00:00",
                    "2025-05-20T00:00:00",
                    "2025-05-21T00:00:00",
                    "2025-05-22T00:00:00",
                    "2025-05-23T00:00:00",
                    "2025-05-24T00:00:00",
                    "2025-05-25T00:00:00",
                    "2025-05-26T00:00:00",
                    "2025-05-27T00:00:00",
                    "2025-05-28T00:00:00",
                    "2025-05-29T00:00:00",
                    "2025-05-30T00:00:00",
                    "2025-05-31T00:00:00",
                    "2025-06-01T00:00:00",
                    "2025-06-02T00:00:00",
                    "2025-06-03T00:00:00",
                    "2025-06-04T00:00:00",
                    "2025-06-05T00:00:00",
                    "2025-06-06T00:00:00",
                    "2025-06-07T00:00:00",
                    "2025-06-08T00:00:00",
                    "2025-06-09T00:00:00",
                    "2025-06-10T00:00:00",
                    "2025-06-11T00:00:00",
                    "2025-06-12T00:00:00",
                    "2025-06-13T00:00:00",
                    "2025-06-14T00:00:00",
                    "2025-06-15T00:00:00",
                    "2025-06-16T00:00:00",
                    "2025-06-17T00:00:00",
                    "2025-06-18T00:00:00",
                    "2025-06-19T00:00:00",
                    "2025-06-20T00:00:00",
                    "2025-06-21T00:00:00",
                    "2025-06-22T00:00:00",
                    "2025-06-23T00:00:00",
                    "2025-06-24T00:00:00",
                    "2025-06-25T00:00:00",
                    "2025-06-26T00:00:00",
                    "2025-06-27T00:00:00",
                    "2025-06-28T00:00:00",
                    "2025-06-29T00:00:00",
                    "2025-06-30T00:00:00",
                    "2025-07-01T00:00:00",
                    "2025-07-02T00:00:00",
                    "2025-07-03T00:00:00",
                    "2025-07-04T00:00:00",
                    "2025-07-05T00:00:00",
                    "2025-07-06T00:00:00",
                    "2025-07-07T00:00:00",
                    "2025-07-08T00:00:00",
                    "2025-07-09T00:00:00",
                    "2025-07-10T00:00:00",
                    "2025-07-11T00:00:00",
                    "2025-07-12T00:00:00",
                    "2025-07-13T00:00:00",
                    "2025-07-14T00:00:00",
                    "2025-07-15T00:00:00",
                    "2025-07-16T00:00:00",
                    "2025-07-17T00:00:00",
                    "2025-07-18T00:00:00",
                    "2025-07-19T00:00:00",
                    "2025-07-20T00:00:00",
                    "2025-07-21T00:00:00",
                    "2025-07-22T00:00:00",
                    "2025-07-23T00:00:00",
                    "2025-07-24T00:00:00",
                    "2025-07-25T00:00:00",
                    "2025-07-26T00:00:00",
                    "2025-07-27T00:00:00",
                    "2025-07-28T00:00:00",
                    "2025-07-29T00:00:00",
                    "2025-07-30T00:00:00",
                    "2025-07-31T00:00:00",
                    "2025-08-01T00:00:00",
                    "2025-08-02T00:00:00",
                    "2025-08-03T00:00:00",
                    "2025-08-04T00:00:00",
                    "2025-08-05T00:00:00",
                    "2025-08-06T00:00:00",
                    "2025-08-07T00:00:00",
                    "2025-08-08T00:00:00",
                    "2025-08-09T00:00:00",
                    "2025-08-10T00:00:00",
                    "2025-08-11T00:00:00",
                    "2025-08-12T00:00:00",
                    "2025-08-13T00:00:00",
                    "2025-08-14T00:00:00",
                    "2025-08-15T00:00:00",
                    "2025-08-16T00:00:00",
                    "2025-08-17T00:00:00",
                    "2025-08-18T00:00:00",
                    "2025-08-19T00:00:00",
                    "2025-08-20T00:00:00",
                    "2025-08-21T00:00:00",
                    "2025-08-22T00:00:00",
                    "2025-08-23T00:00:00",
                    "2025-08-24T00:00:00",
                    "2025-08-25T00:00:00",
                    "2025-08-26T00:00:00",
                    "2025-08-27T00:00:00",
                    "2025-08-28T00:00:00",
                    "2025-08-29T00:00:00",
                    "2025-08-30T00:00:00",
                    "2025-08-31T00:00:00",
                    "2025-09-01T00:00:00",
                    "2025-09-02T00:00:00",
                    "2025-09-03T00:00:00",
                    "2025-09-04T00:00:00",
                    "2025-09-05T00:00:00",
                    "2025-09-06T00:00:00",
                    "2025-09-07T00:00:00",
                    "2025-09-08T00:00:00",
                    "2025-09-09T00:00:00",
                    "2025-09-10T00:00:00",
                    "2025-09-11T00:00:00",
                    "2025-09-12T00:00:00",
                    "2025-09-13T00:00:00",
                    "2025-09-14T00:00:00",
                    "2025-09-15T00:00:00",
                    "2025-09-16T00:00:00",
                    "2025-09-17T00:00:00",
                    "2025-09-18T00:00:00",
                    "2025-09-19T00:00:00",
                    "2025-09-20T00:00:00",
                    "2025-09-21T00:00:00",
                    "2025-09-22T00:00:00",
                    "2025-09-23T00:00:00",
                    "2025-09-24T00:00:00",
                    "2025-09-25T00:00:00",
                    "2025-09-26T00:00:00",
                    "2025-09-27T00:00:00",
                    "2025-09-28T00:00:00",
                    "2025-09-29T00:00:00",
                    "2025-09-30T00:00:00",
                    "2025-10-01T00:00:00",
                    "2025-10-02T00:00:00",
                    "2025-10-03T00:00:00",
                    "2025-10-04T00:00:00",
                    "2025-10-05T00:00:00",
                    "2025-10-06T00:00:00",
                    "2025-10-07T00:00:00",
                    "2025-10-08T00:00:00",
                    "2025-10-09T00:00:00",
                    "2025-10-10T00:00:00",
                    "2025-10-11T00:00:00",
                    "2025-10-12T00:00:00",
                    "2025-10-13T00:00:00",
                    "2025-10-14T00:00:00",
                    "2025-10-15T00:00:00",
                    "2025-10-16T00:00:00",
                    "2025-10-17T00:00:00",
                    "2025-10-18T00:00:00",
                    "2025-10-19T00:00:00",
                    "2025-10-20T00:00:00",
                    "2025-10-20T03:16:51"
                  ],
                  "xaxis": "x",
                  "y": {
                    "bdata": "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",
                    "dtype": "f8"
                  },
                  "yaxis": "y2"
                }
              ],
              "layout": {
                "template": {
                  "data": {
                    "bar": [
                      {
                        "error_x": {
                          "color": "#2a3f5f"
                        },
                        "error_y": {
                          "color": "#2a3f5f"
                        },
                        "marker": {
                          "line": {
                            "color": "#E5ECF6",
                            "width": 0.5
                          },
                          "pattern": {
                            "fillmode": "overlay",
                            "size": 10,
                            "solidity": 0.2
                          }
                        },
                        "type": "bar"
                      }
                    ],
                    "barpolar": [
                      {
                        "marker": {
                          "line": {
                            "color": "#E5ECF6",
                            "width": 0.5
                          },
                          "pattern": {
                            "fillmode": "overlay",
                            "size": 10,
                            "solidity": 0.2
                          }
                        },
                        "type": "barpolar"
                      }
                    ],
                    "carpet": [
                      {
                        "aaxis": {
                          "endlinecolor": "#2a3f5f",
                          "gridcolor": "white",
                          "linecolor": "white",
                          "minorgridcolor": "white",
                          "startlinecolor": "#2a3f5f"
                        },
                        "baxis": {
                          "endlinecolor": "#2a3f5f",
                          "gridcolor": "white",
                          "linecolor": "white",
                          "minorgridcolor": "white",
                          "startlinecolor": "#2a3f5f"
                        },
                        "type": "carpet"
                      }
                    ],
                    "choropleth": [
                      {
                        "colorbar": {
                          "outlinewidth": 0,
                          "ticks": ""
                        },
                        "type": "choropleth"
                      }
                    ],
                    "contour": [
                      {
                        "colorbar": {
                          "outlinewidth": 0,
                          "ticks": ""
                        },
                        "colorscale": [
                          [
                            0,
                            "#0d0887"
                          ],
                          [
                            0.1111111111111111,
                            "#46039f"
                          ],
                          [
                            0.2222222222222222,
                            "#7201a8"
                          ],
                          [
                            0.3333333333333333,
                            "#9c179e"
                          ],
                          [
                            0.4444444444444444,
                            "#bd3786"
                          ],
                          [
                            0.5555555555555556,
                            "#d8576b"
                          ],
                          [
                            0.6666666666666666,
                            "#ed7953"
                          ],
                          [
                            0.7777777777777778,
                            "#fb9f3a"
                          ],
                          [
                            0.8888888888888888,
                            "#fdca26"
                          ],
                          [
                            1,
                            "#f0f921"
                          ]
                        ],
                        "type": "contour"
                      }
                    ],
                    "contourcarpet": [
                      {
                        "colorbar": {
                          "outlinewidth": 0,
                          "ticks": ""
                        },
                        "type": "contourcarpet"
                      }
                    ],
                    "heatmap": [
                      {
                        "colorbar": {
                          "outlinewidth": 0,
                          "ticks": ""
                        },
                        "colorscale": [
                          [
                            0,
                            "#0d0887"
                          ],
                          [
                            0.1111111111111111,
                            "#46039f"
                          ],
                          [
                            0.2222222222222222,
                            "#7201a8"
                          ],
                          [
                            0.3333333333333333,
                            "#9c179e"
                          ],
                          [
                            0.4444444444444444,
                            "#bd3786"
                          ],
                          [
                            0.5555555555555556,
                            "#d8576b"
                          ],
                          [
                            0.6666666666666666,
                            "#ed7953"
                          ],
                          [
                            0.7777777777777778,
                            "#fb9f3a"
                          ],
                          [
                            0.8888888888888888,
                            "#fdca26"
                          ],
                          [
                            1,
                            "#f0f921"
                          ]
                        ],
                        "type": "heatmap"
                      }
                    ],
                    "histogram": [
                      {
                        "marker": {
                          "pattern": {
                            "fillmode": "overlay",
                            "size": 10,
                            "solidity": 0.2
                          }
                        },
                        "type": "histogram"
                      }
                    ],
                    "histogram2d": [
                      {
                        "colorbar": {
                          "outlinewidth": 0,
                          "ticks": ""
                        },
                        "colorscale": [
                          [
                            0,
                            "#0d0887"
                          ],
                          [
                            0.1111111111111111,
                            "#46039f"
                          ],
                          [
                            0.2222222222222222,
                            "#7201a8"
                          ],
                          [
                            0.3333333333333333,
                            "#9c179e"
                          ],
                          [
                            0.4444444444444444,
                            "#bd3786"
                          ],
                          [
                            0.5555555555555556,
                            "#d8576b"
                          ],
                          [
                            0.6666666666666666,
                            "#ed7953"
                          ],
                          [
                            0.7777777777777778,
                            "#fb9f3a"
                          ],
                          [
                            0.8888888888888888,
                            "#fdca26"
                          ],
                          [
                            1,
                            "#f0f921"
                          ]
                        ],
                        "type": "histogram2d"
                      }
                    ],
                    "histogram2dcontour": [
                      {
                        "colorbar": {
                          "outlinewidth": 0,
                          "ticks": ""
                        },
                        "colorscale": [
                          [
                            0,
                            "#0d0887"
                          ],
                          [
                            0.1111111111111111,
                            "#46039f"
                          ],
                          [
                            0.2222222222222222,
                            "#7201a8"
                          ],
                          [
                            0.3333333333333333,
                            "#9c179e"
                          ],
                          [
                            0.4444444444444444,
                            "#bd3786"
                          ],
                          [
                            0.5555555555555556,
                            "#d8576b"
                          ],
                          [
                            0.6666666666666666,
                            "#ed7953"
                          ],
                          [
                            0.7777777777777778,
                            "#fb9f3a"
                          ],
                          [
                            0.8888888888888888,
                            "#fdca26"
                          ],
                          [
                            1,
                            "#f0f921"
                          ]
                        ],
                        "type": "histogram2dcontour"
                      }
                    ],
                    "mesh3d": [
                      {
                        "colorbar": {
                          "outlinewidth": 0,
                          "ticks": ""
                        },
                        "type": "mesh3d"
                      }
                    ],
                    "parcoords": [
                      {
                        "line": {
                          "colorbar": {
                            "outlinewidth": 0,
                            "ticks": ""
                          }
                        },
                        "type": "parcoords"
                      }
                    ],
                    "pie": [
                      {
                        "automargin": true,
                        "type": "pie"
                      }
                    ],
                    "scatter": [
                      {
                        "fillpattern": {
                          "fillmode": "overlay",
                          "size": 10,
                          "solidity": 0.2
                        },
                        "type": "scatter"
                      }
                    ],
                    "scatter3d": [
                      {
                        "line": {
                          "colorbar": {
                            "outlinewidth": 0,
                            "ticks": ""
                          }
                        },
                        "marker": {
                          "colorbar": {
                            "outlinewidth": 0,
                            "ticks": ""
                          }
                        },
                        "type": "scatter3d"
                      }
                    ],
                    "scattercarpet": [
                      {
                        "marker": {
                          "colorbar": {
                            "outlinewidth": 0,
                            "ticks": ""
                          }
                        },
                        "type": "scattercarpet"
                      }
                    ],
                    "scattergeo": [
                      {
                        "marker": {
                          "colorbar": {
                            "outlinewidth": 0,
                            "ticks": ""
                          }
                        },
                        "type": "scattergeo"
                      }
                    ],
                    "scattergl": [
                      {
                        "marker": {
                          "colorbar": {
                            "outlinewidth": 0,
                            "ticks": ""
                          }
                        },
                        "type": "scattergl"
                      }
                    ],
                    "scattermap": [
                      {
                        "marker": {
                          "colorbar": {
                            "outlinewidth": 0,
                            "ticks": ""
                          }
                        },
                        "type": "scattermap"
                      }
                    ],
                    "scattermapbox": [
                      {
                        "marker": {
                          "colorbar": {
                            "outlinewidth": 0,
                            "ticks": ""
                          }
                        },
                        "type": "scattermapbox"
                      }
                    ],
                    "scatterpolar": [
                      {
                        "marker": {
                          "colorbar": {
                            "outlinewidth": 0,
                            "ticks": ""
                          }
                        },
                        "type": "scatterpolar"
                      }
                    ],
                    "scatterpolargl": [
                      {
                        "marker": {
                          "colorbar": {
                            "outlinewidth": 0,
                            "ticks": ""
                          }
                        },
                        "type": "scatterpolargl"
                      }
                    ],
                    "scatterternary": [
                      {
                        "marker": {
                          "colorbar": {
                            "outlinewidth": 0,
                            "ticks": ""
                          }
                        },
                        "type": "scatterternary"
                      }
                    ],
                    "surface": [
                      {
                        "colorbar": {
                          "outlinewidth": 0,
                          "ticks": ""
                        },
                        "colorscale": [
                          [
                            0,
                            "#0d0887"
                          ],
                          [
                            0.1111111111111111,
                            "#46039f"
                          ],
                          [
                            0.2222222222222222,
                            "#7201a8"
                          ],
                          [
                            0.3333333333333333,
                            "#9c179e"
                          ],
                          [
                            0.4444444444444444,
                            "#bd3786"
                          ],
                          [
                            0.5555555555555556,
                            "#d8576b"
                          ],
                          [
                            0.6666666666666666,
                            "#ed7953"
                          ],
                          [
                            0.7777777777777778,
                            "#fb9f3a"
                          ],
                          [
                            0.8888888888888888,
                            "#fdca26"
                          ],
                          [
                            1,
                            "#f0f921"
                          ]
                        ],
                        "type": "surface"
                      }
                    ],
                    "table": [
                      {
                        "cells": {
                          "fill": {
                            "color": "#EBF0F8"
                          },
                          "line": {
                            "color": "white"
                          }
                        },
                        "header": {
                          "fill": {
                            "color": "#C8D4E3"
                          },
                          "line": {
                            "color": "white"
                          }
                        },
                        "type": "table"
                      }
                    ]
                  },
                  "layout": {
                    "annotationdefaults": {
                      "arrowcolor": "#2a3f5f",
                      "arrowhead": 0,
                      "arrowwidth": 1
                    },
                    "autotypenumbers": "strict",
                    "coloraxis": {
                      "colorbar": {
                        "outlinewidth": 0,
                        "ticks": ""
                      }
                    },
                    "colorscale": {
                      "diverging": [
                        [
                          0,
                          "#8e0152"
                        ],
                        [
                          0.1,
                          "#c51b7d"
                        ],
                        [
                          0.2,
                          "#de77ae"
                        ],
                        [
                          0.3,
                          "#f1b6da"
                        ],
                        [
                          0.4,
                          "#fde0ef"
                        ],
                        [
                          0.5,
                          "#f7f7f7"
                        ],
                        [
                          0.6,
                          "#e6f5d0"
                        ],
                        [
                          0.7,
                          "#b8e186"
                        ],
                        [
                          0.8,
                          "#7fbc41"
                        ],
                        [
                          0.9,
                          "#4d9221"
                        ],
                        [
                          1,
                          "#276419"
                        ]
                      ],
                      "sequential": [
                        [
                          0,
                          "#0d0887"
                        ],
                        [
                          0.1111111111111111,
                          "#46039f"
                        ],
                        [
                          0.2222222222222222,
                          "#7201a8"
                        ],
                        [
                          0.3333333333333333,
                          "#9c179e"
                        ],
                        [
                          0.4444444444444444,
                          "#bd3786"
                        ],
                        [
                          0.5555555555555556,
                          "#d8576b"
                        ],
                        [
                          0.6666666666666666,
                          "#ed7953"
                        ],
                        [
                          0.7777777777777778,
                          "#fb9f3a"
                        ],
                        [
                          0.8888888888888888,
                          "#fdca26"
                        ],
                        [
                          1,
                          "#f0f921"
                        ]
                      ],
                      "sequentialminus": [
                        [
                          0,
                          "#0d0887"
                        ],
                        [
                          0.1111111111111111,
                          "#46039f"
                        ],
                        [
                          0.2222222222222222,
                          "#7201a8"
                        ],
                        [
                          0.3333333333333333,
                          "#9c179e"
                        ],
                        [
                          0.4444444444444444,
                          "#bd3786"
                        ],
                        [
                          0.5555555555555556,
                          "#d8576b"
                        ],
                        [
                          0.6666666666666666,
                          "#ed7953"
                        ],
                        [
                          0.7777777777777778,
                          "#fb9f3a"
                        ],
                        [
                          0.8888888888888888,
                          "#fdca26"
                        ],
                        [
                          1,
                          "#f0f921"
                        ]
                      ]
                    },
                    "colorway": [
                      "#636efa",
                      "#EF553B",
                      "#00cc96",
                      "#ab63fa",
                      "#FFA15A",
                      "#19d3f3",
                      "#FF6692",
                      "#B6E880",
                      "#FF97FF",
                      "#FECB52"
                    ],
                    "font": {
                      "color": "#2a3f5f"
                    },
                    "geo": {
                      "bgcolor": "white",
                      "lakecolor": "white",
                      "landcolor": "#E5ECF6",
                      "showlakes": true,
                      "showland": true,
                      "subunitcolor": "white"
                    },
                    "hoverlabel": {
                      "align": "left"
                    },
                    "hovermode": "closest",
                    "mapbox": {
                      "style": "light"
                    },
                    "paper_bgcolor": "white",
                    "plot_bgcolor": "#E5ECF6",
                    "polar": {
                      "angularaxis": {
                        "gridcolor": "white",
                        "linecolor": "white",
                        "ticks": ""
                      },
                      "bgcolor": "#E5ECF6",
                      "radialaxis": {
                        "gridcolor": "white",
                        "linecolor": "white",
                        "ticks": ""
                      }
                    },
                    "scene": {
                      "xaxis": {
                        "backgroundcolor": "#E5ECF6",
                        "gridcolor": "white",
                        "gridwidth": 2,
                        "linecolor": "white",
                        "showbackground": true,
                        "ticks": "",
                        "zerolinecolor": "white"
                      },
                      "yaxis": {
                        "backgroundcolor": "#E5ECF6",
                        "gridcolor": "white",
                        "gridwidth": 2,
                        "linecolor": "white",
                        "showbackground": true,
                        "ticks": "",
                        "zerolinecolor": "white"
                      },
                      "zaxis": {
                        "backgroundcolor": "#E5ECF6",
                        "gridcolor": "white",
                        "gridwidth": 2,
                        "linecolor": "white",
                        "showbackground": true,
                        "ticks": "",
                        "zerolinecolor": "white"
                      }
                    },
                    "shapedefaults": {
                      "line": {
                        "color": "#2a3f5f"
                      }
                    },
                    "ternary": {
                      "aaxis": {
                        "gridcolor": "white",
                        "linecolor": "white",
                        "ticks": ""
                      },
                      "baxis": {
                        "gridcolor": "white",
                        "linecolor": "white",
                        "ticks": ""
                      },
                      "bgcolor": "#E5ECF6",
                      "caxis": {
                        "gridcolor": "white",
                        "linecolor": "white",
                        "ticks": ""
                      }
                    },
                    "title": {
                      "x": 0.05
                    },
                    "xaxis": {
                      "automargin": true,
                      "gridcolor": "white",
                      "linecolor": "white",
                      "ticks": "",
                      "title": {
                        "standoff": 15
                      },
                      "zerolinecolor": "white",
                      "zerolinewidth": 2
                    },
                    "yaxis": {
                      "automargin": true,
                      "gridcolor": "white",
                      "linecolor": "white",
                      "ticks": "",
                      "title": {
                        "standoff": 15
                      },
                      "zerolinecolor": "white",
                      "zerolinewidth": 2
                    }
                  }
                },
                "title": {
                  "text": "Bitcoin Price, Trading Volume, and Market Cap Over Time"
                },
                "xaxis": {
                  "anchor": "y",
                  "domain": [
                    0,
                    0.94
                  ],
                  "title": {
                    "text": "Timestamp"
                  }
                },
                "yaxis": {
                  "anchor": "x",
                  "domain": [
                    0,
                    1
                  ],
                  "title": {
                    "text": "Price (USD)"
                  }
                },
                "yaxis2": {
                  "anchor": "x",
                  "overlaying": "y",
                  "side": "right",
                  "title": {
                    "text": "Volume (USD)"
                  }
                },
                "yaxis3": {
                  "overlaying": "y",
                  "position": 0.85,
                  "side": "right",
                  "title": {
                    "text": "Market Cap (USD)"
                  }
                }
              }
            }
          },
          "metadata": {},
          "output_type": "display_data"
        }
      ],
      "source": [
        "fig = make_subplots(specs=[[{\"secondary_y\": True}]])\n",
        "\n",
        "fig.add_trace(\n",
        "    go.Scatter(x=df_combined.index, y=df_combined['price'], name='Price'),\n",
        "    secondary_y=False,\n",
        ")\n",
        "\n",
        "fig.add_trace(\n",
        "    go.Scatter(x=df_combined.index, y=df_combined['volume'], name='Volume'),\n",
        "    secondary_y=True,\n",
        ")\n",
        "\n",
        "fig.add_trace(\n",
        "    go.Scatter(x=df_combined.index, y=df_combined['market_cap'], name='Market Cap', yaxis='y3'),\n",
        "    secondary_y=True,\n",
        ")\n",
        "\n",
        "fig.update_layout(\n",
        "    title_text='Bitcoin Price, Trading Volume, and Market Cap Over Time',\n",
        "    xaxis_title='Timestamp',\n",
        "    yaxis=dict(title='Price (USD)'),\n",
        "    yaxis2=dict(title='Volume (USD)', overlaying='y', side='right'),\n",
        "    yaxis3=dict(title='Market Cap (USD)', overlaying='y', side='right', position=0.85)\n",
        ")\n",
        "\n",
        "fig.show()"
      ]
    },
    {
      "cell_type": "markdown",
      "metadata": {
        "id": "lJh0MtXYrZLF"
      },
      "source": [
        "Technical Indicators"
      ]
    },
    {
      "cell_type": "code",
      "execution_count": 17,
      "metadata": {
        "colab": {
          "base_uri": "https://localhost:8080/",
          "height": 0
        },
        "id": "5ABJCeBlrYNW",
        "outputId": "04e42efb-a5a0-4144-ac8d-38e0376c4235"
      },
      "outputs": [
        {
          "name": "stdout",
          "output_type": "stream",
          "text": [
            "Requirement already satisfied: ta in /opt/anaconda3/lib/python3.13/site-packages (0.11.0)\n",
            "Requirement already satisfied: numpy in /Users/oscarcastillo/.local/lib/python3.13/site-packages (from ta) (1.26.4)\n",
            "Requirement already satisfied: pandas in /opt/anaconda3/lib/python3.13/site-packages (from ta) (2.2.3)\n",
            "Requirement already satisfied: python-dateutil>=2.8.2 in /opt/anaconda3/lib/python3.13/site-packages (from pandas->ta) (2.9.0.post0)\n",
            "Requirement already satisfied: pytz>=2020.1 in /opt/anaconda3/lib/python3.13/site-packages (from pandas->ta) (2024.1)\n",
            "Requirement already satisfied: tzdata>=2022.7 in /opt/anaconda3/lib/python3.13/site-packages (from pandas->ta) (2025.2)\n",
            "Requirement already satisfied: six>=1.5 in /opt/anaconda3/lib/python3.13/site-packages (from python-dateutil>=2.8.2->pandas->ta) (1.17.0)\n",
            "Note: you may need to restart the kernel to use updated packages.\n"
          ]
        }
      ],
      "source": [
        "pip install ta"
      ]
    },
    {
      "cell_type": "code",
      "execution_count": 18,
      "metadata": {
        "id": "4hkVsY8jrguX"
      },
      "outputs": [],
      "source": [
        "import ta\n",
        "\n",
        "prices['rsi'] = ta.momentum.RSIIndicator(prices['price']).rsi()"
      ]
    },
    {
      "cell_type": "code",
      "execution_count": 19,
      "metadata": {
        "id": "_r-qTooDrv3E"
      },
      "outputs": [],
      "source": [
        "## Analyze Volatility and Returns\n",
        "prices['daily_return'] = prices['price'].pct_change()\n",
        "volatility = prices['daily_return'].std()\n",
        "cumulative_return = (prices['price'].iloc[-1] / prices['price'].iloc[0]) - 1"
      ]
    },
    {
      "cell_type": "markdown",
      "metadata": {
        "id": "TKXGi3TwsSRC"
      },
      "source": [
        "Forecasting"
      ]
    },
    {
      "cell_type": "code",
      "execution_count": null,
      "metadata": {
        "colab": {
          "base_uri": "https://localhost:8080/",
          "height": 0
        },
        "id": "oQYZk6idsUtB",
        "outputId": "b9edab6a-c784-4fa5-e933-48a6bc5af907"
      },
      "outputs": [],
      "source": [
        "pip install prophet"
      ]
    },
    {
      "cell_type": "code",
      "execution_count": null,
      "metadata": {
        "colab": {
          "base_uri": "https://localhost:8080/",
          "height": 0
        },
        "id": "-_0p4esXsX0P",
        "outputId": "69fe32c4-9dee-47a2-b678-46770a70187c"
      },
      "outputs": [],
      "source": [
        "from prophet import Prophet\n",
        "\n",
        "df = prices.reset_index().rename(columns={'timestamp': 'ds', 'price': 'y'})\n",
        "model = Prophet()\n",
        "model.fit(df)\n",
        "future = model.make_future_dataframe(periods=365)\n",
        "forecast = model.predict(future)"
      ]
    },
    {
      "cell_type": "markdown",
      "metadata": {
        "id": "f8ae8450"
      },
      "source": [
        "# Task\n",
        "Add technical indicators like Moving Average to the plot"
      ]
    },
    {
      "cell_type": "markdown",
      "metadata": {
        "id": "6b4890e0"
      },
      "source": [
        "## Calculate moving average\n",
        "\n",
        "### Subtask:\n",
        "Calculate the Moving Average for the price data.\n"
      ]
    },
    {
      "cell_type": "markdown",
      "metadata": {
        "id": "c3bad909"
      },
      "source": [
        "**Reasoning**:\n",
        "Calculate the 50-day and 200-day Simple Moving Averages for the 'price' column and add them as new columns to the `prices` DataFrame.\n",
        "\n"
      ]
    },
    {
      "cell_type": "code",
      "execution_count": 22,
      "metadata": {
        "id": "7ffb57c7"
      },
      "outputs": [],
      "source": [
        "prices['SMA_50'] = prices['price'].rolling(window=50).mean()\n",
        "prices['SMA_200'] = prices['price'].rolling(window=200).mean()"
      ]
    },
    {
      "cell_type": "markdown",
      "metadata": {
        "id": "7b76660e"
      },
      "source": [
        "## Modify visualization\n",
        "\n",
        "### Subtask:\n",
        "Update the plotting code to include the Moving Average line on the price plot.\n"
      ]
    },
    {
      "cell_type": "markdown",
      "metadata": {
        "id": "4c0108a1"
      },
      "source": [
        "**Reasoning**:\n",
        "Update the plotting code to include traces for SMA_50 and SMA_200 on the same y-axis as the price.\n",
        "\n"
      ]
    },
    {
      "cell_type": "code",
      "execution_count": 23,
      "metadata": {
        "colab": {
          "base_uri": "https://localhost:8080/",
          "height": 542
        },
        "id": "88133152",
        "outputId": "92d56272-d4c0-499f-b75f-75e36cf7de61"
      },
      "outputs": [
        {
          "data": {
            "application/vnd.plotly.v1+json": {
              "config": {
                "plotlyServerURL": "https://plot.ly"
              },
              "data": [
                {
                  "name": "Price",
                  "type": "scatter",
                  "x": [
                    "2024-10-21T00:00:00",
                    "2024-10-22T00:00:00",
                    "2024-10-23T00:00:00",
                    "2024-10-24T00:00:00",
                    "2024-10-25T00:00:00",
                    "2024-10-26T00:00:00",
                    "2024-10-27T00:00:00",
                    "2024-10-28T00:00:00",
                    "2024-10-29T00:00:00",
                    "2024-10-30T00:00:00",
                    "2024-10-31T00:00:00",
                    "2024-11-01T00:00:00",
                    "2024-11-02T00:00:00",
                    "2024-11-03T00:00:00",
                    "2024-11-04T00:00:00",
                    "2024-11-05T00:00:00",
                    "2024-11-06T00:00:00",
                    "2024-11-07T00:00:00",
                    "2024-11-08T00:00:00",
                    "2024-11-09T00:00:00",
                    "2024-11-10T00:00:00",
                    "2024-11-11T00:00:00",
                    "2024-11-12T00:00:00",
                    "2024-11-13T00:00:00",
                    "2024-11-14T00:00:00",
                    "2024-11-15T00:00:00",
                    "2024-11-16T00:00:00",
                    "2024-11-17T00:00:00",
                    "2024-11-18T00:00:00",
                    "2024-11-19T00:00:00",
                    "2024-11-20T00:00:00",
                    "2024-11-21T00:00:00",
                    "2024-11-22T00:00:00",
                    "2024-11-23T00:00:00",
                    "2024-11-24T00:00:00",
                    "2024-11-25T00:00:00",
                    "2024-11-26T00:00:00",
                    "2024-11-27T00:00:00",
                    "2024-11-28T00:00:00",
                    "2024-11-29T00:00:00",
                    "2024-11-30T00:00:00",
                    "2024-12-01T00:00:00",
                    "2024-12-02T00:00:00",
                    "2024-12-03T00:00:00",
                    "2024-12-04T00:00:00",
                    "2024-12-05T00:00:00",
                    "2024-12-06T00:00:00",
                    "2024-12-07T00:00:00",
                    "2024-12-08T00:00:00",
                    "2024-12-09T00:00:00",
                    "2024-12-10T00:00:00",
                    "2024-12-11T00:00:00",
                    "2024-12-12T00:00:00",
                    "2024-12-13T00:00:00",
                    "2024-12-14T00:00:00",
                    "2024-12-15T00:00:00",
                    "2024-12-16T00:00:00",
                    "2024-12-17T00:00:00",
                    "2024-12-18T00:00:00",
                    "2024-12-19T00:00:00",
                    "2024-12-20T00:00:00",
                    "2024-12-21T00:00:00",
                    "2024-12-22T00:00:00",
                    "2024-12-23T00:00:00",
                    "2024-12-24T00:00:00",
                    "2024-12-25T00:00:00",
                    "2024-12-26T00:00:00",
                    "2024-12-27T00:00:00",
                    "2024-12-28T00:00:00",
                    "2024-12-29T00:00:00",
                    "2024-12-30T00:00:00",
                    "2024-12-31T00:00:00",
                    "2025-01-01T00:00:00",
                    "2025-01-02T00:00:00",
                    "2025-01-03T00:00:00",
                    "2025-01-04T00:00:00",
                    "2025-01-05T00:00:00",
                    "2025-01-06T00:00:00",
                    "2025-01-07T00:00:00",
                    "2025-01-08T00:00:00",
                    "2025-01-09T00:00:00",
                    "2025-01-10T00:00:00",
                    "2025-01-11T00:00:00",
                    "2025-01-12T00:00:00",
                    "2025-01-13T00:00:00",
                    "2025-01-14T00:00:00",
                    "2025-01-15T00:00:00",
                    "2025-01-16T00:00:00",
                    "2025-01-17T00:00:00",
                    "2025-01-18T00:00:00",
                    "2025-01-19T00:00:00",
                    "2025-01-20T00:00:00",
                    "2025-01-21T00:00:00",
                    "2025-01-22T00:00:00",
                    "2025-01-23T00:00:00",
                    "2025-01-24T00:00:00",
                    "2025-01-25T00:00:00",
                    "2025-01-26T00:00:00",
                    "2025-01-27T00:00:00",
                    "2025-01-28T00:00:00",
                    "2025-01-29T00:00:00",
                    "2025-01-30T00:00:00",
                    "2025-01-31T00:00:00",
                    "2025-02-01T00:00:00",
                    "2025-02-02T00:00:00",
                    "2025-02-03T00:00:00",
                    "2025-02-04T00:00:00",
                    "2025-02-05T00:00:00",
                    "2025-02-06T00:00:00",
                    "2025-02-07T00:00:00",
                    "2025-02-08T00:00:00",
                    "2025-02-09T00:00:00",
                    "2025-02-10T00:00:00",
                    "2025-02-11T00:00:00",
                    "2025-02-12T00:00:00",
                    "2025-02-13T00:00:00",
                    "2025-02-14T00:00:00",
                    "2025-02-15T00:00:00",
                    "2025-02-16T00:00:00",
                    "2025-02-17T00:00:00",
                    "2025-02-18T00:00:00",
                    "2025-02-19T00:00:00",
                    "2025-02-20T00:00:00",
                    "2025-02-21T00:00:00",
                    "2025-02-22T00:00:00",
                    "2025-02-23T00:00:00",
                    "2025-02-24T00:00:00",
                    "2025-02-25T00:00:00",
                    "2025-02-26T00:00:00",
                    "2025-02-27T00:00:00",
                    "2025-02-28T00:00:00",
                    "2025-03-01T00:00:00",
                    "2025-03-02T00:00:00",
                    "2025-03-03T00:00:00",
                    "2025-03-04T00:00:00",
                    "2025-03-05T00:00:00",
                    "2025-03-06T00:00:00",
                    "2025-03-07T00:00:00",
                    "2025-03-08T00:00:00",
                    "2025-03-09T00:00:00",
                    "2025-03-10T00:00:00",
                    "2025-03-11T00:00:00",
                    "2025-03-12T00:00:00",
                    "2025-03-13T00:00:00",
                    "2025-03-14T00:00:00",
                    "2025-03-15T00:00:00",
                    "2025-03-16T00:00:00",
                    "2025-03-17T00:00:00",
                    "2025-03-18T00:00:00",
                    "2025-03-19T00:00:00",
                    "2025-03-20T00:00:00",
                    "2025-03-21T00:00:00",
                    "2025-03-22T00:00:00",
                    "2025-03-23T00:00:00",
                    "2025-03-24T00:00:00",
                    "2025-03-25T00:00:00",
                    "2025-03-26T00:00:00",
                    "2025-03-27T00:00:00",
                    "2025-03-28T00:00:00",
                    "2025-03-29T00:00:00",
                    "2025-03-30T00:00:00",
                    "2025-03-31T00:00:00",
                    "2025-04-01T00:00:00",
                    "2025-04-02T00:00:00",
                    "2025-04-03T00:00:00",
                    "2025-04-04T00:00:00",
                    "2025-04-05T00:00:00",
                    "2025-04-06T00:00:00",
                    "2025-04-07T00:00:00",
                    "2025-04-08T00:00:00",
                    "2025-04-09T00:00:00",
                    "2025-04-10T00:00:00",
                    "2025-04-11T00:00:00",
                    "2025-04-12T00:00:00",
                    "2025-04-13T00:00:00",
                    "2025-04-14T00:00:00",
                    "2025-04-15T00:00:00",
                    "2025-04-16T00:00:00",
                    "2025-04-17T00:00:00",
                    "2025-04-18T00:00:00",
                    "2025-04-19T00:00:00",
                    "2025-04-20T00:00:00",
                    "2025-04-21T00:00:00",
                    "2025-04-22T00:00:00",
                    "2025-04-23T00:00:00",
                    "2025-04-24T00:00:00",
                    "2025-04-25T00:00:00",
                    "2025-04-26T00:00:00",
                    "2025-04-27T00:00:00",
                    "2025-04-28T00:00:00",
                    "2025-04-29T00:00:00",
                    "2025-04-30T00:00:00",
                    "2025-05-01T00:00:00",
                    "2025-05-02T00:00:00",
                    "2025-05-03T00:00:00",
                    "2025-05-04T00:00:00",
                    "2025-05-05T00:00:00",
                    "2025-05-06T00:00:00",
                    "2025-05-07T00:00:00",
                    "2025-05-08T00:00:00",
                    "2025-05-09T00:00:00",
                    "2025-05-10T00:00:00",
                    "2025-05-11T00:00:00",
                    "2025-05-12T00:00:00",
                    "2025-05-13T00:00:00",
                    "2025-05-14T00:00:00",
                    "2025-05-15T00:00:00",
                    "2025-05-16T00:00:00",
                    "2025-05-17T00:00:00",
                    "2025-05-18T00:00:00",
                    "2025-05-19T00:00:00",
                    "2025-05-20T00:00:00",
                    "2025-05-21T00:00:00",
                    "2025-05-22T00:00:00",
                    "2025-05-23T00:00:00",
                    "2025-05-24T00:00:00",
                    "2025-05-25T00:00:00",
                    "2025-05-26T00:00:00",
                    "2025-05-27T00:00:00",
                    "2025-05-28T00:00:00",
                    "2025-05-29T00:00:00",
                    "2025-05-30T00:00:00",
                    "2025-05-31T00:00:00",
                    "2025-06-01T00:00:00",
                    "2025-06-02T00:00:00",
                    "2025-06-03T00:00:00",
                    "2025-06-04T00:00:00",
                    "2025-06-05T00:00:00",
                    "2025-06-06T00:00:00",
                    "2025-06-07T00:00:00",
                    "2025-06-08T00:00:00",
                    "2025-06-09T00:00:00",
                    "2025-06-10T00:00:00",
                    "2025-06-11T00:00:00",
                    "2025-06-12T00:00:00",
                    "2025-06-13T00:00:00",
                    "2025-06-14T00:00:00",
                    "2025-06-15T00:00:00",
                    "2025-06-16T00:00:00",
                    "2025-06-17T00:00:00",
                    "2025-06-18T00:00:00",
                    "2025-06-19T00:00:00",
                    "2025-06-20T00:00:00",
                    "2025-06-21T00:00:00",
                    "2025-06-22T00:00:00",
                    "2025-06-23T00:00:00",
                    "2025-06-24T00:00:00",
                    "2025-06-25T00:00:00",
                    "2025-06-26T00:00:00",
                    "2025-06-27T00:00:00",
                    "2025-06-28T00:00:00",
                    "2025-06-29T00:00:00",
                    "2025-06-30T00:00:00",
                    "2025-07-01T00:00:00",
                    "2025-07-02T00:00:00",
                    "2025-07-03T00:00:00",
                    "2025-07-04T00:00:00",
                    "2025-07-05T00:00:00",
                    "2025-07-06T00:00:00",
                    "2025-07-07T00:00:00",
                    "2025-07-08T00:00:00",
                    "2025-07-09T00:00:00",
                    "2025-07-10T00:00:00",
                    "2025-07-11T00:00:00",
                    "2025-07-12T00:00:00",
                    "2025-07-13T00:00:00",
                    "2025-07-14T00:00:00",
                    "2025-07-15T00:00:00",
                    "2025-07-16T00:00:00",
                    "2025-07-17T00:00:00",
                    "2025-07-18T00:00:00",
                    "2025-07-19T00:00:00",
                    "2025-07-20T00:00:00",
                    "2025-07-21T00:00:00",
                    "2025-07-22T00:00:00",
                    "2025-07-23T00:00:00",
                    "2025-07-24T00:00:00",
                    "2025-07-25T00:00:00",
                    "2025-07-26T00:00:00",
                    "2025-07-27T00:00:00",
                    "2025-07-28T00:00:00",
                    "2025-07-29T00:00:00",
                    "2025-07-30T00:00:00",
                    "2025-07-31T00:00:00",
                    "2025-08-01T00:00:00",
                    "2025-08-02T00:00:00",
                    "2025-08-03T00:00:00",
                    "2025-08-04T00:00:00",
                    "2025-08-05T00:00:00",
                    "2025-08-06T00:00:00",
                    "2025-08-07T00:00:00",
                    "2025-08-08T00:00:00",
                    "2025-08-09T00:00:00",
                    "2025-08-10T00:00:00",
                    "2025-08-11T00:00:00",
                    "2025-08-12T00:00:00",
                    "2025-08-13T00:00:00",
                    "2025-08-14T00:00:00",
                    "2025-08-15T00:00:00",
                    "2025-08-16T00:00:00",
                    "2025-08-17T00:00:00",
                    "2025-08-18T00:00:00",
                    "2025-08-19T00:00:00",
                    "2025-08-20T00:00:00",
                    "2025-08-21T00:00:00",
                    "2025-08-22T00:00:00",
                    "2025-08-23T00:00:00",
                    "2025-08-24T00:00:00",
                    "2025-08-25T00:00:00",
                    "2025-08-26T00:00:00",
                    "2025-08-27T00:00:00",
                    "2025-08-28T00:00:00",
                    "2025-08-29T00:00:00",
                    "2025-08-30T00:00:00",
                    "2025-08-31T00:00:00",
                    "2025-09-01T00:00:00",
                    "2025-09-02T00:00:00",
                    "2025-09-03T00:00:00",
                    "2025-09-04T00:00:00",
                    "2025-09-05T00:00:00",
                    "2025-09-06T00:00:00",
                    "2025-09-07T00:00:00",
                    "2025-09-08T00:00:00",
                    "2025-09-09T00:00:00",
                    "2025-09-10T00:00:00",
                    "2025-09-11T00:00:00",
                    "2025-09-12T00:00:00",
                    "2025-09-13T00:00:00",
                    "2025-09-14T00:00:00",
                    "2025-09-15T00:00:00",
                    "2025-09-16T00:00:00",
                    "2025-09-17T00:00:00",
                    "2025-09-18T00:00:00",
                    "2025-09-19T00:00:00",
                    "2025-09-20T00:00:00",
                    "2025-09-21T00:00:00",
                    "2025-09-22T00:00:00",
                    "2025-09-23T00:00:00",
                    "2025-09-24T00:00:00",
                    "2025-09-25T00:00:00",
                    "2025-09-26T00:00:00",
                    "2025-09-27T00:00:00",
                    "2025-09-28T00:00:00",
                    "2025-09-29T00:00:00",
                    "2025-09-30T00:00:00",
                    "2025-10-01T00:00:00",
                    "2025-10-02T00:00:00",
                    "2025-10-03T00:00:00",
                    "2025-10-04T00:00:00",
                    "2025-10-05T00:00:00",
                    "2025-10-06T00:00:00",
                    "2025-10-07T00:00:00",
                    "2025-10-08T00:00:00",
                    "2025-10-09T00:00:00",
                    "2025-10-10T00:00:00",
                    "2025-10-11T00:00:00",
                    "2025-10-12T00:00:00",
                    "2025-10-13T00:00:00",
                    "2025-10-14T00:00:00",
                    "2025-10-15T00:00:00",
                    "2025-10-16T00:00:00",
                    "2025-10-17T00:00:00",
                    "2025-10-18T00:00:00",
                    "2025-10-19T00:00:00",
                    "2025-10-20T00:00:00",
                    "2025-10-20T03:16:51"
                  ],
                  "xaxis": "x",
                  "y": {
                    "bdata": "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",
                    "dtype": "f8"
                  },
                  "yaxis": "y"
                },
                {
                  "name": "Volume",
                  "type": "scatter",
                  "x": [
                    "2024-10-21T00:00:00",
                    "2024-10-22T00:00:00",
                    "2024-10-23T00:00:00",
                    "2024-10-24T00:00:00",
                    "2024-10-25T00:00:00",
                    "2024-10-26T00:00:00",
                    "2024-10-27T00:00:00",
                    "2024-10-28T00:00:00",
                    "2024-10-29T00:00:00",
                    "2024-10-30T00:00:00",
                    "2024-10-31T00:00:00",
                    "2024-11-01T00:00:00",
                    "2024-11-02T00:00:00",
                    "2024-11-03T00:00:00",
                    "2024-11-04T00:00:00",
                    "2024-11-05T00:00:00",
                    "2024-11-06T00:00:00",
                    "2024-11-07T00:00:00",
                    "2024-11-08T00:00:00",
                    "2024-11-09T00:00:00",
                    "2024-11-10T00:00:00",
                    "2024-11-11T00:00:00",
                    "2024-11-12T00:00:00",
                    "2024-11-13T00:00:00",
                    "2024-11-14T00:00:00",
                    "2024-11-15T00:00:00",
                    "2024-11-16T00:00:00",
                    "2024-11-17T00:00:00",
                    "2024-11-18T00:00:00",
                    "2024-11-19T00:00:00",
                    "2024-11-20T00:00:00",
                    "2024-11-21T00:00:00",
                    "2024-11-22T00:00:00",
                    "2024-11-23T00:00:00",
                    "2024-11-24T00:00:00",
                    "2024-11-25T00:00:00",
                    "2024-11-26T00:00:00",
                    "2024-11-27T00:00:00",
                    "2024-11-28T00:00:00",
                    "2024-11-29T00:00:00",
                    "2024-11-30T00:00:00",
                    "2024-12-01T00:00:00",
                    "2024-12-02T00:00:00",
                    "2024-12-03T00:00:00",
                    "2024-12-04T00:00:00",
                    "2024-12-05T00:00:00",
                    "2024-12-06T00:00:00",
                    "2024-12-07T00:00:00",
                    "2024-12-08T00:00:00",
                    "2024-12-09T00:00:00",
                    "2024-12-10T00:00:00",
                    "2024-12-11T00:00:00",
                    "2024-12-12T00:00:00",
                    "2024-12-13T00:00:00",
                    "2024-12-14T00:00:00",
                    "2024-12-15T00:00:00",
                    "2024-12-16T00:00:00",
                    "2024-12-17T00:00:00",
                    "2024-12-18T00:00:00",
                    "2024-12-19T00:00:00",
                    "2024-12-20T00:00:00",
                    "2024-12-21T00:00:00",
                    "2024-12-22T00:00:00",
                    "2024-12-23T00:00:00",
                    "2024-12-24T00:00:00",
                    "2024-12-25T00:00:00",
                    "2024-12-26T00:00:00",
                    "2024-12-27T00:00:00",
                    "2024-12-28T00:00:00",
                    "2024-12-29T00:00:00",
                    "2024-12-30T00:00:00",
                    "2024-12-31T00:00:00",
                    "2025-01-01T00:00:00",
                    "2025-01-02T00:00:00",
                    "2025-01-03T00:00:00",
                    "2025-01-04T00:00:00",
                    "2025-01-05T00:00:00",
                    "2025-01-06T00:00:00",
                    "2025-01-07T00:00:00",
                    "2025-01-08T00:00:00",
                    "2025-01-09T00:00:00",
                    "2025-01-10T00:00:00",
                    "2025-01-11T00:00:00",
                    "2025-01-12T00:00:00",
                    "2025-01-13T00:00:00",
                    "2025-01-14T00:00:00",
                    "2025-01-15T00:00:00",
                    "2025-01-16T00:00:00",
                    "2025-01-17T00:00:00",
                    "2025-01-18T00:00:00",
                    "2025-01-19T00:00:00",
                    "2025-01-20T00:00:00",
                    "2025-01-21T00:00:00",
                    "2025-01-22T00:00:00",
                    "2025-01-23T00:00:00",
                    "2025-01-24T00:00:00",
                    "2025-01-25T00:00:00",
                    "2025-01-26T00:00:00",
                    "2025-01-27T00:00:00",
                    "2025-01-28T00:00:00",
                    "2025-01-29T00:00:00",
                    "2025-01-30T00:00:00",
                    "2025-01-31T00:00:00",
                    "2025-02-01T00:00:00",
                    "2025-02-02T00:00:00",
                    "2025-02-03T00:00:00",
                    "2025-02-04T00:00:00",
                    "2025-02-05T00:00:00",
                    "2025-02-06T00:00:00",
                    "2025-02-07T00:00:00",
                    "2025-02-08T00:00:00",
                    "2025-02-09T00:00:00",
                    "2025-02-10T00:00:00",
                    "2025-02-11T00:00:00",
                    "2025-02-12T00:00:00",
                    "2025-02-13T00:00:00",
                    "2025-02-14T00:00:00",
                    "2025-02-15T00:00:00",
                    "2025-02-16T00:00:00",
                    "2025-02-17T00:00:00",
                    "2025-02-18T00:00:00",
                    "2025-02-19T00:00:00",
                    "2025-02-20T00:00:00",
                    "2025-02-21T00:00:00",
                    "2025-02-22T00:00:00",
                    "2025-02-23T00:00:00",
                    "2025-02-24T00:00:00",
                    "2025-02-25T00:00:00",
                    "2025-02-26T00:00:00",
                    "2025-02-27T00:00:00",
                    "2025-02-28T00:00:00",
                    "2025-03-01T00:00:00",
                    "2025-03-02T00:00:00",
                    "2025-03-03T00:00:00",
                    "2025-03-04T00:00:00",
                    "2025-03-05T00:00:00",
                    "2025-03-06T00:00:00",
                    "2025-03-07T00:00:00",
                    "2025-03-08T00:00:00",
                    "2025-03-09T00:00:00",
                    "2025-03-10T00:00:00",
                    "2025-03-11T00:00:00",
                    "2025-03-12T00:00:00",
                    "2025-03-13T00:00:00",
                    "2025-03-14T00:00:00",
                    "2025-03-15T00:00:00",
                    "2025-03-16T00:00:00",
                    "2025-03-17T00:00:00",
                    "2025-03-18T00:00:00",
                    "2025-03-19T00:00:00",
                    "2025-03-20T00:00:00",
                    "2025-03-21T00:00:00",
                    "2025-03-22T00:00:00",
                    "2025-03-23T00:00:00",
                    "2025-03-24T00:00:00",
                    "2025-03-25T00:00:00",
                    "2025-03-26T00:00:00",
                    "2025-03-27T00:00:00",
                    "2025-03-28T00:00:00",
                    "2025-03-29T00:00:00",
                    "2025-03-30T00:00:00",
                    "2025-03-31T00:00:00",
                    "2025-04-01T00:00:00",
                    "2025-04-02T00:00:00",
                    "2025-04-03T00:00:00",
                    "2025-04-04T00:00:00",
                    "2025-04-05T00:00:00",
                    "2025-04-06T00:00:00",
                    "2025-04-07T00:00:00",
                    "2025-04-08T00:00:00",
                    "2025-04-09T00:00:00",
                    "2025-04-10T00:00:00",
                    "2025-04-11T00:00:00",
                    "2025-04-12T00:00:00",
                    "2025-04-13T00:00:00",
                    "2025-04-14T00:00:00",
                    "2025-04-15T00:00:00",
                    "2025-04-16T00:00:00",
                    "2025-04-17T00:00:00",
                    "2025-04-18T00:00:00",
                    "2025-04-19T00:00:00",
                    "2025-04-20T00:00:00",
                    "2025-04-21T00:00:00",
                    "2025-04-22T00:00:00",
                    "2025-04-23T00:00:00",
                    "2025-04-24T00:00:00",
                    "2025-04-25T00:00:00",
                    "2025-04-26T00:00:00",
                    "2025-04-27T00:00:00",
                    "2025-04-28T00:00:00",
                    "2025-04-29T00:00:00",
                    "2025-04-30T00:00:00",
                    "2025-05-01T00:00:00",
                    "2025-05-02T00:00:00",
                    "2025-05-03T00:00:00",
                    "2025-05-04T00:00:00",
                    "2025-05-05T00:00:00",
                    "2025-05-06T00:00:00",
                    "2025-05-07T00:00:00",
                    "2025-05-08T00:00:00",
                    "2025-05-09T00:00:00",
                    "2025-05-10T00:00:00",
                    "2025-05-11T00:00:00",
                    "2025-05-12T00:00:00",
                    "2025-05-13T00:00:00",
                    "2025-05-14T00:00:00",
                    "2025-05-15T00:00:00",
                    "2025-05-16T00:00:00",
                    "2025-05-17T00:00:00",
                    "2025-05-18T00:00:00",
                    "2025-05-19T00:00:00",
                    "2025-05-20T00:00:00",
                    "2025-05-21T00:00:00",
                    "2025-05-22T00:00:00",
                    "2025-05-23T00:00:00",
                    "2025-05-24T00:00:00",
                    "2025-05-25T00:00:00",
                    "2025-05-26T00:00:00",
                    "2025-05-27T00:00:00",
                    "2025-05-28T00:00:00",
                    "2025-05-29T00:00:00",
                    "2025-05-30T00:00:00",
                    "2025-05-31T00:00:00",
                    "2025-06-01T00:00:00",
                    "2025-06-02T00:00:00",
                    "2025-06-03T00:00:00",
                    "2025-06-04T00:00:00",
                    "2025-06-05T00:00:00",
                    "2025-06-06T00:00:00",
                    "2025-06-07T00:00:00",
                    "2025-06-08T00:00:00",
                    "2025-06-09T00:00:00",
                    "2025-06-10T00:00:00",
                    "2025-06-11T00:00:00",
                    "2025-06-12T00:00:00",
                    "2025-06-13T00:00:00",
                    "2025-06-14T00:00:00",
                    "2025-06-15T00:00:00",
                    "2025-06-16T00:00:00",
                    "2025-06-17T00:00:00",
                    "2025-06-18T00:00:00",
                    "2025-06-19T00:00:00",
                    "2025-06-20T00:00:00",
                    "2025-06-21T00:00:00",
                    "2025-06-22T00:00:00",
                    "2025-06-23T00:00:00",
                    "2025-06-24T00:00:00",
                    "2025-06-25T00:00:00",
                    "2025-06-26T00:00:00",
                    "2025-06-27T00:00:00",
                    "2025-06-28T00:00:00",
                    "2025-06-29T00:00:00",
                    "2025-06-30T00:00:00",
                    "2025-07-01T00:00:00",
                    "2025-07-02T00:00:00",
                    "2025-07-03T00:00:00",
                    "2025-07-04T00:00:00",
                    "2025-07-05T00:00:00",
                    "2025-07-06T00:00:00",
                    "2025-07-07T00:00:00",
                    "2025-07-08T00:00:00",
                    "2025-07-09T00:00:00",
                    "2025-07-10T00:00:00",
                    "2025-07-11T00:00:00",
                    "2025-07-12T00:00:00",
                    "2025-07-13T00:00:00",
                    "2025-07-14T00:00:00",
                    "2025-07-15T00:00:00",
                    "2025-07-16T00:00:00",
                    "2025-07-17T00:00:00",
                    "2025-07-18T00:00:00",
                    "2025-07-19T00:00:00",
                    "2025-07-20T00:00:00",
                    "2025-07-21T00:00:00",
                    "2025-07-22T00:00:00",
                    "2025-07-23T00:00:00",
                    "2025-07-24T00:00:00",
                    "2025-07-25T00:00:00",
                    "2025-07-26T00:00:00",
                    "2025-07-27T00:00:00",
                    "2025-07-28T00:00:00",
                    "2025-07-29T00:00:00",
                    "2025-07-30T00:00:00",
                    "2025-07-31T00:00:00",
                    "2025-08-01T00:00:00",
                    "2025-08-02T00:00:00",
                    "2025-08-03T00:00:00",
                    "2025-08-04T00:00:00",
                    "2025-08-05T00:00:00",
                    "2025-08-06T00:00:00",
                    "2025-08-07T00:00:00",
                    "2025-08-08T00:00:00",
                    "2025-08-09T00:00:00",
                    "2025-08-10T00:00:00",
                    "2025-08-11T00:00:00",
                    "2025-08-12T00:00:00",
                    "2025-08-13T00:00:00",
                    "2025-08-14T00:00:00",
                    "2025-08-15T00:00:00",
                    "2025-08-16T00:00:00",
                    "2025-08-17T00:00:00",
                    "2025-08-18T00:00:00",
                    "2025-08-19T00:00:00",
                    "2025-08-20T00:00:00",
                    "2025-08-21T00:00:00",
                    "2025-08-22T00:00:00",
                    "2025-08-23T00:00:00",
                    "2025-08-24T00:00:00",
                    "2025-08-25T00:00:00",
                    "2025-08-26T00:00:00",
                    "2025-08-27T00:00:00",
                    "2025-08-28T00:00:00",
                    "2025-08-29T00:00:00",
                    "2025-08-30T00:00:00",
                    "2025-08-31T00:00:00",
                    "2025-09-01T00:00:00",
                    "2025-09-02T00:00:00",
                    "2025-09-03T00:00:00",
                    "2025-09-04T00:00:00",
                    "2025-09-05T00:00:00",
                    "2025-09-06T00:00:00",
                    "2025-09-07T00:00:00",
                    "2025-09-08T00:00:00",
                    "2025-09-09T00:00:00",
                    "2025-09-10T00:00:00",
                    "2025-09-11T00:00:00",
                    "2025-09-12T00:00:00",
                    "2025-09-13T00:00:00",
                    "2025-09-14T00:00:00",
                    "2025-09-15T00:00:00",
                    "2025-09-16T00:00:00",
                    "2025-09-17T00:00:00",
                    "2025-09-18T00:00:00",
                    "2025-09-19T00:00:00",
                    "2025-09-20T00:00:00",
                    "2025-09-21T00:00:00",
                    "2025-09-22T00:00:00",
                    "2025-09-23T00:00:00",
                    "2025-09-24T00:00:00",
                    "2025-09-25T00:00:00",
                    "2025-09-26T00:00:00",
                    "2025-09-27T00:00:00",
                    "2025-09-28T00:00:00",
                    "2025-09-29T00:00:00",
                    "2025-09-30T00:00:00",
                    "2025-10-01T00:00:00",
                    "2025-10-02T00:00:00",
                    "2025-10-03T00:00:00",
                    "2025-10-04T00:00:00",
                    "2025-10-05T00:00:00",
                    "2025-10-06T00:00:00",
                    "2025-10-07T00:00:00",
                    "2025-10-08T00:00:00",
                    "2025-10-09T00:00:00",
                    "2025-10-10T00:00:00",
                    "2025-10-11T00:00:00",
                    "2025-10-12T00:00:00",
                    "2025-10-13T00:00:00",
                    "2025-10-14T00:00:00",
                    "2025-10-15T00:00:00",
                    "2025-10-16T00:00:00",
                    "2025-10-17T00:00:00",
                    "2025-10-18T00:00:00",
                    "2025-10-19T00:00:00",
                    "2025-10-20T00:00:00",
                    "2025-10-20T03:16:51"
                  ],
                  "xaxis": "x",
                  "y": {
                    "bdata": "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",
                    "dtype": "f8"
                  },
                  "yaxis": "y2"
                },
                {
                  "name": "Market Cap",
                  "type": "scatter",
                  "x": [
                    "2024-10-21T00:00:00",
                    "2024-10-22T00:00:00",
                    "2024-10-23T00:00:00",
                    "2024-10-24T00:00:00",
                    "2024-10-25T00:00:00",
                    "2024-10-26T00:00:00",
                    "2024-10-27T00:00:00",
                    "2024-10-28T00:00:00",
                    "2024-10-29T00:00:00",
                    "2024-10-30T00:00:00",
                    "2024-10-31T00:00:00",
                    "2024-11-01T00:00:00",
                    "2024-11-02T00:00:00",
                    "2024-11-03T00:00:00",
                    "2024-11-04T00:00:00",
                    "2024-11-05T00:00:00",
                    "2024-11-06T00:00:00",
                    "2024-11-07T00:00:00",
                    "2024-11-08T00:00:00",
                    "2024-11-09T00:00:00",
                    "2024-11-10T00:00:00",
                    "2024-11-11T00:00:00",
                    "2024-11-12T00:00:00",
                    "2024-11-13T00:00:00",
                    "2024-11-14T00:00:00",
                    "2024-11-15T00:00:00",
                    "2024-11-16T00:00:00",
                    "2024-11-17T00:00:00",
                    "2024-11-18T00:00:00",
                    "2024-11-19T00:00:00",
                    "2024-11-20T00:00:00",
                    "2024-11-21T00:00:00",
                    "2024-11-22T00:00:00",
                    "2024-11-23T00:00:00",
                    "2024-11-24T00:00:00",
                    "2024-11-25T00:00:00",
                    "2024-11-26T00:00:00",
                    "2024-11-27T00:00:00",
                    "2024-11-28T00:00:00",
                    "2024-11-29T00:00:00",
                    "2024-11-30T00:00:00",
                    "2024-12-01T00:00:00",
                    "2024-12-02T00:00:00",
                    "2024-12-03T00:00:00",
                    "2024-12-04T00:00:00",
                    "2024-12-05T00:00:00",
                    "2024-12-06T00:00:00",
                    "2024-12-07T00:00:00",
                    "2024-12-08T00:00:00",
                    "2024-12-09T00:00:00",
                    "2024-12-10T00:00:00",
                    "2024-12-11T00:00:00",
                    "2024-12-12T00:00:00",
                    "2024-12-13T00:00:00",
                    "2024-12-14T00:00:00",
                    "2024-12-15T00:00:00",
                    "2024-12-16T00:00:00",
                    "2024-12-17T00:00:00",
                    "2024-12-18T00:00:00",
                    "2024-12-19T00:00:00",
                    "2024-12-20T00:00:00",
                    "2024-12-21T00:00:00",
                    "2024-12-22T00:00:00",
                    "2024-12-23T00:00:00",
                    "2024-12-24T00:00:00",
                    "2024-12-25T00:00:00",
                    "2024-12-26T00:00:00",
                    "2024-12-27T00:00:00",
                    "2024-12-28T00:00:00",
                    "2024-12-29T00:00:00",
                    "2024-12-30T00:00:00",
                    "2024-12-31T00:00:00",
                    "2025-01-01T00:00:00",
                    "2025-01-02T00:00:00",
                    "2025-01-03T00:00:00",
                    "2025-01-04T00:00:00",
                    "2025-01-05T00:00:00",
                    "2025-01-06T00:00:00",
                    "2025-01-07T00:00:00",
                    "2025-01-08T00:00:00",
                    "2025-01-09T00:00:00",
                    "2025-01-10T00:00:00",
                    "2025-01-11T00:00:00",
                    "2025-01-12T00:00:00",
                    "2025-01-13T00:00:00",
                    "2025-01-14T00:00:00",
                    "2025-01-15T00:00:00",
                    "2025-01-16T00:00:00",
                    "2025-01-17T00:00:00",
                    "2025-01-18T00:00:00",
                    "2025-01-19T00:00:00",
                    "2025-01-20T00:00:00",
                    "2025-01-21T00:00:00",
                    "2025-01-22T00:00:00",
                    "2025-01-23T00:00:00",
                    "2025-01-24T00:00:00",
                    "2025-01-25T00:00:00",
                    "2025-01-26T00:00:00",
                    "2025-01-27T00:00:00",
                    "2025-01-28T00:00:00",
                    "2025-01-29T00:00:00",
                    "2025-01-30T00:00:00",
                    "2025-01-31T00:00:00",
                    "2025-02-01T00:00:00",
                    "2025-02-02T00:00:00",
                    "2025-02-03T00:00:00",
                    "2025-02-04T00:00:00",
                    "2025-02-05T00:00:00",
                    "2025-02-06T00:00:00",
                    "2025-02-07T00:00:00",
                    "2025-02-08T00:00:00",
                    "2025-02-09T00:00:00",
                    "2025-02-10T00:00:00",
                    "2025-02-11T00:00:00",
                    "2025-02-12T00:00:00",
                    "2025-02-13T00:00:00",
                    "2025-02-14T00:00:00",
                    "2025-02-15T00:00:00",
                    "2025-02-16T00:00:00",
                    "2025-02-17T00:00:00",
                    "2025-02-18T00:00:00",
                    "2025-02-19T00:00:00",
                    "2025-02-20T00:00:00",
                    "2025-02-21T00:00:00",
                    "2025-02-22T00:00:00",
                    "2025-02-23T00:00:00",
                    "2025-02-24T00:00:00",
                    "2025-02-25T00:00:00",
                    "2025-02-26T00:00:00",
                    "2025-02-27T00:00:00",
                    "2025-02-28T00:00:00",
                    "2025-03-01T00:00:00",
                    "2025-03-02T00:00:00",
                    "2025-03-03T00:00:00",
                    "2025-03-04T00:00:00",
                    "2025-03-05T00:00:00",
                    "2025-03-06T00:00:00",
                    "2025-03-07T00:00:00",
                    "2025-03-08T00:00:00",
                    "2025-03-09T00:00:00",
                    "2025-03-10T00:00:00",
                    "2025-03-11T00:00:00",
                    "2025-03-12T00:00:00",
                    "2025-03-13T00:00:00",
                    "2025-03-14T00:00:00",
                    "2025-03-15T00:00:00",
                    "2025-03-16T00:00:00",
                    "2025-03-17T00:00:00",
                    "2025-03-18T00:00:00",
                    "2025-03-19T00:00:00",
                    "2025-03-20T00:00:00",
                    "2025-03-21T00:00:00",
                    "2025-03-22T00:00:00",
                    "2025-03-23T00:00:00",
                    "2025-03-24T00:00:00",
                    "2025-03-25T00:00:00",
                    "2025-03-26T00:00:00",
                    "2025-03-27T00:00:00",
                    "2025-03-28T00:00:00",
                    "2025-03-29T00:00:00",
                    "2025-03-30T00:00:00",
                    "2025-03-31T00:00:00",
                    "2025-04-01T00:00:00",
                    "2025-04-02T00:00:00",
                    "2025-04-03T00:00:00",
                    "2025-04-04T00:00:00",
                    "2025-04-05T00:00:00",
                    "2025-04-06T00:00:00",
                    "2025-04-07T00:00:00",
                    "2025-04-08T00:00:00",
                    "2025-04-09T00:00:00",
                    "2025-04-10T00:00:00",
                    "2025-04-11T00:00:00",
                    "2025-04-12T00:00:00",
                    "2025-04-13T00:00:00",
                    "2025-04-14T00:00:00",
                    "2025-04-15T00:00:00",
                    "2025-04-16T00:00:00",
                    "2025-04-17T00:00:00",
                    "2025-04-18T00:00:00",
                    "2025-04-19T00:00:00",
                    "2025-04-20T00:00:00",
                    "2025-04-21T00:00:00",
                    "2025-04-22T00:00:00",
                    "2025-04-23T00:00:00",
                    "2025-04-24T00:00:00",
                    "2025-04-25T00:00:00",
                    "2025-04-26T00:00:00",
                    "2025-04-27T00:00:00",
                    "2025-04-28T00:00:00",
                    "2025-04-29T00:00:00",
                    "2025-04-30T00:00:00",
                    "2025-05-01T00:00:00",
                    "2025-05-02T00:00:00",
                    "2025-05-03T00:00:00",
                    "2025-05-04T00:00:00",
                    "2025-05-05T00:00:00",
                    "2025-05-06T00:00:00",
                    "2025-05-07T00:00:00",
                    "2025-05-08T00:00:00",
                    "2025-05-09T00:00:00",
                    "2025-05-10T00:00:00",
                    "2025-05-11T00:00:00",
                    "2025-05-12T00:00:00",
                    "2025-05-13T00:00:00",
                    "2025-05-14T00:00:00",
                    "2025-05-15T00:00:00",
                    "2025-05-16T00:00:00",
                    "2025-05-17T00:00:00",
                    "2025-05-18T00:00:00",
                    "2025-05-19T00:00:00",
                    "2025-05-20T00:00:00",
                    "2025-05-21T00:00:00",
                    "2025-05-22T00:00:00",
                    "2025-05-23T00:00:00",
                    "2025-05-24T00:00:00",
                    "2025-05-25T00:00:00",
                    "2025-05-26T00:00:00",
                    "2025-05-27T00:00:00",
                    "2025-05-28T00:00:00",
                    "2025-05-29T00:00:00",
                    "2025-05-30T00:00:00",
                    "2025-05-31T00:00:00",
                    "2025-06-01T00:00:00",
                    "2025-06-02T00:00:00",
                    "2025-06-03T00:00:00",
                    "2025-06-04T00:00:00",
                    "2025-06-05T00:00:00",
                    "2025-06-06T00:00:00",
                    "2025-06-07T00:00:00",
                    "2025-06-08T00:00:00",
                    "2025-06-09T00:00:00",
                    "2025-06-10T00:00:00",
                    "2025-06-11T00:00:00",
                    "2025-06-12T00:00:00",
                    "2025-06-13T00:00:00",
                    "2025-06-14T00:00:00",
                    "2025-06-15T00:00:00",
                    "2025-06-16T00:00:00",
                    "2025-06-17T00:00:00",
                    "2025-06-18T00:00:00",
                    "2025-06-19T00:00:00",
                    "2025-06-20T00:00:00",
                    "2025-06-21T00:00:00",
                    "2025-06-22T00:00:00",
                    "2025-06-23T00:00:00",
                    "2025-06-24T00:00:00",
                    "2025-06-25T00:00:00",
                    "2025-06-26T00:00:00",
                    "2025-06-27T00:00:00",
                    "2025-06-28T00:00:00",
                    "2025-06-29T00:00:00",
                    "2025-06-30T00:00:00",
                    "2025-07-01T00:00:00",
                    "2025-07-02T00:00:00",
                    "2025-07-03T00:00:00",
                    "2025-07-04T00:00:00",
                    "2025-07-05T00:00:00",
                    "2025-07-06T00:00:00",
                    "2025-07-07T00:00:00",
                    "2025-07-08T00:00:00",
                    "2025-07-09T00:00:00",
                    "2025-07-10T00:00:00",
                    "2025-07-11T00:00:00",
                    "2025-07-12T00:00:00",
                    "2025-07-13T00:00:00",
                    "2025-07-14T00:00:00",
                    "2025-07-15T00:00:00",
                    "2025-07-16T00:00:00",
                    "2025-07-17T00:00:00",
                    "2025-07-18T00:00:00",
                    "2025-07-19T00:00:00",
                    "2025-07-20T00:00:00",
                    "2025-07-21T00:00:00",
                    "2025-07-22T00:00:00",
                    "2025-07-23T00:00:00",
                    "2025-07-24T00:00:00",
                    "2025-07-25T00:00:00",
                    "2025-07-26T00:00:00",
                    "2025-07-27T00:00:00",
                    "2025-07-28T00:00:00",
                    "2025-07-29T00:00:00",
                    "2025-07-30T00:00:00",
                    "2025-07-31T00:00:00",
                    "2025-08-01T00:00:00",
                    "2025-08-02T00:00:00",
                    "2025-08-03T00:00:00",
                    "2025-08-04T00:00:00",
                    "2025-08-05T00:00:00",
                    "2025-08-06T00:00:00",
                    "2025-08-07T00:00:00",
                    "2025-08-08T00:00:00",
                    "2025-08-09T00:00:00",
                    "2025-08-10T00:00:00",
                    "2025-08-11T00:00:00",
                    "2025-08-12T00:00:00",
                    "2025-08-13T00:00:00",
                    "2025-08-14T00:00:00",
                    "2025-08-15T00:00:00",
                    "2025-08-16T00:00:00",
                    "2025-08-17T00:00:00",
                    "2025-08-18T00:00:00",
                    "2025-08-19T00:00:00",
                    "2025-08-20T00:00:00",
                    "2025-08-21T00:00:00",
                    "2025-08-22T00:00:00",
                    "2025-08-23T00:00:00",
                    "2025-08-24T00:00:00",
                    "2025-08-25T00:00:00",
                    "2025-08-26T00:00:00",
                    "2025-08-27T00:00:00",
                    "2025-08-28T00:00:00",
                    "2025-08-29T00:00:00",
                    "2025-08-30T00:00:00",
                    "2025-08-31T00:00:00",
                    "2025-09-01T00:00:00",
                    "2025-09-02T00:00:00",
                    "2025-09-03T00:00:00",
                    "2025-09-04T00:00:00",
                    "2025-09-05T00:00:00",
                    "2025-09-06T00:00:00",
                    "2025-09-07T00:00:00",
                    "2025-09-08T00:00:00",
                    "2025-09-09T00:00:00",
                    "2025-09-10T00:00:00",
                    "2025-09-11T00:00:00",
                    "2025-09-12T00:00:00",
                    "2025-09-13T00:00:00",
                    "2025-09-14T00:00:00",
                    "2025-09-15T00:00:00",
                    "2025-09-16T00:00:00",
                    "2025-09-17T00:00:00",
                    "2025-09-18T00:00:00",
                    "2025-09-19T00:00:00",
                    "2025-09-20T00:00:00",
                    "2025-09-21T00:00:00",
                    "2025-09-22T00:00:00",
                    "2025-09-23T00:00:00",
                    "2025-09-24T00:00:00",
                    "2025-09-25T00:00:00",
                    "2025-09-26T00:00:00",
                    "2025-09-27T00:00:00",
                    "2025-09-28T00:00:00",
                    "2025-09-29T00:00:00",
                    "2025-09-30T00:00:00",
                    "2025-10-01T00:00:00",
                    "2025-10-02T00:00:00",
                    "2025-10-03T00:00:00",
                    "2025-10-04T00:00:00",
                    "2025-10-05T00:00:00",
                    "2025-10-06T00:00:00",
                    "2025-10-07T00:00:00",
                    "2025-10-08T00:00:00",
                    "2025-10-09T00:00:00",
                    "2025-10-10T00:00:00",
                    "2025-10-11T00:00:00",
                    "2025-10-12T00:00:00",
                    "2025-10-13T00:00:00",
                    "2025-10-14T00:00:00",
                    "2025-10-15T00:00:00",
                    "2025-10-16T00:00:00",
                    "2025-10-17T00:00:00",
                    "2025-10-18T00:00:00",
                    "2025-10-19T00:00:00",
                    "2025-10-20T00:00:00",
                    "2025-10-20T03:16:51"
                  ],
                  "xaxis": "x",
                  "y": {
                    "bdata": "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",
                    "dtype": "f8"
                  },
                  "yaxis": "y2"
                },
                {
                  "name": "SMA 50",
                  "type": "scatter",
                  "x": [
                    "2024-10-21T00:00:00",
                    "2024-10-22T00:00:00",
                    "2024-10-23T00:00:00",
                    "2024-10-24T00:00:00",
                    "2024-10-25T00:00:00",
                    "2024-10-26T00:00:00",
                    "2024-10-27T00:00:00",
                    "2024-10-28T00:00:00",
                    "2024-10-29T00:00:00",
                    "2024-10-30T00:00:00",
                    "2024-10-31T00:00:00",
                    "2024-11-01T00:00:00",
                    "2024-11-02T00:00:00",
                    "2024-11-03T00:00:00",
                    "2024-11-04T00:00:00",
                    "2024-11-05T00:00:00",
                    "2024-11-06T00:00:00",
                    "2024-11-07T00:00:00",
                    "2024-11-08T00:00:00",
                    "2024-11-09T00:00:00",
                    "2024-11-10T00:00:00",
                    "2024-11-11T00:00:00",
                    "2024-11-12T00:00:00",
                    "2024-11-13T00:00:00",
                    "2024-11-14T00:00:00",
                    "2024-11-15T00:00:00",
                    "2024-11-16T00:00:00",
                    "2024-11-17T00:00:00",
                    "2024-11-18T00:00:00",
                    "2024-11-19T00:00:00",
                    "2024-11-20T00:00:00",
                    "2024-11-21T00:00:00",
                    "2024-11-22T00:00:00",
                    "2024-11-23T00:00:00",
                    "2024-11-24T00:00:00",
                    "2024-11-25T00:00:00",
                    "2024-11-26T00:00:00",
                    "2024-11-27T00:00:00",
                    "2024-11-28T00:00:00",
                    "2024-11-29T00:00:00",
                    "2024-11-30T00:00:00",
                    "2024-12-01T00:00:00",
                    "2024-12-02T00:00:00",
                    "2024-12-03T00:00:00",
                    "2024-12-04T00:00:00",
                    "2024-12-05T00:00:00",
                    "2024-12-06T00:00:00",
                    "2024-12-07T00:00:00",
                    "2024-12-08T00:00:00",
                    "2024-12-09T00:00:00",
                    "2024-12-10T00:00:00",
                    "2024-12-11T00:00:00",
                    "2024-12-12T00:00:00",
                    "2024-12-13T00:00:00",
                    "2024-12-14T00:00:00",
                    "2024-12-15T00:00:00",
                    "2024-12-16T00:00:00",
                    "2024-12-17T00:00:00",
                    "2024-12-18T00:00:00",
                    "2024-12-19T00:00:00",
                    "2024-12-20T00:00:00",
                    "2024-12-21T00:00:00",
                    "2024-12-22T00:00:00",
                    "2024-12-23T00:00:00",
                    "2024-12-24T00:00:00",
                    "2024-12-25T00:00:00",
                    "2024-12-26T00:00:00",
                    "2024-12-27T00:00:00",
                    "2024-12-28T00:00:00",
                    "2024-12-29T00:00:00",
                    "2024-12-30T00:00:00",
                    "2024-12-31T00:00:00",
                    "2025-01-01T00:00:00",
                    "2025-01-02T00:00:00",
                    "2025-01-03T00:00:00",
                    "2025-01-04T00:00:00",
                    "2025-01-05T00:00:00",
                    "2025-01-06T00:00:00",
                    "2025-01-07T00:00:00",
                    "2025-01-08T00:00:00",
                    "2025-01-09T00:00:00",
                    "2025-01-10T00:00:00",
                    "2025-01-11T00:00:00",
                    "2025-01-12T00:00:00",
                    "2025-01-13T00:00:00",
                    "2025-01-14T00:00:00",
                    "2025-01-15T00:00:00",
                    "2025-01-16T00:00:00",
                    "2025-01-17T00:00:00",
                    "2025-01-18T00:00:00",
                    "2025-01-19T00:00:00",
                    "2025-01-20T00:00:00",
                    "2025-01-21T00:00:00",
                    "2025-01-22T00:00:00",
                    "2025-01-23T00:00:00",
                    "2025-01-24T00:00:00",
                    "2025-01-25T00:00:00",
                    "2025-01-26T00:00:00",
                    "2025-01-27T00:00:00",
                    "2025-01-28T00:00:00",
                    "2025-01-29T00:00:00",
                    "2025-01-30T00:00:00",
                    "2025-01-31T00:00:00",
                    "2025-02-01T00:00:00",
                    "2025-02-02T00:00:00",
                    "2025-02-03T00:00:00",
                    "2025-02-04T00:00:00",
                    "2025-02-05T00:00:00",
                    "2025-02-06T00:00:00",
                    "2025-02-07T00:00:00",
                    "2025-02-08T00:00:00",
                    "2025-02-09T00:00:00",
                    "2025-02-10T00:00:00",
                    "2025-02-11T00:00:00",
                    "2025-02-12T00:00:00",
                    "2025-02-13T00:00:00",
                    "2025-02-14T00:00:00",
                    "2025-02-15T00:00:00",
                    "2025-02-16T00:00:00",
                    "2025-02-17T00:00:00",
                    "2025-02-18T00:00:00",
                    "2025-02-19T00:00:00",
                    "2025-02-20T00:00:00",
                    "2025-02-21T00:00:00",
                    "2025-02-22T00:00:00",
                    "2025-02-23T00:00:00",
                    "2025-02-24T00:00:00",
                    "2025-02-25T00:00:00",
                    "2025-02-26T00:00:00",
                    "2025-02-27T00:00:00",
                    "2025-02-28T00:00:00",
                    "2025-03-01T00:00:00",
                    "2025-03-02T00:00:00",
                    "2025-03-03T00:00:00",
                    "2025-03-04T00:00:00",
                    "2025-03-05T00:00:00",
                    "2025-03-06T00:00:00",
                    "2025-03-07T00:00:00",
                    "2025-03-08T00:00:00",
                    "2025-03-09T00:00:00",
                    "2025-03-10T00:00:00",
                    "2025-03-11T00:00:00",
                    "2025-03-12T00:00:00",
                    "2025-03-13T00:00:00",
                    "2025-03-14T00:00:00",
                    "2025-03-15T00:00:00",
                    "2025-03-16T00:00:00",
                    "2025-03-17T00:00:00",
                    "2025-03-18T00:00:00",
                    "2025-03-19T00:00:00",
                    "2025-03-20T00:00:00",
                    "2025-03-21T00:00:00",
                    "2025-03-22T00:00:00",
                    "2025-03-23T00:00:00",
                    "2025-03-24T00:00:00",
                    "2025-03-25T00:00:00",
                    "2025-03-26T00:00:00",
                    "2025-03-27T00:00:00",
                    "2025-03-28T00:00:00",
                    "2025-03-29T00:00:00",
                    "2025-03-30T00:00:00",
                    "2025-03-31T00:00:00",
                    "2025-04-01T00:00:00",
                    "2025-04-02T00:00:00",
                    "2025-04-03T00:00:00",
                    "2025-04-04T00:00:00",
                    "2025-04-05T00:00:00",
                    "2025-04-06T00:00:00",
                    "2025-04-07T00:00:00",
                    "2025-04-08T00:00:00",
                    "2025-04-09T00:00:00",
                    "2025-04-10T00:00:00",
                    "2025-04-11T00:00:00",
                    "2025-04-12T00:00:00",
                    "2025-04-13T00:00:00",
                    "2025-04-14T00:00:00",
                    "2025-04-15T00:00:00",
                    "2025-04-16T00:00:00",
                    "2025-04-17T00:00:00",
                    "2025-04-18T00:00:00",
                    "2025-04-19T00:00:00",
                    "2025-04-20T00:00:00",
                    "2025-04-21T00:00:00",
                    "2025-04-22T00:00:00",
                    "2025-04-23T00:00:00",
                    "2025-04-24T00:00:00",
                    "2025-04-25T00:00:00",
                    "2025-04-26T00:00:00",
                    "2025-04-27T00:00:00",
                    "2025-04-28T00:00:00",
                    "2025-04-29T00:00:00",
                    "2025-04-30T00:00:00",
                    "2025-05-01T00:00:00",
                    "2025-05-02T00:00:00",
                    "2025-05-03T00:00:00",
                    "2025-05-04T00:00:00",
                    "2025-05-05T00:00:00",
                    "2025-05-06T00:00:00",
                    "2025-05-07T00:00:00",
                    "2025-05-08T00:00:00",
                    "2025-05-09T00:00:00",
                    "2025-05-10T00:00:00",
                    "2025-05-11T00:00:00",
                    "2025-05-12T00:00:00",
                    "2025-05-13T00:00:00",
                    "2025-05-14T00:00:00",
                    "2025-05-15T00:00:00",
                    "2025-05-16T00:00:00",
                    "2025-05-17T00:00:00",
                    "2025-05-18T00:00:00",
                    "2025-05-19T00:00:00",
                    "2025-05-20T00:00:00",
                    "2025-05-21T00:00:00",
                    "2025-05-22T00:00:00",
                    "2025-05-23T00:00:00",
                    "2025-05-24T00:00:00",
                    "2025-05-25T00:00:00",
                    "2025-05-26T00:00:00",
                    "2025-05-27T00:00:00",
                    "2025-05-28T00:00:00",
                    "2025-05-29T00:00:00",
                    "2025-05-30T00:00:00",
                    "2025-05-31T00:00:00",
                    "2025-06-01T00:00:00",
                    "2025-06-02T00:00:00",
                    "2025-06-03T00:00:00",
                    "2025-06-04T00:00:00",
                    "2025-06-05T00:00:00",
                    "2025-06-06T00:00:00",
                    "2025-06-07T00:00:00",
                    "2025-06-08T00:00:00",
                    "2025-06-09T00:00:00",
                    "2025-06-10T00:00:00",
                    "2025-06-11T00:00:00",
                    "2025-06-12T00:00:00",
                    "2025-06-13T00:00:00",
                    "2025-06-14T00:00:00",
                    "2025-06-15T00:00:00",
                    "2025-06-16T00:00:00",
                    "2025-06-17T00:00:00",
                    "2025-06-18T00:00:00",
                    "2025-06-19T00:00:00",
                    "2025-06-20T00:00:00",
                    "2025-06-21T00:00:00",
                    "2025-06-22T00:00:00",
                    "2025-06-23T00:00:00",
                    "2025-06-24T00:00:00",
                    "2025-06-25T00:00:00",
                    "2025-06-26T00:00:00",
                    "2025-06-27T00:00:00",
                    "2025-06-28T00:00:00",
                    "2025-06-29T00:00:00",
                    "2025-06-30T00:00:00",
                    "2025-07-01T00:00:00",
                    "2025-07-02T00:00:00",
                    "2025-07-03T00:00:00",
                    "2025-07-04T00:00:00",
                    "2025-07-05T00:00:00",
                    "2025-07-06T00:00:00",
                    "2025-07-07T00:00:00",
                    "2025-07-08T00:00:00",
                    "2025-07-09T00:00:00",
                    "2025-07-10T00:00:00",
                    "2025-07-11T00:00:00",
                    "2025-07-12T00:00:00",
                    "2025-07-13T00:00:00",
                    "2025-07-14T00:00:00",
                    "2025-07-15T00:00:00",
                    "2025-07-16T00:00:00",
                    "2025-07-17T00:00:00",
                    "2025-07-18T00:00:00",
                    "2025-07-19T00:00:00",
                    "2025-07-20T00:00:00",
                    "2025-07-21T00:00:00",
                    "2025-07-22T00:00:00",
                    "2025-07-23T00:00:00",
                    "2025-07-24T00:00:00",
                    "2025-07-25T00:00:00",
                    "2025-07-26T00:00:00",
                    "2025-07-27T00:00:00",
                    "2025-07-28T00:00:00",
                    "2025-07-29T00:00:00",
                    "2025-07-30T00:00:00",
                    "2025-07-31T00:00:00",
                    "2025-08-01T00:00:00",
                    "2025-08-02T00:00:00",
                    "2025-08-03T00:00:00",
                    "2025-08-04T00:00:00",
                    "2025-08-05T00:00:00",
                    "2025-08-06T00:00:00",
                    "2025-08-07T00:00:00",
                    "2025-08-08T00:00:00",
                    "2025-08-09T00:00:00",
                    "2025-08-10T00:00:00",
                    "2025-08-11T00:00:00",
                    "2025-08-12T00:00:00",
                    "2025-08-13T00:00:00",
                    "2025-08-14T00:00:00",
                    "2025-08-15T00:00:00",
                    "2025-08-16T00:00:00",
                    "2025-08-17T00:00:00",
                    "2025-08-18T00:00:00",
                    "2025-08-19T00:00:00",
                    "2025-08-20T00:00:00",
                    "2025-08-21T00:00:00",
                    "2025-08-22T00:00:00",
                    "2025-08-23T00:00:00",
                    "2025-08-24T00:00:00",
                    "2025-08-25T00:00:00",
                    "2025-08-26T00:00:00",
                    "2025-08-27T00:00:00",
                    "2025-08-28T00:00:00",
                    "2025-08-29T00:00:00",
                    "2025-08-30T00:00:00",
                    "2025-08-31T00:00:00",
                    "2025-09-01T00:00:00",
                    "2025-09-02T00:00:00",
                    "2025-09-03T00:00:00",
                    "2025-09-04T00:00:00",
                    "2025-09-05T00:00:00",
                    "2025-09-06T00:00:00",
                    "2025-09-07T00:00:00",
                    "2025-09-08T00:00:00",
                    "2025-09-09T00:00:00",
                    "2025-09-10T00:00:00",
                    "2025-09-11T00:00:00",
                    "2025-09-12T00:00:00",
                    "2025-09-13T00:00:00",
                    "2025-09-14T00:00:00",
                    "2025-09-15T00:00:00",
                    "2025-09-16T00:00:00",
                    "2025-09-17T00:00:00",
                    "2025-09-18T00:00:00",
                    "2025-09-19T00:00:00",
                    "2025-09-20T00:00:00",
                    "2025-09-21T00:00:00",
                    "2025-09-22T00:00:00",
                    "2025-09-23T00:00:00",
                    "2025-09-24T00:00:00",
                    "2025-09-25T00:00:00",
                    "2025-09-26T00:00:00",
                    "2025-09-27T00:00:00",
                    "2025-09-28T00:00:00",
                    "2025-09-29T00:00:00",
                    "2025-09-30T00:00:00",
                    "2025-10-01T00:00:00",
                    "2025-10-02T00:00:00",
                    "2025-10-03T00:00:00",
                    "2025-10-04T00:00:00",
                    "2025-10-05T00:00:00",
                    "2025-10-06T00:00:00",
                    "2025-10-07T00:00:00",
                    "2025-10-08T00:00:00",
                    "2025-10-09T00:00:00",
                    "2025-10-10T00:00:00",
                    "2025-10-11T00:00:00",
                    "2025-10-12T00:00:00",
                    "2025-10-13T00:00:00",
                    "2025-10-14T00:00:00",
                    "2025-10-15T00:00:00",
                    "2025-10-16T00:00:00",
                    "2025-10-17T00:00:00",
                    "2025-10-18T00:00:00",
                    "2025-10-19T00:00:00",
                    "2025-10-20T00:00:00",
                    "2025-10-20T03:16:51"
                  ],
                  "xaxis": "x",
                  "y": {
                    "bdata": "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",
                    "dtype": "f8"
                  },
                  "yaxis": "y"
                },
                {
                  "name": "SMA 200",
                  "type": "scatter",
                  "x": [
                    "2024-10-21T00:00:00",
                    "2024-10-22T00:00:00",
                    "2024-10-23T00:00:00",
                    "2024-10-24T00:00:00",
                    "2024-10-25T00:00:00",
                    "2024-10-26T00:00:00",
                    "2024-10-27T00:00:00",
                    "2024-10-28T00:00:00",
                    "2024-10-29T00:00:00",
                    "2024-10-30T00:00:00",
                    "2024-10-31T00:00:00",
                    "2024-11-01T00:00:00",
                    "2024-11-02T00:00:00",
                    "2024-11-03T00:00:00",
                    "2024-11-04T00:00:00",
                    "2024-11-05T00:00:00",
                    "2024-11-06T00:00:00",
                    "2024-11-07T00:00:00",
                    "2024-11-08T00:00:00",
                    "2024-11-09T00:00:00",
                    "2024-11-10T00:00:00",
                    "2024-11-11T00:00:00",
                    "2024-11-12T00:00:00",
                    "2024-11-13T00:00:00",
                    "2024-11-14T00:00:00",
                    "2024-11-15T00:00:00",
                    "2024-11-16T00:00:00",
                    "2024-11-17T00:00:00",
                    "2024-11-18T00:00:00",
                    "2024-11-19T00:00:00",
                    "2024-11-20T00:00:00",
                    "2024-11-21T00:00:00",
                    "2024-11-22T00:00:00",
                    "2024-11-23T00:00:00",
                    "2024-11-24T00:00:00",
                    "2024-11-25T00:00:00",
                    "2024-11-26T00:00:00",
                    "2024-11-27T00:00:00",
                    "2024-11-28T00:00:00",
                    "2024-11-29T00:00:00",
                    "2024-11-30T00:00:00",
                    "2024-12-01T00:00:00",
                    "2024-12-02T00:00:00",
                    "2024-12-03T00:00:00",
                    "2024-12-04T00:00:00",
                    "2024-12-05T00:00:00",
                    "2024-12-06T00:00:00",
                    "2024-12-07T00:00:00",
                    "2024-12-08T00:00:00",
                    "2024-12-09T00:00:00",
                    "2024-12-10T00:00:00",
                    "2024-12-11T00:00:00",
                    "2024-12-12T00:00:00",
                    "2024-12-13T00:00:00",
                    "2024-12-14T00:00:00",
                    "2024-12-15T00:00:00",
                    "2024-12-16T00:00:00",
                    "2024-12-17T00:00:00",
                    "2024-12-18T00:00:00",
                    "2024-12-19T00:00:00",
                    "2024-12-20T00:00:00",
                    "2024-12-21T00:00:00",
                    "2024-12-22T00:00:00",
                    "2024-12-23T00:00:00",
                    "2024-12-24T00:00:00",
                    "2024-12-25T00:00:00",
                    "2024-12-26T00:00:00",
                    "2024-12-27T00:00:00",
                    "2024-12-28T00:00:00",
                    "2024-12-29T00:00:00",
                    "2024-12-30T00:00:00",
                    "2024-12-31T00:00:00",
                    "2025-01-01T00:00:00",
                    "2025-01-02T00:00:00",
                    "2025-01-03T00:00:00",
                    "2025-01-04T00:00:00",
                    "2025-01-05T00:00:00",
                    "2025-01-06T00:00:00",
                    "2025-01-07T00:00:00",
                    "2025-01-08T00:00:00",
                    "2025-01-09T00:00:00",
                    "2025-01-10T00:00:00",
                    "2025-01-11T00:00:00",
                    "2025-01-12T00:00:00",
                    "2025-01-13T00:00:00",
                    "2025-01-14T00:00:00",
                    "2025-01-15T00:00:00",
                    "2025-01-16T00:00:00",
                    "2025-01-17T00:00:00",
                    "2025-01-18T00:00:00",
                    "2025-01-19T00:00:00",
                    "2025-01-20T00:00:00",
                    "2025-01-21T00:00:00",
                    "2025-01-22T00:00:00",
                    "2025-01-23T00:00:00",
                    "2025-01-24T00:00:00",
                    "2025-01-25T00:00:00",
                    "2025-01-26T00:00:00",
                    "2025-01-27T00:00:00",
                    "2025-01-28T00:00:00",
                    "2025-01-29T00:00:00",
                    "2025-01-30T00:00:00",
                    "2025-01-31T00:00:00",
                    "2025-02-01T00:00:00",
                    "2025-02-02T00:00:00",
                    "2025-02-03T00:00:00",
                    "2025-02-04T00:00:00",
                    "2025-02-05T00:00:00",
                    "2025-02-06T00:00:00",
                    "2025-02-07T00:00:00",
                    "2025-02-08T00:00:00",
                    "2025-02-09T00:00:00",
                    "2025-02-10T00:00:00",
                    "2025-02-11T00:00:00",
                    "2025-02-12T00:00:00",
                    "2025-02-13T00:00:00",
                    "2025-02-14T00:00:00",
                    "2025-02-15T00:00:00",
                    "2025-02-16T00:00:00",
                    "2025-02-17T00:00:00",
                    "2025-02-18T00:00:00",
                    "2025-02-19T00:00:00",
                    "2025-02-20T00:00:00",
                    "2025-02-21T00:00:00",
                    "2025-02-22T00:00:00",
                    "2025-02-23T00:00:00",
                    "2025-02-24T00:00:00",
                    "2025-02-25T00:00:00",
                    "2025-02-26T00:00:00",
                    "2025-02-27T00:00:00",
                    "2025-02-28T00:00:00",
                    "2025-03-01T00:00:00",
                    "2025-03-02T00:00:00",
                    "2025-03-03T00:00:00",
                    "2025-03-04T00:00:00",
                    "2025-03-05T00:00:00",
                    "2025-03-06T00:00:00",
                    "2025-03-07T00:00:00",
                    "2025-03-08T00:00:00",
                    "2025-03-09T00:00:00",
                    "2025-03-10T00:00:00",
                    "2025-03-11T00:00:00",
                    "2025-03-12T00:00:00",
                    "2025-03-13T00:00:00",
                    "2025-03-14T00:00:00",
                    "2025-03-15T00:00:00",
                    "2025-03-16T00:00:00",
                    "2025-03-17T00:00:00",
                    "2025-03-18T00:00:00",
                    "2025-03-19T00:00:00",
                    "2025-03-20T00:00:00",
                    "2025-03-21T00:00:00",
                    "2025-03-22T00:00:00",
                    "2025-03-23T00:00:00",
                    "2025-03-24T00:00:00",
                    "2025-03-25T00:00:00",
                    "2025-03-26T00:00:00",
                    "2025-03-27T00:00:00",
                    "2025-03-28T00:00:00",
                    "2025-03-29T00:00:00",
                    "2025-03-30T00:00:00",
                    "2025-03-31T00:00:00",
                    "2025-04-01T00:00:00",
                    "2025-04-02T00:00:00",
                    "2025-04-03T00:00:00",
                    "2025-04-04T00:00:00",
                    "2025-04-05T00:00:00",
                    "2025-04-06T00:00:00",
                    "2025-04-07T00:00:00",
                    "2025-04-08T00:00:00",
                    "2025-04-09T00:00:00",
                    "2025-04-10T00:00:00",
                    "2025-04-11T00:00:00",
                    "2025-04-12T00:00:00",
                    "2025-04-13T00:00:00",
                    "2025-04-14T00:00:00",
                    "2025-04-15T00:00:00",
                    "2025-04-16T00:00:00",
                    "2025-04-17T00:00:00",
                    "2025-04-18T00:00:00",
                    "2025-04-19T00:00:00",
                    "2025-04-20T00:00:00",
                    "2025-04-21T00:00:00",
                    "2025-04-22T00:00:00",
                    "2025-04-23T00:00:00",
                    "2025-04-24T00:00:00",
                    "2025-04-25T00:00:00",
                    "2025-04-26T00:00:00",
                    "2025-04-27T00:00:00",
                    "2025-04-28T00:00:00",
                    "2025-04-29T00:00:00",
                    "2025-04-30T00:00:00",
                    "2025-05-01T00:00:00",
                    "2025-05-02T00:00:00",
                    "2025-05-03T00:00:00",
                    "2025-05-04T00:00:00",
                    "2025-05-05T00:00:00",
                    "2025-05-06T00:00:00",
                    "2025-05-07T00:00:00",
                    "2025-05-08T00:00:00",
                    "2025-05-09T00:00:00",
                    "2025-05-10T00:00:00",
                    "2025-05-11T00:00:00",
                    "2025-05-12T00:00:00",
                    "2025-05-13T00:00:00",
                    "2025-05-14T00:00:00",
                    "2025-05-15T00:00:00",
                    "2025-05-16T00:00:00",
                    "2025-05-17T00:00:00",
                    "2025-05-18T00:00:00",
                    "2025-05-19T00:00:00",
                    "2025-05-20T00:00:00",
                    "2025-05-21T00:00:00",
                    "2025-05-22T00:00:00",
                    "2025-05-23T00:00:00",
                    "2025-05-24T00:00:00",
                    "2025-05-25T00:00:00",
                    "2025-05-26T00:00:00",
                    "2025-05-27T00:00:00",
                    "2025-05-28T00:00:00",
                    "2025-05-29T00:00:00",
                    "2025-05-30T00:00:00",
                    "2025-05-31T00:00:00",
                    "2025-06-01T00:00:00",
                    "2025-06-02T00:00:00",
                    "2025-06-03T00:00:00",
                    "2025-06-04T00:00:00",
                    "2025-06-05T00:00:00",
                    "2025-06-06T00:00:00",
                    "2025-06-07T00:00:00",
                    "2025-06-08T00:00:00",
                    "2025-06-09T00:00:00",
                    "2025-06-10T00:00:00",
                    "2025-06-11T00:00:00",
                    "2025-06-12T00:00:00",
                    "2025-06-13T00:00:00",
                    "2025-06-14T00:00:00",
                    "2025-06-15T00:00:00",
                    "2025-06-16T00:00:00",
                    "2025-06-17T00:00:00",
                    "2025-06-18T00:00:00",
                    "2025-06-19T00:00:00",
                    "2025-06-20T00:00:00",
                    "2025-06-21T00:00:00",
                    "2025-06-22T00:00:00",
                    "2025-06-23T00:00:00",
                    "2025-06-24T00:00:00",
                    "2025-06-25T00:00:00",
                    "2025-06-26T00:00:00",
                    "2025-06-27T00:00:00",
                    "2025-06-28T00:00:00",
                    "2025-06-29T00:00:00",
                    "2025-06-30T00:00:00",
                    "2025-07-01T00:00:00",
                    "2025-07-02T00:00:00",
                    "2025-07-03T00:00:00",
                    "2025-07-04T00:00:00",
                    "2025-07-05T00:00:00",
                    "2025-07-06T00:00:00",
                    "2025-07-07T00:00:00",
                    "2025-07-08T00:00:00",
                    "2025-07-09T00:00:00",
                    "2025-07-10T00:00:00",
                    "2025-07-11T00:00:00",
                    "2025-07-12T00:00:00",
                    "2025-07-13T00:00:00",
                    "2025-07-14T00:00:00",
                    "2025-07-15T00:00:00",
                    "2025-07-16T00:00:00",
                    "2025-07-17T00:00:00",
                    "2025-07-18T00:00:00",
                    "2025-07-19T00:00:00",
                    "2025-07-20T00:00:00",
                    "2025-07-21T00:00:00",
                    "2025-07-22T00:00:00",
                    "2025-07-23T00:00:00",
                    "2025-07-24T00:00:00",
                    "2025-07-25T00:00:00",
                    "2025-07-26T00:00:00",
                    "2025-07-27T00:00:00",
                    "2025-07-28T00:00:00",
                    "2025-07-29T00:00:00",
                    "2025-07-30T00:00:00",
                    "2025-07-31T00:00:00",
                    "2025-08-01T00:00:00",
                    "2025-08-02T00:00:00",
                    "2025-08-03T00:00:00",
                    "2025-08-04T00:00:00",
                    "2025-08-05T00:00:00",
                    "2025-08-06T00:00:00",
                    "2025-08-07T00:00:00",
                    "2025-08-08T00:00:00",
                    "2025-08-09T00:00:00",
                    "2025-08-10T00:00:00",
                    "2025-08-11T00:00:00",
                    "2025-08-12T00:00:00",
                    "2025-08-13T00:00:00",
                    "2025-08-14T00:00:00",
                    "2025-08-15T00:00:00",
                    "2025-08-16T00:00:00",
                    "2025-08-17T00:00:00",
                    "2025-08-18T00:00:00",
                    "2025-08-19T00:00:00",
                    "2025-08-20T00:00:00",
                    "2025-08-21T00:00:00",
                    "2025-08-22T00:00:00",
                    "2025-08-23T00:00:00",
                    "2025-08-24T00:00:00",
                    "2025-08-25T00:00:00",
                    "2025-08-26T00:00:00",
                    "2025-08-27T00:00:00",
                    "2025-08-28T00:00:00",
                    "2025-08-29T00:00:00",
                    "2025-08-30T00:00:00",
                    "2025-08-31T00:00:00",
                    "2025-09-01T00:00:00",
                    "2025-09-02T00:00:00",
                    "2025-09-03T00:00:00",
                    "2025-09-04T00:00:00",
                    "2025-09-05T00:00:00",
                    "2025-09-06T00:00:00",
                    "2025-09-07T00:00:00",
                    "2025-09-08T00:00:00",
                    "2025-09-09T00:00:00",
                    "2025-09-10T00:00:00",
                    "2025-09-11T00:00:00",
                    "2025-09-12T00:00:00",
                    "2025-09-13T00:00:00",
                    "2025-09-14T00:00:00",
                    "2025-09-15T00:00:00",
                    "2025-09-16T00:00:00",
                    "2025-09-17T00:00:00",
                    "2025-09-18T00:00:00",
                    "2025-09-19T00:00:00",
                    "2025-09-20T00:00:00",
                    "2025-09-21T00:00:00",
                    "2025-09-22T00:00:00",
                    "2025-09-23T00:00:00",
                    "2025-09-24T00:00:00",
                    "2025-09-25T00:00:00",
                    "2025-09-26T00:00:00",
                    "2025-09-27T00:00:00",
                    "2025-09-28T00:00:00",
                    "2025-09-29T00:00:00",
                    "2025-09-30T00:00:00",
                    "2025-10-01T00:00:00",
                    "2025-10-02T00:00:00",
                    "2025-10-03T00:00:00",
                    "2025-10-04T00:00:00",
                    "2025-10-05T00:00:00",
                    "2025-10-06T00:00:00",
                    "2025-10-07T00:00:00",
                    "2025-10-08T00:00:00",
                    "2025-10-09T00:00:00",
                    "2025-10-10T00:00:00",
                    "2025-10-11T00:00:00",
                    "2025-10-12T00:00:00",
                    "2025-10-13T00:00:00",
                    "2025-10-14T00:00:00",
                    "2025-10-15T00:00:00",
                    "2025-10-16T00:00:00",
                    "2025-10-17T00:00:00",
                    "2025-10-18T00:00:00",
                    "2025-10-19T00:00:00",
                    "2025-10-20T00:00:00",
                    "2025-10-20T03:16:51"
                  ],
                  "xaxis": "x",
                  "y": {
                    "bdata": "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",
                    "dtype": "f8"
                  },
                  "yaxis": "y"
                }
              ],
              "layout": {
                "template": {
                  "data": {
                    "bar": [
                      {
                        "error_x": {
                          "color": "#2a3f5f"
                        },
                        "error_y": {
                          "color": "#2a3f5f"
                        },
                        "marker": {
                          "line": {
                            "color": "#E5ECF6",
                            "width": 0.5
                          },
                          "pattern": {
                            "fillmode": "overlay",
                            "size": 10,
                            "solidity": 0.2
                          }
                        },
                        "type": "bar"
                      }
                    ],
                    "barpolar": [
                      {
                        "marker": {
                          "line": {
                            "color": "#E5ECF6",
                            "width": 0.5
                          },
                          "pattern": {
                            "fillmode": "overlay",
                            "size": 10,
                            "solidity": 0.2
                          }
                        },
                        "type": "barpolar"
                      }
                    ],
                    "carpet": [
                      {
                        "aaxis": {
                          "endlinecolor": "#2a3f5f",
                          "gridcolor": "white",
                          "linecolor": "white",
                          "minorgridcolor": "white",
                          "startlinecolor": "#2a3f5f"
                        },
                        "baxis": {
                          "endlinecolor": "#2a3f5f",
                          "gridcolor": "white",
                          "linecolor": "white",
                          "minorgridcolor": "white",
                          "startlinecolor": "#2a3f5f"
                        },
                        "type": "carpet"
                      }
                    ],
                    "choropleth": [
                      {
                        "colorbar": {
                          "outlinewidth": 0,
                          "ticks": ""
                        },
                        "type": "choropleth"
                      }
                    ],
                    "contour": [
                      {
                        "colorbar": {
                          "outlinewidth": 0,
                          "ticks": ""
                        },
                        "colorscale": [
                          [
                            0,
                            "#0d0887"
                          ],
                          [
                            0.1111111111111111,
                            "#46039f"
                          ],
                          [
                            0.2222222222222222,
                            "#7201a8"
                          ],
                          [
                            0.3333333333333333,
                            "#9c179e"
                          ],
                          [
                            0.4444444444444444,
                            "#bd3786"
                          ],
                          [
                            0.5555555555555556,
                            "#d8576b"
                          ],
                          [
                            0.6666666666666666,
                            "#ed7953"
                          ],
                          [
                            0.7777777777777778,
                            "#fb9f3a"
                          ],
                          [
                            0.8888888888888888,
                            "#fdca26"
                          ],
                          [
                            1,
                            "#f0f921"
                          ]
                        ],
                        "type": "contour"
                      }
                    ],
                    "contourcarpet": [
                      {
                        "colorbar": {
                          "outlinewidth": 0,
                          "ticks": ""
                        },
                        "type": "contourcarpet"
                      }
                    ],
                    "heatmap": [
                      {
                        "colorbar": {
                          "outlinewidth": 0,
                          "ticks": ""
                        },
                        "colorscale": [
                          [
                            0,
                            "#0d0887"
                          ],
                          [
                            0.1111111111111111,
                            "#46039f"
                          ],
                          [
                            0.2222222222222222,
                            "#7201a8"
                          ],
                          [
                            0.3333333333333333,
                            "#9c179e"
                          ],
                          [
                            0.4444444444444444,
                            "#bd3786"
                          ],
                          [
                            0.5555555555555556,
                            "#d8576b"
                          ],
                          [
                            0.6666666666666666,
                            "#ed7953"
                          ],
                          [
                            0.7777777777777778,
                            "#fb9f3a"
                          ],
                          [
                            0.8888888888888888,
                            "#fdca26"
                          ],
                          [
                            1,
                            "#f0f921"
                          ]
                        ],
                        "type": "heatmap"
                      }
                    ],
                    "histogram": [
                      {
                        "marker": {
                          "pattern": {
                            "fillmode": "overlay",
                            "size": 10,
                            "solidity": 0.2
                          }
                        },
                        "type": "histogram"
                      }
                    ],
                    "histogram2d": [
                      {
                        "colorbar": {
                          "outlinewidth": 0,
                          "ticks": ""
                        },
                        "colorscale": [
                          [
                            0,
                            "#0d0887"
                          ],
                          [
                            0.1111111111111111,
                            "#46039f"
                          ],
                          [
                            0.2222222222222222,
                            "#7201a8"
                          ],
                          [
                            0.3333333333333333,
                            "#9c179e"
                          ],
                          [
                            0.4444444444444444,
                            "#bd3786"
                          ],
                          [
                            0.5555555555555556,
                            "#d8576b"
                          ],
                          [
                            0.6666666666666666,
                            "#ed7953"
                          ],
                          [
                            0.7777777777777778,
                            "#fb9f3a"
                          ],
                          [
                            0.8888888888888888,
                            "#fdca26"
                          ],
                          [
                            1,
                            "#f0f921"
                          ]
                        ],
                        "type": "histogram2d"
                      }
                    ],
                    "histogram2dcontour": [
                      {
                        "colorbar": {
                          "outlinewidth": 0,
                          "ticks": ""
                        },
                        "colorscale": [
                          [
                            0,
                            "#0d0887"
                          ],
                          [
                            0.1111111111111111,
                            "#46039f"
                          ],
                          [
                            0.2222222222222222,
                            "#7201a8"
                          ],
                          [
                            0.3333333333333333,
                            "#9c179e"
                          ],
                          [
                            0.4444444444444444,
                            "#bd3786"
                          ],
                          [
                            0.5555555555555556,
                            "#d8576b"
                          ],
                          [
                            0.6666666666666666,
                            "#ed7953"
                          ],
                          [
                            0.7777777777777778,
                            "#fb9f3a"
                          ],
                          [
                            0.8888888888888888,
                            "#fdca26"
                          ],
                          [
                            1,
                            "#f0f921"
                          ]
                        ],
                        "type": "histogram2dcontour"
                      }
                    ],
                    "mesh3d": [
                      {
                        "colorbar": {
                          "outlinewidth": 0,
                          "ticks": ""
                        },
                        "type": "mesh3d"
                      }
                    ],
                    "parcoords": [
                      {
                        "line": {
                          "colorbar": {
                            "outlinewidth": 0,
                            "ticks": ""
                          }
                        },
                        "type": "parcoords"
                      }
                    ],
                    "pie": [
                      {
                        "automargin": true,
                        "type": "pie"
                      }
                    ],
                    "scatter": [
                      {
                        "fillpattern": {
                          "fillmode": "overlay",
                          "size": 10,
                          "solidity": 0.2
                        },
                        "type": "scatter"
                      }
                    ],
                    "scatter3d": [
                      {
                        "line": {
                          "colorbar": {
                            "outlinewidth": 0,
                            "ticks": ""
                          }
                        },
                        "marker": {
                          "colorbar": {
                            "outlinewidth": 0,
                            "ticks": ""
                          }
                        },
                        "type": "scatter3d"
                      }
                    ],
                    "scattercarpet": [
                      {
                        "marker": {
                          "colorbar": {
                            "outlinewidth": 0,
                            "ticks": ""
                          }
                        },
                        "type": "scattercarpet"
                      }
                    ],
                    "scattergeo": [
                      {
                        "marker": {
                          "colorbar": {
                            "outlinewidth": 0,
                            "ticks": ""
                          }
                        },
                        "type": "scattergeo"
                      }
                    ],
                    "scattergl": [
                      {
                        "marker": {
                          "colorbar": {
                            "outlinewidth": 0,
                            "ticks": ""
                          }
                        },
                        "type": "scattergl"
                      }
                    ],
                    "scattermap": [
                      {
                        "marker": {
                          "colorbar": {
                            "outlinewidth": 0,
                            "ticks": ""
                          }
                        },
                        "type": "scattermap"
                      }
                    ],
                    "scattermapbox": [
                      {
                        "marker": {
                          "colorbar": {
                            "outlinewidth": 0,
                            "ticks": ""
                          }
                        },
                        "type": "scattermapbox"
                      }
                    ],
                    "scatterpolar": [
                      {
                        "marker": {
                          "colorbar": {
                            "outlinewidth": 0,
                            "ticks": ""
                          }
                        },
                        "type": "scatterpolar"
                      }
                    ],
                    "scatterpolargl": [
                      {
                        "marker": {
                          "colorbar": {
                            "outlinewidth": 0,
                            "ticks": ""
                          }
                        },
                        "type": "scatterpolargl"
                      }
                    ],
                    "scatterternary": [
                      {
                        "marker": {
                          "colorbar": {
                            "outlinewidth": 0,
                            "ticks": ""
                          }
                        },
                        "type": "scatterternary"
                      }
                    ],
                    "surface": [
                      {
                        "colorbar": {
                          "outlinewidth": 0,
                          "ticks": ""
                        },
                        "colorscale": [
                          [
                            0,
                            "#0d0887"
                          ],
                          [
                            0.1111111111111111,
                            "#46039f"
                          ],
                          [
                            0.2222222222222222,
                            "#7201a8"
                          ],
                          [
                            0.3333333333333333,
                            "#9c179e"
                          ],
                          [
                            0.4444444444444444,
                            "#bd3786"
                          ],
                          [
                            0.5555555555555556,
                            "#d8576b"
                          ],
                          [
                            0.6666666666666666,
                            "#ed7953"
                          ],
                          [
                            0.7777777777777778,
                            "#fb9f3a"
                          ],
                          [
                            0.8888888888888888,
                            "#fdca26"
                          ],
                          [
                            1,
                            "#f0f921"
                          ]
                        ],
                        "type": "surface"
                      }
                    ],
                    "table": [
                      {
                        "cells": {
                          "fill": {
                            "color": "#EBF0F8"
                          },
                          "line": {
                            "color": "white"
                          }
                        },
                        "header": {
                          "fill": {
                            "color": "#C8D4E3"
                          },
                          "line": {
                            "color": "white"
                          }
                        },
                        "type": "table"
                      }
                    ]
                  },
                  "layout": {
                    "annotationdefaults": {
                      "arrowcolor": "#2a3f5f",
                      "arrowhead": 0,
                      "arrowwidth": 1
                    },
                    "autotypenumbers": "strict",
                    "coloraxis": {
                      "colorbar": {
                        "outlinewidth": 0,
                        "ticks": ""
                      }
                    },
                    "colorscale": {
                      "diverging": [
                        [
                          0,
                          "#8e0152"
                        ],
                        [
                          0.1,
                          "#c51b7d"
                        ],
                        [
                          0.2,
                          "#de77ae"
                        ],
                        [
                          0.3,
                          "#f1b6da"
                        ],
                        [
                          0.4,
                          "#fde0ef"
                        ],
                        [
                          0.5,
                          "#f7f7f7"
                        ],
                        [
                          0.6,
                          "#e6f5d0"
                        ],
                        [
                          0.7,
                          "#b8e186"
                        ],
                        [
                          0.8,
                          "#7fbc41"
                        ],
                        [
                          0.9,
                          "#4d9221"
                        ],
                        [
                          1,
                          "#276419"
                        ]
                      ],
                      "sequential": [
                        [
                          0,
                          "#0d0887"
                        ],
                        [
                          0.1111111111111111,
                          "#46039f"
                        ],
                        [
                          0.2222222222222222,
                          "#7201a8"
                        ],
                        [
                          0.3333333333333333,
                          "#9c179e"
                        ],
                        [
                          0.4444444444444444,
                          "#bd3786"
                        ],
                        [
                          0.5555555555555556,
                          "#d8576b"
                        ],
                        [
                          0.6666666666666666,
                          "#ed7953"
                        ],
                        [
                          0.7777777777777778,
                          "#fb9f3a"
                        ],
                        [
                          0.8888888888888888,
                          "#fdca26"
                        ],
                        [
                          1,
                          "#f0f921"
                        ]
                      ],
                      "sequentialminus": [
                        [
                          0,
                          "#0d0887"
                        ],
                        [
                          0.1111111111111111,
                          "#46039f"
                        ],
                        [
                          0.2222222222222222,
                          "#7201a8"
                        ],
                        [
                          0.3333333333333333,
                          "#9c179e"
                        ],
                        [
                          0.4444444444444444,
                          "#bd3786"
                        ],
                        [
                          0.5555555555555556,
                          "#d8576b"
                        ],
                        [
                          0.6666666666666666,
                          "#ed7953"
                        ],
                        [
                          0.7777777777777778,
                          "#fb9f3a"
                        ],
                        [
                          0.8888888888888888,
                          "#fdca26"
                        ],
                        [
                          1,
                          "#f0f921"
                        ]
                      ]
                    },
                    "colorway": [
                      "#636efa",
                      "#EF553B",
                      "#00cc96",
                      "#ab63fa",
                      "#FFA15A",
                      "#19d3f3",
                      "#FF6692",
                      "#B6E880",
                      "#FF97FF",
                      "#FECB52"
                    ],
                    "font": {
                      "color": "#2a3f5f"
                    },
                    "geo": {
                      "bgcolor": "white",
                      "lakecolor": "white",
                      "landcolor": "#E5ECF6",
                      "showlakes": true,
                      "showland": true,
                      "subunitcolor": "white"
                    },
                    "hoverlabel": {
                      "align": "left"
                    },
                    "hovermode": "closest",
                    "mapbox": {
                      "style": "light"
                    },
                    "paper_bgcolor": "white",
                    "plot_bgcolor": "#E5ECF6",
                    "polar": {
                      "angularaxis": {
                        "gridcolor": "white",
                        "linecolor": "white",
                        "ticks": ""
                      },
                      "bgcolor": "#E5ECF6",
                      "radialaxis": {
                        "gridcolor": "white",
                        "linecolor": "white",
                        "ticks": ""
                      }
                    },
                    "scene": {
                      "xaxis": {
                        "backgroundcolor": "#E5ECF6",
                        "gridcolor": "white",
                        "gridwidth": 2,
                        "linecolor": "white",
                        "showbackground": true,
                        "ticks": "",
                        "zerolinecolor": "white"
                      },
                      "yaxis": {
                        "backgroundcolor": "#E5ECF6",
                        "gridcolor": "white",
                        "gridwidth": 2,
                        "linecolor": "white",
                        "showbackground": true,
                        "ticks": "",
                        "zerolinecolor": "white"
                      },
                      "zaxis": {
                        "backgroundcolor": "#E5ECF6",
                        "gridcolor": "white",
                        "gridwidth": 2,
                        "linecolor": "white",
                        "showbackground": true,
                        "ticks": "",
                        "zerolinecolor": "white"
                      }
                    },
                    "shapedefaults": {
                      "line": {
                        "color": "#2a3f5f"
                      }
                    },
                    "ternary": {
                      "aaxis": {
                        "gridcolor": "white",
                        "linecolor": "white",
                        "ticks": ""
                      },
                      "baxis": {
                        "gridcolor": "white",
                        "linecolor": "white",
                        "ticks": ""
                      },
                      "bgcolor": "#E5ECF6",
                      "caxis": {
                        "gridcolor": "white",
                        "linecolor": "white",
                        "ticks": ""
                      }
                    },
                    "title": {
                      "x": 0.05
                    },
                    "xaxis": {
                      "automargin": true,
                      "gridcolor": "white",
                      "linecolor": "white",
                      "ticks": "",
                      "title": {
                        "standoff": 15
                      },
                      "zerolinecolor": "white",
                      "zerolinewidth": 2
                    },
                    "yaxis": {
                      "automargin": true,
                      "gridcolor": "white",
                      "linecolor": "white",
                      "ticks": "",
                      "title": {
                        "standoff": 15
                      },
                      "zerolinecolor": "white",
                      "zerolinewidth": 2
                    }
                  }
                },
                "title": {
                  "text": "Bitcoin Price, Trading Volume, Market Cap, and Moving Averages Over Time"
                },
                "xaxis": {
                  "anchor": "y",
                  "domain": [
                    0,
                    0.94
                  ],
                  "title": {
                    "text": "Timestamp"
                  }
                },
                "yaxis": {
                  "anchor": "x",
                  "domain": [
                    0,
                    1
                  ],
                  "title": {
                    "text": "Price (USD)"
                  }
                },
                "yaxis2": {
                  "anchor": "x",
                  "overlaying": "y",
                  "side": "right",
                  "title": {
                    "text": "Volume (USD)"
                  }
                },
                "yaxis3": {
                  "overlaying": "y",
                  "position": 0.85,
                  "side": "right",
                  "title": {
                    "text": "Market Cap (USD)"
                  }
                }
              }
            }
          },
          "metadata": {},
          "output_type": "display_data"
        }
      ],
      "source": [
        "fig = make_subplots(specs=[[{\"secondary_y\": True}]])\n",
        "\n",
        "fig.add_trace(\n",
        "    go.Scatter(x=df_combined.index, y=df_combined['price'], name='Price'),\n",
        "    secondary_y=False,\n",
        ")\n",
        "\n",
        "fig.add_trace(\n",
        "    go.Scatter(x=df_combined.index, y=df_combined['volume'], name='Volume'),\n",
        "    secondary_y=True,\n",
        ")\n",
        "\n",
        "fig.add_trace(\n",
        "    go.Scatter(x=df_combined.index, y=df_combined['market_cap'], name='Market Cap', yaxis='y3'),\n",
        "    secondary_y=True,\n",
        ")\n",
        "\n",
        "fig.add_trace(\n",
        "    go.Scatter(x=prices.index, y=prices['SMA_50'], name='SMA 50'),\n",
        "    secondary_y=False,\n",
        ")\n",
        "\n",
        "fig.add_trace(\n",
        "    go.Scatter(x=prices.index, y=prices['SMA_200'], name='SMA 200'),\n",
        "    secondary_y=False,\n",
        ")\n",
        "\n",
        "fig.update_layout(\n",
        "    title_text='Bitcoin Price, Trading Volume, Market Cap, and Moving Averages Over Time',\n",
        "    xaxis_title='Timestamp',\n",
        "    yaxis=dict(title='Price (USD)'),\n",
        "    yaxis2=dict(title='Volume (USD)', overlaying='y', side='right'),\n",
        "    yaxis3=dict(title='Market Cap (USD)', overlaying='y', side='right', position=0.85)\n",
        ")\n",
        "\n",
        "fig.show()"
      ]
    },
    {
      "cell_type": "code",
      "execution_count": 26,
      "metadata": {},
      "outputs": [
        {
          "name": "stderr",
          "output_type": "stream",
          "text": [
            "21:22:11 - cmdstanpy - INFO - Chain [1] start processing\n",
            "21:22:11 - cmdstanpy - INFO - Chain [1] done processing\n",
            "/opt/anaconda3/lib/python3.13/site-packages/prophet/forecaster.py:1418: RuntimeWarning:\n",
            "\n",
            "divide by zero encountered in matmul\n",
            "\n",
            "/opt/anaconda3/lib/python3.13/site-packages/prophet/forecaster.py:1418: RuntimeWarning:\n",
            "\n",
            "overflow encountered in matmul\n",
            "\n",
            "/opt/anaconda3/lib/python3.13/site-packages/prophet/forecaster.py:1418: RuntimeWarning:\n",
            "\n",
            "invalid value encountered in matmul\n",
            "\n",
            "/opt/anaconda3/lib/python3.13/site-packages/prophet/forecaster.py:1562: RuntimeWarning:\n",
            "\n",
            "divide by zero encountered in matmul\n",
            "\n",
            "/opt/anaconda3/lib/python3.13/site-packages/prophet/forecaster.py:1562: RuntimeWarning:\n",
            "\n",
            "overflow encountered in matmul\n",
            "\n",
            "/opt/anaconda3/lib/python3.13/site-packages/prophet/forecaster.py:1562: RuntimeWarning:\n",
            "\n",
            "invalid value encountered in matmul\n",
            "\n",
            "/opt/anaconda3/lib/python3.13/site-packages/prophet/forecaster.py:1564: RuntimeWarning:\n",
            "\n",
            "divide by zero encountered in matmul\n",
            "\n",
            "/opt/anaconda3/lib/python3.13/site-packages/prophet/forecaster.py:1564: RuntimeWarning:\n",
            "\n",
            "overflow encountered in matmul\n",
            "\n",
            "/opt/anaconda3/lib/python3.13/site-packages/prophet/forecaster.py:1564: RuntimeWarning:\n",
            "\n",
            "invalid value encountered in matmul\n",
            "\n"
          ]
        },
        {
          "data": {
            "image/png": "[encoded data removed]",
            "text/plain": [
              "<Figure size 1000x600 with 1 Axes>"
            ]
          },
          "execution_count": 26,
          "metadata": {},
          "output_type": "execute_result"
        },
        {
          "data": {
            "image/png": "[encoded data removed]",
            "text/plain": [
              "<Figure size 1000x600 with 1 Axes>"
            ]
          },
          "metadata": {},
          "output_type": "display_data"
        }
      ],
      "source": [
        "## Predict the price of Bitcoin for 2030 using Prophet\n",
        "from prophet import Prophet\n",
        "\n",
        "# Prepare the data for Prophet\n",
        "df_prophet = prices.reset_index()[['timestamp', 'price']]\n",
        "df_prophet.columns = ['ds', 'y']\n",
        "\n",
        "# Initialize and fit the Prophet model\n",
        "model = Prophet()\n",
        "model.fit(df_prophet)\n",
        "\n",
        "# Create a DataFrame for future predictions\n",
        "future = model.make_future_dataframe(periods=365*10)  # Predict 10 years into the future\n",
        "\n",
        "# Make predictions\n",
        "forecast = model.predict(future)\n",
        "\n",
        "# Plot the forecast\n",
        "model.plot(forecast)"
      ]
    },
    {
      "cell_type": "markdown",
      "metadata": {
        "id": "59e773ff"
      },
      "source": [
        "## Summary:\n",
        "\n",
        "### Data Analysis Key Findings\n",
        "\n",
        "*   The 50-day and 200-day Simple Moving Averages (SMA) were calculated and added as new columns ('SMA\\_50' and 'SMA\\_200') to the `prices` DataFrame.\n",
        "*   The visualization was successfully updated to include lines for the calculated 50-day and 200-day SMAs on the primary y-axis, alongside the Bitcoin price.\n",
        "*   The final plot displays Bitcoin's price, trading volume, market cap, and the two moving averages over time.\n",
        "\n",
        "### Insights or Next Steps\n",
        "\n",
        "*   Analyze the relationship between the price and the moving averages (e.g., crossovers) to identify potential trends or signals.\n",
        "*   Consider adding other technical indicators (e.g., RSI, MACD) to the plot for a more comprehensive technical analysis.\n"
      ]
    },
    {
      "cell_type": "code",
      "execution_count": 28,
      "metadata": {},
      "outputs": [
        {
          "data": {
            "text/html": [
              "\n",
              "        <iframe\n",
              "            width=\"100%\"\n",
              "            height=\"650\"\n",
              "            src=\"http://127.0.0.1:8050/\"\n",
              "            frameborder=\"0\"\n",
              "            allowfullscreen\n",
              "            \n",
              "        ></iframe>\n",
              "        "
            ],
            "text/plain": [
              "<IPython.lib.display.IFrame at 0x12f9b81a0>"
            ]
          },
          "metadata": {},
          "output_type": "display_data"
        }
      ],
      "source": [
        "## Display graphs in Github Pages using Dash\n",
        "import dash\n",
        "from dash import dcc, html\n",
        "import plotly.graph_objs as go\n",
        "\n",
        "app = dash.Dash(__name__)\n",
        "\n",
        "app.layout = html.Div([\n",
        "    dcc.Graph(\n",
        "        id='bitcoin-price-graph',\n",
        "        figure=fig\n",
        "    )\n",
        "])\n",
        "\n",
        "if __name__ == '__main__':\n",
        "    app.run(debug=True)\n"
      ]
    }
  ],
  "metadata": {
    "colab": {
      "authorship_tag": "ABX9TyPY7dIlYui8QG1MF9Ufyf3q",
      "include_colab_link": true,
      "provenance": []
    },
    "kernelspec": {
      "display_name": "base",
      "language": "python",
      "name": "python3"
    },
    "language_info": {
      "codemirror_mode": {
        "name": "ipython",
        "version": 3
      },
      "file_extension": ".py",
      "mimetype": "text/x-python",
      "name": "python",
      "nbconvert_exporter": "python",
      "pygments_lexer": "ipython3",
      "version": "3.13.5"
    }
  },
  "nbformat": 4,
  "nbformat_minor": 0
}
