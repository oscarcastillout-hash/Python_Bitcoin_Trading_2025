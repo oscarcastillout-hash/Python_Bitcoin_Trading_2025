{
  "nbformat": 4,
  "nbformat_minor": 0,
  "metadata": {
    "colab": {
      "provenance": [],
      "authorship_tag": "ABX9TyPY7dIlYui8QG1MF9Ufyf3q",
      "include_colab_link": true
    },
    "kernelspec": {
      "name": "python3",
      "display_name": "Python 3"
    },
    "language_info": {
      "name": "python"
    }
  },
  "cells": [
    {
      "cell_type": "markdown",
      "metadata": {
        "id": "view-in-github",
        "colab_type": "text"
      },
      "source": [
        "<a href=\"https://colab.research.google.com/github/oscarcastillout-hash/Python_Bitcoin_Trading_2025/blob/main/Bitcoin_Trading.ipynb\" target=\"_parent\"><img src=\"https://colab.research.google.com/assets/colab-badge.svg\" alt=\"Open In Colab\"/></a>"
      ]
    },
    {
      "cell_type": "markdown",
      "source": [
        "# 📈 Bitcoin Price Analysis (2024–2025)\n",
        "\n",
        "This project analyzes the historical price trends of Bitcoin over the past year using Python. It demonstrates data acquisition from public APIs, interactive visualization with Plotly, and technical indicator computation for exploratory financial analysis.\n",
        "\n",
        "---\n",
        "\n",
        "## 🔍 Project Overview\n",
        "\n",
        "- **Asset**: Bitcoin (BTC)\n",
        "- **Timeframe**: October 2024 – October 2025\n",
        "- **Data Source**: CoinGecko API\n",
        "- **Tools Used**: Python, Pandas, Plotly, Dash, TA-Lib\n",
        "- **Focus Areas**:\n",
        "  - Price evolution and volatility\n",
        "  - Daily returns and cumulative growth\n",
        "  - RSI and other technical indicators\n",
        "  - Interactive dashboard (optional)\n",
        "\n",
        "---\n",
        "\n",
        "## 🧰 Features\n",
        "\n",
        "- ✅ Fetches past year of historical BTC price data\n",
        "- 📊 Visualizes price trends with interactive charts\n",
        "- 📈 Computes daily returns and volatility\n",
        "- 📉 Adds technical indicators (RSI, MACD)\n",
        "- 🧪 Optional: Forecasting with Prophet or LSTM\n",
        "- 🧱 Modular code structure for reproducibility\n",
        "\n"
      ],
      "metadata": {
        "id": "NGIf9em_nJe-"
      }
    },
    {
      "cell_type": "code",
      "execution_count": null,
      "metadata": {
        "colab": {
          "base_uri": "https://localhost:8080/"
        },
        "id": "2oNIhH7bnHVQ",
        "outputId": "20f0aa9f-0133-4350-a56b-1833379e74d2"
      },
      "outputs": [
        {
          "output_type": "stream",
          "name": "stdout",
          "text": [
            "Requirement already satisfied: pandas in /usr/local/lib/python3.12/dist-packages (2.2.2)\n",
            "Requirement already satisfied: requests in /usr/local/lib/python3.12/dist-packages (2.32.4)\n",
            "Requirement already satisfied: plotly in /usr/local/lib/python3.12/dist-packages (5.24.1)\n",
            "Collecting dash\n",
            "  Downloading dash-3.2.0-py3-none-any.whl.metadata (10 kB)\n",
            "Requirement already satisfied: numpy>=1.26.0 in /usr/local/lib/python3.12/dist-packages (from pandas) (2.0.2)\n",
            "Requirement already satisfied: python-dateutil>=2.8.2 in /usr/local/lib/python3.12/dist-packages (from pandas) (2.9.0.post0)\n",
            "Requirement already satisfied: pytz>=2020.1 in /usr/local/lib/python3.12/dist-packages (from pandas) (2025.2)\n",
            "Requirement already satisfied: tzdata>=2022.7 in /usr/local/lib/python3.12/dist-packages (from pandas) (2025.2)\n",
            "Requirement already satisfied: charset_normalizer<4,>=2 in /usr/local/lib/python3.12/dist-packages (from requests) (3.4.4)\n",
            "Requirement already satisfied: idna<4,>=2.5 in /usr/local/lib/python3.12/dist-packages (from requests) (3.11)\n",
            "Requirement already satisfied: urllib3<3,>=1.21.1 in /usr/local/lib/python3.12/dist-packages (from requests) (2.5.0)\n",
            "Requirement already satisfied: certifi>=2017.4.17 in /usr/local/lib/python3.12/dist-packages (from requests) (2025.10.5)\n",
            "Requirement already satisfied: tenacity>=6.2.0 in /usr/local/lib/python3.12/dist-packages (from plotly) (8.5.0)\n",
            "Requirement already satisfied: packaging in /usr/local/lib/python3.12/dist-packages (from plotly) (25.0)\n",
            "Requirement already satisfied: Flask<3.2,>=1.0.4 in /usr/local/lib/python3.12/dist-packages (from dash) (3.1.2)\n",
            "Requirement already satisfied: Werkzeug<3.2 in /usr/local/lib/python3.12/dist-packages (from dash) (3.1.3)\n",
            "Requirement already satisfied: importlib-metadata in /usr/local/lib/python3.12/dist-packages (from dash) (8.7.0)\n",
            "Requirement already satisfied: typing-extensions>=4.1.1 in /usr/local/lib/python3.12/dist-packages (from dash) (4.15.0)\n",
            "Collecting retrying (from dash)\n",
            "  Downloading retrying-1.4.2-py3-none-any.whl.metadata (5.5 kB)\n",
            "Requirement already satisfied: nest-asyncio in /usr/local/lib/python3.12/dist-packages (from dash) (1.6.0)\n",
            "Requirement already satisfied: setuptools in /usr/local/lib/python3.12/dist-packages (from dash) (75.2.0)\n",
            "Requirement already satisfied: blinker>=1.9.0 in /usr/local/lib/python3.12/dist-packages (from Flask<3.2,>=1.0.4->dash) (1.9.0)\n",
            "Requirement already satisfied: click>=8.1.3 in /usr/local/lib/python3.12/dist-packages (from Flask<3.2,>=1.0.4->dash) (8.3.0)\n",
            "Requirement already satisfied: itsdangerous>=2.2.0 in /usr/local/lib/python3.12/dist-packages (from Flask<3.2,>=1.0.4->dash) (2.2.0)\n",
            "Requirement already satisfied: jinja2>=3.1.2 in /usr/local/lib/python3.12/dist-packages (from Flask<3.2,>=1.0.4->dash) (3.1.6)\n",
            "Requirement already satisfied: markupsafe>=2.1.1 in /usr/local/lib/python3.12/dist-packages (from Flask<3.2,>=1.0.4->dash) (3.0.3)\n",
            "Requirement already satisfied: six>=1.5 in /usr/local/lib/python3.12/dist-packages (from python-dateutil>=2.8.2->pandas) (1.17.0)\n",
            "Requirement already satisfied: zipp>=3.20 in /usr/local/lib/python3.12/dist-packages (from importlib-metadata->dash) (3.23.0)\n",
            "Downloading dash-3.2.0-py3-none-any.whl (7.9 MB)\n",
            "\u001b[2K   \u001b[90m━━━━━━━━━━━━━━━━━━━━━━━━━━━━━━━━━━━━━━━━\u001b[0m \u001b[32m7.9/7.9 MB\u001b[0m \u001b[31m58.3 MB/s\u001b[0m eta \u001b[36m0:00:00\u001b[0m\n",
            "\u001b[?25hDownloading retrying-1.4.2-py3-none-any.whl (10 kB)\n",
            "Installing collected packages: retrying, dash\n",
            "Successfully installed dash-3.2.0 retrying-1.4.2\n"
          ]
        }
      ],
      "source": [
        "## Install libraries\n",
        "!pip install pandas requests plotly dash"
      ]
    },
    {
      "cell_type": "code",
      "source": [
        "## Fetch Historical Data\n",
        "import requests\n",
        "import pandas as pd\n",
        "\n",
        "url = \"https://api.coingecko.com/api/v3/coins/bitcoin/market_chart\"\n",
        "params = {\"vs_currency\": \"usd\", \"days\": \"365\"}  # ~1 year\n",
        "\n",
        "data = requests.get(url, params=params).json()\n",
        "\n",
        "if 'prices' in data:\n",
        "    prices = pd.DataFrame(data['prices'], columns=['timestamp', 'price'])\n",
        "    prices['timestamp'] = pd.to_datetime(prices['timestamp'], unit='ms')\n",
        "    prices.set_index('timestamp', inplace=True)\n",
        "    print(\"Data fetched successfully for the last 365 days.\")\n",
        "else:\n",
        "    print(\"Error fetching data from CoinGecko API:\", data)"
      ],
      "metadata": {
        "id": "7I3mn660nzt5",
        "colab": {
          "base_uri": "https://localhost:8080/",
          "height": 0
        },
        "outputId": "1b66fddd-4d0b-4613-acf0-3683e9e8904d"
      },
      "execution_count": 10,
      "outputs": [
        {
          "output_type": "stream",
          "name": "stdout",
          "text": [
            "Data fetched successfully for the last 365 days.\n"
          ]
        }
      ]
    },
    {
      "cell_type": "code",
      "metadata": {
        "colab": {
          "base_uri": "https://localhost:8080/",
          "height": 300
        },
        "id": "faa68068",
        "outputId": "0ee6752b-9323-436a-ac76-a15c0b6eef99"
      },
      "source": [
        "## Show summary statistics\n",
        "display(prices.describe())"
      ],
      "execution_count": 11,
      "outputs": [
        {
          "output_type": "display_data",
          "data": {
            "text/plain": [
              "               price\n",
              "count     366.000000\n",
              "mean   100166.734962\n",
              "std     13394.368999\n",
              "min     66585.665355\n",
              "25%     93130.490385\n",
              "50%    101359.620179\n",
              "75%    110249.364275\n",
              "max    124773.508231"
            ],
            "text/html": [
              "\n",
              "  <div id=\"df-2d990dec-3f59-4235-964e-72b83b6d111c\" class=\"colab-df-container\">\n",
              "    <div>\n",
              "<style scoped>\n",
              "    .dataframe tbody tr th:only-of-type {\n",
              "        vertical-align: middle;\n",
              "    }\n",
              "\n",
              "    .dataframe tbody tr th {\n",
              "        vertical-align: top;\n",
              "    }\n",
              "\n",
              "    .dataframe thead th {\n",
              "        text-align: right;\n",
              "    }\n",
              "</style>\n",
              "<table border=\"1\" class=\"dataframe\">\n",
              "  <thead>\n",
              "    <tr style=\"text-align: right;\">\n",
              "      <th></th>\n",
              "      <th>price</th>\n",
              "    </tr>\n",
              "  </thead>\n",
              "  <tbody>\n",
              "    <tr>\n",
              "      <th>count</th>\n",
              "      <td>366.000000</td>\n",
              "    </tr>\n",
              "    <tr>\n",
              "      <th>mean</th>\n",
              "      <td>100166.734962</td>\n",
              "    </tr>\n",
              "    <tr>\n",
              "      <th>std</th>\n",
              "      <td>13394.368999</td>\n",
              "    </tr>\n",
              "    <tr>\n",
              "      <th>min</th>\n",
              "      <td>66585.665355</td>\n",
              "    </tr>\n",
              "    <tr>\n",
              "      <th>25%</th>\n",
              "      <td>93130.490385</td>\n",
              "    </tr>\n",
              "    <tr>\n",
              "      <th>50%</th>\n",
              "      <td>101359.620179</td>\n",
              "    </tr>\n",
              "    <tr>\n",
              "      <th>75%</th>\n",
              "      <td>110249.364275</td>\n",
              "    </tr>\n",
              "    <tr>\n",
              "      <th>max</th>\n",
              "      <td>124773.508231</td>\n",
              "    </tr>\n",
              "  </tbody>\n",
              "</table>\n",
              "</div>\n",
              "    <div class=\"colab-df-buttons\">\n",
              "\n",
              "  <div class=\"colab-df-container\">\n",
              "    <button class=\"colab-df-convert\" onclick=\"convertToInteractive('df-2d990dec-3f59-4235-964e-72b83b6d111c')\"\n",
              "            title=\"Convert this dataframe to an interactive table.\"\n",
              "            style=\"display:none;\">\n",
              "\n",
              "  <svg xmlns=\"http://www.w3.org/2000/svg\" height=\"24px\" viewBox=\"0 -960 960 960\">\n",
              "    <path d=\"M120-120v-720h720v720H120Zm60-500h600v-160H180v160Zm220 220h160v-160H400v160Zm0 220h160v-160H400v160ZM180-400h160v-160H180v160Zm440 0h160v-160H620v160ZM180-180h160v-160H180v160Zm440 0h160v-160H620v160Z\"/>\n",
              "  </svg>\n",
              "    </button>\n",
              "\n",
              "  <style>\n",
              "    .colab-df-container {\n",
              "      display:flex;\n",
              "      gap: 12px;\n",
              "    }\n",
              "\n",
              "    .colab-df-convert {\n",
              "      background-color: #E8F0FE;\n",
              "      border: none;\n",
              "      border-radius: 50%;\n",
              "      cursor: pointer;\n",
              "      display: none;\n",
              "      fill: #1967D2;\n",
              "      height: 32px;\n",
              "      padding: 0 0 0 0;\n",
              "      width: 32px;\n",
              "    }\n",
              "\n",
              "    .colab-df-convert:hover {\n",
              "      background-color: #E2EBFA;\n",
              "      box-shadow: 0px 1px 2px rgba(60, 64, 67, 0.3), 0px 1px 3px 1px rgba(60, 64, 67, 0.15);\n",
              "      fill: #174EA6;\n",
              "    }\n",
              "\n",
              "    .colab-df-buttons div {\n",
              "      margin-bottom: 4px;\n",
              "    }\n",
              "\n",
              "    [theme=dark] .colab-df-convert {\n",
              "      background-color: #3B4455;\n",
              "      fill: #D2E3FC;\n",
              "    }\n",
              "\n",
              "    [theme=dark] .colab-df-convert:hover {\n",
              "      background-color: #434B5C;\n",
              "      box-shadow: 0px 1px 3px 1px rgba(0, 0, 0, 0.15);\n",
              "      filter: drop-shadow(0px 1px 2px rgba(0, 0, 0, 0.3));\n",
              "      fill: #FFFFFF;\n",
              "    }\n",
              "  </style>\n",
              "\n",
              "    <script>\n",
              "      const buttonEl =\n",
              "        document.querySelector('#df-2d990dec-3f59-4235-964e-72b83b6d111c button.colab-df-convert');\n",
              "      buttonEl.style.display =\n",
              "        google.colab.kernel.accessAllowed ? 'block' : 'none';\n",
              "\n",
              "      async function convertToInteractive(key) {\n",
              "        const element = document.querySelector('#df-2d990dec-3f59-4235-964e-72b83b6d111c');\n",
              "        const dataTable =\n",
              "          await google.colab.kernel.invokeFunction('convertToInteractive',\n",
              "                                                    [key], {});\n",
              "        if (!dataTable) return;\n",
              "\n",
              "        const docLinkHtml = 'Like what you see? Visit the ' +\n",
              "          '<a target=\"_blank\" href=https://colab.research.google.com/notebooks/data_table.ipynb>data table notebook</a>'\n",
              "          + ' to learn more about interactive tables.';\n",
              "        element.innerHTML = '';\n",
              "        dataTable['output_type'] = 'display_data';\n",
              "        await google.colab.output.renderOutput(dataTable, element);\n",
              "        const docLink = document.createElement('div');\n",
              "        docLink.innerHTML = docLinkHtml;\n",
              "        element.appendChild(docLink);\n",
              "      }\n",
              "    </script>\n",
              "  </div>\n",
              "\n",
              "\n",
              "    <div id=\"df-b6aa5141-422e-4539-967d-84f2412941ce\">\n",
              "      <button class=\"colab-df-quickchart\" onclick=\"quickchart('df-b6aa5141-422e-4539-967d-84f2412941ce')\"\n",
              "                title=\"Suggest charts\"\n",
              "                style=\"display:none;\">\n",
              "\n",
              "<svg xmlns=\"http://www.w3.org/2000/svg\" height=\"24px\"viewBox=\"0 0 24 24\"\n",
              "     width=\"24px\">\n",
              "    <g>\n",
              "        <path d=\"M19 3H5c-1.1 0-2 .9-2 2v14c0 1.1.9 2 2 2h14c1.1 0 2-.9 2-2V5c0-1.1-.9-2-2-2zM9 17H7v-7h2v7zm4 0h-2V7h2v10zm4 0h-2v-4h2v4z\"/>\n",
              "    </g>\n",
              "</svg>\n",
              "      </button>\n",
              "\n",
              "<style>\n",
              "  .colab-df-quickchart {\n",
              "      --bg-color: #E8F0FE;\n",
              "      --fill-color: #1967D2;\n",
              "      --hover-bg-color: #E2EBFA;\n",
              "      --hover-fill-color: #174EA6;\n",
              "      --disabled-fill-color: #AAA;\n",
              "      --disabled-bg-color: #DDD;\n",
              "  }\n",
              "\n",
              "  [theme=dark] .colab-df-quickchart {\n",
              "      --bg-color: #3B4455;\n",
              "      --fill-color: #D2E3FC;\n",
              "      --hover-bg-color: #434B5C;\n",
              "      --hover-fill-color: #FFFFFF;\n",
              "      --disabled-bg-color: #3B4455;\n",
              "      --disabled-fill-color: #666;\n",
              "  }\n",
              "\n",
              "  .colab-df-quickchart {\n",
              "    background-color: var(--bg-color);\n",
              "    border: none;\n",
              "    border-radius: 50%;\n",
              "    cursor: pointer;\n",
              "    display: none;\n",
              "    fill: var(--fill-color);\n",
              "    height: 32px;\n",
              "    padding: 0;\n",
              "    width: 32px;\n",
              "  }\n",
              "\n",
              "  .colab-df-quickchart:hover {\n",
              "    background-color: var(--hover-bg-color);\n",
              "    box-shadow: 0 1px 2px rgba(60, 64, 67, 0.3), 0 1px 3px 1px rgba(60, 64, 67, 0.15);\n",
              "    fill: var(--button-hover-fill-color);\n",
              "  }\n",
              "\n",
              "  .colab-df-quickchart-complete:disabled,\n",
              "  .colab-df-quickchart-complete:disabled:hover {\n",
              "    background-color: var(--disabled-bg-color);\n",
              "    fill: var(--disabled-fill-color);\n",
              "    box-shadow: none;\n",
              "  }\n",
              "\n",
              "  .colab-df-spinner {\n",
              "    border: 2px solid var(--fill-color);\n",
              "    border-color: transparent;\n",
              "    border-bottom-color: var(--fill-color);\n",
              "    animation:\n",
              "      spin 1s steps(1) infinite;\n",
              "  }\n",
              "\n",
              "  @keyframes spin {\n",
              "    0% {\n",
              "      border-color: transparent;\n",
              "      border-bottom-color: var(--fill-color);\n",
              "      border-left-color: var(--fill-color);\n",
              "    }\n",
              "    20% {\n",
              "      border-color: transparent;\n",
              "      border-left-color: var(--fill-color);\n",
              "      border-top-color: var(--fill-color);\n",
              "    }\n",
              "    30% {\n",
              "      border-color: transparent;\n",
              "      border-left-color: var(--fill-color);\n",
              "      border-top-color: var(--fill-color);\n",
              "      border-right-color: var(--fill-color);\n",
              "    }\n",
              "    40% {\n",
              "      border-color: transparent;\n",
              "      border-right-color: var(--fill-color);\n",
              "      border-top-color: var(--fill-color);\n",
              "    }\n",
              "    60% {\n",
              "      border-color: transparent;\n",
              "      border-right-color: var(--fill-color);\n",
              "    }\n",
              "    80% {\n",
              "      border-color: transparent;\n",
              "      border-right-color: var(--fill-color);\n",
              "      border-bottom-color: var(--fill-color);\n",
              "    }\n",
              "    90% {\n",
              "      border-color: transparent;\n",
              "      border-bottom-color: var(--fill-color);\n",
              "    }\n",
              "  }\n",
              "</style>\n",
              "\n",
              "      <script>\n",
              "        async function quickchart(key) {\n",
              "          const quickchartButtonEl =\n",
              "            document.querySelector('#' + key + ' button');\n",
              "          quickchartButtonEl.disabled = true;  // To prevent multiple clicks.\n",
              "          quickchartButtonEl.classList.add('colab-df-spinner');\n",
              "          try {\n",
              "            const charts = await google.colab.kernel.invokeFunction(\n",
              "                'suggestCharts', [key], {});\n",
              "          } catch (error) {\n",
              "            console.error('Error during call to suggestCharts:', error);\n",
              "          }\n",
              "          quickchartButtonEl.classList.remove('colab-df-spinner');\n",
              "          quickchartButtonEl.classList.add('colab-df-quickchart-complete');\n",
              "        }\n",
              "        (() => {\n",
              "          let quickchartButtonEl =\n",
              "            document.querySelector('#df-b6aa5141-422e-4539-967d-84f2412941ce button');\n",
              "          quickchartButtonEl.style.display =\n",
              "            google.colab.kernel.accessAllowed ? 'block' : 'none';\n",
              "        })();\n",
              "      </script>\n",
              "    </div>\n",
              "\n",
              "    </div>\n",
              "  </div>\n"
            ],
            "application/vnd.google.colaboratory.intrinsic+json": {
              "type": "dataframe",
              "summary": "{\n  \"name\": \"display(prices\",\n  \"rows\": 8,\n  \"fields\": [\n    {\n      \"column\": \"price\",\n      \"properties\": {\n        \"dtype\": \"number\",\n        \"std\": 45982.221564942665,\n        \"min\": 366.0,\n        \"max\": 124773.50823074432,\n        \"num_unique_values\": 8,\n        \"samples\": [\n          100166.73496162401,\n          101359.62017922828,\n          366.0\n        ],\n        \"semantic_type\": \"\",\n        \"description\": \"\"\n      }\n    }\n  ]\n}"
            }
          },
          "metadata": {}
        }
      ]
    },
    {
      "cell_type": "code",
      "metadata": {
        "colab": {
          "base_uri": "https://localhost:8080/",
          "height": 542
        },
        "id": "8a31962f",
        "outputId": "f852bbf7-f8e9-4d48-c0f6-0c062370524b"
      },
      "source": [
        "## Visualization of trading over the past year\n",
        "import plotly.express as px\n",
        "\n",
        "fig = px.line(prices, x=prices.index, y='price', title='Bitcoin Price Over Time')\n",
        "fig.show()"
      ],
      "execution_count": 13,
      "outputs": [
        {
          "output_type": "display_data",
          "data": {
            "text/html": [
              "<html>\n",
              "<head><meta charset=\"utf-8\" /></head>\n",
              "<body>\n",
              "    <div>            <script src=\"https://cdnjs.cloudflare.com/ajax/libs/mathjax/2.7.5/MathJax.js?config=TeX-AMS-MML_SVG\"></script><script type=\"text/javascript\">if (window.MathJax && window.MathJax.Hub && window.MathJax.Hub.Config) {window.MathJax.Hub.Config({SVG: {font: \"STIX-Web\"}});}</script>                <script type=\"text/javascript\">window.PlotlyConfig = {MathJaxConfig: 'local'};</script>\n",
              "        <script charset=\"utf-8\" src=\"https://cdn.plot.ly/plotly-2.35.2.min.js\"></script>                <div id=\"2da6182e-ec8a-4729-a3fc-bb4d01ce5eb8\" class=\"plotly-graph-div\" style=\"height:525px; width:100%;\"></div>            <script type=\"text/javascript\">                                    window.PLOTLYENV=window.PLOTLYENV || {};                                    if (document.getElementById(\"2da6182e-ec8a-4729-a3fc-bb4d01ce5eb8\")) {                    Plotly.newPlot(                        \"2da6182e-ec8a-4729-a3fc-bb4d01ce5eb8\",                        [{\"hovertemplate\":\"timestamp=%{x}\\u003cbr\\u003eprice=%{y}\\u003cextra\\u003e\\u003c\\u002fextra\\u003e\",\"legendgroup\":\"\",\"line\":{\"color\":\"#636efa\",\"dash\":\"solid\"},\"marker\":{\"symbol\":\"circle\"},\"mode\":\"lines\",\"name\":\"\",\"orientation\":\"v\",\"showlegend\":false,\"x\":[\"2024-10-20T00:00:00\",\"2024-10-21T00:00:00\",\"2024-10-22T00:00:00\",\"2024-10-23T00:00:00\",\"2024-10-24T00:00:00\",\"2024-10-25T00:00:00\",\"2024-10-26T00:00:00\",\"2024-10-27T00:00:00\",\"2024-10-28T00:00:00\",\"2024-10-29T00:00:00\",\"2024-10-30T00:00:00\",\"2024-10-31T00:00:00\",\"2024-11-01T00:00:00\",\"2024-11-02T00:00:00\",\"2024-11-03T00:00:00\",\"2024-11-04T00:00:00\",\"2024-11-05T00:00:00\",\"2024-11-06T00:00:00\",\"2024-11-07T00:00:00\",\"2024-11-08T00:00:00\",\"2024-11-09T00:00:00\",\"2024-11-10T00:00:00\",\"2024-11-11T00:00:00\",\"2024-11-12T00:00:00\",\"2024-11-13T00:00:00\",\"2024-11-14T00:00:00\",\"2024-11-15T00:00:00\",\"2024-11-16T00:00:00\",\"2024-11-17T00:00:00\",\"2024-11-18T00:00:00\",\"2024-11-19T00:00:00\",\"2024-11-20T00:00:00\",\"2024-11-21T00:00:00\",\"2024-11-22T00:00:00\",\"2024-11-23T00:00:00\",\"2024-11-24T00:00:00\",\"2024-11-25T00:00:00\",\"2024-11-26T00:00:00\",\"2024-11-27T00:00:00\",\"2024-11-28T00:00:00\",\"2024-11-29T00:00:00\",\"2024-11-30T00:00:00\",\"2024-12-01T00:00:00\",\"2024-12-02T00:00:00\",\"2024-12-03T00:00:00\",\"2024-12-04T00:00:00\",\"2024-12-05T00:00:00\",\"2024-12-06T00:00:00\",\"2024-12-07T00:00:00\",\"2024-12-08T00:00:00\",\"2024-12-09T00:00:00\",\"2024-12-10T00:00:00\",\"2024-12-11T00:00:00\",\"2024-12-12T00:00:00\",\"2024-12-13T00:00:00\",\"2024-12-14T00:00:00\",\"2024-12-15T00:00:00\",\"2024-12-16T00:00:00\",\"2024-12-17T00:00:00\",\"2024-12-18T00:00:00\",\"2024-12-19T00:00:00\",\"2024-12-20T00:00:00\",\"2024-12-21T00:00:00\",\"2024-12-22T00:00:00\",\"2024-12-23T00:00:00\",\"2024-12-24T00:00:00\",\"2024-12-25T00:00:00\",\"2024-12-26T00:00:00\",\"2024-12-27T00:00:00\",\"2024-12-28T00:00:00\",\"2024-12-29T00:00:00\",\"2024-12-30T00:00:00\",\"2024-12-31T00:00:00\",\"2025-01-01T00:00:00\",\"2025-01-02T00:00:00\",\"2025-01-03T00:00:00\",\"2025-01-04T00:00:00\",\"2025-01-05T00:00:00\",\"2025-01-06T00:00:00\",\"2025-01-07T00:00:00\",\"2025-01-08T00:00:00\",\"2025-01-09T00:00:00\",\"2025-01-10T00:00:00\",\"2025-01-11T00:00:00\",\"2025-01-12T00:00:00\",\"2025-01-13T00:00:00\",\"2025-01-14T00:00:00\",\"2025-01-15T00:00:00\",\"2025-01-16T00:00:00\",\"2025-01-17T00:00:00\",\"2025-01-18T00:00:00\",\"2025-01-19T00:00:00\",\"2025-01-20T00:00:00\",\"2025-01-21T00:00:00\",\"2025-01-22T00:00:00\",\"2025-01-23T00:00:00\",\"2025-01-24T00:00:00\",\"2025-01-25T00:00:00\",\"2025-01-26T00:00:00\",\"2025-01-27T00:00:00\",\"2025-01-28T00:00:00\",\"2025-01-29T00:00:00\",\"2025-01-30T00:00:00\",\"2025-01-31T00:00:00\",\"2025-02-01T00:00:00\",\"2025-02-02T00:00:00\",\"2025-02-03T00:00:00\",\"2025-02-04T00:00:00\",\"2025-02-05T00:00:00\",\"2025-02-06T00:00:00\",\"2025-02-07T00:00:00\",\"2025-02-08T00:00:00\",\"2025-02-09T00:00:00\",\"2025-02-10T00:00:00\",\"2025-02-11T00:00:00\",\"2025-02-12T00:00:00\",\"2025-02-13T00:00:00\",\"2025-02-14T00:00:00\",\"2025-02-15T00:00:00\",\"2025-02-16T00:00:00\",\"2025-02-17T00:00:00\",\"2025-02-18T00:00:00\",\"2025-02-19T00:00:00\",\"2025-02-20T00:00:00\",\"2025-02-21T00:00:00\",\"2025-02-22T00:00:00\",\"2025-02-23T00:00:00\",\"2025-02-24T00:00:00\",\"2025-02-25T00:00:00\",\"2025-02-26T00:00:00\",\"2025-02-27T00:00:00\",\"2025-02-28T00:00:00\",\"2025-03-01T00:00:00\",\"2025-03-02T00:00:00\",\"2025-03-03T00:00:00\",\"2025-03-04T00:00:00\",\"2025-03-05T00:00:00\",\"2025-03-06T00:00:00\",\"2025-03-07T00:00:00\",\"2025-03-08T00:00:00\",\"2025-03-09T00:00:00\",\"2025-03-10T00:00:00\",\"2025-03-11T00:00:00\",\"2025-03-12T00:00:00\",\"2025-03-13T00:00:00\",\"2025-03-14T00:00:00\",\"2025-03-15T00:00:00\",\"2025-03-16T00:00:00\",\"2025-03-17T00:00:00\",\"2025-03-18T00:00:00\",\"2025-03-19T00:00:00\",\"2025-03-20T00:00:00\",\"2025-03-21T00:00:00\",\"2025-03-22T00:00:00\",\"2025-03-23T00:00:00\",\"2025-03-24T00:00:00\",\"2025-03-25T00:00:00\",\"2025-03-26T00:00:00\",\"2025-03-27T00:00:00\",\"2025-03-28T00:00:00\",\"2025-03-29T00:00:00\",\"2025-03-30T00:00:00\",\"2025-03-31T00:00:00\",\"2025-04-01T00:00:00\",\"2025-04-02T00:00:00\",\"2025-04-03T00:00:00\",\"2025-04-04T00:00:00\",\"2025-04-05T00:00:00\",\"2025-04-06T00:00:00\",\"2025-04-07T00:00:00\",\"2025-04-08T00:00:00\",\"2025-04-09T00:00:00\",\"2025-04-10T00:00:00\",\"2025-04-11T00:00:00\",\"2025-04-12T00:00:00\",\"2025-04-13T00:00:00\",\"2025-04-14T00:00:00\",\"2025-04-15T00:00:00\",\"2025-04-16T00:00:00\",\"2025-04-17T00:00:00\",\"2025-04-18T00:00:00\",\"2025-04-19T00:00:00\",\"2025-04-20T00:00:00\",\"2025-04-21T00:00:00\",\"2025-04-22T00:00:00\",\"2025-04-23T00:00:00\",\"2025-04-24T00:00:00\",\"2025-04-25T00:00:00\",\"2025-04-26T00:00:00\",\"2025-04-27T00:00:00\",\"2025-04-28T00:00:00\",\"2025-04-29T00:00:00\",\"2025-04-30T00:00:00\",\"2025-05-01T00:00:00\",\"2025-05-02T00:00:00\",\"2025-05-03T00:00:00\",\"2025-05-04T00:00:00\",\"2025-05-05T00:00:00\",\"2025-05-06T00:00:00\",\"2025-05-07T00:00:00\",\"2025-05-08T00:00:00\",\"2025-05-09T00:00:00\",\"2025-05-10T00:00:00\",\"2025-05-11T00:00:00\",\"2025-05-12T00:00:00\",\"2025-05-13T00:00:00\",\"2025-05-14T00:00:00\",\"2025-05-15T00:00:00\",\"2025-05-16T00:00:00\",\"2025-05-17T00:00:00\",\"2025-05-18T00:00:00\",\"2025-05-19T00:00:00\",\"2025-05-20T00:00:00\",\"2025-05-21T00:00:00\",\"2025-05-22T00:00:00\",\"2025-05-23T00:00:00\",\"2025-05-24T00:00:00\",\"2025-05-25T00:00:00\",\"2025-05-26T00:00:00\",\"2025-05-27T00:00:00\",\"2025-05-28T00:00:00\",\"2025-05-29T00:00:00\",\"2025-05-30T00:00:00\",\"2025-05-31T00:00:00\",\"2025-06-01T00:00:00\",\"2025-06-02T00:00:00\",\"2025-06-03T00:00:00\",\"2025-06-04T00:00:00\",\"2025-06-05T00:00:00\",\"2025-06-06T00:00:00\",\"2025-06-07T00:00:00\",\"2025-06-08T00:00:00\",\"2025-06-09T00:00:00\",\"2025-06-10T00:00:00\",\"2025-06-11T00:00:00\",\"2025-06-12T00:00:00\",\"2025-06-13T00:00:00\",\"2025-06-14T00:00:00\",\"2025-06-15T00:00:00\",\"2025-06-16T00:00:00\",\"2025-06-17T00:00:00\",\"2025-06-18T00:00:00\",\"2025-06-19T00:00:00\",\"2025-06-20T00:00:00\",\"2025-06-21T00:00:00\",\"2025-06-22T00:00:00\",\"2025-06-23T00:00:00\",\"2025-06-24T00:00:00\",\"2025-06-25T00:00:00\",\"2025-06-26T00:00:00\",\"2025-06-27T00:00:00\",\"2025-06-28T00:00:00\",\"2025-06-29T00:00:00\",\"2025-06-30T00:00:00\",\"2025-07-01T00:00:00\",\"2025-07-02T00:00:00\",\"2025-07-03T00:00:00\",\"2025-07-04T00:00:00\",\"2025-07-05T00:00:00\",\"2025-07-06T00:00:00\",\"2025-07-07T00:00:00\",\"2025-07-08T00:00:00\",\"2025-07-09T00:00:00\",\"2025-07-10T00:00:00\",\"2025-07-11T00:00:00\",\"2025-07-12T00:00:00\",\"2025-07-13T00:00:00\",\"2025-07-14T00:00:00\",\"2025-07-15T00:00:00\",\"2025-07-16T00:00:00\",\"2025-07-17T00:00:00\",\"2025-07-18T00:00:00\",\"2025-07-19T00:00:00\",\"2025-07-20T00:00:00\",\"2025-07-21T00:00:00\",\"2025-07-22T00:00:00\",\"2025-07-23T00:00:00\",\"2025-07-24T00:00:00\",\"2025-07-25T00:00:00\",\"2025-07-26T00:00:00\",\"2025-07-27T00:00:00\",\"2025-07-28T00:00:00\",\"2025-07-29T00:00:00\",\"2025-07-30T00:00:00\",\"2025-07-31T00:00:00\",\"2025-08-01T00:00:00\",\"2025-08-02T00:00:00\",\"2025-08-03T00:00:00\",\"2025-08-04T00:00:00\",\"2025-08-05T00:00:00\",\"2025-08-06T00:00:00\",\"2025-08-07T00:00:00\",\"2025-08-08T00:00:00\",\"2025-08-09T00:00:00\",\"2025-08-10T00:00:00\",\"2025-08-11T00:00:00\",\"2025-08-12T00:00:00\",\"2025-08-13T00:00:00\",\"2025-08-14T00:00:00\",\"2025-08-15T00:00:00\",\"2025-08-16T00:00:00\",\"2025-08-17T00:00:00\",\"2025-08-18T00:00:00\",\"2025-08-19T00:00:00\",\"2025-08-20T00:00:00\",\"2025-08-21T00:00:00\",\"2025-08-22T00:00:00\",\"2025-08-23T00:00:00\",\"2025-08-24T00:00:00\",\"2025-08-25T00:00:00\",\"2025-08-26T00:00:00\",\"2025-08-27T00:00:00\",\"2025-08-28T00:00:00\",\"2025-08-29T00:00:00\",\"2025-08-30T00:00:00\",\"2025-08-31T00:00:00\",\"2025-09-01T00:00:00\",\"2025-09-02T00:00:00\",\"2025-09-03T00:00:00\",\"2025-09-04T00:00:00\",\"2025-09-05T00:00:00\",\"2025-09-06T00:00:00\",\"2025-09-07T00:00:00\",\"2025-09-08T00:00:00\",\"2025-09-09T00:00:00\",\"2025-09-10T00:00:00\",\"2025-09-11T00:00:00\",\"2025-09-12T00:00:00\",\"2025-09-13T00:00:00\",\"2025-09-14T00:00:00\",\"2025-09-15T00:00:00\",\"2025-09-16T00:00:00\",\"2025-09-17T00:00:00\",\"2025-09-18T00:00:00\",\"2025-09-19T00:00:00\",\"2025-09-20T00:00:00\",\"2025-09-21T00:00:00\",\"2025-09-22T00:00:00\",\"2025-09-23T00:00:00\",\"2025-09-24T00:00:00\",\"2025-09-25T00:00:00\",\"2025-09-26T00:00:00\",\"2025-09-27T00:00:00\",\"2025-09-28T00:00:00\",\"2025-09-29T00:00:00\",\"2025-09-30T00:00:00\",\"2025-10-01T00:00:00\",\"2025-10-02T00:00:00\",\"2025-10-03T00:00:00\",\"2025-10-04T00:00:00\",\"2025-10-05T00:00:00\",\"2025-10-06T00:00:00\",\"2025-10-07T00:00:00\",\"2025-10-08T00:00:00\",\"2025-10-09T00:00:00\",\"2025-10-10T00:00:00\",\"2025-10-11T00:00:00\",\"2025-10-12T00:00:00\",\"2025-10-13T00:00:00\",\"2025-10-14T00:00:00\",\"2025-10-15T00:00:00\",\"2025-10-16T00:00:00\",\"2025-10-17T00:00:00\",\"2025-10-18T00:00:00\",\"2025-10-19T00:00:00\",\"2025-10-19T22:42:44\"],\"xaxis\":\"x\",\"y\":[68388.87128965274,68962.82918045693,67394.85775735618,67351.04793512498,66683.96806542306,68214.05205157402,66585.66535501445,67018.1650170265,67938.55412885673,69845.304531169,72781.11308158132,72342.62171127986,70264.99735573279,69507.92256395647,69299.16036699413,68803.50626277467,67793.29782704762,69335.42553133758,75620.88606963192,75987.24178320667,76550.0213845611,76630.22631415377,80466.71654833542,88637.42000322911,88264.59974582895,90488.10007497849,87407.51273710128,90947.97509443703,90606.45489380708,89841.47194135105,90534.62459650292,92251.65240738312,94217.02229634205,98509.11859102432,98927.49494553401,97679.46381643033,98015.9355289458,93004.70093103287,91931.83077291827,95981.18057210564,95661.59595817851,97453.2473451042,96513.14234698225,97311.70719084324,95833.1362300365,96031.63097759831,98881.4694561823,97201.50036407741,99973.85150659826,99781.82999198174,101235.3717025316,97353.94700820887,96649.71446771531,101123.61811033697,100000.80836535197,101352.22971292294,101367.01064553364,104721.50151808978,106074.10723541168,106034.913402645,100355.5761481501,97851.35377075805,97691.43431692653,97202.82496847633,95094.27394862173,94644.91085464321,98695.71400782601,99344.95417367229,95678.31244565405,94331.94727053077,95184.61945288602,93663.44751964067,92627.28213113277,93507.85874741491,94384.1761153871,96852.14681235075,98084.34279280754,98256.73876849933,98364.58946599838,102229.39453189743,96952.09886774956,95016.71440989176,92376.27578346101,94736.6267420969,94559.55167224213,94454.77089638807,94456.3493746993,96574.07768799194,100313.15239828422,100044.57926776377,104160.69358484233,104334.61575724394,101275.33714814208,101764.90860170545,106182.2368201815,103673.53509537787,104067.60991206947,104835.19253555956,104796.04077738234,102552.24874280207,101958.46953745594,101313.11264498268,103718.97939813645,104781.5135100103,102382.39409722165,100674.78762544956,97568.31653024875,101466.8606657039,98118.43921664466,96582.88682919052,96635.41875332211,96558.4563096667,96558.23762501091,96548.57865379585,97399.98161383197,95739.97737079239,97836.18856127483,96561.6639990985,97488.48148536457,97569.95169430465,96149.3484548204,95776.15723852723,95495.89153299287,96554.87156259285,98384.31738240314,96135.15541305285,96564.15414290235,96327.46309127835,91396.76686930266,88755.7693356979,83900.11496524839,84709.14477847965,84441.9012237131,86005.25629681018,94261.53286538439,86124.71418722175,87310.80531078295,90604.08098523637,90001.40087607042,86773.33597555371,86142.9833586432,80751.13893300897,78783.94057934263,82799.1080292053,83884.24578828987,81098.90052436228,83971.70916064628,84391.69087647168,82610.61750343916,84075.36559694471,82780.03048688271,86815.44109470697,84270.84358966233,84009.532917822,83793.30854192551,85787.70914901773,87327.72969669085,87520.58391530563,86960.8555491039,87227.27158032371,84359.46915506005,82679.17255385047,82356.38111183756,82514.09365397849,85237.5876052852,82526.4221526433,83163.98757387721,83852.00765399594,83595.88550177493,78211.48358199988,79179.29226757778,76329.090356324,82622.17029546302,79596.35732250768,83439.28818043756,85305.09728392666,83600.82010054543,84523.4524914945,83656.49248858042,84105.77942167096,84930.90857600998,84433.75017215389,85126.66244301842,85073.16544858096,87452.04699068287,93576.16588573981,93605.45230873208,93872.81422867288,94773.11200643536,94644.06637120107,93809.33781968223,95030.60645474444,94256.35946318062,94235.75331048167,96426.94522273027,96855.5681343944,95922.86842404422,94326.62048529249,94758.8237105546,96854.53198815876,97026.49376966801,103076.27555512934,102962.54045692299,104630.8792994166,103994.061616746,102876.8304286011,104184.49039270742,103594.42575090709,103708.85136423641,103556.03493982446,103212.36483885496,106030.6376831359,105629.41580436694,106786.71995834043,109665.86371625263,111560.356938144,107216.66856870624,107831.36374380375,108861.81037744327,109377.71513263129,109068.45694901445,107838.18431100152,105745.41660358038,104010.91956242644,104687.50742934884,105710.00593822816,105884.74263221149,105434.47745144971,104812.9182188067,101650.7387545425,104409.74967959142,105681.4546141758,105692.24740699006,110261.57485948496,110212.73252109604,108679.9760916168,105979.22902375912,106045.56440819203,105482.90611628917,105554.49383061715,106951.2720181497,104683.42479835715,104722.695052907,104690.65002458123,103290.105144757,101532.5683847329,100852.58264648831,105511.62437933135,105976.06929808448,107238.53045016268,106984.01253775663,107078.91560644074,107331.58548463577,108396.61631317894,107132.79910701896,105613.39974163055,108824.44423167943,109602.20483914016,108040.8919400104,108217.46849992426,109215.19771840284,108300.71675785031,108953.19187727802,111327.53054245669,115879.65030112496,117571.02510036016,117418.95745007684,119117.55666327637,119833.67446712355,117678.19493404306,118748.1627367753,119445.36520434043,117988.94664455787,117901.62655900871,117256.9208222684,117482.46977767294,119955.79570607653,118629.05588130427,118354.43517438594,117540.80837085741,117959.54234360624,119418.91405141471,118003.30201607826,117853.30892863822,117833.24087995925,115700.00243915782,113234.6051343189,112554.90232221723,114199.10966460757,115138.68613070177,114128.35408881678,115022.09576830892,117463.47451085235,116688.36663186055,116510.08393213755,119266.92516880555,118773.79960860992,120202.53485503166,123560.99363577305,118405.59579823953,117339.79190213277,117501.21653394958,117542.83687778088,116256.41276740946,112778.34483555844,114252.39755195397,112414.39987336512,116834.24948202295,115359.98346714744,113399.54847314971,110185.35443900425,111842.70999260596,111216.08479629169,112525.59740669793,108480.30666639366,108781.95727925687,108253.36092385623,109162.68557992298,111190.18209845416,111711.51977725117,110724.736377486,110662.18112628513,110209.1888247784,111131.9923868407,112025.12878118771,111547.43956434788,113975.32489468766,115503.16663193036,116160.14344594491,115970.58488443034,115373.55555886829,115397.25272727509,116762.8496864193,116455.94648225319,117145.49508952006,115655.81046441344,115715.51536781774,115304.47999407038,112696.74101711863,112022.16587861195,113320.56908541008,108963.53013595635,109710.20874667744,109654.81021075726,112142.57362752674,114309.15041119447,114024.22783550054,118503.24451752483,120611.71911591051,122250.15186842803,122380.93708463266,123506.18520027678,124773.50823074432,121518.75593575071,123352.50487523204,121698.03066778315,113201.74064138904,110853.11663883903,115189.5714637257,115222.28302116522,113156.56943826913,110708.66960879423,108076.72862033188,106443.61194984635,107156.00337647724,109312.24130677052],\"yaxis\":\"y\",\"type\":\"scatter\"}],                        {\"template\":{\"data\":{\"histogram2dcontour\":[{\"type\":\"histogram2dcontour\",\"colorbar\":{\"outlinewidth\":0,\"ticks\":\"\"},\"colorscale\":[[0.0,\"#0d0887\"],[0.1111111111111111,\"#46039f\"],[0.2222222222222222,\"#7201a8\"],[0.3333333333333333,\"#9c179e\"],[0.4444444444444444,\"#bd3786\"],[0.5555555555555556,\"#d8576b\"],[0.6666666666666666,\"#ed7953\"],[0.7777777777777778,\"#fb9f3a\"],[0.8888888888888888,\"#fdca26\"],[1.0,\"#f0f921\"]]}],\"choropleth\":[{\"type\":\"choropleth\",\"colorbar\":{\"outlinewidth\":0,\"ticks\":\"\"}}],\"histogram2d\":[{\"type\":\"histogram2d\",\"colorbar\":{\"outlinewidth\":0,\"ticks\":\"\"},\"colorscale\":[[0.0,\"#0d0887\"],[0.1111111111111111,\"#46039f\"],[0.2222222222222222,\"#7201a8\"],[0.3333333333333333,\"#9c179e\"],[0.4444444444444444,\"#bd3786\"],[0.5555555555555556,\"#d8576b\"],[0.6666666666666666,\"#ed7953\"],[0.7777777777777778,\"#fb9f3a\"],[0.8888888888888888,\"#fdca26\"],[1.0,\"#f0f921\"]]}],\"heatmap\":[{\"type\":\"heatmap\",\"colorbar\":{\"outlinewidth\":0,\"ticks\":\"\"},\"colorscale\":[[0.0,\"#0d0887\"],[0.1111111111111111,\"#46039f\"],[0.2222222222222222,\"#7201a8\"],[0.3333333333333333,\"#9c179e\"],[0.4444444444444444,\"#bd3786\"],[0.5555555555555556,\"#d8576b\"],[0.6666666666666666,\"#ed7953\"],[0.7777777777777778,\"#fb9f3a\"],[0.8888888888888888,\"#fdca26\"],[1.0,\"#f0f921\"]]}],\"heatmapgl\":[{\"type\":\"heatmapgl\",\"colorbar\":{\"outlinewidth\":0,\"ticks\":\"\"},\"colorscale\":[[0.0,\"#0d0887\"],[0.1111111111111111,\"#46039f\"],[0.2222222222222222,\"#7201a8\"],[0.3333333333333333,\"#9c179e\"],[0.4444444444444444,\"#bd3786\"],[0.5555555555555556,\"#d8576b\"],[0.6666666666666666,\"#ed7953\"],[0.7777777777777778,\"#fb9f3a\"],[0.8888888888888888,\"#fdca26\"],[1.0,\"#f0f921\"]]}],\"contourcarpet\":[{\"type\":\"contourcarpet\",\"colorbar\":{\"outlinewidth\":0,\"ticks\":\"\"}}],\"contour\":[{\"type\":\"contour\",\"colorbar\":{\"outlinewidth\":0,\"ticks\":\"\"},\"colorscale\":[[0.0,\"#0d0887\"],[0.1111111111111111,\"#46039f\"],[0.2222222222222222,\"#7201a8\"],[0.3333333333333333,\"#9c179e\"],[0.4444444444444444,\"#bd3786\"],[0.5555555555555556,\"#d8576b\"],[0.6666666666666666,\"#ed7953\"],[0.7777777777777778,\"#fb9f3a\"],[0.8888888888888888,\"#fdca26\"],[1.0,\"#f0f921\"]]}],\"surface\":[{\"type\":\"surface\",\"colorbar\":{\"outlinewidth\":0,\"ticks\":\"\"},\"colorscale\":[[0.0,\"#0d0887\"],[0.1111111111111111,\"#46039f\"],[0.2222222222222222,\"#7201a8\"],[0.3333333333333333,\"#9c179e\"],[0.4444444444444444,\"#bd3786\"],[0.5555555555555556,\"#d8576b\"],[0.6666666666666666,\"#ed7953\"],[0.7777777777777778,\"#fb9f3a\"],[0.8888888888888888,\"#fdca26\"],[1.0,\"#f0f921\"]]}],\"mesh3d\":[{\"type\":\"mesh3d\",\"colorbar\":{\"outlinewidth\":0,\"ticks\":\"\"}}],\"scatter\":[{\"fillpattern\":{\"fillmode\":\"overlay\",\"size\":10,\"solidity\":0.2},\"type\":\"scatter\"}],\"parcoords\":[{\"type\":\"parcoords\",\"line\":{\"colorbar\":{\"outlinewidth\":0,\"ticks\":\"\"}}}],\"scatterpolargl\":[{\"type\":\"scatterpolargl\",\"marker\":{\"colorbar\":{\"outlinewidth\":0,\"ticks\":\"\"}}}],\"bar\":[{\"error_x\":{\"color\":\"#2a3f5f\"},\"error_y\":{\"color\":\"#2a3f5f\"},\"marker\":{\"line\":{\"color\":\"#E5ECF6\",\"width\":0.5},\"pattern\":{\"fillmode\":\"overlay\",\"size\":10,\"solidity\":0.2}},\"type\":\"bar\"}],\"scattergeo\":[{\"type\":\"scattergeo\",\"marker\":{\"colorbar\":{\"outlinewidth\":0,\"ticks\":\"\"}}}],\"scatterpolar\":[{\"type\":\"scatterpolar\",\"marker\":{\"colorbar\":{\"outlinewidth\":0,\"ticks\":\"\"}}}],\"histogram\":[{\"marker\":{\"pattern\":{\"fillmode\":\"overlay\",\"size\":10,\"solidity\":0.2}},\"type\":\"histogram\"}],\"scattergl\":[{\"type\":\"scattergl\",\"marker\":{\"colorbar\":{\"outlinewidth\":0,\"ticks\":\"\"}}}],\"scatter3d\":[{\"type\":\"scatter3d\",\"line\":{\"colorbar\":{\"outlinewidth\":0,\"ticks\":\"\"}},\"marker\":{\"colorbar\":{\"outlinewidth\":0,\"ticks\":\"\"}}}],\"scattermapbox\":[{\"type\":\"scattermapbox\",\"marker\":{\"colorbar\":{\"outlinewidth\":0,\"ticks\":\"\"}}}],\"scatterternary\":[{\"type\":\"scatterternary\",\"marker\":{\"colorbar\":{\"outlinewidth\":0,\"ticks\":\"\"}}}],\"scattercarpet\":[{\"type\":\"scattercarpet\",\"marker\":{\"colorbar\":{\"outlinewidth\":0,\"ticks\":\"\"}}}],\"carpet\":[{\"aaxis\":{\"endlinecolor\":\"#2a3f5f\",\"gridcolor\":\"white\",\"linecolor\":\"white\",\"minorgridcolor\":\"white\",\"startlinecolor\":\"#2a3f5f\"},\"baxis\":{\"endlinecolor\":\"#2a3f5f\",\"gridcolor\":\"white\",\"linecolor\":\"white\",\"minorgridcolor\":\"white\",\"startlinecolor\":\"#2a3f5f\"},\"type\":\"carpet\"}],\"table\":[{\"cells\":{\"fill\":{\"color\":\"#EBF0F8\"},\"line\":{\"color\":\"white\"}},\"header\":{\"fill\":{\"color\":\"#C8D4E3\"},\"line\":{\"color\":\"white\"}},\"type\":\"table\"}],\"barpolar\":[{\"marker\":{\"line\":{\"color\":\"#E5ECF6\",\"width\":0.5},\"pattern\":{\"fillmode\":\"overlay\",\"size\":10,\"solidity\":0.2}},\"type\":\"barpolar\"}],\"pie\":[{\"automargin\":true,\"type\":\"pie\"}]},\"layout\":{\"autotypenumbers\":\"strict\",\"colorway\":[\"#636efa\",\"#EF553B\",\"#00cc96\",\"#ab63fa\",\"#FFA15A\",\"#19d3f3\",\"#FF6692\",\"#B6E880\",\"#FF97FF\",\"#FECB52\"],\"font\":{\"color\":\"#2a3f5f\"},\"hovermode\":\"closest\",\"hoverlabel\":{\"align\":\"left\"},\"paper_bgcolor\":\"white\",\"plot_bgcolor\":\"#E5ECF6\",\"polar\":{\"bgcolor\":\"#E5ECF6\",\"angularaxis\":{\"gridcolor\":\"white\",\"linecolor\":\"white\",\"ticks\":\"\"},\"radialaxis\":{\"gridcolor\":\"white\",\"linecolor\":\"white\",\"ticks\":\"\"}},\"ternary\":{\"bgcolor\":\"#E5ECF6\",\"aaxis\":{\"gridcolor\":\"white\",\"linecolor\":\"white\",\"ticks\":\"\"},\"baxis\":{\"gridcolor\":\"white\",\"linecolor\":\"white\",\"ticks\":\"\"},\"caxis\":{\"gridcolor\":\"white\",\"linecolor\":\"white\",\"ticks\":\"\"}},\"coloraxis\":{\"colorbar\":{\"outlinewidth\":0,\"ticks\":\"\"}},\"colorscale\":{\"sequential\":[[0.0,\"#0d0887\"],[0.1111111111111111,\"#46039f\"],[0.2222222222222222,\"#7201a8\"],[0.3333333333333333,\"#9c179e\"],[0.4444444444444444,\"#bd3786\"],[0.5555555555555556,\"#d8576b\"],[0.6666666666666666,\"#ed7953\"],[0.7777777777777778,\"#fb9f3a\"],[0.8888888888888888,\"#fdca26\"],[1.0,\"#f0f921\"]],\"sequentialminus\":[[0.0,\"#0d0887\"],[0.1111111111111111,\"#46039f\"],[0.2222222222222222,\"#7201a8\"],[0.3333333333333333,\"#9c179e\"],[0.4444444444444444,\"#bd3786\"],[0.5555555555555556,\"#d8576b\"],[0.6666666666666666,\"#ed7953\"],[0.7777777777777778,\"#fb9f3a\"],[0.8888888888888888,\"#fdca26\"],[1.0,\"#f0f921\"]],\"diverging\":[[0,\"#8e0152\"],[0.1,\"#c51b7d\"],[0.2,\"#de77ae\"],[0.3,\"#f1b6da\"],[0.4,\"#fde0ef\"],[0.5,\"#f7f7f7\"],[0.6,\"#e6f5d0\"],[0.7,\"#b8e186\"],[0.8,\"#7fbc41\"],[0.9,\"#4d9221\"],[1,\"#276419\"]]},\"xaxis\":{\"gridcolor\":\"white\",\"linecolor\":\"white\",\"ticks\":\"\",\"title\":{\"standoff\":15},\"zerolinecolor\":\"white\",\"automargin\":true,\"zerolinewidth\":2},\"yaxis\":{\"gridcolor\":\"white\",\"linecolor\":\"white\",\"ticks\":\"\",\"title\":{\"standoff\":15},\"zerolinecolor\":\"white\",\"automargin\":true,\"zerolinewidth\":2},\"scene\":{\"xaxis\":{\"backgroundcolor\":\"#E5ECF6\",\"gridcolor\":\"white\",\"linecolor\":\"white\",\"showbackground\":true,\"ticks\":\"\",\"zerolinecolor\":\"white\",\"gridwidth\":2},\"yaxis\":{\"backgroundcolor\":\"#E5ECF6\",\"gridcolor\":\"white\",\"linecolor\":\"white\",\"showbackground\":true,\"ticks\":\"\",\"zerolinecolor\":\"white\",\"gridwidth\":2},\"zaxis\":{\"backgroundcolor\":\"#E5ECF6\",\"gridcolor\":\"white\",\"linecolor\":\"white\",\"showbackground\":true,\"ticks\":\"\",\"zerolinecolor\":\"white\",\"gridwidth\":2}},\"shapedefaults\":{\"line\":{\"color\":\"#2a3f5f\"}},\"annotationdefaults\":{\"arrowcolor\":\"#2a3f5f\",\"arrowhead\":0,\"arrowwidth\":1},\"geo\":{\"bgcolor\":\"white\",\"landcolor\":\"#E5ECF6\",\"subunitcolor\":\"white\",\"showland\":true,\"showlakes\":true,\"lakecolor\":\"white\"},\"title\":{\"x\":0.05},\"mapbox\":{\"style\":\"light\"}}},\"xaxis\":{\"anchor\":\"y\",\"domain\":[0.0,1.0],\"title\":{\"text\":\"timestamp\"}},\"yaxis\":{\"anchor\":\"x\",\"domain\":[0.0,1.0],\"title\":{\"text\":\"price\"}},\"legend\":{\"tracegroupgap\":0},\"title\":{\"text\":\"Bitcoin Price Over Time\"}},                        {\"responsive\": true}                    ).then(function(){\n",
              "                            \n",
              "var gd = document.getElementById('2da6182e-ec8a-4729-a3fc-bb4d01ce5eb8');\n",
              "var x = new MutationObserver(function (mutations, observer) {{\n",
              "        var display = window.getComputedStyle(gd).display;\n",
              "        if (!display || display === 'none') {{\n",
              "            console.log([gd, 'removed!']);\n",
              "            Plotly.purge(gd);\n",
              "            observer.disconnect();\n",
              "        }}\n",
              "}});\n",
              "\n",
              "// Listen for the removal of the full notebook cells\n",
              "var notebookContainer = gd.closest('#notebook-container');\n",
              "if (notebookContainer) {{\n",
              "    x.observe(notebookContainer, {childList: true});\n",
              "}}\n",
              "\n",
              "// Listen for the clearing of the current output cell\n",
              "var outputEl = gd.closest('.output');\n",
              "if (outputEl) {{\n",
              "    x.observe(outputEl, {childList: true});\n",
              "}}\n",
              "\n",
              "                        })                };                            </script>        </div>\n",
              "</body>\n",
              "</html>"
            ]
          },
          "metadata": {}
        }
      ]
    },
    {
      "cell_type": "code",
      "metadata": {
        "colab": {
          "base_uri": "https://localhost:8080/",
          "height": 542
        },
        "id": "7df7e195",
        "outputId": "1b6b9600-a5c7-466c-ad75-f63b712a0c10"
      },
      "source": [
        "import plotly.graph_objects as go\n",
        "from plotly.subplots import make_subplots\n",
        "\n",
        "fig = make_subplots(specs=[[{\"secondary_y\": True}]])\n",
        "\n",
        "fig.add_trace(\n",
        "    go.Scatter(x=df_combined.index, y=df_combined['price'], name='Price'),\n",
        "    secondary_y=False,\n",
        ")\n",
        "\n",
        "fig.add_trace(\n",
        "    go.Scatter(x=df_combined.index, y=df_combined['volume'], name='Volume'),\n",
        "    secondary_y=True,\n",
        ")\n",
        "\n",
        "fig.update_layout(\n",
        "    title_text='Bitcoin Price and Trading Volume Over Time',\n",
        "    xaxis_title='Timestamp',\n",
        "    yaxis_title='Price (USD)',\n",
        "    yaxis2_title='Volume (USD)'\n",
        ")\n",
        "\n",
        "fig.show()"
      ],
      "execution_count": 19,
      "outputs": [
        {
          "output_type": "display_data",
          "data": {
            "text/html": [
              "<html>\n",
              "<head><meta charset=\"utf-8\" /></head>\n",
              "<body>\n",
              "    <div>            <script src=\"https://cdnjs.cloudflare.com/ajax/libs/mathjax/2.7.5/MathJax.js?config=TeX-AMS-MML_SVG\"></script><script type=\"text/javascript\">if (window.MathJax && window.MathJax.Hub && window.MathJax.Hub.Config) {window.MathJax.Hub.Config({SVG: {font: \"STIX-Web\"}});}</script>                <script type=\"text/javascript\">window.PlotlyConfig = {MathJaxConfig: 'local'};</script>\n",
              "        <script charset=\"utf-8\" src=\"https://cdn.plot.ly/plotly-2.35.2.min.js\"></script>                <div id=\"fd293d3f-f0fc-4690-a6ec-22418337f1c5\" class=\"plotly-graph-div\" style=\"height:525px; width:100%;\"></div>            <script type=\"text/javascript\">                                    window.PLOTLYENV=window.PLOTLYENV || {};                                    if (document.getElementById(\"fd293d3f-f0fc-4690-a6ec-22418337f1c5\")) {                    Plotly.newPlot(                        \"fd293d3f-f0fc-4690-a6ec-22418337f1c5\",                        [{\"name\":\"Price\",\"x\":[\"2024-10-20T00:00:00\",\"2024-10-21T00:00:00\",\"2024-10-22T00:00:00\",\"2024-10-23T00:00:00\",\"2024-10-24T00:00:00\",\"2024-10-25T00:00:00\",\"2024-10-26T00:00:00\",\"2024-10-27T00:00:00\",\"2024-10-28T00:00:00\",\"2024-10-29T00:00:00\",\"2024-10-30T00:00:00\",\"2024-10-31T00:00:00\",\"2024-11-01T00:00:00\",\"2024-11-02T00:00:00\",\"2024-11-03T00:00:00\",\"2024-11-04T00:00:00\",\"2024-11-05T00:00:00\",\"2024-11-06T00:00:00\",\"2024-11-07T00:00:00\",\"2024-11-08T00:00:00\",\"2024-11-09T00:00:00\",\"2024-11-10T00:00:00\",\"2024-11-11T00:00:00\",\"2024-11-12T00:00:00\",\"2024-11-13T00:00:00\",\"2024-11-14T00:00:00\",\"2024-11-15T00:00:00\",\"2024-11-16T00:00:00\",\"2024-11-17T00:00:00\",\"2024-11-18T00:00:00\",\"2024-11-19T00:00:00\",\"2024-11-20T00:00:00\",\"2024-11-21T00:00:00\",\"2024-11-22T00:00:00\",\"2024-11-23T00:00:00\",\"2024-11-24T00:00:00\",\"2024-11-25T00:00:00\",\"2024-11-26T00:00:00\",\"2024-11-27T00:00:00\",\"2024-11-28T00:00:00\",\"2024-11-29T00:00:00\",\"2024-11-30T00:00:00\",\"2024-12-01T00:00:00\",\"2024-12-02T00:00:00\",\"2024-12-03T00:00:00\",\"2024-12-04T00:00:00\",\"2024-12-05T00:00:00\",\"2024-12-06T00:00:00\",\"2024-12-07T00:00:00\",\"2024-12-08T00:00:00\",\"2024-12-09T00:00:00\",\"2024-12-10T00:00:00\",\"2024-12-11T00:00:00\",\"2024-12-12T00:00:00\",\"2024-12-13T00:00:00\",\"2024-12-14T00:00:00\",\"2024-12-15T00:00:00\",\"2024-12-16T00:00:00\",\"2024-12-17T00:00:00\",\"2024-12-18T00:00:00\",\"2024-12-19T00:00:00\",\"2024-12-20T00:00:00\",\"2024-12-21T00:00:00\",\"2024-12-22T00:00:00\",\"2024-12-23T00:00:00\",\"2024-12-24T00:00:00\",\"2024-12-25T00:00:00\",\"2024-12-26T00:00:00\",\"2024-12-27T00:00:00\",\"2024-12-28T00:00:00\",\"2024-12-29T00:00:00\",\"2024-12-30T00:00:00\",\"2024-12-31T00:00:00\",\"2025-01-01T00:00:00\",\"2025-01-02T00:00:00\",\"2025-01-03T00:00:00\",\"2025-01-04T00:00:00\",\"2025-01-05T00:00:00\",\"2025-01-06T00:00:00\",\"2025-01-07T00:00:00\",\"2025-01-08T00:00:00\",\"2025-01-09T00:00:00\",\"2025-01-10T00:00:00\",\"2025-01-11T00:00:00\",\"2025-01-12T00:00:00\",\"2025-01-13T00:00:00\",\"2025-01-14T00:00:00\",\"2025-01-15T00:00:00\",\"2025-01-16T00:00:00\",\"2025-01-17T00:00:00\",\"2025-01-18T00:00:00\",\"2025-01-19T00:00:00\",\"2025-01-20T00:00:00\",\"2025-01-21T00:00:00\",\"2025-01-22T00:00:00\",\"2025-01-23T00:00:00\",\"2025-01-24T00:00:00\",\"2025-01-25T00:00:00\",\"2025-01-26T00:00:00\",\"2025-01-27T00:00:00\",\"2025-01-28T00:00:00\",\"2025-01-29T00:00:00\",\"2025-01-30T00:00:00\",\"2025-01-31T00:00:00\",\"2025-02-01T00:00:00\",\"2025-02-02T00:00:00\",\"2025-02-03T00:00:00\",\"2025-02-04T00:00:00\",\"2025-02-05T00:00:00\",\"2025-02-06T00:00:00\",\"2025-02-07T00:00:00\",\"2025-02-08T00:00:00\",\"2025-02-09T00:00:00\",\"2025-02-10T00:00:00\",\"2025-02-11T00:00:00\",\"2025-02-12T00:00:00\",\"2025-02-13T00:00:00\",\"2025-02-14T00:00:00\",\"2025-02-15T00:00:00\",\"2025-02-16T00:00:00\",\"2025-02-17T00:00:00\",\"2025-02-18T00:00:00\",\"2025-02-19T00:00:00\",\"2025-02-20T00:00:00\",\"2025-02-21T00:00:00\",\"2025-02-22T00:00:00\",\"2025-02-23T00:00:00\",\"2025-02-24T00:00:00\",\"2025-02-25T00:00:00\",\"2025-02-26T00:00:00\",\"2025-02-27T00:00:00\",\"2025-02-28T00:00:00\",\"2025-03-01T00:00:00\",\"2025-03-02T00:00:00\",\"2025-03-03T00:00:00\",\"2025-03-04T00:00:00\",\"2025-03-05T00:00:00\",\"2025-03-06T00:00:00\",\"2025-03-07T00:00:00\",\"2025-03-08T00:00:00\",\"2025-03-09T00:00:00\",\"2025-03-10T00:00:00\",\"2025-03-11T00:00:00\",\"2025-03-12T00:00:00\",\"2025-03-13T00:00:00\",\"2025-03-14T00:00:00\",\"2025-03-15T00:00:00\",\"2025-03-16T00:00:00\",\"2025-03-17T00:00:00\",\"2025-03-18T00:00:00\",\"2025-03-19T00:00:00\",\"2025-03-20T00:00:00\",\"2025-03-21T00:00:00\",\"2025-03-22T00:00:00\",\"2025-03-23T00:00:00\",\"2025-03-24T00:00:00\",\"2025-03-25T00:00:00\",\"2025-03-26T00:00:00\",\"2025-03-27T00:00:00\",\"2025-03-28T00:00:00\",\"2025-03-29T00:00:00\",\"2025-03-30T00:00:00\",\"2025-03-31T00:00:00\",\"2025-04-01T00:00:00\",\"2025-04-02T00:00:00\",\"2025-04-03T00:00:00\",\"2025-04-04T00:00:00\",\"2025-04-05T00:00:00\",\"2025-04-06T00:00:00\",\"2025-04-07T00:00:00\",\"2025-04-08T00:00:00\",\"2025-04-09T00:00:00\",\"2025-04-10T00:00:00\",\"2025-04-11T00:00:00\",\"2025-04-12T00:00:00\",\"2025-04-13T00:00:00\",\"2025-04-14T00:00:00\",\"2025-04-15T00:00:00\",\"2025-04-16T00:00:00\",\"2025-04-17T00:00:00\",\"2025-04-18T00:00:00\",\"2025-04-19T00:00:00\",\"2025-04-20T00:00:00\",\"2025-04-21T00:00:00\",\"2025-04-22T00:00:00\",\"2025-04-23T00:00:00\",\"2025-04-24T00:00:00\",\"2025-04-25T00:00:00\",\"2025-04-26T00:00:00\",\"2025-04-27T00:00:00\",\"2025-04-28T00:00:00\",\"2025-04-29T00:00:00\",\"2025-04-30T00:00:00\",\"2025-05-01T00:00:00\",\"2025-05-02T00:00:00\",\"2025-05-03T00:00:00\",\"2025-05-04T00:00:00\",\"2025-05-05T00:00:00\",\"2025-05-06T00:00:00\",\"2025-05-07T00:00:00\",\"2025-05-08T00:00:00\",\"2025-05-09T00:00:00\",\"2025-05-10T00:00:00\",\"2025-05-11T00:00:00\",\"2025-05-12T00:00:00\",\"2025-05-13T00:00:00\",\"2025-05-14T00:00:00\",\"2025-05-15T00:00:00\",\"2025-05-16T00:00:00\",\"2025-05-17T00:00:00\",\"2025-05-18T00:00:00\",\"2025-05-19T00:00:00\",\"2025-05-20T00:00:00\",\"2025-05-21T00:00:00\",\"2025-05-22T00:00:00\",\"2025-05-23T00:00:00\",\"2025-05-24T00:00:00\",\"2025-05-25T00:00:00\",\"2025-05-26T00:00:00\",\"2025-05-27T00:00:00\",\"2025-05-28T00:00:00\",\"2025-05-29T00:00:00\",\"2025-05-30T00:00:00\",\"2025-05-31T00:00:00\",\"2025-06-01T00:00:00\",\"2025-06-02T00:00:00\",\"2025-06-03T00:00:00\",\"2025-06-04T00:00:00\",\"2025-06-05T00:00:00\",\"2025-06-06T00:00:00\",\"2025-06-07T00:00:00\",\"2025-06-08T00:00:00\",\"2025-06-09T00:00:00\",\"2025-06-10T00:00:00\",\"2025-06-11T00:00:00\",\"2025-06-12T00:00:00\",\"2025-06-13T00:00:00\",\"2025-06-14T00:00:00\",\"2025-06-15T00:00:00\",\"2025-06-16T00:00:00\",\"2025-06-17T00:00:00\",\"2025-06-18T00:00:00\",\"2025-06-19T00:00:00\",\"2025-06-20T00:00:00\",\"2025-06-21T00:00:00\",\"2025-06-22T00:00:00\",\"2025-06-23T00:00:00\",\"2025-06-24T00:00:00\",\"2025-06-25T00:00:00\",\"2025-06-26T00:00:00\",\"2025-06-27T00:00:00\",\"2025-06-28T00:00:00\",\"2025-06-29T00:00:00\",\"2025-06-30T00:00:00\",\"2025-07-01T00:00:00\",\"2025-07-02T00:00:00\",\"2025-07-03T00:00:00\",\"2025-07-04T00:00:00\",\"2025-07-05T00:00:00\",\"2025-07-06T00:00:00\",\"2025-07-07T00:00:00\",\"2025-07-08T00:00:00\",\"2025-07-09T00:00:00\",\"2025-07-10T00:00:00\",\"2025-07-11T00:00:00\",\"2025-07-12T00:00:00\",\"2025-07-13T00:00:00\",\"2025-07-14T00:00:00\",\"2025-07-15T00:00:00\",\"2025-07-16T00:00:00\",\"2025-07-17T00:00:00\",\"2025-07-18T00:00:00\",\"2025-07-19T00:00:00\",\"2025-07-20T00:00:00\",\"2025-07-21T00:00:00\",\"2025-07-22T00:00:00\",\"2025-07-23T00:00:00\",\"2025-07-24T00:00:00\",\"2025-07-25T00:00:00\",\"2025-07-26T00:00:00\",\"2025-07-27T00:00:00\",\"2025-07-28T00:00:00\",\"2025-07-29T00:00:00\",\"2025-07-30T00:00:00\",\"2025-07-31T00:00:00\",\"2025-08-01T00:00:00\",\"2025-08-02T00:00:00\",\"2025-08-03T00:00:00\",\"2025-08-04T00:00:00\",\"2025-08-05T00:00:00\",\"2025-08-06T00:00:00\",\"2025-08-07T00:00:00\",\"2025-08-08T00:00:00\",\"2025-08-09T00:00:00\",\"2025-08-10T00:00:00\",\"2025-08-11T00:00:00\",\"2025-08-12T00:00:00\",\"2025-08-13T00:00:00\",\"2025-08-14T00:00:00\",\"2025-08-15T00:00:00\",\"2025-08-16T00:00:00\",\"2025-08-17T00:00:00\",\"2025-08-18T00:00:00\",\"2025-08-19T00:00:00\",\"2025-08-20T00:00:00\",\"2025-08-21T00:00:00\",\"2025-08-22T00:00:00\",\"2025-08-23T00:00:00\",\"2025-08-24T00:00:00\",\"2025-08-25T00:00:00\",\"2025-08-26T00:00:00\",\"2025-08-27T00:00:00\",\"2025-08-28T00:00:00\",\"2025-08-29T00:00:00\",\"2025-08-30T00:00:00\",\"2025-08-31T00:00:00\",\"2025-09-01T00:00:00\",\"2025-09-02T00:00:00\",\"2025-09-03T00:00:00\",\"2025-09-04T00:00:00\",\"2025-09-05T00:00:00\",\"2025-09-06T00:00:00\",\"2025-09-07T00:00:00\",\"2025-09-08T00:00:00\",\"2025-09-09T00:00:00\",\"2025-09-10T00:00:00\",\"2025-09-11T00:00:00\",\"2025-09-12T00:00:00\",\"2025-09-13T00:00:00\",\"2025-09-14T00:00:00\",\"2025-09-15T00:00:00\",\"2025-09-16T00:00:00\",\"2025-09-17T00:00:00\",\"2025-09-18T00:00:00\",\"2025-09-19T00:00:00\",\"2025-09-20T00:00:00\",\"2025-09-21T00:00:00\",\"2025-09-22T00:00:00\",\"2025-09-23T00:00:00\",\"2025-09-24T00:00:00\",\"2025-09-25T00:00:00\",\"2025-09-26T00:00:00\",\"2025-09-27T00:00:00\",\"2025-09-28T00:00:00\",\"2025-09-29T00:00:00\",\"2025-09-30T00:00:00\",\"2025-10-01T00:00:00\",\"2025-10-02T00:00:00\",\"2025-10-03T00:00:00\",\"2025-10-04T00:00:00\",\"2025-10-05T00:00:00\",\"2025-10-06T00:00:00\",\"2025-10-07T00:00:00\",\"2025-10-08T00:00:00\",\"2025-10-09T00:00:00\",\"2025-10-10T00:00:00\",\"2025-10-11T00:00:00\",\"2025-10-12T00:00:00\",\"2025-10-13T00:00:00\",\"2025-10-14T00:00:00\",\"2025-10-15T00:00:00\",\"2025-10-16T00:00:00\",\"2025-10-17T00:00:00\",\"2025-10-18T00:00:00\",\"2025-10-19T00:00:00\",\"2025-10-19T22:47:01\"],\"y\":[68388.87128965274,68962.82918045693,67394.85775735618,67351.04793512498,66683.96806542306,68214.05205157402,66585.66535501445,67018.1650170265,67938.55412885673,69845.304531169,72781.11308158132,72342.62171127986,70264.99735573279,69507.92256395647,69299.16036699413,68803.50626277467,67793.29782704762,69335.42553133758,75620.88606963192,75987.24178320667,76550.0213845611,76630.22631415377,80466.71654833542,88637.42000322911,88264.59974582895,90488.10007497849,87407.51273710128,90947.97509443703,90606.45489380708,89841.47194135105,90534.62459650292,92251.65240738312,94217.02229634205,98509.11859102432,98927.49494553401,97679.46381643033,98015.9355289458,93004.70093103287,91931.83077291827,95981.18057210564,95661.59595817851,97453.2473451042,96513.14234698225,97311.70719084324,95833.1362300365,96031.63097759831,98881.4694561823,97201.50036407741,99973.85150659826,99781.82999198174,101235.3717025316,97353.94700820887,96649.71446771531,101123.61811033697,100000.80836535197,101352.22971292294,101367.01064553364,104721.50151808978,106074.10723541168,106034.913402645,100355.5761481501,97851.35377075805,97691.43431692653,97202.82496847633,95094.27394862173,94644.91085464321,98695.71400782601,99344.95417367229,95678.31244565405,94331.94727053077,95184.61945288602,93663.44751964067,92627.28213113277,93507.85874741491,94384.1761153871,96852.14681235075,98084.34279280754,98256.73876849933,98364.58946599838,102229.39453189743,96952.09886774956,95016.71440989176,92376.27578346101,94736.6267420969,94559.55167224213,94454.77089638807,94456.3493746993,96574.07768799194,100313.15239828422,100044.57926776377,104160.69358484233,104334.61575724394,101275.33714814208,101764.90860170545,106182.2368201815,103673.53509537787,104067.60991206947,104835.19253555956,104796.04077738234,102552.24874280207,101958.46953745594,101313.11264498268,103718.97939813645,104781.5135100103,102382.39409722165,100674.78762544956,97568.31653024875,101466.8606657039,98118.43921664466,96582.88682919052,96635.41875332211,96558.4563096667,96558.23762501091,96548.57865379585,97399.98161383197,95739.97737079239,97836.18856127483,96561.6639990985,97488.48148536457,97569.95169430465,96149.3484548204,95776.15723852723,95495.89153299287,96554.87156259285,98384.31738240314,96135.15541305285,96564.15414290235,96327.46309127835,91396.76686930266,88755.7693356979,83900.11496524839,84709.14477847965,84441.9012237131,86005.25629681018,94261.53286538439,86124.71418722175,87310.80531078295,90604.08098523637,90001.40087607042,86773.33597555371,86142.9833586432,80751.13893300897,78783.94057934263,82799.1080292053,83884.24578828987,81098.90052436228,83971.70916064628,84391.69087647168,82610.61750343916,84075.36559694471,82780.03048688271,86815.44109470697,84270.84358966233,84009.532917822,83793.30854192551,85787.70914901773,87327.72969669085,87520.58391530563,86960.8555491039,87227.27158032371,84359.46915506005,82679.17255385047,82356.38111183756,82514.09365397849,85237.5876052852,82526.4221526433,83163.98757387721,83852.00765399594,83595.88550177493,78211.48358199988,79179.29226757778,76329.090356324,82622.17029546302,79596.35732250768,83439.28818043756,85305.09728392666,83600.82010054543,84523.4524914945,83656.49248858042,84105.77942167096,84930.90857600998,84433.75017215389,85126.66244301842,85073.16544858096,87452.04699068287,93576.16588573981,93605.45230873208,93872.81422867288,94773.11200643536,94644.06637120107,93809.33781968223,95030.60645474444,94256.35946318062,94235.75331048167,96426.94522273027,96855.5681343944,95922.86842404422,94326.62048529249,94758.8237105546,96854.53198815876,97026.49376966801,103076.27555512934,102962.54045692299,104630.8792994166,103994.061616746,102876.8304286011,104184.49039270742,103594.42575090709,103708.85136423641,103556.03493982446,103212.36483885496,106030.6376831359,105629.41580436694,106786.71995834043,109665.86371625263,111560.356938144,107216.66856870624,107831.36374380375,108861.81037744327,109377.71513263129,109068.45694901445,107838.18431100152,105745.41660358038,104010.91956242644,104687.50742934884,105710.00593822816,105884.74263221149,105434.47745144971,104812.9182188067,101650.7387545425,104409.74967959142,105681.4546141758,105692.24740699006,110261.57485948496,110212.73252109604,108679.9760916168,105979.22902375912,106045.56440819203,105482.90611628917,105554.49383061715,106951.2720181497,104683.42479835715,104722.695052907,104690.65002458123,103290.105144757,101532.5683847329,100852.58264648831,105511.62437933135,105976.06929808448,107238.53045016268,106984.01253775663,107078.91560644074,107331.58548463577,108396.61631317894,107132.79910701896,105613.39974163055,108824.44423167943,109602.20483914016,108040.8919400104,108217.46849992426,109215.19771840284,108300.71675785031,108953.19187727802,111327.53054245669,115879.65030112496,117571.02510036016,117418.95745007684,119117.55666327637,119833.67446712355,117678.19493404306,118748.1627367753,119445.36520434043,117988.94664455787,117901.62655900871,117256.9208222684,117482.46977767294,119955.79570607653,118629.05588130427,118354.43517438594,117540.80837085741,117959.54234360624,119418.91405141471,118003.30201607826,117853.30892863822,117833.24087995925,115700.00243915782,113234.6051343189,112554.90232221723,114199.10966460757,115138.68613070177,114128.35408881678,115022.09576830892,117463.47451085235,116688.36663186055,116510.08393213755,119266.92516880555,118773.79960860992,120202.53485503166,123560.99363577305,118405.59579823953,117339.79190213277,117501.21653394958,117542.83687778088,116256.41276740946,112778.34483555844,114252.39755195397,112414.39987336512,116834.24948202295,115359.98346714744,113399.54847314971,110185.35443900425,111842.70999260596,111216.08479629169,112525.59740669793,108480.30666639366,108781.95727925687,108253.36092385623,109162.68557992298,111190.18209845416,111711.51977725117,110724.736377486,110662.18112628513,110209.1888247784,111131.9923868407,112025.12878118771,111547.43956434788,113975.32489468766,115503.16663193036,116160.14344594491,115970.58488443034,115373.55555886829,115397.25272727509,116762.8496864193,116455.94648225319,117145.49508952006,115655.81046441344,115715.51536781774,115304.47999407038,112696.74101711863,112022.16587861195,113320.56908541008,108963.53013595635,109710.20874667744,109654.81021075726,112142.57362752674,114309.15041119447,114024.22783550054,118503.24451752483,120611.71911591051,122250.15186842803,122380.93708463266,123506.18520027678,124773.50823074432,121518.75593575071,123352.50487523204,121698.03066778315,113201.74064138904,110853.11663883903,115189.5714637257,115222.28302116522,113156.56943826913,110708.66960879423,108076.72862033188,106443.61194984635,107156.00337647724,109287.86049823045],\"type\":\"scatter\",\"xaxis\":\"x\",\"yaxis\":\"y\"},{\"name\":\"Volume\",\"x\":[\"2024-10-20T00:00:00\",\"2024-10-21T00:00:00\",\"2024-10-22T00:00:00\",\"2024-10-23T00:00:00\",\"2024-10-24T00:00:00\",\"2024-10-25T00:00:00\",\"2024-10-26T00:00:00\",\"2024-10-27T00:00:00\",\"2024-10-28T00:00:00\",\"2024-10-29T00:00:00\",\"2024-10-30T00:00:00\",\"2024-10-31T00:00:00\",\"2024-11-01T00:00:00\",\"2024-11-02T00:00:00\",\"2024-11-03T00:00:00\",\"2024-11-04T00:00:00\",\"2024-11-05T00:00:00\",\"2024-11-06T00:00:00\",\"2024-11-07T00:00:00\",\"2024-11-08T00:00:00\",\"2024-11-09T00:00:00\",\"2024-11-10T00:00:00\",\"2024-11-11T00:00:00\",\"2024-11-12T00:00:00\",\"2024-11-13T00:00:00\",\"2024-11-14T00:00:00\",\"2024-11-15T00:00:00\",\"2024-11-16T00:00:00\",\"2024-11-17T00:00:00\",\"2024-11-18T00:00:00\",\"2024-11-19T00:00:00\",\"2024-11-20T00:00:00\",\"2024-11-21T00:00:00\",\"2024-11-22T00:00:00\",\"2024-11-23T00:00:00\",\"2024-11-24T00:00:00\",\"2024-11-25T00:00:00\",\"2024-11-26T00:00:00\",\"2024-11-27T00:00:00\",\"2024-11-28T00:00:00\",\"2024-11-29T00:00:00\",\"2024-11-30T00:00:00\",\"2024-12-01T00:00:00\",\"2024-12-02T00:00:00\",\"2024-12-03T00:00:00\",\"2024-12-04T00:00:00\",\"2024-12-05T00:00:00\",\"2024-12-06T00:00:00\",\"2024-12-07T00:00:00\",\"2024-12-08T00:00:00\",\"2024-12-09T00:00:00\",\"2024-12-10T00:00:00\",\"2024-12-11T00:00:00\",\"2024-12-12T00:00:00\",\"2024-12-13T00:00:00\",\"2024-12-14T00:00:00\",\"2024-12-15T00:00:00\",\"2024-12-16T00:00:00\",\"2024-12-17T00:00:00\",\"2024-12-18T00:00:00\",\"2024-12-19T00:00:00\",\"2024-12-20T00:00:00\",\"2024-12-21T00:00:00\",\"2024-12-22T00:00:00\",\"2024-12-23T00:00:00\",\"2024-12-24T00:00:00\",\"2024-12-25T00:00:00\",\"2024-12-26T00:00:00\",\"2024-12-27T00:00:00\",\"2024-12-28T00:00:00\",\"2024-12-29T00:00:00\",\"2024-12-30T00:00:00\",\"2024-12-31T00:00:00\",\"2025-01-01T00:00:00\",\"2025-01-02T00:00:00\",\"2025-01-03T00:00:00\",\"2025-01-04T00:00:00\",\"2025-01-05T00:00:00\",\"2025-01-06T00:00:00\",\"2025-01-07T00:00:00\",\"2025-01-08T00:00:00\",\"2025-01-09T00:00:00\",\"2025-01-10T00:00:00\",\"2025-01-11T00:00:00\",\"2025-01-12T00:00:00\",\"2025-01-13T00:00:00\",\"2025-01-14T00:00:00\",\"2025-01-15T00:00:00\",\"2025-01-16T00:00:00\",\"2025-01-17T00:00:00\",\"2025-01-18T00:00:00\",\"2025-01-19T00:00:00\",\"2025-01-20T00:00:00\",\"2025-01-21T00:00:00\",\"2025-01-22T00:00:00\",\"2025-01-23T00:00:00\",\"2025-01-24T00:00:00\",\"2025-01-25T00:00:00\",\"2025-01-26T00:00:00\",\"2025-01-27T00:00:00\",\"2025-01-28T00:00:00\",\"2025-01-29T00:00:00\",\"2025-01-30T00:00:00\",\"2025-01-31T00:00:00\",\"2025-02-01T00:00:00\",\"2025-02-02T00:00:00\",\"2025-02-03T00:00:00\",\"2025-02-04T00:00:00\",\"2025-02-05T00:00:00\",\"2025-02-06T00:00:00\",\"2025-02-07T00:00:00\",\"2025-02-08T00:00:00\",\"2025-02-09T00:00:00\",\"2025-02-10T00:00:00\",\"2025-02-11T00:00:00\",\"2025-02-12T00:00:00\",\"2025-02-13T00:00:00\",\"2025-02-14T00:00:00\",\"2025-02-15T00:00:00\",\"2025-02-16T00:00:00\",\"2025-02-17T00:00:00\",\"2025-02-18T00:00:00\",\"2025-02-19T00:00:00\",\"2025-02-20T00:00:00\",\"2025-02-21T00:00:00\",\"2025-02-22T00:00:00\",\"2025-02-23T00:00:00\",\"2025-02-24T00:00:00\",\"2025-02-25T00:00:00\",\"2025-02-26T00:00:00\",\"2025-02-27T00:00:00\",\"2025-02-28T00:00:00\",\"2025-03-01T00:00:00\",\"2025-03-02T00:00:00\",\"2025-03-03T00:00:00\",\"2025-03-04T00:00:00\",\"2025-03-05T00:00:00\",\"2025-03-06T00:00:00\",\"2025-03-07T00:00:00\",\"2025-03-08T00:00:00\",\"2025-03-09T00:00:00\",\"2025-03-10T00:00:00\",\"2025-03-11T00:00:00\",\"2025-03-12T00:00:00\",\"2025-03-13T00:00:00\",\"2025-03-14T00:00:00\",\"2025-03-15T00:00:00\",\"2025-03-16T00:00:00\",\"2025-03-17T00:00:00\",\"2025-03-18T00:00:00\",\"2025-03-19T00:00:00\",\"2025-03-20T00:00:00\",\"2025-03-21T00:00:00\",\"2025-03-22T00:00:00\",\"2025-03-23T00:00:00\",\"2025-03-24T00:00:00\",\"2025-03-25T00:00:00\",\"2025-03-26T00:00:00\",\"2025-03-27T00:00:00\",\"2025-03-28T00:00:00\",\"2025-03-29T00:00:00\",\"2025-03-30T00:00:00\",\"2025-03-31T00:00:00\",\"2025-04-01T00:00:00\",\"2025-04-02T00:00:00\",\"2025-04-03T00:00:00\",\"2025-04-04T00:00:00\",\"2025-04-05T00:00:00\",\"2025-04-06T00:00:00\",\"2025-04-07T00:00:00\",\"2025-04-08T00:00:00\",\"2025-04-09T00:00:00\",\"2025-04-10T00:00:00\",\"2025-04-11T00:00:00\",\"2025-04-12T00:00:00\",\"2025-04-13T00:00:00\",\"2025-04-14T00:00:00\",\"2025-04-15T00:00:00\",\"2025-04-16T00:00:00\",\"2025-04-17T00:00:00\",\"2025-04-18T00:00:00\",\"2025-04-19T00:00:00\",\"2025-04-20T00:00:00\",\"2025-04-21T00:00:00\",\"2025-04-22T00:00:00\",\"2025-04-23T00:00:00\",\"2025-04-24T00:00:00\",\"2025-04-25T00:00:00\",\"2025-04-26T00:00:00\",\"2025-04-27T00:00:00\",\"2025-04-28T00:00:00\",\"2025-04-29T00:00:00\",\"2025-04-30T00:00:00\",\"2025-05-01T00:00:00\",\"2025-05-02T00:00:00\",\"2025-05-03T00:00:00\",\"2025-05-04T00:00:00\",\"2025-05-05T00:00:00\",\"2025-05-06T00:00:00\",\"2025-05-07T00:00:00\",\"2025-05-08T00:00:00\",\"2025-05-09T00:00:00\",\"2025-05-10T00:00:00\",\"2025-05-11T00:00:00\",\"2025-05-12T00:00:00\",\"2025-05-13T00:00:00\",\"2025-05-14T00:00:00\",\"2025-05-15T00:00:00\",\"2025-05-16T00:00:00\",\"2025-05-17T00:00:00\",\"2025-05-18T00:00:00\",\"2025-05-19T00:00:00\",\"2025-05-20T00:00:00\",\"2025-05-21T00:00:00\",\"2025-05-22T00:00:00\",\"2025-05-23T00:00:00\",\"2025-05-24T00:00:00\",\"2025-05-25T00:00:00\",\"2025-05-26T00:00:00\",\"2025-05-27T00:00:00\",\"2025-05-28T00:00:00\",\"2025-05-29T00:00:00\",\"2025-05-30T00:00:00\",\"2025-05-31T00:00:00\",\"2025-06-01T00:00:00\",\"2025-06-02T00:00:00\",\"2025-06-03T00:00:00\",\"2025-06-04T00:00:00\",\"2025-06-05T00:00:00\",\"2025-06-06T00:00:00\",\"2025-06-07T00:00:00\",\"2025-06-08T00:00:00\",\"2025-06-09T00:00:00\",\"2025-06-10T00:00:00\",\"2025-06-11T00:00:00\",\"2025-06-12T00:00:00\",\"2025-06-13T00:00:00\",\"2025-06-14T00:00:00\",\"2025-06-15T00:00:00\",\"2025-06-16T00:00:00\",\"2025-06-17T00:00:00\",\"2025-06-18T00:00:00\",\"2025-06-19T00:00:00\",\"2025-06-20T00:00:00\",\"2025-06-21T00:00:00\",\"2025-06-22T00:00:00\",\"2025-06-23T00:00:00\",\"2025-06-24T00:00:00\",\"2025-06-25T00:00:00\",\"2025-06-26T00:00:00\",\"2025-06-27T00:00:00\",\"2025-06-28T00:00:00\",\"2025-06-29T00:00:00\",\"2025-06-30T00:00:00\",\"2025-07-01T00:00:00\",\"2025-07-02T00:00:00\",\"2025-07-03T00:00:00\",\"2025-07-04T00:00:00\",\"2025-07-05T00:00:00\",\"2025-07-06T00:00:00\",\"2025-07-07T00:00:00\",\"2025-07-08T00:00:00\",\"2025-07-09T00:00:00\",\"2025-07-10T00:00:00\",\"2025-07-11T00:00:00\",\"2025-07-12T00:00:00\",\"2025-07-13T00:00:00\",\"2025-07-14T00:00:00\",\"2025-07-15T00:00:00\",\"2025-07-16T00:00:00\",\"2025-07-17T00:00:00\",\"2025-07-18T00:00:00\",\"2025-07-19T00:00:00\",\"2025-07-20T00:00:00\",\"2025-07-21T00:00:00\",\"2025-07-22T00:00:00\",\"2025-07-23T00:00:00\",\"2025-07-24T00:00:00\",\"2025-07-25T00:00:00\",\"2025-07-26T00:00:00\",\"2025-07-27T00:00:00\",\"2025-07-28T00:00:00\",\"2025-07-29T00:00:00\",\"2025-07-30T00:00:00\",\"2025-07-31T00:00:00\",\"2025-08-01T00:00:00\",\"2025-08-02T00:00:00\",\"2025-08-03T00:00:00\",\"2025-08-04T00:00:00\",\"2025-08-05T00:00:00\",\"2025-08-06T00:00:00\",\"2025-08-07T00:00:00\",\"2025-08-08T00:00:00\",\"2025-08-09T00:00:00\",\"2025-08-10T00:00:00\",\"2025-08-11T00:00:00\",\"2025-08-12T00:00:00\",\"2025-08-13T00:00:00\",\"2025-08-14T00:00:00\",\"2025-08-15T00:00:00\",\"2025-08-16T00:00:00\",\"2025-08-17T00:00:00\",\"2025-08-18T00:00:00\",\"2025-08-19T00:00:00\",\"2025-08-20T00:00:00\",\"2025-08-21T00:00:00\",\"2025-08-22T00:00:00\",\"2025-08-23T00:00:00\",\"2025-08-24T00:00:00\",\"2025-08-25T00:00:00\",\"2025-08-26T00:00:00\",\"2025-08-27T00:00:00\",\"2025-08-28T00:00:00\",\"2025-08-29T00:00:00\",\"2025-08-30T00:00:00\",\"2025-08-31T00:00:00\",\"2025-09-01T00:00:00\",\"2025-09-02T00:00:00\",\"2025-09-03T00:00:00\",\"2025-09-04T00:00:00\",\"2025-09-05T00:00:00\",\"2025-09-06T00:00:00\",\"2025-09-07T00:00:00\",\"2025-09-08T00:00:00\",\"2025-09-09T00:00:00\",\"2025-09-10T00:00:00\",\"2025-09-11T00:00:00\",\"2025-09-12T00:00:00\",\"2025-09-13T00:00:00\",\"2025-09-14T00:00:00\",\"2025-09-15T00:00:00\",\"2025-09-16T00:00:00\",\"2025-09-17T00:00:00\",\"2025-09-18T00:00:00\",\"2025-09-19T00:00:00\",\"2025-09-20T00:00:00\",\"2025-09-21T00:00:00\",\"2025-09-22T00:00:00\",\"2025-09-23T00:00:00\",\"2025-09-24T00:00:00\",\"2025-09-25T00:00:00\",\"2025-09-26T00:00:00\",\"2025-09-27T00:00:00\",\"2025-09-28T00:00:00\",\"2025-09-29T00:00:00\",\"2025-09-30T00:00:00\",\"2025-10-01T00:00:00\",\"2025-10-02T00:00:00\",\"2025-10-03T00:00:00\",\"2025-10-04T00:00:00\",\"2025-10-05T00:00:00\",\"2025-10-06T00:00:00\",\"2025-10-07T00:00:00\",\"2025-10-08T00:00:00\",\"2025-10-09T00:00:00\",\"2025-10-10T00:00:00\",\"2025-10-11T00:00:00\",\"2025-10-12T00:00:00\",\"2025-10-13T00:00:00\",\"2025-10-14T00:00:00\",\"2025-10-15T00:00:00\",\"2025-10-16T00:00:00\",\"2025-10-17T00:00:00\",\"2025-10-18T00:00:00\",\"2025-10-19T00:00:00\",\"2025-10-19T22:47:01\"],\"y\":[14110889435.452631,17253863432.786995,40485496091.95008,31398389967.38113,32676918488.059,35892606570.03549,48426924850.053406,21169467789.89267,16533385730.434193,41990540384.96554,65487782004.97014,43498144313.67304,45907074188.570145,54863092261.31101,14709379754.965973,37659435506.757034,46183110993.79166,40025021601.49395,128492534668.23851,66590396087.4524,50687468387.720375,31430906055.796104,93473126207.67865,133959805308.72511,152356811694.44943,136046309843.60645,99649391847.08359,84382485697.84985,49255174407.368774,48556083101.64749,77391724184.19348,80493234958.49161,80747272080.24826,118163852022.3175,85746174563.98602,47414200206.70341,50665680246.86775,89476321216.0935,97389239315.52954,81469353259.75,49067932024.40325,74670031635.5065,43580019720.720634,49147687432.565895,101019861361.49252,87935752287.975,98230784298.0459,190460293531.53802,115812632020.44765,61061136199.7846,62677764785.05408,146846843211.51685,125835977742.51114,118484957960.76833,100092043319.81221,78802903278.85962,57321924844.41535,70645074624.52869,115184737759.33566,93417826250.1972,113692025885.44745,100611554887.24123,112340864006.62827,53058382639.48845,44619017105.36954,64937790292.61125,49169088282.15742,33963749856.44743,45049342388.18843,41498540807.666954,22429850903.940086,24065314499.502274,57595164139.4709,45327464907.74362,23275007789.496334,45157338602.617516,35721645948.10051,20979035420.980793,20060293834.7155,46111387334.46171,60610257147.15405,65790469838.34392,65850881574.76184,63433655716.757095,17836423168.41627,19608932595.53299,76328330233.31137,51241728228.81719,57637319739.543396,50150102497.2729,69135117732.00064,49416447749.13053,72970313683.92325,120158523166.88387,95344290057.8965,55030669602.56557,102455227371.20761,51418786362.7815,22740744964.719296,20639818380.26942,93191643783.24739,45780526813.56264,47425401641.53094,42122570869.034325,37187819228.35328,22827776122.48367,59784234332.21204,122163969235.23686,73196693057.98114,48848958931.79228,44462180396.172516,57077722340.22422,20760850644.84597,25457107581.051964,37054987393.57789,36454577154.5622,47115618235.19051,29084371910.690556,32289906944.92862,14215311318.346336,13634794998.739267,25324374113.08163,38311133144.729355,27703222487.389572,24175261969.81266,42477472950.92155,18464415570.762142,16643044374.983364,45539703844.38777,96742453402.56294,69277430795.68657,81960688217.70384,80695237175.07367,30634474722.6359,61859112550.80991,68715362745.4567,65863356680.42408,51606642859.81411,47555759124.64708,63216440874.73251,18809360803.37126,32013406240.51754,49983692766.22745,56404462275.083046,41782186208.59073,32583592654.882656,28571483950.074646,10761796127.312485,21638031633.118767,19659366246.596867,24557570268.85276,33871216993.304657,27579127651.06656,18091004975.919056,7771134681.982918,12617587530.619724,27270889835.1835,30351832942.705593,25522877558.700558,24620445368.489468,31674486232.097313,16837439419.924389,13428975108.070734,30326148749.91535,29172899851.734768,46332905657.77597,36594464539.14662,35647289400.47406,14910400035.531416,36140377231.68329,82909748172.59216,47812787635.22632,87408220482.11568,41213520154.25157,39813566443.76779,22428929482.069122,28731125717.934357,33155578229.343513,25084671427.622566,26948109141.803364,19323821375.14309,9550691272.782005,12635983530.804455,12625843856.313684,40070025414.28289,53841992235.36636,39901515879.65954,30031246761.093452,39336184715.04292,15445392739.787264,15926259371.057959,31913814736.53902,25882629766.278946,26541700309.366146,30207566405.468834,23276376191.483967,13797554863.642815,14903122945.616686,24086456278.203846,23348052607.071873,64376174032.08048,50020047720.65604,40800894903.23446,21558992540.042442,27389436049.454792,43090605819.36596,33861432519.50822,28398245846.798244,31823340473.339912,25887953182.14765,18950056010.479057,30744060179.802963,43339734153.75087,36393687094.25122,60722883113.84,52218408239.45193,49251745837.96465,27128230116.517162,29652659665.048733,27950577137.918888,38978783508.88622,29794278037.284946,38279231892.56757,39680060337.610214,20432694555.09522,17721500507.53389,26313843058.73954,25925661121.080395,25812143562.797962,39711941132.0234,29897390978.090103,17749731308.73042,16044679696.270103,38222993297.50514,36303839182.734825,30338936631.626648,35865159511.38857,49471015505.74361,17916412455.866283,16568441852.649668,32095957011.724205,38603212010.889435,30339326410.154945,18063282658.152298,30632751225.407444,21644463198.719532,51287142390.02526,50011797128.6837,31704641076.941063,30468274982.034847,24320699663.15122,25194306261.888832,8960877693.57604,14881078675.366829,22489515582.41552,25033160828.30909,36395184773.06136,29892049537.628605,24248906784.57383,10042942280.966904,14638669497.351297,25493246475.80407,20488865138.27645,37078460440.66385,56204086624.04028,64185145923.88688,24351256098.393543,27310851454.97692,68915956378.80447,80299520980.2335,50374263848.76278,49282617205.72662,58896449260.69391,23934511126.349533,36702153882.06748,46344384345.39471,58939000420.94166,45225685167.61703,51940414419.3327,91617702596.10347,25145925063.881348,30220402191.467663,43433742203.62158,42860287143.68828,43054424656.58649,45238249453.35885,65794680822.25255,33543439044.09785,24689273719.085533,32488023582.82734,37316213251.97167,32052509631.058872,38289687095.00489,33017415812.97353,27638785406.21056,37157754754.85189,61739781527.95854,46941089789.57991,61818118105.53991,73822008367.99681,44268714220.021,23202714236.542347,20906566026.645443,47337926940.98573,46156885037.403885,42166369117.006935,32048202090.65466,50878158870.82928,27306719885.257973,40682656776.69001,52854872363.936554,43023800053.0546,36957904262.995804,34222495087.206894,51702115726.38959,27799981330.792213,26140904019.246822,42999610648.39302,50235464642.845955,36406080683.42747,38708366685.43147,56020470627.40665,19340758702.076332,22147049159.335133,37159847899.8603,45338021458.38368,52205187155.05567,43752917632.95067,51192951485.864395,30063858747.76022,26889399414.610912,46947581231.08198,39964451595.099724,54740952295.37868,43642467075.25838,34296721252.33001,18774953731.290394,18659113982.495464,69152342029.46799,46154878824.043465,46677543220.334526,74481796351.47305,55257214020.568245,23294896964.31016,31274654338.51212,57833295882.65785,57718901820.70616,69920179085.4708,71252850672.75252,83155430408.51796,35161626561.80918,72011486031.26575,69605991064.72382,76087884719.80028,62576032795.36722,72097306668.91356,151002213089.8765,108643865752.17674,93857100744.12454,68935270367.04033,91211854988.91518,68877328886.40259,84773160808.27399,94325236794.78163,34412835719.61292,44665012930.14936],\"type\":\"scatter\",\"xaxis\":\"x\",\"yaxis\":\"y2\"}],                        {\"template\":{\"data\":{\"histogram2dcontour\":[{\"type\":\"histogram2dcontour\",\"colorbar\":{\"outlinewidth\":0,\"ticks\":\"\"},\"colorscale\":[[0.0,\"#0d0887\"],[0.1111111111111111,\"#46039f\"],[0.2222222222222222,\"#7201a8\"],[0.3333333333333333,\"#9c179e\"],[0.4444444444444444,\"#bd3786\"],[0.5555555555555556,\"#d8576b\"],[0.6666666666666666,\"#ed7953\"],[0.7777777777777778,\"#fb9f3a\"],[0.8888888888888888,\"#fdca26\"],[1.0,\"#f0f921\"]]}],\"choropleth\":[{\"type\":\"choropleth\",\"colorbar\":{\"outlinewidth\":0,\"ticks\":\"\"}}],\"histogram2d\":[{\"type\":\"histogram2d\",\"colorbar\":{\"outlinewidth\":0,\"ticks\":\"\"},\"colorscale\":[[0.0,\"#0d0887\"],[0.1111111111111111,\"#46039f\"],[0.2222222222222222,\"#7201a8\"],[0.3333333333333333,\"#9c179e\"],[0.4444444444444444,\"#bd3786\"],[0.5555555555555556,\"#d8576b\"],[0.6666666666666666,\"#ed7953\"],[0.7777777777777778,\"#fb9f3a\"],[0.8888888888888888,\"#fdca26\"],[1.0,\"#f0f921\"]]}],\"heatmap\":[{\"type\":\"heatmap\",\"colorbar\":{\"outlinewidth\":0,\"ticks\":\"\"},\"colorscale\":[[0.0,\"#0d0887\"],[0.1111111111111111,\"#46039f\"],[0.2222222222222222,\"#7201a8\"],[0.3333333333333333,\"#9c179e\"],[0.4444444444444444,\"#bd3786\"],[0.5555555555555556,\"#d8576b\"],[0.6666666666666666,\"#ed7953\"],[0.7777777777777778,\"#fb9f3a\"],[0.8888888888888888,\"#fdca26\"],[1.0,\"#f0f921\"]]}],\"heatmapgl\":[{\"type\":\"heatmapgl\",\"colorbar\":{\"outlinewidth\":0,\"ticks\":\"\"},\"colorscale\":[[0.0,\"#0d0887\"],[0.1111111111111111,\"#46039f\"],[0.2222222222222222,\"#7201a8\"],[0.3333333333333333,\"#9c179e\"],[0.4444444444444444,\"#bd3786\"],[0.5555555555555556,\"#d8576b\"],[0.6666666666666666,\"#ed7953\"],[0.7777777777777778,\"#fb9f3a\"],[0.8888888888888888,\"#fdca26\"],[1.0,\"#f0f921\"]]}],\"contourcarpet\":[{\"type\":\"contourcarpet\",\"colorbar\":{\"outlinewidth\":0,\"ticks\":\"\"}}],\"contour\":[{\"type\":\"contour\",\"colorbar\":{\"outlinewidth\":0,\"ticks\":\"\"},\"colorscale\":[[0.0,\"#0d0887\"],[0.1111111111111111,\"#46039f\"],[0.2222222222222222,\"#7201a8\"],[0.3333333333333333,\"#9c179e\"],[0.4444444444444444,\"#bd3786\"],[0.5555555555555556,\"#d8576b\"],[0.6666666666666666,\"#ed7953\"],[0.7777777777777778,\"#fb9f3a\"],[0.8888888888888888,\"#fdca26\"],[1.0,\"#f0f921\"]]}],\"surface\":[{\"type\":\"surface\",\"colorbar\":{\"outlinewidth\":0,\"ticks\":\"\"},\"colorscale\":[[0.0,\"#0d0887\"],[0.1111111111111111,\"#46039f\"],[0.2222222222222222,\"#7201a8\"],[0.3333333333333333,\"#9c179e\"],[0.4444444444444444,\"#bd3786\"],[0.5555555555555556,\"#d8576b\"],[0.6666666666666666,\"#ed7953\"],[0.7777777777777778,\"#fb9f3a\"],[0.8888888888888888,\"#fdca26\"],[1.0,\"#f0f921\"]]}],\"mesh3d\":[{\"type\":\"mesh3d\",\"colorbar\":{\"outlinewidth\":0,\"ticks\":\"\"}}],\"scatter\":[{\"fillpattern\":{\"fillmode\":\"overlay\",\"size\":10,\"solidity\":0.2},\"type\":\"scatter\"}],\"parcoords\":[{\"type\":\"parcoords\",\"line\":{\"colorbar\":{\"outlinewidth\":0,\"ticks\":\"\"}}}],\"scatterpolargl\":[{\"type\":\"scatterpolargl\",\"marker\":{\"colorbar\":{\"outlinewidth\":0,\"ticks\":\"\"}}}],\"bar\":[{\"error_x\":{\"color\":\"#2a3f5f\"},\"error_y\":{\"color\":\"#2a3f5f\"},\"marker\":{\"line\":{\"color\":\"#E5ECF6\",\"width\":0.5},\"pattern\":{\"fillmode\":\"overlay\",\"size\":10,\"solidity\":0.2}},\"type\":\"bar\"}],\"scattergeo\":[{\"type\":\"scattergeo\",\"marker\":{\"colorbar\":{\"outlinewidth\":0,\"ticks\":\"\"}}}],\"scatterpolar\":[{\"type\":\"scatterpolar\",\"marker\":{\"colorbar\":{\"outlinewidth\":0,\"ticks\":\"\"}}}],\"histogram\":[{\"marker\":{\"pattern\":{\"fillmode\":\"overlay\",\"size\":10,\"solidity\":0.2}},\"type\":\"histogram\"}],\"scattergl\":[{\"type\":\"scattergl\",\"marker\":{\"colorbar\":{\"outlinewidth\":0,\"ticks\":\"\"}}}],\"scatter3d\":[{\"type\":\"scatter3d\",\"line\":{\"colorbar\":{\"outlinewidth\":0,\"ticks\":\"\"}},\"marker\":{\"colorbar\":{\"outlinewidth\":0,\"ticks\":\"\"}}}],\"scattermapbox\":[{\"type\":\"scattermapbox\",\"marker\":{\"colorbar\":{\"outlinewidth\":0,\"ticks\":\"\"}}}],\"scatterternary\":[{\"type\":\"scatterternary\",\"marker\":{\"colorbar\":{\"outlinewidth\":0,\"ticks\":\"\"}}}],\"scattercarpet\":[{\"type\":\"scattercarpet\",\"marker\":{\"colorbar\":{\"outlinewidth\":0,\"ticks\":\"\"}}}],\"carpet\":[{\"aaxis\":{\"endlinecolor\":\"#2a3f5f\",\"gridcolor\":\"white\",\"linecolor\":\"white\",\"minorgridcolor\":\"white\",\"startlinecolor\":\"#2a3f5f\"},\"baxis\":{\"endlinecolor\":\"#2a3f5f\",\"gridcolor\":\"white\",\"linecolor\":\"white\",\"minorgridcolor\":\"white\",\"startlinecolor\":\"#2a3f5f\"},\"type\":\"carpet\"}],\"table\":[{\"cells\":{\"fill\":{\"color\":\"#EBF0F8\"},\"line\":{\"color\":\"white\"}},\"header\":{\"fill\":{\"color\":\"#C8D4E3\"},\"line\":{\"color\":\"white\"}},\"type\":\"table\"}],\"barpolar\":[{\"marker\":{\"line\":{\"color\":\"#E5ECF6\",\"width\":0.5},\"pattern\":{\"fillmode\":\"overlay\",\"size\":10,\"solidity\":0.2}},\"type\":\"barpolar\"}],\"pie\":[{\"automargin\":true,\"type\":\"pie\"}]},\"layout\":{\"autotypenumbers\":\"strict\",\"colorway\":[\"#636efa\",\"#EF553B\",\"#00cc96\",\"#ab63fa\",\"#FFA15A\",\"#19d3f3\",\"#FF6692\",\"#B6E880\",\"#FF97FF\",\"#FECB52\"],\"font\":{\"color\":\"#2a3f5f\"},\"hovermode\":\"closest\",\"hoverlabel\":{\"align\":\"left\"},\"paper_bgcolor\":\"white\",\"plot_bgcolor\":\"#E5ECF6\",\"polar\":{\"bgcolor\":\"#E5ECF6\",\"angularaxis\":{\"gridcolor\":\"white\",\"linecolor\":\"white\",\"ticks\":\"\"},\"radialaxis\":{\"gridcolor\":\"white\",\"linecolor\":\"white\",\"ticks\":\"\"}},\"ternary\":{\"bgcolor\":\"#E5ECF6\",\"aaxis\":{\"gridcolor\":\"white\",\"linecolor\":\"white\",\"ticks\":\"\"},\"baxis\":{\"gridcolor\":\"white\",\"linecolor\":\"white\",\"ticks\":\"\"},\"caxis\":{\"gridcolor\":\"white\",\"linecolor\":\"white\",\"ticks\":\"\"}},\"coloraxis\":{\"colorbar\":{\"outlinewidth\":0,\"ticks\":\"\"}},\"colorscale\":{\"sequential\":[[0.0,\"#0d0887\"],[0.1111111111111111,\"#46039f\"],[0.2222222222222222,\"#7201a8\"],[0.3333333333333333,\"#9c179e\"],[0.4444444444444444,\"#bd3786\"],[0.5555555555555556,\"#d8576b\"],[0.6666666666666666,\"#ed7953\"],[0.7777777777777778,\"#fb9f3a\"],[0.8888888888888888,\"#fdca26\"],[1.0,\"#f0f921\"]],\"sequentialminus\":[[0.0,\"#0d0887\"],[0.1111111111111111,\"#46039f\"],[0.2222222222222222,\"#7201a8\"],[0.3333333333333333,\"#9c179e\"],[0.4444444444444444,\"#bd3786\"],[0.5555555555555556,\"#d8576b\"],[0.6666666666666666,\"#ed7953\"],[0.7777777777777778,\"#fb9f3a\"],[0.8888888888888888,\"#fdca26\"],[1.0,\"#f0f921\"]],\"diverging\":[[0,\"#8e0152\"],[0.1,\"#c51b7d\"],[0.2,\"#de77ae\"],[0.3,\"#f1b6da\"],[0.4,\"#fde0ef\"],[0.5,\"#f7f7f7\"],[0.6,\"#e6f5d0\"],[0.7,\"#b8e186\"],[0.8,\"#7fbc41\"],[0.9,\"#4d9221\"],[1,\"#276419\"]]},\"xaxis\":{\"gridcolor\":\"white\",\"linecolor\":\"white\",\"ticks\":\"\",\"title\":{\"standoff\":15},\"zerolinecolor\":\"white\",\"automargin\":true,\"zerolinewidth\":2},\"yaxis\":{\"gridcolor\":\"white\",\"linecolor\":\"white\",\"ticks\":\"\",\"title\":{\"standoff\":15},\"zerolinecolor\":\"white\",\"automargin\":true,\"zerolinewidth\":2},\"scene\":{\"xaxis\":{\"backgroundcolor\":\"#E5ECF6\",\"gridcolor\":\"white\",\"linecolor\":\"white\",\"showbackground\":true,\"ticks\":\"\",\"zerolinecolor\":\"white\",\"gridwidth\":2},\"yaxis\":{\"backgroundcolor\":\"#E5ECF6\",\"gridcolor\":\"white\",\"linecolor\":\"white\",\"showbackground\":true,\"ticks\":\"\",\"zerolinecolor\":\"white\",\"gridwidth\":2},\"zaxis\":{\"backgroundcolor\":\"#E5ECF6\",\"gridcolor\":\"white\",\"linecolor\":\"white\",\"showbackground\":true,\"ticks\":\"\",\"zerolinecolor\":\"white\",\"gridwidth\":2}},\"shapedefaults\":{\"line\":{\"color\":\"#2a3f5f\"}},\"annotationdefaults\":{\"arrowcolor\":\"#2a3f5f\",\"arrowhead\":0,\"arrowwidth\":1},\"geo\":{\"bgcolor\":\"white\",\"landcolor\":\"#E5ECF6\",\"subunitcolor\":\"white\",\"showland\":true,\"showlakes\":true,\"lakecolor\":\"white\"},\"title\":{\"x\":0.05},\"mapbox\":{\"style\":\"light\"}}},\"xaxis\":{\"anchor\":\"y\",\"domain\":[0.0,0.94],\"title\":{\"text\":\"Timestamp\"}},\"yaxis\":{\"anchor\":\"x\",\"domain\":[0.0,1.0],\"title\":{\"text\":\"Price (USD)\"}},\"yaxis2\":{\"anchor\":\"x\",\"overlaying\":\"y\",\"side\":\"right\",\"title\":{\"text\":\"Volume (USD)\"}},\"title\":{\"text\":\"Bitcoin Price and Trading Volume Over Time\"}},                        {\"responsive\": true}                    ).then(function(){\n",
              "                            \n",
              "var gd = document.getElementById('fd293d3f-f0fc-4690-a6ec-22418337f1c5');\n",
              "var x = new MutationObserver(function (mutations, observer) {{\n",
              "        var display = window.getComputedStyle(gd).display;\n",
              "        if (!display || display === 'none') {{\n",
              "            console.log([gd, 'removed!']);\n",
              "            Plotly.purge(gd);\n",
              "            observer.disconnect();\n",
              "        }}\n",
              "}});\n",
              "\n",
              "// Listen for the removal of the full notebook cells\n",
              "var notebookContainer = gd.closest('#notebook-container');\n",
              "if (notebookContainer) {{\n",
              "    x.observe(notebookContainer, {childList: true});\n",
              "}}\n",
              "\n",
              "// Listen for the clearing of the current output cell\n",
              "var outputEl = gd.closest('.output');\n",
              "if (outputEl) {{\n",
              "    x.observe(outputEl, {childList: true});\n",
              "}}\n",
              "\n",
              "                        })                };                            </script>        </div>\n",
              "</body>\n",
              "</html>"
            ]
          },
          "metadata": {}
        }
      ]
    },
    {
      "cell_type": "markdown",
      "metadata": {
        "id": "c8a51aef"
      },
      "source": [
        "# Task\n",
        "Fetch trading volume and add it to the plot."
      ]
    },
    {
      "cell_type": "markdown",
      "metadata": {
        "id": "f64b0d5e"
      },
      "source": [
        "## Modify data fetching\n",
        "\n",
        "### Subtask:\n",
        "Update the code to fetch trading volume data in addition to price data.\n"
      ]
    },
    {
      "cell_type": "markdown",
      "metadata": {
        "id": "703f26d9"
      },
      "source": [
        "**Reasoning**:\n",
        "Modify the existing code to fetch trading volume data along with price data and process both datasets.\n",
        "\n"
      ]
    },
    {
      "cell_type": "code",
      "metadata": {
        "colab": {
          "base_uri": "https://localhost:8080/",
          "height": 0
        },
        "id": "701d650f",
        "outputId": "1742bea5-86ed-4e20-b450-0c584d8e6ccb"
      },
      "source": [
        "url = \"https://api.coingecko.com/api/v3/coins/bitcoin/market_chart\"\n",
        "params = {\"vs_currency\": \"usd\", \"days\": \"365\"}  # ~1 year\n",
        "\n",
        "data = requests.get(url, params=params).json()\n",
        "\n",
        "prices = pd.DataFrame()\n",
        "volumes = pd.DataFrame()\n",
        "\n",
        "if 'prices' in data:\n",
        "    prices = pd.DataFrame(data['prices'], columns=['timestamp', 'price'])\n",
        "    prices['timestamp'] = pd.to_datetime(prices['timestamp'], unit='ms')\n",
        "    prices.set_index('timestamp', inplace=True)\n",
        "    print(\"Price data fetched successfully for the last 365 days.\")\n",
        "else:\n",
        "    print(\"Error fetching price data from CoinGecko API:\", data)\n",
        "\n",
        "if 'total_volumes' in data:\n",
        "    volumes = pd.DataFrame(data['total_volumes'], columns=['timestamp', 'volume'])\n",
        "    volumes['timestamp'] = pd.to_datetime(volumes['timestamp'], unit='ms')\n",
        "    volumes.set_index('timestamp', inplace=True)\n",
        "    print(\"Trading volume data fetched successfully for the last 365 days.\")\n",
        "else:\n",
        "    print(\"Error fetching trading volume data from CoinGecko API:\", data)"
      ],
      "execution_count": 14,
      "outputs": [
        {
          "output_type": "stream",
          "name": "stdout",
          "text": [
            "Price data fetched successfully for the last 365 days.\n",
            "Trading volume data fetched successfully for the last 365 days.\n"
          ]
        }
      ]
    },
    {
      "cell_type": "markdown",
      "metadata": {
        "id": "eec028c1"
      },
      "source": [
        "## Combine data\n",
        "\n",
        "### Subtask:\n",
        "Merge or combine the fetched price and volume data into a single DataFrame.\n"
      ]
    },
    {
      "cell_type": "markdown",
      "metadata": {
        "id": "9d471c8d"
      },
      "source": [
        "**Reasoning**:\n",
        "Merge the prices and volumes dataframes on their index and display the head of the combined dataframe.\n",
        "\n"
      ]
    },
    {
      "cell_type": "code",
      "metadata": {
        "colab": {
          "base_uri": "https://localhost:8080/",
          "height": 238
        },
        "id": "85bbdade",
        "outputId": "21b18e6e-3f2c-4c55-ba2e-b649f232a453"
      },
      "source": [
        "df_combined = prices.merge(volumes, left_index=True, right_index=True)\n",
        "display(df_combined.head())"
      ],
      "execution_count": 15,
      "outputs": [
        {
          "output_type": "display_data",
          "data": {
            "text/plain": [
              "                   price        volume\n",
              "timestamp                             \n",
              "2024-10-20  68388.871290  1.411089e+10\n",
              "2024-10-21  68962.829180  1.725386e+10\n",
              "2024-10-22  67394.857757  4.048550e+10\n",
              "2024-10-23  67351.047935  3.139839e+10\n",
              "2024-10-24  66683.968065  3.267692e+10"
            ],
            "text/html": [
              "\n",
              "  <div id=\"df-942404ba-e20a-4b71-8941-86cf3536f793\" class=\"colab-df-container\">\n",
              "    <div>\n",
              "<style scoped>\n",
              "    .dataframe tbody tr th:only-of-type {\n",
              "        vertical-align: middle;\n",
              "    }\n",
              "\n",
              "    .dataframe tbody tr th {\n",
              "        vertical-align: top;\n",
              "    }\n",
              "\n",
              "    .dataframe thead th {\n",
              "        text-align: right;\n",
              "    }\n",
              "</style>\n",
              "<table border=\"1\" class=\"dataframe\">\n",
              "  <thead>\n",
              "    <tr style=\"text-align: right;\">\n",
              "      <th></th>\n",
              "      <th>price</th>\n",
              "      <th>volume</th>\n",
              "    </tr>\n",
              "    <tr>\n",
              "      <th>timestamp</th>\n",
              "      <th></th>\n",
              "      <th></th>\n",
              "    </tr>\n",
              "  </thead>\n",
              "  <tbody>\n",
              "    <tr>\n",
              "      <th>2024-10-20</th>\n",
              "      <td>68388.871290</td>\n",
              "      <td>1.411089e+10</td>\n",
              "    </tr>\n",
              "    <tr>\n",
              "      <th>2024-10-21</th>\n",
              "      <td>68962.829180</td>\n",
              "      <td>1.725386e+10</td>\n",
              "    </tr>\n",
              "    <tr>\n",
              "      <th>2024-10-22</th>\n",
              "      <td>67394.857757</td>\n",
              "      <td>4.048550e+10</td>\n",
              "    </tr>\n",
              "    <tr>\n",
              "      <th>2024-10-23</th>\n",
              "      <td>67351.047935</td>\n",
              "      <td>3.139839e+10</td>\n",
              "    </tr>\n",
              "    <tr>\n",
              "      <th>2024-10-24</th>\n",
              "      <td>66683.968065</td>\n",
              "      <td>3.267692e+10</td>\n",
              "    </tr>\n",
              "  </tbody>\n",
              "</table>\n",
              "</div>\n",
              "    <div class=\"colab-df-buttons\">\n",
              "\n",
              "  <div class=\"colab-df-container\">\n",
              "    <button class=\"colab-df-convert\" onclick=\"convertToInteractive('df-942404ba-e20a-4b71-8941-86cf3536f793')\"\n",
              "            title=\"Convert this dataframe to an interactive table.\"\n",
              "            style=\"display:none;\">\n",
              "\n",
              "  <svg xmlns=\"http://www.w3.org/2000/svg\" height=\"24px\" viewBox=\"0 -960 960 960\">\n",
              "    <path d=\"M120-120v-720h720v720H120Zm60-500h600v-160H180v160Zm220 220h160v-160H400v160Zm0 220h160v-160H400v160ZM180-400h160v-160H180v160Zm440 0h160v-160H620v160ZM180-180h160v-160H180v160Zm440 0h160v-160H620v160Z\"/>\n",
              "  </svg>\n",
              "    </button>\n",
              "\n",
              "  <style>\n",
              "    .colab-df-container {\n",
              "      display:flex;\n",
              "      gap: 12px;\n",
              "    }\n",
              "\n",
              "    .colab-df-convert {\n",
              "      background-color: #E8F0FE;\n",
              "      border: none;\n",
              "      border-radius: 50%;\n",
              "      cursor: pointer;\n",
              "      display: none;\n",
              "      fill: #1967D2;\n",
              "      height: 32px;\n",
              "      padding: 0 0 0 0;\n",
              "      width: 32px;\n",
              "    }\n",
              "\n",
              "    .colab-df-convert:hover {\n",
              "      background-color: #E2EBFA;\n",
              "      box-shadow: 0px 1px 2px rgba(60, 64, 67, 0.3), 0px 1px 3px 1px rgba(60, 64, 67, 0.15);\n",
              "      fill: #174EA6;\n",
              "    }\n",
              "\n",
              "    .colab-df-buttons div {\n",
              "      margin-bottom: 4px;\n",
              "    }\n",
              "\n",
              "    [theme=dark] .colab-df-convert {\n",
              "      background-color: #3B4455;\n",
              "      fill: #D2E3FC;\n",
              "    }\n",
              "\n",
              "    [theme=dark] .colab-df-convert:hover {\n",
              "      background-color: #434B5C;\n",
              "      box-shadow: 0px 1px 3px 1px rgba(0, 0, 0, 0.15);\n",
              "      filter: drop-shadow(0px 1px 2px rgba(0, 0, 0, 0.3));\n",
              "      fill: #FFFFFF;\n",
              "    }\n",
              "  </style>\n",
              "\n",
              "    <script>\n",
              "      const buttonEl =\n",
              "        document.querySelector('#df-942404ba-e20a-4b71-8941-86cf3536f793 button.colab-df-convert');\n",
              "      buttonEl.style.display =\n",
              "        google.colab.kernel.accessAllowed ? 'block' : 'none';\n",
              "\n",
              "      async function convertToInteractive(key) {\n",
              "        const element = document.querySelector('#df-942404ba-e20a-4b71-8941-86cf3536f793');\n",
              "        const dataTable =\n",
              "          await google.colab.kernel.invokeFunction('convertToInteractive',\n",
              "                                                    [key], {});\n",
              "        if (!dataTable) return;\n",
              "\n",
              "        const docLinkHtml = 'Like what you see? Visit the ' +\n",
              "          '<a target=\"_blank\" href=https://colab.research.google.com/notebooks/data_table.ipynb>data table notebook</a>'\n",
              "          + ' to learn more about interactive tables.';\n",
              "        element.innerHTML = '';\n",
              "        dataTable['output_type'] = 'display_data';\n",
              "        await google.colab.output.renderOutput(dataTable, element);\n",
              "        const docLink = document.createElement('div');\n",
              "        docLink.innerHTML = docLinkHtml;\n",
              "        element.appendChild(docLink);\n",
              "      }\n",
              "    </script>\n",
              "  </div>\n",
              "\n",
              "\n",
              "    <div id=\"df-caf46230-1f58-4c10-a372-54be0429d4f7\">\n",
              "      <button class=\"colab-df-quickchart\" onclick=\"quickchart('df-caf46230-1f58-4c10-a372-54be0429d4f7')\"\n",
              "                title=\"Suggest charts\"\n",
              "                style=\"display:none;\">\n",
              "\n",
              "<svg xmlns=\"http://www.w3.org/2000/svg\" height=\"24px\"viewBox=\"0 0 24 24\"\n",
              "     width=\"24px\">\n",
              "    <g>\n",
              "        <path d=\"M19 3H5c-1.1 0-2 .9-2 2v14c0 1.1.9 2 2 2h14c1.1 0 2-.9 2-2V5c0-1.1-.9-2-2-2zM9 17H7v-7h2v7zm4 0h-2V7h2v10zm4 0h-2v-4h2v4z\"/>\n",
              "    </g>\n",
              "</svg>\n",
              "      </button>\n",
              "\n",
              "<style>\n",
              "  .colab-df-quickchart {\n",
              "      --bg-color: #E8F0FE;\n",
              "      --fill-color: #1967D2;\n",
              "      --hover-bg-color: #E2EBFA;\n",
              "      --hover-fill-color: #174EA6;\n",
              "      --disabled-fill-color: #AAA;\n",
              "      --disabled-bg-color: #DDD;\n",
              "  }\n",
              "\n",
              "  [theme=dark] .colab-df-quickchart {\n",
              "      --bg-color: #3B4455;\n",
              "      --fill-color: #D2E3FC;\n",
              "      --hover-bg-color: #434B5C;\n",
              "      --hover-fill-color: #FFFFFF;\n",
              "      --disabled-bg-color: #3B4455;\n",
              "      --disabled-fill-color: #666;\n",
              "  }\n",
              "\n",
              "  .colab-df-quickchart {\n",
              "    background-color: var(--bg-color);\n",
              "    border: none;\n",
              "    border-radius: 50%;\n",
              "    cursor: pointer;\n",
              "    display: none;\n",
              "    fill: var(--fill-color);\n",
              "    height: 32px;\n",
              "    padding: 0;\n",
              "    width: 32px;\n",
              "  }\n",
              "\n",
              "  .colab-df-quickchart:hover {\n",
              "    background-color: var(--hover-bg-color);\n",
              "    box-shadow: 0 1px 2px rgba(60, 64, 67, 0.3), 0 1px 3px 1px rgba(60, 64, 67, 0.15);\n",
              "    fill: var(--button-hover-fill-color);\n",
              "  }\n",
              "\n",
              "  .colab-df-quickchart-complete:disabled,\n",
              "  .colab-df-quickchart-complete:disabled:hover {\n",
              "    background-color: var(--disabled-bg-color);\n",
              "    fill: var(--disabled-fill-color);\n",
              "    box-shadow: none;\n",
              "  }\n",
              "\n",
              "  .colab-df-spinner {\n",
              "    border: 2px solid var(--fill-color);\n",
              "    border-color: transparent;\n",
              "    border-bottom-color: var(--fill-color);\n",
              "    animation:\n",
              "      spin 1s steps(1) infinite;\n",
              "  }\n",
              "\n",
              "  @keyframes spin {\n",
              "    0% {\n",
              "      border-color: transparent;\n",
              "      border-bottom-color: var(--fill-color);\n",
              "      border-left-color: var(--fill-color);\n",
              "    }\n",
              "    20% {\n",
              "      border-color: transparent;\n",
              "      border-left-color: var(--fill-color);\n",
              "      border-top-color: var(--fill-color);\n",
              "    }\n",
              "    30% {\n",
              "      border-color: transparent;\n",
              "      border-left-color: var(--fill-color);\n",
              "      border-top-color: var(--fill-color);\n",
              "      border-right-color: var(--fill-color);\n",
              "    }\n",
              "    40% {\n",
              "      border-color: transparent;\n",
              "      border-right-color: var(--fill-color);\n",
              "      border-top-color: var(--fill-color);\n",
              "    }\n",
              "    60% {\n",
              "      border-color: transparent;\n",
              "      border-right-color: var(--fill-color);\n",
              "    }\n",
              "    80% {\n",
              "      border-color: transparent;\n",
              "      border-right-color: var(--fill-color);\n",
              "      border-bottom-color: var(--fill-color);\n",
              "    }\n",
              "    90% {\n",
              "      border-color: transparent;\n",
              "      border-bottom-color: var(--fill-color);\n",
              "    }\n",
              "  }\n",
              "</style>\n",
              "\n",
              "      <script>\n",
              "        async function quickchart(key) {\n",
              "          const quickchartButtonEl =\n",
              "            document.querySelector('#' + key + ' button');\n",
              "          quickchartButtonEl.disabled = true;  // To prevent multiple clicks.\n",
              "          quickchartButtonEl.classList.add('colab-df-spinner');\n",
              "          try {\n",
              "            const charts = await google.colab.kernel.invokeFunction(\n",
              "                'suggestCharts', [key], {});\n",
              "          } catch (error) {\n",
              "            console.error('Error during call to suggestCharts:', error);\n",
              "          }\n",
              "          quickchartButtonEl.classList.remove('colab-df-spinner');\n",
              "          quickchartButtonEl.classList.add('colab-df-quickchart-complete');\n",
              "        }\n",
              "        (() => {\n",
              "          let quickchartButtonEl =\n",
              "            document.querySelector('#df-caf46230-1f58-4c10-a372-54be0429d4f7 button');\n",
              "          quickchartButtonEl.style.display =\n",
              "            google.colab.kernel.accessAllowed ? 'block' : 'none';\n",
              "        })();\n",
              "      </script>\n",
              "    </div>\n",
              "\n",
              "    </div>\n",
              "  </div>\n"
            ],
            "application/vnd.google.colaboratory.intrinsic+json": {
              "type": "dataframe",
              "summary": "{\n  \"name\": \"display(df_combined\",\n  \"rows\": 5,\n  \"fields\": [\n    {\n      \"column\": \"timestamp\",\n      \"properties\": {\n        \"dtype\": \"date\",\n        \"min\": \"2024-10-20 00:00:00\",\n        \"max\": \"2024-10-24 00:00:00\",\n        \"num_unique_values\": 5,\n        \"samples\": [\n          \"2024-10-21 00:00:00\",\n          \"2024-10-24 00:00:00\",\n          \"2024-10-22 00:00:00\"\n        ],\n        \"semantic_type\": \"\",\n        \"description\": \"\"\n      }\n    },\n    {\n      \"column\": \"price\",\n      \"properties\": {\n        \"dtype\": \"number\",\n        \"std\": 908.3810609336026,\n        \"min\": 66683.96806542306,\n        \"max\": 68962.82918045693,\n        \"num_unique_values\": 5,\n        \"samples\": [\n          68962.82918045693,\n          66683.96806542306,\n          67394.85775735618\n        ],\n        \"semantic_type\": \"\",\n        \"description\": \"\"\n      }\n    },\n    {\n      \"column\": \"volume\",\n      \"properties\": {\n        \"dtype\": \"number\",\n        \"std\": 11117293516.153038,\n        \"min\": 14110889435.452631,\n        \"max\": 40485496091.95008,\n        \"num_unique_values\": 5,\n        \"samples\": [\n          17253863432.786995,\n          32676918488.059,\n          40485496091.95008\n        ],\n        \"semantic_type\": \"\",\n        \"description\": \"\"\n      }\n    }\n  ]\n}"
            }
          },
          "metadata": {}
        }
      ]
    },
    {
      "cell_type": "markdown",
      "metadata": {
        "id": "6df677fd"
      },
      "source": [
        "## Modify visualization\n",
        "\n",
        "### Subtask:\n",
        "Update the plotting code to display both price and trading volume on the same plot, possibly using a secondary y-axis for volume due to the difference in scale.\n"
      ]
    },
    {
      "cell_type": "markdown",
      "metadata": {
        "id": "87c75729"
      },
      "source": [
        "**Reasoning**:\n",
        "Import the necessary libraries for creating a plot with a secondary y-axis.\n",
        "\n"
      ]
    },
    {
      "cell_type": "code",
      "metadata": {
        "id": "bda4758d"
      },
      "source": [
        "import plotly.graph_objects as go\n",
        "from plotly.subplots import make_subplots"
      ],
      "execution_count": 16,
      "outputs": []
    },
    {
      "cell_type": "markdown",
      "metadata": {
        "id": "1b8fd48b"
      },
      "source": [
        "**Reasoning**:\n",
        "Create a figure with a secondary y-axis and add traces for price and volume data.\n",
        "\n"
      ]
    },
    {
      "cell_type": "code",
      "metadata": {
        "colab": {
          "base_uri": "https://localhost:8080/",
          "height": 542
        },
        "id": "b2c9199d",
        "outputId": "a5a5e8c8-6fc3-47fc-ccb7-bb47d9e15df9"
      },
      "source": [
        "fig = make_subplots(specs=[[{\"secondary_y\": True}]])\n",
        "\n",
        "fig.add_trace(\n",
        "    go.Scatter(x=df_combined.index, y=df_combined['price'], name='Price'),\n",
        "    secondary_y=False,\n",
        ")\n",
        "\n",
        "fig.add_trace(\n",
        "    go.Scatter(x=df_combined.index, y=df_combined['volume'], name='Volume'),\n",
        "    secondary_y=True,\n",
        ")\n",
        "\n",
        "fig.update_layout(\n",
        "    title_text='Bitcoin Price and Trading Volume Over Time',\n",
        "    xaxis_title='Timestamp',\n",
        "    yaxis_title='Price (USD)',\n",
        "    yaxis2_title='Volume (USD)'\n",
        ")\n",
        "\n",
        "fig.show()"
      ],
      "execution_count": 17,
      "outputs": [
        {
          "output_type": "display_data",
          "data": {
            "text/html": [
              "<html>\n",
              "<head><meta charset=\"utf-8\" /></head>\n",
              "<body>\n",
              "    <div>            <script src=\"https://cdnjs.cloudflare.com/ajax/libs/mathjax/2.7.5/MathJax.js?config=TeX-AMS-MML_SVG\"></script><script type=\"text/javascript\">if (window.MathJax && window.MathJax.Hub && window.MathJax.Hub.Config) {window.MathJax.Hub.Config({SVG: {font: \"STIX-Web\"}});}</script>                <script type=\"text/javascript\">window.PlotlyConfig = {MathJaxConfig: 'local'};</script>\n",
              "        <script charset=\"utf-8\" src=\"https://cdn.plot.ly/plotly-2.35.2.min.js\"></script>                <div id=\"bc256fa1-22d6-410c-aa13-21446e101511\" class=\"plotly-graph-div\" style=\"height:525px; width:100%;\"></div>            <script type=\"text/javascript\">                                    window.PLOTLYENV=window.PLOTLYENV || {};                                    if (document.getElementById(\"bc256fa1-22d6-410c-aa13-21446e101511\")) {                    Plotly.newPlot(                        \"bc256fa1-22d6-410c-aa13-21446e101511\",                        [{\"name\":\"Price\",\"x\":[\"2024-10-20T00:00:00\",\"2024-10-21T00:00:00\",\"2024-10-22T00:00:00\",\"2024-10-23T00:00:00\",\"2024-10-24T00:00:00\",\"2024-10-25T00:00:00\",\"2024-10-26T00:00:00\",\"2024-10-27T00:00:00\",\"2024-10-28T00:00:00\",\"2024-10-29T00:00:00\",\"2024-10-30T00:00:00\",\"2024-10-31T00:00:00\",\"2024-11-01T00:00:00\",\"2024-11-02T00:00:00\",\"2024-11-03T00:00:00\",\"2024-11-04T00:00:00\",\"2024-11-05T00:00:00\",\"2024-11-06T00:00:00\",\"2024-11-07T00:00:00\",\"2024-11-08T00:00:00\",\"2024-11-09T00:00:00\",\"2024-11-10T00:00:00\",\"2024-11-11T00:00:00\",\"2024-11-12T00:00:00\",\"2024-11-13T00:00:00\",\"2024-11-14T00:00:00\",\"2024-11-15T00:00:00\",\"2024-11-16T00:00:00\",\"2024-11-17T00:00:00\",\"2024-11-18T00:00:00\",\"2024-11-19T00:00:00\",\"2024-11-20T00:00:00\",\"2024-11-21T00:00:00\",\"2024-11-22T00:00:00\",\"2024-11-23T00:00:00\",\"2024-11-24T00:00:00\",\"2024-11-25T00:00:00\",\"2024-11-26T00:00:00\",\"2024-11-27T00:00:00\",\"2024-11-28T00:00:00\",\"2024-11-29T00:00:00\",\"2024-11-30T00:00:00\",\"2024-12-01T00:00:00\",\"2024-12-02T00:00:00\",\"2024-12-03T00:00:00\",\"2024-12-04T00:00:00\",\"2024-12-05T00:00:00\",\"2024-12-06T00:00:00\",\"2024-12-07T00:00:00\",\"2024-12-08T00:00:00\",\"2024-12-09T00:00:00\",\"2024-12-10T00:00:00\",\"2024-12-11T00:00:00\",\"2024-12-12T00:00:00\",\"2024-12-13T00:00:00\",\"2024-12-14T00:00:00\",\"2024-12-15T00:00:00\",\"2024-12-16T00:00:00\",\"2024-12-17T00:00:00\",\"2024-12-18T00:00:00\",\"2024-12-19T00:00:00\",\"2024-12-20T00:00:00\",\"2024-12-21T00:00:00\",\"2024-12-22T00:00:00\",\"2024-12-23T00:00:00\",\"2024-12-24T00:00:00\",\"2024-12-25T00:00:00\",\"2024-12-26T00:00:00\",\"2024-12-27T00:00:00\",\"2024-12-28T00:00:00\",\"2024-12-29T00:00:00\",\"2024-12-30T00:00:00\",\"2024-12-31T00:00:00\",\"2025-01-01T00:00:00\",\"2025-01-02T00:00:00\",\"2025-01-03T00:00:00\",\"2025-01-04T00:00:00\",\"2025-01-05T00:00:00\",\"2025-01-06T00:00:00\",\"2025-01-07T00:00:00\",\"2025-01-08T00:00:00\",\"2025-01-09T00:00:00\",\"2025-01-10T00:00:00\",\"2025-01-11T00:00:00\",\"2025-01-12T00:00:00\",\"2025-01-13T00:00:00\",\"2025-01-14T00:00:00\",\"2025-01-15T00:00:00\",\"2025-01-16T00:00:00\",\"2025-01-17T00:00:00\",\"2025-01-18T00:00:00\",\"2025-01-19T00:00:00\",\"2025-01-20T00:00:00\",\"2025-01-21T00:00:00\",\"2025-01-22T00:00:00\",\"2025-01-23T00:00:00\",\"2025-01-24T00:00:00\",\"2025-01-25T00:00:00\",\"2025-01-26T00:00:00\",\"2025-01-27T00:00:00\",\"2025-01-28T00:00:00\",\"2025-01-29T00:00:00\",\"2025-01-30T00:00:00\",\"2025-01-31T00:00:00\",\"2025-02-01T00:00:00\",\"2025-02-02T00:00:00\",\"2025-02-03T00:00:00\",\"2025-02-04T00:00:00\",\"2025-02-05T00:00:00\",\"2025-02-06T00:00:00\",\"2025-02-07T00:00:00\",\"2025-02-08T00:00:00\",\"2025-02-09T00:00:00\",\"2025-02-10T00:00:00\",\"2025-02-11T00:00:00\",\"2025-02-12T00:00:00\",\"2025-02-13T00:00:00\",\"2025-02-14T00:00:00\",\"2025-02-15T00:00:00\",\"2025-02-16T00:00:00\",\"2025-02-17T00:00:00\",\"2025-02-18T00:00:00\",\"2025-02-19T00:00:00\",\"2025-02-20T00:00:00\",\"2025-02-21T00:00:00\",\"2025-02-22T00:00:00\",\"2025-02-23T00:00:00\",\"2025-02-24T00:00:00\",\"2025-02-25T00:00:00\",\"2025-02-26T00:00:00\",\"2025-02-27T00:00:00\",\"2025-02-28T00:00:00\",\"2025-03-01T00:00:00\",\"2025-03-02T00:00:00\",\"2025-03-03T00:00:00\",\"2025-03-04T00:00:00\",\"2025-03-05T00:00:00\",\"2025-03-06T00:00:00\",\"2025-03-07T00:00:00\",\"2025-03-08T00:00:00\",\"2025-03-09T00:00:00\",\"2025-03-10T00:00:00\",\"2025-03-11T00:00:00\",\"2025-03-12T00:00:00\",\"2025-03-13T00:00:00\",\"2025-03-14T00:00:00\",\"2025-03-15T00:00:00\",\"2025-03-16T00:00:00\",\"2025-03-17T00:00:00\",\"2025-03-18T00:00:00\",\"2025-03-19T00:00:00\",\"2025-03-20T00:00:00\",\"2025-03-21T00:00:00\",\"2025-03-22T00:00:00\",\"2025-03-23T00:00:00\",\"2025-03-24T00:00:00\",\"2025-03-25T00:00:00\",\"2025-03-26T00:00:00\",\"2025-03-27T00:00:00\",\"2025-03-28T00:00:00\",\"2025-03-29T00:00:00\",\"2025-03-30T00:00:00\",\"2025-03-31T00:00:00\",\"2025-04-01T00:00:00\",\"2025-04-02T00:00:00\",\"2025-04-03T00:00:00\",\"2025-04-04T00:00:00\",\"2025-04-05T00:00:00\",\"2025-04-06T00:00:00\",\"2025-04-07T00:00:00\",\"2025-04-08T00:00:00\",\"2025-04-09T00:00:00\",\"2025-04-10T00:00:00\",\"2025-04-11T00:00:00\",\"2025-04-12T00:00:00\",\"2025-04-13T00:00:00\",\"2025-04-14T00:00:00\",\"2025-04-15T00:00:00\",\"2025-04-16T00:00:00\",\"2025-04-17T00:00:00\",\"2025-04-18T00:00:00\",\"2025-04-19T00:00:00\",\"2025-04-20T00:00:00\",\"2025-04-21T00:00:00\",\"2025-04-22T00:00:00\",\"2025-04-23T00:00:00\",\"2025-04-24T00:00:00\",\"2025-04-25T00:00:00\",\"2025-04-26T00:00:00\",\"2025-04-27T00:00:00\",\"2025-04-28T00:00:00\",\"2025-04-29T00:00:00\",\"2025-04-30T00:00:00\",\"2025-05-01T00:00:00\",\"2025-05-02T00:00:00\",\"2025-05-03T00:00:00\",\"2025-05-04T00:00:00\",\"2025-05-05T00:00:00\",\"2025-05-06T00:00:00\",\"2025-05-07T00:00:00\",\"2025-05-08T00:00:00\",\"2025-05-09T00:00:00\",\"2025-05-10T00:00:00\",\"2025-05-11T00:00:00\",\"2025-05-12T00:00:00\",\"2025-05-13T00:00:00\",\"2025-05-14T00:00:00\",\"2025-05-15T00:00:00\",\"2025-05-16T00:00:00\",\"2025-05-17T00:00:00\",\"2025-05-18T00:00:00\",\"2025-05-19T00:00:00\",\"2025-05-20T00:00:00\",\"2025-05-21T00:00:00\",\"2025-05-22T00:00:00\",\"2025-05-23T00:00:00\",\"2025-05-24T00:00:00\",\"2025-05-25T00:00:00\",\"2025-05-26T00:00:00\",\"2025-05-27T00:00:00\",\"2025-05-28T00:00:00\",\"2025-05-29T00:00:00\",\"2025-05-30T00:00:00\",\"2025-05-31T00:00:00\",\"2025-06-01T00:00:00\",\"2025-06-02T00:00:00\",\"2025-06-03T00:00:00\",\"2025-06-04T00:00:00\",\"2025-06-05T00:00:00\",\"2025-06-06T00:00:00\",\"2025-06-07T00:00:00\",\"2025-06-08T00:00:00\",\"2025-06-09T00:00:00\",\"2025-06-10T00:00:00\",\"2025-06-11T00:00:00\",\"2025-06-12T00:00:00\",\"2025-06-13T00:00:00\",\"2025-06-14T00:00:00\",\"2025-06-15T00:00:00\",\"2025-06-16T00:00:00\",\"2025-06-17T00:00:00\",\"2025-06-18T00:00:00\",\"2025-06-19T00:00:00\",\"2025-06-20T00:00:00\",\"2025-06-21T00:00:00\",\"2025-06-22T00:00:00\",\"2025-06-23T00:00:00\",\"2025-06-24T00:00:00\",\"2025-06-25T00:00:00\",\"2025-06-26T00:00:00\",\"2025-06-27T00:00:00\",\"2025-06-28T00:00:00\",\"2025-06-29T00:00:00\",\"2025-06-30T00:00:00\",\"2025-07-01T00:00:00\",\"2025-07-02T00:00:00\",\"2025-07-03T00:00:00\",\"2025-07-04T00:00:00\",\"2025-07-05T00:00:00\",\"2025-07-06T00:00:00\",\"2025-07-07T00:00:00\",\"2025-07-08T00:00:00\",\"2025-07-09T00:00:00\",\"2025-07-10T00:00:00\",\"2025-07-11T00:00:00\",\"2025-07-12T00:00:00\",\"2025-07-13T00:00:00\",\"2025-07-14T00:00:00\",\"2025-07-15T00:00:00\",\"2025-07-16T00:00:00\",\"2025-07-17T00:00:00\",\"2025-07-18T00:00:00\",\"2025-07-19T00:00:00\",\"2025-07-20T00:00:00\",\"2025-07-21T00:00:00\",\"2025-07-22T00:00:00\",\"2025-07-23T00:00:00\",\"2025-07-24T00:00:00\",\"2025-07-25T00:00:00\",\"2025-07-26T00:00:00\",\"2025-07-27T00:00:00\",\"2025-07-28T00:00:00\",\"2025-07-29T00:00:00\",\"2025-07-30T00:00:00\",\"2025-07-31T00:00:00\",\"2025-08-01T00:00:00\",\"2025-08-02T00:00:00\",\"2025-08-03T00:00:00\",\"2025-08-04T00:00:00\",\"2025-08-05T00:00:00\",\"2025-08-06T00:00:00\",\"2025-08-07T00:00:00\",\"2025-08-08T00:00:00\",\"2025-08-09T00:00:00\",\"2025-08-10T00:00:00\",\"2025-08-11T00:00:00\",\"2025-08-12T00:00:00\",\"2025-08-13T00:00:00\",\"2025-08-14T00:00:00\",\"2025-08-15T00:00:00\",\"2025-08-16T00:00:00\",\"2025-08-17T00:00:00\",\"2025-08-18T00:00:00\",\"2025-08-19T00:00:00\",\"2025-08-20T00:00:00\",\"2025-08-21T00:00:00\",\"2025-08-22T00:00:00\",\"2025-08-23T00:00:00\",\"2025-08-24T00:00:00\",\"2025-08-25T00:00:00\",\"2025-08-26T00:00:00\",\"2025-08-27T00:00:00\",\"2025-08-28T00:00:00\",\"2025-08-29T00:00:00\",\"2025-08-30T00:00:00\",\"2025-08-31T00:00:00\",\"2025-09-01T00:00:00\",\"2025-09-02T00:00:00\",\"2025-09-03T00:00:00\",\"2025-09-04T00:00:00\",\"2025-09-05T00:00:00\",\"2025-09-06T00:00:00\",\"2025-09-07T00:00:00\",\"2025-09-08T00:00:00\",\"2025-09-09T00:00:00\",\"2025-09-10T00:00:00\",\"2025-09-11T00:00:00\",\"2025-09-12T00:00:00\",\"2025-09-13T00:00:00\",\"2025-09-14T00:00:00\",\"2025-09-15T00:00:00\",\"2025-09-16T00:00:00\",\"2025-09-17T00:00:00\",\"2025-09-18T00:00:00\",\"2025-09-19T00:00:00\",\"2025-09-20T00:00:00\",\"2025-09-21T00:00:00\",\"2025-09-22T00:00:00\",\"2025-09-23T00:00:00\",\"2025-09-24T00:00:00\",\"2025-09-25T00:00:00\",\"2025-09-26T00:00:00\",\"2025-09-27T00:00:00\",\"2025-09-28T00:00:00\",\"2025-09-29T00:00:00\",\"2025-09-30T00:00:00\",\"2025-10-01T00:00:00\",\"2025-10-02T00:00:00\",\"2025-10-03T00:00:00\",\"2025-10-04T00:00:00\",\"2025-10-05T00:00:00\",\"2025-10-06T00:00:00\",\"2025-10-07T00:00:00\",\"2025-10-08T00:00:00\",\"2025-10-09T00:00:00\",\"2025-10-10T00:00:00\",\"2025-10-11T00:00:00\",\"2025-10-12T00:00:00\",\"2025-10-13T00:00:00\",\"2025-10-14T00:00:00\",\"2025-10-15T00:00:00\",\"2025-10-16T00:00:00\",\"2025-10-17T00:00:00\",\"2025-10-18T00:00:00\",\"2025-10-19T00:00:00\",\"2025-10-19T22:47:01\"],\"y\":[68388.87128965274,68962.82918045693,67394.85775735618,67351.04793512498,66683.96806542306,68214.05205157402,66585.66535501445,67018.1650170265,67938.55412885673,69845.304531169,72781.11308158132,72342.62171127986,70264.99735573279,69507.92256395647,69299.16036699413,68803.50626277467,67793.29782704762,69335.42553133758,75620.88606963192,75987.24178320667,76550.0213845611,76630.22631415377,80466.71654833542,88637.42000322911,88264.59974582895,90488.10007497849,87407.51273710128,90947.97509443703,90606.45489380708,89841.47194135105,90534.62459650292,92251.65240738312,94217.02229634205,98509.11859102432,98927.49494553401,97679.46381643033,98015.9355289458,93004.70093103287,91931.83077291827,95981.18057210564,95661.59595817851,97453.2473451042,96513.14234698225,97311.70719084324,95833.1362300365,96031.63097759831,98881.4694561823,97201.50036407741,99973.85150659826,99781.82999198174,101235.3717025316,97353.94700820887,96649.71446771531,101123.61811033697,100000.80836535197,101352.22971292294,101367.01064553364,104721.50151808978,106074.10723541168,106034.913402645,100355.5761481501,97851.35377075805,97691.43431692653,97202.82496847633,95094.27394862173,94644.91085464321,98695.71400782601,99344.95417367229,95678.31244565405,94331.94727053077,95184.61945288602,93663.44751964067,92627.28213113277,93507.85874741491,94384.1761153871,96852.14681235075,98084.34279280754,98256.73876849933,98364.58946599838,102229.39453189743,96952.09886774956,95016.71440989176,92376.27578346101,94736.6267420969,94559.55167224213,94454.77089638807,94456.3493746993,96574.07768799194,100313.15239828422,100044.57926776377,104160.69358484233,104334.61575724394,101275.33714814208,101764.90860170545,106182.2368201815,103673.53509537787,104067.60991206947,104835.19253555956,104796.04077738234,102552.24874280207,101958.46953745594,101313.11264498268,103718.97939813645,104781.5135100103,102382.39409722165,100674.78762544956,97568.31653024875,101466.8606657039,98118.43921664466,96582.88682919052,96635.41875332211,96558.4563096667,96558.23762501091,96548.57865379585,97399.98161383197,95739.97737079239,97836.18856127483,96561.6639990985,97488.48148536457,97569.95169430465,96149.3484548204,95776.15723852723,95495.89153299287,96554.87156259285,98384.31738240314,96135.15541305285,96564.15414290235,96327.46309127835,91396.76686930266,88755.7693356979,83900.11496524839,84709.14477847965,84441.9012237131,86005.25629681018,94261.53286538439,86124.71418722175,87310.80531078295,90604.08098523637,90001.40087607042,86773.33597555371,86142.9833586432,80751.13893300897,78783.94057934263,82799.1080292053,83884.24578828987,81098.90052436228,83971.70916064628,84391.69087647168,82610.61750343916,84075.36559694471,82780.03048688271,86815.44109470697,84270.84358966233,84009.532917822,83793.30854192551,85787.70914901773,87327.72969669085,87520.58391530563,86960.8555491039,87227.27158032371,84359.46915506005,82679.17255385047,82356.38111183756,82514.09365397849,85237.5876052852,82526.4221526433,83163.98757387721,83852.00765399594,83595.88550177493,78211.48358199988,79179.29226757778,76329.090356324,82622.17029546302,79596.35732250768,83439.28818043756,85305.09728392666,83600.82010054543,84523.4524914945,83656.49248858042,84105.77942167096,84930.90857600998,84433.75017215389,85126.66244301842,85073.16544858096,87452.04699068287,93576.16588573981,93605.45230873208,93872.81422867288,94773.11200643536,94644.06637120107,93809.33781968223,95030.60645474444,94256.35946318062,94235.75331048167,96426.94522273027,96855.5681343944,95922.86842404422,94326.62048529249,94758.8237105546,96854.53198815876,97026.49376966801,103076.27555512934,102962.54045692299,104630.8792994166,103994.061616746,102876.8304286011,104184.49039270742,103594.42575090709,103708.85136423641,103556.03493982446,103212.36483885496,106030.6376831359,105629.41580436694,106786.71995834043,109665.86371625263,111560.356938144,107216.66856870624,107831.36374380375,108861.81037744327,109377.71513263129,109068.45694901445,107838.18431100152,105745.41660358038,104010.91956242644,104687.50742934884,105710.00593822816,105884.74263221149,105434.47745144971,104812.9182188067,101650.7387545425,104409.74967959142,105681.4546141758,105692.24740699006,110261.57485948496,110212.73252109604,108679.9760916168,105979.22902375912,106045.56440819203,105482.90611628917,105554.49383061715,106951.2720181497,104683.42479835715,104722.695052907,104690.65002458123,103290.105144757,101532.5683847329,100852.58264648831,105511.62437933135,105976.06929808448,107238.53045016268,106984.01253775663,107078.91560644074,107331.58548463577,108396.61631317894,107132.79910701896,105613.39974163055,108824.44423167943,109602.20483914016,108040.8919400104,108217.46849992426,109215.19771840284,108300.71675785031,108953.19187727802,111327.53054245669,115879.65030112496,117571.02510036016,117418.95745007684,119117.55666327637,119833.67446712355,117678.19493404306,118748.1627367753,119445.36520434043,117988.94664455787,117901.62655900871,117256.9208222684,117482.46977767294,119955.79570607653,118629.05588130427,118354.43517438594,117540.80837085741,117959.54234360624,119418.91405141471,118003.30201607826,117853.30892863822,117833.24087995925,115700.00243915782,113234.6051343189,112554.90232221723,114199.10966460757,115138.68613070177,114128.35408881678,115022.09576830892,117463.47451085235,116688.36663186055,116510.08393213755,119266.92516880555,118773.79960860992,120202.53485503166,123560.99363577305,118405.59579823953,117339.79190213277,117501.21653394958,117542.83687778088,116256.41276740946,112778.34483555844,114252.39755195397,112414.39987336512,116834.24948202295,115359.98346714744,113399.54847314971,110185.35443900425,111842.70999260596,111216.08479629169,112525.59740669793,108480.30666639366,108781.95727925687,108253.36092385623,109162.68557992298,111190.18209845416,111711.51977725117,110724.736377486,110662.18112628513,110209.1888247784,111131.9923868407,112025.12878118771,111547.43956434788,113975.32489468766,115503.16663193036,116160.14344594491,115970.58488443034,115373.55555886829,115397.25272727509,116762.8496864193,116455.94648225319,117145.49508952006,115655.81046441344,115715.51536781774,115304.47999407038,112696.74101711863,112022.16587861195,113320.56908541008,108963.53013595635,109710.20874667744,109654.81021075726,112142.57362752674,114309.15041119447,114024.22783550054,118503.24451752483,120611.71911591051,122250.15186842803,122380.93708463266,123506.18520027678,124773.50823074432,121518.75593575071,123352.50487523204,121698.03066778315,113201.74064138904,110853.11663883903,115189.5714637257,115222.28302116522,113156.56943826913,110708.66960879423,108076.72862033188,106443.61194984635,107156.00337647724,109287.86049823045],\"type\":\"scatter\",\"xaxis\":\"x\",\"yaxis\":\"y\"},{\"name\":\"Volume\",\"x\":[\"2024-10-20T00:00:00\",\"2024-10-21T00:00:00\",\"2024-10-22T00:00:00\",\"2024-10-23T00:00:00\",\"2024-10-24T00:00:00\",\"2024-10-25T00:00:00\",\"2024-10-26T00:00:00\",\"2024-10-27T00:00:00\",\"2024-10-28T00:00:00\",\"2024-10-29T00:00:00\",\"2024-10-30T00:00:00\",\"2024-10-31T00:00:00\",\"2024-11-01T00:00:00\",\"2024-11-02T00:00:00\",\"2024-11-03T00:00:00\",\"2024-11-04T00:00:00\",\"2024-11-05T00:00:00\",\"2024-11-06T00:00:00\",\"2024-11-07T00:00:00\",\"2024-11-08T00:00:00\",\"2024-11-09T00:00:00\",\"2024-11-10T00:00:00\",\"2024-11-11T00:00:00\",\"2024-11-12T00:00:00\",\"2024-11-13T00:00:00\",\"2024-11-14T00:00:00\",\"2024-11-15T00:00:00\",\"2024-11-16T00:00:00\",\"2024-11-17T00:00:00\",\"2024-11-18T00:00:00\",\"2024-11-19T00:00:00\",\"2024-11-20T00:00:00\",\"2024-11-21T00:00:00\",\"2024-11-22T00:00:00\",\"2024-11-23T00:00:00\",\"2024-11-24T00:00:00\",\"2024-11-25T00:00:00\",\"2024-11-26T00:00:00\",\"2024-11-27T00:00:00\",\"2024-11-28T00:00:00\",\"2024-11-29T00:00:00\",\"2024-11-30T00:00:00\",\"2024-12-01T00:00:00\",\"2024-12-02T00:00:00\",\"2024-12-03T00:00:00\",\"2024-12-04T00:00:00\",\"2024-12-05T00:00:00\",\"2024-12-06T00:00:00\",\"2024-12-07T00:00:00\",\"2024-12-08T00:00:00\",\"2024-12-09T00:00:00\",\"2024-12-10T00:00:00\",\"2024-12-11T00:00:00\",\"2024-12-12T00:00:00\",\"2024-12-13T00:00:00\",\"2024-12-14T00:00:00\",\"2024-12-15T00:00:00\",\"2024-12-16T00:00:00\",\"2024-12-17T00:00:00\",\"2024-12-18T00:00:00\",\"2024-12-19T00:00:00\",\"2024-12-20T00:00:00\",\"2024-12-21T00:00:00\",\"2024-12-22T00:00:00\",\"2024-12-23T00:00:00\",\"2024-12-24T00:00:00\",\"2024-12-25T00:00:00\",\"2024-12-26T00:00:00\",\"2024-12-27T00:00:00\",\"2024-12-28T00:00:00\",\"2024-12-29T00:00:00\",\"2024-12-30T00:00:00\",\"2024-12-31T00:00:00\",\"2025-01-01T00:00:00\",\"2025-01-02T00:00:00\",\"2025-01-03T00:00:00\",\"2025-01-04T00:00:00\",\"2025-01-05T00:00:00\",\"2025-01-06T00:00:00\",\"2025-01-07T00:00:00\",\"2025-01-08T00:00:00\",\"2025-01-09T00:00:00\",\"2025-01-10T00:00:00\",\"2025-01-11T00:00:00\",\"2025-01-12T00:00:00\",\"2025-01-13T00:00:00\",\"2025-01-14T00:00:00\",\"2025-01-15T00:00:00\",\"2025-01-16T00:00:00\",\"2025-01-17T00:00:00\",\"2025-01-18T00:00:00\",\"2025-01-19T00:00:00\",\"2025-01-20T00:00:00\",\"2025-01-21T00:00:00\",\"2025-01-22T00:00:00\",\"2025-01-23T00:00:00\",\"2025-01-24T00:00:00\",\"2025-01-25T00:00:00\",\"2025-01-26T00:00:00\",\"2025-01-27T00:00:00\",\"2025-01-28T00:00:00\",\"2025-01-29T00:00:00\",\"2025-01-30T00:00:00\",\"2025-01-31T00:00:00\",\"2025-02-01T00:00:00\",\"2025-02-02T00:00:00\",\"2025-02-03T00:00:00\",\"2025-02-04T00:00:00\",\"2025-02-05T00:00:00\",\"2025-02-06T00:00:00\",\"2025-02-07T00:00:00\",\"2025-02-08T00:00:00\",\"2025-02-09T00:00:00\",\"2025-02-10T00:00:00\",\"2025-02-11T00:00:00\",\"2025-02-12T00:00:00\",\"2025-02-13T00:00:00\",\"2025-02-14T00:00:00\",\"2025-02-15T00:00:00\",\"2025-02-16T00:00:00\",\"2025-02-17T00:00:00\",\"2025-02-18T00:00:00\",\"2025-02-19T00:00:00\",\"2025-02-20T00:00:00\",\"2025-02-21T00:00:00\",\"2025-02-22T00:00:00\",\"2025-02-23T00:00:00\",\"2025-02-24T00:00:00\",\"2025-02-25T00:00:00\",\"2025-02-26T00:00:00\",\"2025-02-27T00:00:00\",\"2025-02-28T00:00:00\",\"2025-03-01T00:00:00\",\"2025-03-02T00:00:00\",\"2025-03-03T00:00:00\",\"2025-03-04T00:00:00\",\"2025-03-05T00:00:00\",\"2025-03-06T00:00:00\",\"2025-03-07T00:00:00\",\"2025-03-08T00:00:00\",\"2025-03-09T00:00:00\",\"2025-03-10T00:00:00\",\"2025-03-11T00:00:00\",\"2025-03-12T00:00:00\",\"2025-03-13T00:00:00\",\"2025-03-14T00:00:00\",\"2025-03-15T00:00:00\",\"2025-03-16T00:00:00\",\"2025-03-17T00:00:00\",\"2025-03-18T00:00:00\",\"2025-03-19T00:00:00\",\"2025-03-20T00:00:00\",\"2025-03-21T00:00:00\",\"2025-03-22T00:00:00\",\"2025-03-23T00:00:00\",\"2025-03-24T00:00:00\",\"2025-03-25T00:00:00\",\"2025-03-26T00:00:00\",\"2025-03-27T00:00:00\",\"2025-03-28T00:00:00\",\"2025-03-29T00:00:00\",\"2025-03-30T00:00:00\",\"2025-03-31T00:00:00\",\"2025-04-01T00:00:00\",\"2025-04-02T00:00:00\",\"2025-04-03T00:00:00\",\"2025-04-04T00:00:00\",\"2025-04-05T00:00:00\",\"2025-04-06T00:00:00\",\"2025-04-07T00:00:00\",\"2025-04-08T00:00:00\",\"2025-04-09T00:00:00\",\"2025-04-10T00:00:00\",\"2025-04-11T00:00:00\",\"2025-04-12T00:00:00\",\"2025-04-13T00:00:00\",\"2025-04-14T00:00:00\",\"2025-04-15T00:00:00\",\"2025-04-16T00:00:00\",\"2025-04-17T00:00:00\",\"2025-04-18T00:00:00\",\"2025-04-19T00:00:00\",\"2025-04-20T00:00:00\",\"2025-04-21T00:00:00\",\"2025-04-22T00:00:00\",\"2025-04-23T00:00:00\",\"2025-04-24T00:00:00\",\"2025-04-25T00:00:00\",\"2025-04-26T00:00:00\",\"2025-04-27T00:00:00\",\"2025-04-28T00:00:00\",\"2025-04-29T00:00:00\",\"2025-04-30T00:00:00\",\"2025-05-01T00:00:00\",\"2025-05-02T00:00:00\",\"2025-05-03T00:00:00\",\"2025-05-04T00:00:00\",\"2025-05-05T00:00:00\",\"2025-05-06T00:00:00\",\"2025-05-07T00:00:00\",\"2025-05-08T00:00:00\",\"2025-05-09T00:00:00\",\"2025-05-10T00:00:00\",\"2025-05-11T00:00:00\",\"2025-05-12T00:00:00\",\"2025-05-13T00:00:00\",\"2025-05-14T00:00:00\",\"2025-05-15T00:00:00\",\"2025-05-16T00:00:00\",\"2025-05-17T00:00:00\",\"2025-05-18T00:00:00\",\"2025-05-19T00:00:00\",\"2025-05-20T00:00:00\",\"2025-05-21T00:00:00\",\"2025-05-22T00:00:00\",\"2025-05-23T00:00:00\",\"2025-05-24T00:00:00\",\"2025-05-25T00:00:00\",\"2025-05-26T00:00:00\",\"2025-05-27T00:00:00\",\"2025-05-28T00:00:00\",\"2025-05-29T00:00:00\",\"2025-05-30T00:00:00\",\"2025-05-31T00:00:00\",\"2025-06-01T00:00:00\",\"2025-06-02T00:00:00\",\"2025-06-03T00:00:00\",\"2025-06-04T00:00:00\",\"2025-06-05T00:00:00\",\"2025-06-06T00:00:00\",\"2025-06-07T00:00:00\",\"2025-06-08T00:00:00\",\"2025-06-09T00:00:00\",\"2025-06-10T00:00:00\",\"2025-06-11T00:00:00\",\"2025-06-12T00:00:00\",\"2025-06-13T00:00:00\",\"2025-06-14T00:00:00\",\"2025-06-15T00:00:00\",\"2025-06-16T00:00:00\",\"2025-06-17T00:00:00\",\"2025-06-18T00:00:00\",\"2025-06-19T00:00:00\",\"2025-06-20T00:00:00\",\"2025-06-21T00:00:00\",\"2025-06-22T00:00:00\",\"2025-06-23T00:00:00\",\"2025-06-24T00:00:00\",\"2025-06-25T00:00:00\",\"2025-06-26T00:00:00\",\"2025-06-27T00:00:00\",\"2025-06-28T00:00:00\",\"2025-06-29T00:00:00\",\"2025-06-30T00:00:00\",\"2025-07-01T00:00:00\",\"2025-07-02T00:00:00\",\"2025-07-03T00:00:00\",\"2025-07-04T00:00:00\",\"2025-07-05T00:00:00\",\"2025-07-06T00:00:00\",\"2025-07-07T00:00:00\",\"2025-07-08T00:00:00\",\"2025-07-09T00:00:00\",\"2025-07-10T00:00:00\",\"2025-07-11T00:00:00\",\"2025-07-12T00:00:00\",\"2025-07-13T00:00:00\",\"2025-07-14T00:00:00\",\"2025-07-15T00:00:00\",\"2025-07-16T00:00:00\",\"2025-07-17T00:00:00\",\"2025-07-18T00:00:00\",\"2025-07-19T00:00:00\",\"2025-07-20T00:00:00\",\"2025-07-21T00:00:00\",\"2025-07-22T00:00:00\",\"2025-07-23T00:00:00\",\"2025-07-24T00:00:00\",\"2025-07-25T00:00:00\",\"2025-07-26T00:00:00\",\"2025-07-27T00:00:00\",\"2025-07-28T00:00:00\",\"2025-07-29T00:00:00\",\"2025-07-30T00:00:00\",\"2025-07-31T00:00:00\",\"2025-08-01T00:00:00\",\"2025-08-02T00:00:00\",\"2025-08-03T00:00:00\",\"2025-08-04T00:00:00\",\"2025-08-05T00:00:00\",\"2025-08-06T00:00:00\",\"2025-08-07T00:00:00\",\"2025-08-08T00:00:00\",\"2025-08-09T00:00:00\",\"2025-08-10T00:00:00\",\"2025-08-11T00:00:00\",\"2025-08-12T00:00:00\",\"2025-08-13T00:00:00\",\"2025-08-14T00:00:00\",\"2025-08-15T00:00:00\",\"2025-08-16T00:00:00\",\"2025-08-17T00:00:00\",\"2025-08-18T00:00:00\",\"2025-08-19T00:00:00\",\"2025-08-20T00:00:00\",\"2025-08-21T00:00:00\",\"2025-08-22T00:00:00\",\"2025-08-23T00:00:00\",\"2025-08-24T00:00:00\",\"2025-08-25T00:00:00\",\"2025-08-26T00:00:00\",\"2025-08-27T00:00:00\",\"2025-08-28T00:00:00\",\"2025-08-29T00:00:00\",\"2025-08-30T00:00:00\",\"2025-08-31T00:00:00\",\"2025-09-01T00:00:00\",\"2025-09-02T00:00:00\",\"2025-09-03T00:00:00\",\"2025-09-04T00:00:00\",\"2025-09-05T00:00:00\",\"2025-09-06T00:00:00\",\"2025-09-07T00:00:00\",\"2025-09-08T00:00:00\",\"2025-09-09T00:00:00\",\"2025-09-10T00:00:00\",\"2025-09-11T00:00:00\",\"2025-09-12T00:00:00\",\"2025-09-13T00:00:00\",\"2025-09-14T00:00:00\",\"2025-09-15T00:00:00\",\"2025-09-16T00:00:00\",\"2025-09-17T00:00:00\",\"2025-09-18T00:00:00\",\"2025-09-19T00:00:00\",\"2025-09-20T00:00:00\",\"2025-09-21T00:00:00\",\"2025-09-22T00:00:00\",\"2025-09-23T00:00:00\",\"2025-09-24T00:00:00\",\"2025-09-25T00:00:00\",\"2025-09-26T00:00:00\",\"2025-09-27T00:00:00\",\"2025-09-28T00:00:00\",\"2025-09-29T00:00:00\",\"2025-09-30T00:00:00\",\"2025-10-01T00:00:00\",\"2025-10-02T00:00:00\",\"2025-10-03T00:00:00\",\"2025-10-04T00:00:00\",\"2025-10-05T00:00:00\",\"2025-10-06T00:00:00\",\"2025-10-07T00:00:00\",\"2025-10-08T00:00:00\",\"2025-10-09T00:00:00\",\"2025-10-10T00:00:00\",\"2025-10-11T00:00:00\",\"2025-10-12T00:00:00\",\"2025-10-13T00:00:00\",\"2025-10-14T00:00:00\",\"2025-10-15T00:00:00\",\"2025-10-16T00:00:00\",\"2025-10-17T00:00:00\",\"2025-10-18T00:00:00\",\"2025-10-19T00:00:00\",\"2025-10-19T22:47:01\"],\"y\":[14110889435.452631,17253863432.786995,40485496091.95008,31398389967.38113,32676918488.059,35892606570.03549,48426924850.053406,21169467789.89267,16533385730.434193,41990540384.96554,65487782004.97014,43498144313.67304,45907074188.570145,54863092261.31101,14709379754.965973,37659435506.757034,46183110993.79166,40025021601.49395,128492534668.23851,66590396087.4524,50687468387.720375,31430906055.796104,93473126207.67865,133959805308.72511,152356811694.44943,136046309843.60645,99649391847.08359,84382485697.84985,49255174407.368774,48556083101.64749,77391724184.19348,80493234958.49161,80747272080.24826,118163852022.3175,85746174563.98602,47414200206.70341,50665680246.86775,89476321216.0935,97389239315.52954,81469353259.75,49067932024.40325,74670031635.5065,43580019720.720634,49147687432.565895,101019861361.49252,87935752287.975,98230784298.0459,190460293531.53802,115812632020.44765,61061136199.7846,62677764785.05408,146846843211.51685,125835977742.51114,118484957960.76833,100092043319.81221,78802903278.85962,57321924844.41535,70645074624.52869,115184737759.33566,93417826250.1972,113692025885.44745,100611554887.24123,112340864006.62827,53058382639.48845,44619017105.36954,64937790292.61125,49169088282.15742,33963749856.44743,45049342388.18843,41498540807.666954,22429850903.940086,24065314499.502274,57595164139.4709,45327464907.74362,23275007789.496334,45157338602.617516,35721645948.10051,20979035420.980793,20060293834.7155,46111387334.46171,60610257147.15405,65790469838.34392,65850881574.76184,63433655716.757095,17836423168.41627,19608932595.53299,76328330233.31137,51241728228.81719,57637319739.543396,50150102497.2729,69135117732.00064,49416447749.13053,72970313683.92325,120158523166.88387,95344290057.8965,55030669602.56557,102455227371.20761,51418786362.7815,22740744964.719296,20639818380.26942,93191643783.24739,45780526813.56264,47425401641.53094,42122570869.034325,37187819228.35328,22827776122.48367,59784234332.21204,122163969235.23686,73196693057.98114,48848958931.79228,44462180396.172516,57077722340.22422,20760850644.84597,25457107581.051964,37054987393.57789,36454577154.5622,47115618235.19051,29084371910.690556,32289906944.92862,14215311318.346336,13634794998.739267,25324374113.08163,38311133144.729355,27703222487.389572,24175261969.81266,42477472950.92155,18464415570.762142,16643044374.983364,45539703844.38777,96742453402.56294,69277430795.68657,81960688217.70384,80695237175.07367,30634474722.6359,61859112550.80991,68715362745.4567,65863356680.42408,51606642859.81411,47555759124.64708,63216440874.73251,18809360803.37126,32013406240.51754,49983692766.22745,56404462275.083046,41782186208.59073,32583592654.882656,28571483950.074646,10761796127.312485,21638031633.118767,19659366246.596867,24557570268.85276,33871216993.304657,27579127651.06656,18091004975.919056,7771134681.982918,12617587530.619724,27270889835.1835,30351832942.705593,25522877558.700558,24620445368.489468,31674486232.097313,16837439419.924389,13428975108.070734,30326148749.91535,29172899851.734768,46332905657.77597,36594464539.14662,35647289400.47406,14910400035.531416,36140377231.68329,82909748172.59216,47812787635.22632,87408220482.11568,41213520154.25157,39813566443.76779,22428929482.069122,28731125717.934357,33155578229.343513,25084671427.622566,26948109141.803364,19323821375.14309,9550691272.782005,12635983530.804455,12625843856.313684,40070025414.28289,53841992235.36636,39901515879.65954,30031246761.093452,39336184715.04292,15445392739.787264,15926259371.057959,31913814736.53902,25882629766.278946,26541700309.366146,30207566405.468834,23276376191.483967,13797554863.642815,14903122945.616686,24086456278.203846,23348052607.071873,64376174032.08048,50020047720.65604,40800894903.23446,21558992540.042442,27389436049.454792,43090605819.36596,33861432519.50822,28398245846.798244,31823340473.339912,25887953182.14765,18950056010.479057,30744060179.802963,43339734153.75087,36393687094.25122,60722883113.84,52218408239.45193,49251745837.96465,27128230116.517162,29652659665.048733,27950577137.918888,38978783508.88622,29794278037.284946,38279231892.56757,39680060337.610214,20432694555.09522,17721500507.53389,26313843058.73954,25925661121.080395,25812143562.797962,39711941132.0234,29897390978.090103,17749731308.73042,16044679696.270103,38222993297.50514,36303839182.734825,30338936631.626648,35865159511.38857,49471015505.74361,17916412455.866283,16568441852.649668,32095957011.724205,38603212010.889435,30339326410.154945,18063282658.152298,30632751225.407444,21644463198.719532,51287142390.02526,50011797128.6837,31704641076.941063,30468274982.034847,24320699663.15122,25194306261.888832,8960877693.57604,14881078675.366829,22489515582.41552,25033160828.30909,36395184773.06136,29892049537.628605,24248906784.57383,10042942280.966904,14638669497.351297,25493246475.80407,20488865138.27645,37078460440.66385,56204086624.04028,64185145923.88688,24351256098.393543,27310851454.97692,68915956378.80447,80299520980.2335,50374263848.76278,49282617205.72662,58896449260.69391,23934511126.349533,36702153882.06748,46344384345.39471,58939000420.94166,45225685167.61703,51940414419.3327,91617702596.10347,25145925063.881348,30220402191.467663,43433742203.62158,42860287143.68828,43054424656.58649,45238249453.35885,65794680822.25255,33543439044.09785,24689273719.085533,32488023582.82734,37316213251.97167,32052509631.058872,38289687095.00489,33017415812.97353,27638785406.21056,37157754754.85189,61739781527.95854,46941089789.57991,61818118105.53991,73822008367.99681,44268714220.021,23202714236.542347,20906566026.645443,47337926940.98573,46156885037.403885,42166369117.006935,32048202090.65466,50878158870.82928,27306719885.257973,40682656776.69001,52854872363.936554,43023800053.0546,36957904262.995804,34222495087.206894,51702115726.38959,27799981330.792213,26140904019.246822,42999610648.39302,50235464642.845955,36406080683.42747,38708366685.43147,56020470627.40665,19340758702.076332,22147049159.335133,37159847899.8603,45338021458.38368,52205187155.05567,43752917632.95067,51192951485.864395,30063858747.76022,26889399414.610912,46947581231.08198,39964451595.099724,54740952295.37868,43642467075.25838,34296721252.33001,18774953731.290394,18659113982.495464,69152342029.46799,46154878824.043465,46677543220.334526,74481796351.47305,55257214020.568245,23294896964.31016,31274654338.51212,57833295882.65785,57718901820.70616,69920179085.4708,71252850672.75252,83155430408.51796,35161626561.80918,72011486031.26575,69605991064.72382,76087884719.80028,62576032795.36722,72097306668.91356,151002213089.8765,108643865752.17674,93857100744.12454,68935270367.04033,91211854988.91518,68877328886.40259,84773160808.27399,94325236794.78163,34412835719.61292,44665012930.14936],\"type\":\"scatter\",\"xaxis\":\"x\",\"yaxis\":\"y2\"}],                        {\"template\":{\"data\":{\"histogram2dcontour\":[{\"type\":\"histogram2dcontour\",\"colorbar\":{\"outlinewidth\":0,\"ticks\":\"\"},\"colorscale\":[[0.0,\"#0d0887\"],[0.1111111111111111,\"#46039f\"],[0.2222222222222222,\"#7201a8\"],[0.3333333333333333,\"#9c179e\"],[0.4444444444444444,\"#bd3786\"],[0.5555555555555556,\"#d8576b\"],[0.6666666666666666,\"#ed7953\"],[0.7777777777777778,\"#fb9f3a\"],[0.8888888888888888,\"#fdca26\"],[1.0,\"#f0f921\"]]}],\"choropleth\":[{\"type\":\"choropleth\",\"colorbar\":{\"outlinewidth\":0,\"ticks\":\"\"}}],\"histogram2d\":[{\"type\":\"histogram2d\",\"colorbar\":{\"outlinewidth\":0,\"ticks\":\"\"},\"colorscale\":[[0.0,\"#0d0887\"],[0.1111111111111111,\"#46039f\"],[0.2222222222222222,\"#7201a8\"],[0.3333333333333333,\"#9c179e\"],[0.4444444444444444,\"#bd3786\"],[0.5555555555555556,\"#d8576b\"],[0.6666666666666666,\"#ed7953\"],[0.7777777777777778,\"#fb9f3a\"],[0.8888888888888888,\"#fdca26\"],[1.0,\"#f0f921\"]]}],\"heatmap\":[{\"type\":\"heatmap\",\"colorbar\":{\"outlinewidth\":0,\"ticks\":\"\"},\"colorscale\":[[0.0,\"#0d0887\"],[0.1111111111111111,\"#46039f\"],[0.2222222222222222,\"#7201a8\"],[0.3333333333333333,\"#9c179e\"],[0.4444444444444444,\"#bd3786\"],[0.5555555555555556,\"#d8576b\"],[0.6666666666666666,\"#ed7953\"],[0.7777777777777778,\"#fb9f3a\"],[0.8888888888888888,\"#fdca26\"],[1.0,\"#f0f921\"]]}],\"heatmapgl\":[{\"type\":\"heatmapgl\",\"colorbar\":{\"outlinewidth\":0,\"ticks\":\"\"},\"colorscale\":[[0.0,\"#0d0887\"],[0.1111111111111111,\"#46039f\"],[0.2222222222222222,\"#7201a8\"],[0.3333333333333333,\"#9c179e\"],[0.4444444444444444,\"#bd3786\"],[0.5555555555555556,\"#d8576b\"],[0.6666666666666666,\"#ed7953\"],[0.7777777777777778,\"#fb9f3a\"],[0.8888888888888888,\"#fdca26\"],[1.0,\"#f0f921\"]]}],\"contourcarpet\":[{\"type\":\"contourcarpet\",\"colorbar\":{\"outlinewidth\":0,\"ticks\":\"\"}}],\"contour\":[{\"type\":\"contour\",\"colorbar\":{\"outlinewidth\":0,\"ticks\":\"\"},\"colorscale\":[[0.0,\"#0d0887\"],[0.1111111111111111,\"#46039f\"],[0.2222222222222222,\"#7201a8\"],[0.3333333333333333,\"#9c179e\"],[0.4444444444444444,\"#bd3786\"],[0.5555555555555556,\"#d8576b\"],[0.6666666666666666,\"#ed7953\"],[0.7777777777777778,\"#fb9f3a\"],[0.8888888888888888,\"#fdca26\"],[1.0,\"#f0f921\"]]}],\"surface\":[{\"type\":\"surface\",\"colorbar\":{\"outlinewidth\":0,\"ticks\":\"\"},\"colorscale\":[[0.0,\"#0d0887\"],[0.1111111111111111,\"#46039f\"],[0.2222222222222222,\"#7201a8\"],[0.3333333333333333,\"#9c179e\"],[0.4444444444444444,\"#bd3786\"],[0.5555555555555556,\"#d8576b\"],[0.6666666666666666,\"#ed7953\"],[0.7777777777777778,\"#fb9f3a\"],[0.8888888888888888,\"#fdca26\"],[1.0,\"#f0f921\"]]}],\"mesh3d\":[{\"type\":\"mesh3d\",\"colorbar\":{\"outlinewidth\":0,\"ticks\":\"\"}}],\"scatter\":[{\"fillpattern\":{\"fillmode\":\"overlay\",\"size\":10,\"solidity\":0.2},\"type\":\"scatter\"}],\"parcoords\":[{\"type\":\"parcoords\",\"line\":{\"colorbar\":{\"outlinewidth\":0,\"ticks\":\"\"}}}],\"scatterpolargl\":[{\"type\":\"scatterpolargl\",\"marker\":{\"colorbar\":{\"outlinewidth\":0,\"ticks\":\"\"}}}],\"bar\":[{\"error_x\":{\"color\":\"#2a3f5f\"},\"error_y\":{\"color\":\"#2a3f5f\"},\"marker\":{\"line\":{\"color\":\"#E5ECF6\",\"width\":0.5},\"pattern\":{\"fillmode\":\"overlay\",\"size\":10,\"solidity\":0.2}},\"type\":\"bar\"}],\"scattergeo\":[{\"type\":\"scattergeo\",\"marker\":{\"colorbar\":{\"outlinewidth\":0,\"ticks\":\"\"}}}],\"scatterpolar\":[{\"type\":\"scatterpolar\",\"marker\":{\"colorbar\":{\"outlinewidth\":0,\"ticks\":\"\"}}}],\"histogram\":[{\"marker\":{\"pattern\":{\"fillmode\":\"overlay\",\"size\":10,\"solidity\":0.2}},\"type\":\"histogram\"}],\"scattergl\":[{\"type\":\"scattergl\",\"marker\":{\"colorbar\":{\"outlinewidth\":0,\"ticks\":\"\"}}}],\"scatter3d\":[{\"type\":\"scatter3d\",\"line\":{\"colorbar\":{\"outlinewidth\":0,\"ticks\":\"\"}},\"marker\":{\"colorbar\":{\"outlinewidth\":0,\"ticks\":\"\"}}}],\"scattermapbox\":[{\"type\":\"scattermapbox\",\"marker\":{\"colorbar\":{\"outlinewidth\":0,\"ticks\":\"\"}}}],\"scatterternary\":[{\"type\":\"scatterternary\",\"marker\":{\"colorbar\":{\"outlinewidth\":0,\"ticks\":\"\"}}}],\"scattercarpet\":[{\"type\":\"scattercarpet\",\"marker\":{\"colorbar\":{\"outlinewidth\":0,\"ticks\":\"\"}}}],\"carpet\":[{\"aaxis\":{\"endlinecolor\":\"#2a3f5f\",\"gridcolor\":\"white\",\"linecolor\":\"white\",\"minorgridcolor\":\"white\",\"startlinecolor\":\"#2a3f5f\"},\"baxis\":{\"endlinecolor\":\"#2a3f5f\",\"gridcolor\":\"white\",\"linecolor\":\"white\",\"minorgridcolor\":\"white\",\"startlinecolor\":\"#2a3f5f\"},\"type\":\"carpet\"}],\"table\":[{\"cells\":{\"fill\":{\"color\":\"#EBF0F8\"},\"line\":{\"color\":\"white\"}},\"header\":{\"fill\":{\"color\":\"#C8D4E3\"},\"line\":{\"color\":\"white\"}},\"type\":\"table\"}],\"barpolar\":[{\"marker\":{\"line\":{\"color\":\"#E5ECF6\",\"width\":0.5},\"pattern\":{\"fillmode\":\"overlay\",\"size\":10,\"solidity\":0.2}},\"type\":\"barpolar\"}],\"pie\":[{\"automargin\":true,\"type\":\"pie\"}]},\"layout\":{\"autotypenumbers\":\"strict\",\"colorway\":[\"#636efa\",\"#EF553B\",\"#00cc96\",\"#ab63fa\",\"#FFA15A\",\"#19d3f3\",\"#FF6692\",\"#B6E880\",\"#FF97FF\",\"#FECB52\"],\"font\":{\"color\":\"#2a3f5f\"},\"hovermode\":\"closest\",\"hoverlabel\":{\"align\":\"left\"},\"paper_bgcolor\":\"white\",\"plot_bgcolor\":\"#E5ECF6\",\"polar\":{\"bgcolor\":\"#E5ECF6\",\"angularaxis\":{\"gridcolor\":\"white\",\"linecolor\":\"white\",\"ticks\":\"\"},\"radialaxis\":{\"gridcolor\":\"white\",\"linecolor\":\"white\",\"ticks\":\"\"}},\"ternary\":{\"bgcolor\":\"#E5ECF6\",\"aaxis\":{\"gridcolor\":\"white\",\"linecolor\":\"white\",\"ticks\":\"\"},\"baxis\":{\"gridcolor\":\"white\",\"linecolor\":\"white\",\"ticks\":\"\"},\"caxis\":{\"gridcolor\":\"white\",\"linecolor\":\"white\",\"ticks\":\"\"}},\"coloraxis\":{\"colorbar\":{\"outlinewidth\":0,\"ticks\":\"\"}},\"colorscale\":{\"sequential\":[[0.0,\"#0d0887\"],[0.1111111111111111,\"#46039f\"],[0.2222222222222222,\"#7201a8\"],[0.3333333333333333,\"#9c179e\"],[0.4444444444444444,\"#bd3786\"],[0.5555555555555556,\"#d8576b\"],[0.6666666666666666,\"#ed7953\"],[0.7777777777777778,\"#fb9f3a\"],[0.8888888888888888,\"#fdca26\"],[1.0,\"#f0f921\"]],\"sequentialminus\":[[0.0,\"#0d0887\"],[0.1111111111111111,\"#46039f\"],[0.2222222222222222,\"#7201a8\"],[0.3333333333333333,\"#9c179e\"],[0.4444444444444444,\"#bd3786\"],[0.5555555555555556,\"#d8576b\"],[0.6666666666666666,\"#ed7953\"],[0.7777777777777778,\"#fb9f3a\"],[0.8888888888888888,\"#fdca26\"],[1.0,\"#f0f921\"]],\"diverging\":[[0,\"#8e0152\"],[0.1,\"#c51b7d\"],[0.2,\"#de77ae\"],[0.3,\"#f1b6da\"],[0.4,\"#fde0ef\"],[0.5,\"#f7f7f7\"],[0.6,\"#e6f5d0\"],[0.7,\"#b8e186\"],[0.8,\"#7fbc41\"],[0.9,\"#4d9221\"],[1,\"#276419\"]]},\"xaxis\":{\"gridcolor\":\"white\",\"linecolor\":\"white\",\"ticks\":\"\",\"title\":{\"standoff\":15},\"zerolinecolor\":\"white\",\"automargin\":true,\"zerolinewidth\":2},\"yaxis\":{\"gridcolor\":\"white\",\"linecolor\":\"white\",\"ticks\":\"\",\"title\":{\"standoff\":15},\"zerolinecolor\":\"white\",\"automargin\":true,\"zerolinewidth\":2},\"scene\":{\"xaxis\":{\"backgroundcolor\":\"#E5ECF6\",\"gridcolor\":\"white\",\"linecolor\":\"white\",\"showbackground\":true,\"ticks\":\"\",\"zerolinecolor\":\"white\",\"gridwidth\":2},\"yaxis\":{\"backgroundcolor\":\"#E5ECF6\",\"gridcolor\":\"white\",\"linecolor\":\"white\",\"showbackground\":true,\"ticks\":\"\",\"zerolinecolor\":\"white\",\"gridwidth\":2},\"zaxis\":{\"backgroundcolor\":\"#E5ECF6\",\"gridcolor\":\"white\",\"linecolor\":\"white\",\"showbackground\":true,\"ticks\":\"\",\"zerolinecolor\":\"white\",\"gridwidth\":2}},\"shapedefaults\":{\"line\":{\"color\":\"#2a3f5f\"}},\"annotationdefaults\":{\"arrowcolor\":\"#2a3f5f\",\"arrowhead\":0,\"arrowwidth\":1},\"geo\":{\"bgcolor\":\"white\",\"landcolor\":\"#E5ECF6\",\"subunitcolor\":\"white\",\"showland\":true,\"showlakes\":true,\"lakecolor\":\"white\"},\"title\":{\"x\":0.05},\"mapbox\":{\"style\":\"light\"}}},\"xaxis\":{\"anchor\":\"y\",\"domain\":[0.0,0.94],\"title\":{\"text\":\"Timestamp\"}},\"yaxis\":{\"anchor\":\"x\",\"domain\":[0.0,1.0],\"title\":{\"text\":\"Price (USD)\"}},\"yaxis2\":{\"anchor\":\"x\",\"overlaying\":\"y\",\"side\":\"right\",\"title\":{\"text\":\"Volume (USD)\"}},\"title\":{\"text\":\"Bitcoin Price and Trading Volume Over Time\"}},                        {\"responsive\": true}                    ).then(function(){\n",
              "                            \n",
              "var gd = document.getElementById('bc256fa1-22d6-410c-aa13-21446e101511');\n",
              "var x = new MutationObserver(function (mutations, observer) {{\n",
              "        var display = window.getComputedStyle(gd).display;\n",
              "        if (!display || display === 'none') {{\n",
              "            console.log([gd, 'removed!']);\n",
              "            Plotly.purge(gd);\n",
              "            observer.disconnect();\n",
              "        }}\n",
              "}});\n",
              "\n",
              "// Listen for the removal of the full notebook cells\n",
              "var notebookContainer = gd.closest('#notebook-container');\n",
              "if (notebookContainer) {{\n",
              "    x.observe(notebookContainer, {childList: true});\n",
              "}}\n",
              "\n",
              "// Listen for the clearing of the current output cell\n",
              "var outputEl = gd.closest('.output');\n",
              "if (outputEl) {{\n",
              "    x.observe(outputEl, {childList: true});\n",
              "}}\n",
              "\n",
              "                        })                };                            </script>        </div>\n",
              "</body>\n",
              "</html>"
            ]
          },
          "metadata": {}
        }
      ]
    },
    {
      "cell_type": "markdown",
      "metadata": {
        "id": "64928185"
      },
      "source": [
        "## Summary:\n",
        "\n",
        "### Data Analysis Key Findings\n",
        "\n",
        "*   Price and trading volume data for Bitcoin over the last 365 days were successfully fetched from the CoinGecko API.\n",
        "*   The fetched price and volume data were successfully merged into a single DataFrame based on their timestamps.\n",
        "*   A plot was generated that displays both Bitcoin price and trading volume over time, using a secondary y-axis for the trading volume due to the difference in scale.\n",
        "\n",
        "### Insights or Next Steps\n",
        "\n",
        "*   Analyze the relationship between price fluctuations and trading volume to identify potential correlations.\n",
        "*   Consider adding more technical indicators or relevant data points to the combined DataFrame for a more comprehensive analysis.\n"
      ]
    },
    {
      "cell_type": "markdown",
      "metadata": {
        "id": "ddfb38f0"
      },
      "source": [
        "# Task\n",
        "Fetch price, trading volume, and market cap data and plot them together."
      ]
    },
    {
      "cell_type": "markdown",
      "metadata": {
        "id": "e2e09d7d"
      },
      "source": [
        "## Modify data fetching\n",
        "\n",
        "### Subtask:\n",
        "Update the code to fetch market cap data in addition to price and volume data.\n"
      ]
    },
    {
      "cell_type": "markdown",
      "metadata": {
        "id": "0e883816"
      },
      "source": [
        "**Reasoning**:\n",
        "Modify the API call to fetch market cap data and process it along with price and volume data.\n",
        "\n"
      ]
    },
    {
      "cell_type": "code",
      "metadata": {
        "colab": {
          "base_uri": "https://localhost:8080/",
          "height": 0
        },
        "id": "ec52c692",
        "outputId": "90e00af6-d0e5-4294-fe79-7fd406ac4682"
      },
      "source": [
        "url = \"https://api.coingecko.com/api/v3/coins/bitcoin/market_chart\"\n",
        "params = {\"vs_currency\": \"usd\", \"days\": \"365\"}\n",
        "\n",
        "data = requests.get(url, params=params).json()\n",
        "\n",
        "prices = pd.DataFrame()\n",
        "volumes = pd.DataFrame()\n",
        "market_caps = pd.DataFrame()\n",
        "\n",
        "if 'prices' in data:\n",
        "    prices = pd.DataFrame(data['prices'], columns=['timestamp', 'price'])\n",
        "    prices['timestamp'] = pd.to_datetime(prices['timestamp'], unit='ms')\n",
        "    prices.set_index('timestamp', inplace=True)\n",
        "    print(\"Price data fetched successfully for the last 365 days.\")\n",
        "else:\n",
        "    print(\"Error fetching price data from CoinGecko API:\", data)\n",
        "\n",
        "if 'total_volumes' in data:\n",
        "    volumes = pd.DataFrame(data['total_volumes'], columns=['timestamp', 'volume'])\n",
        "    volumes['timestamp'] = pd.to_datetime(volumes['timestamp'], unit='ms')\n",
        "    volumes.set_index('timestamp', inplace=True)\n",
        "    print(\"Trading volume data fetched successfully for the last 365 days.\")\n",
        "else:\n",
        "    print(\"Error fetching trading volume data from CoinGecko API:\", data)\n",
        "\n",
        "if 'market_caps' in data:\n",
        "    market_caps = pd.DataFrame(data['market_caps'], columns=['timestamp', 'market_cap'])\n",
        "    market_caps['timestamp'] = pd.to_datetime(market_caps['timestamp'], unit='ms')\n",
        "    market_caps.set_index('timestamp', inplace=True)\n",
        "    print(\"Market cap data fetched successfully for the last 365 days.\")\n",
        "else:\n",
        "    print(\"Error fetching market cap data from CoinGecko API:\", data)"
      ],
      "execution_count": 20,
      "outputs": [
        {
          "output_type": "stream",
          "name": "stdout",
          "text": [
            "Price data fetched successfully for the last 365 days.\n",
            "Trading volume data fetched successfully for the last 365 days.\n",
            "Market cap data fetched successfully for the last 365 days.\n"
          ]
        }
      ]
    },
    {
      "cell_type": "markdown",
      "metadata": {
        "id": "dd21a659"
      },
      "source": [
        "## Combine data\n",
        "\n",
        "### Subtask:\n",
        "Merge or combine the fetched price, volume, and market cap data into a single DataFrame.\n"
      ]
    },
    {
      "cell_type": "markdown",
      "metadata": {
        "id": "450e167e"
      },
      "source": [
        "**Reasoning**:\n",
        "Merge the prices, volumes, and market_caps dataframes on their index and display the head of the combined dataframe.\n",
        "\n"
      ]
    },
    {
      "cell_type": "code",
      "metadata": {
        "colab": {
          "base_uri": "https://localhost:8080/",
          "height": 238
        },
        "id": "aae8638d",
        "outputId": "ab7e2515-7128-493f-ec43-d675be16eb76"
      },
      "source": [
        "df_combined = prices.merge(volumes, left_index=True, right_index=True).merge(market_caps, left_index=True, right_index=True)\n",
        "display(df_combined.head())"
      ],
      "execution_count": 21,
      "outputs": [
        {
          "output_type": "display_data",
          "data": {
            "text/plain": [
              "                   price        volume    market_cap\n",
              "timestamp                                           \n",
              "2024-10-20  68388.871290  1.411089e+10  1.351942e+12\n",
              "2024-10-21  68962.829180  1.725386e+10  1.362382e+12\n",
              "2024-10-22  67394.857757  4.048550e+10  1.332327e+12\n",
              "2024-10-23  67351.047935  3.139839e+10  1.331427e+12\n",
              "2024-10-24  66683.968065  3.267692e+10  1.318285e+12"
            ],
            "text/html": [
              "\n",
              "  <div id=\"df-b057cc25-1577-43a9-8d84-3129a9e2c305\" class=\"colab-df-container\">\n",
              "    <div>\n",
              "<style scoped>\n",
              "    .dataframe tbody tr th:only-of-type {\n",
              "        vertical-align: middle;\n",
              "    }\n",
              "\n",
              "    .dataframe tbody tr th {\n",
              "        vertical-align: top;\n",
              "    }\n",
              "\n",
              "    .dataframe thead th {\n",
              "        text-align: right;\n",
              "    }\n",
              "</style>\n",
              "<table border=\"1\" class=\"dataframe\">\n",
              "  <thead>\n",
              "    <tr style=\"text-align: right;\">\n",
              "      <th></th>\n",
              "      <th>price</th>\n",
              "      <th>volume</th>\n",
              "      <th>market_cap</th>\n",
              "    </tr>\n",
              "    <tr>\n",
              "      <th>timestamp</th>\n",
              "      <th></th>\n",
              "      <th></th>\n",
              "      <th></th>\n",
              "    </tr>\n",
              "  </thead>\n",
              "  <tbody>\n",
              "    <tr>\n",
              "      <th>2024-10-20</th>\n",
              "      <td>68388.871290</td>\n",
              "      <td>1.411089e+10</td>\n",
              "      <td>1.351942e+12</td>\n",
              "    </tr>\n",
              "    <tr>\n",
              "      <th>2024-10-21</th>\n",
              "      <td>68962.829180</td>\n",
              "      <td>1.725386e+10</td>\n",
              "      <td>1.362382e+12</td>\n",
              "    </tr>\n",
              "    <tr>\n",
              "      <th>2024-10-22</th>\n",
              "      <td>67394.857757</td>\n",
              "      <td>4.048550e+10</td>\n",
              "      <td>1.332327e+12</td>\n",
              "    </tr>\n",
              "    <tr>\n",
              "      <th>2024-10-23</th>\n",
              "      <td>67351.047935</td>\n",
              "      <td>3.139839e+10</td>\n",
              "      <td>1.331427e+12</td>\n",
              "    </tr>\n",
              "    <tr>\n",
              "      <th>2024-10-24</th>\n",
              "      <td>66683.968065</td>\n",
              "      <td>3.267692e+10</td>\n",
              "      <td>1.318285e+12</td>\n",
              "    </tr>\n",
              "  </tbody>\n",
              "</table>\n",
              "</div>\n",
              "    <div class=\"colab-df-buttons\">\n",
              "\n",
              "  <div class=\"colab-df-container\">\n",
              "    <button class=\"colab-df-convert\" onclick=\"convertToInteractive('df-b057cc25-1577-43a9-8d84-3129a9e2c305')\"\n",
              "            title=\"Convert this dataframe to an interactive table.\"\n",
              "            style=\"display:none;\">\n",
              "\n",
              "  <svg xmlns=\"http://www.w3.org/2000/svg\" height=\"24px\" viewBox=\"0 -960 960 960\">\n",
              "    <path d=\"M120-120v-720h720v720H120Zm60-500h600v-160H180v160Zm220 220h160v-160H400v160Zm0 220h160v-160H400v160ZM180-400h160v-160H180v160Zm440 0h160v-160H620v160ZM180-180h160v-160H180v160Zm440 0h160v-160H620v160Z\"/>\n",
              "  </svg>\n",
              "    </button>\n",
              "\n",
              "  <style>\n",
              "    .colab-df-container {\n",
              "      display:flex;\n",
              "      gap: 12px;\n",
              "    }\n",
              "\n",
              "    .colab-df-convert {\n",
              "      background-color: #E8F0FE;\n",
              "      border: none;\n",
              "      border-radius: 50%;\n",
              "      cursor: pointer;\n",
              "      display: none;\n",
              "      fill: #1967D2;\n",
              "      height: 32px;\n",
              "      padding: 0 0 0 0;\n",
              "      width: 32px;\n",
              "    }\n",
              "\n",
              "    .colab-df-convert:hover {\n",
              "      background-color: #E2EBFA;\n",
              "      box-shadow: 0px 1px 2px rgba(60, 64, 67, 0.3), 0px 1px 3px 1px rgba(60, 64, 67, 0.15);\n",
              "      fill: #174EA6;\n",
              "    }\n",
              "\n",
              "    .colab-df-buttons div {\n",
              "      margin-bottom: 4px;\n",
              "    }\n",
              "\n",
              "    [theme=dark] .colab-df-convert {\n",
              "      background-color: #3B4455;\n",
              "      fill: #D2E3FC;\n",
              "    }\n",
              "\n",
              "    [theme=dark] .colab-df-convert:hover {\n",
              "      background-color: #434B5C;\n",
              "      box-shadow: 0px 1px 3px 1px rgba(0, 0, 0, 0.15);\n",
              "      filter: drop-shadow(0px 1px 2px rgba(0, 0, 0, 0.3));\n",
              "      fill: #FFFFFF;\n",
              "    }\n",
              "  </style>\n",
              "\n",
              "    <script>\n",
              "      const buttonEl =\n",
              "        document.querySelector('#df-b057cc25-1577-43a9-8d84-3129a9e2c305 button.colab-df-convert');\n",
              "      buttonEl.style.display =\n",
              "        google.colab.kernel.accessAllowed ? 'block' : 'none';\n",
              "\n",
              "      async function convertToInteractive(key) {\n",
              "        const element = document.querySelector('#df-b057cc25-1577-43a9-8d84-3129a9e2c305');\n",
              "        const dataTable =\n",
              "          await google.colab.kernel.invokeFunction('convertToInteractive',\n",
              "                                                    [key], {});\n",
              "        if (!dataTable) return;\n",
              "\n",
              "        const docLinkHtml = 'Like what you see? Visit the ' +\n",
              "          '<a target=\"_blank\" href=https://colab.research.google.com/notebooks/data_table.ipynb>data table notebook</a>'\n",
              "          + ' to learn more about interactive tables.';\n",
              "        element.innerHTML = '';\n",
              "        dataTable['output_type'] = 'display_data';\n",
              "        await google.colab.output.renderOutput(dataTable, element);\n",
              "        const docLink = document.createElement('div');\n",
              "        docLink.innerHTML = docLinkHtml;\n",
              "        element.appendChild(docLink);\n",
              "      }\n",
              "    </script>\n",
              "  </div>\n",
              "\n",
              "\n",
              "    <div id=\"df-3edd9adc-5def-4a27-9b15-634b38478e94\">\n",
              "      <button class=\"colab-df-quickchart\" onclick=\"quickchart('df-3edd9adc-5def-4a27-9b15-634b38478e94')\"\n",
              "                title=\"Suggest charts\"\n",
              "                style=\"display:none;\">\n",
              "\n",
              "<svg xmlns=\"http://www.w3.org/2000/svg\" height=\"24px\"viewBox=\"0 0 24 24\"\n",
              "     width=\"24px\">\n",
              "    <g>\n",
              "        <path d=\"M19 3H5c-1.1 0-2 .9-2 2v14c0 1.1.9 2 2 2h14c1.1 0 2-.9 2-2V5c0-1.1-.9-2-2-2zM9 17H7v-7h2v7zm4 0h-2V7h2v10zm4 0h-2v-4h2v4z\"/>\n",
              "    </g>\n",
              "</svg>\n",
              "      </button>\n",
              "\n",
              "<style>\n",
              "  .colab-df-quickchart {\n",
              "      --bg-color: #E8F0FE;\n",
              "      --fill-color: #1967D2;\n",
              "      --hover-bg-color: #E2EBFA;\n",
              "      --hover-fill-color: #174EA6;\n",
              "      --disabled-fill-color: #AAA;\n",
              "      --disabled-bg-color: #DDD;\n",
              "  }\n",
              "\n",
              "  [theme=dark] .colab-df-quickchart {\n",
              "      --bg-color: #3B4455;\n",
              "      --fill-color: #D2E3FC;\n",
              "      --hover-bg-color: #434B5C;\n",
              "      --hover-fill-color: #FFFFFF;\n",
              "      --disabled-bg-color: #3B4455;\n",
              "      --disabled-fill-color: #666;\n",
              "  }\n",
              "\n",
              "  .colab-df-quickchart {\n",
              "    background-color: var(--bg-color);\n",
              "    border: none;\n",
              "    border-radius: 50%;\n",
              "    cursor: pointer;\n",
              "    display: none;\n",
              "    fill: var(--fill-color);\n",
              "    height: 32px;\n",
              "    padding: 0;\n",
              "    width: 32px;\n",
              "  }\n",
              "\n",
              "  .colab-df-quickchart:hover {\n",
              "    background-color: var(--hover-bg-color);\n",
              "    box-shadow: 0 1px 2px rgba(60, 64, 67, 0.3), 0 1px 3px 1px rgba(60, 64, 67, 0.15);\n",
              "    fill: var(--button-hover-fill-color);\n",
              "  }\n",
              "\n",
              "  .colab-df-quickchart-complete:disabled,\n",
              "  .colab-df-quickchart-complete:disabled:hover {\n",
              "    background-color: var(--disabled-bg-color);\n",
              "    fill: var(--disabled-fill-color);\n",
              "    box-shadow: none;\n",
              "  }\n",
              "\n",
              "  .colab-df-spinner {\n",
              "    border: 2px solid var(--fill-color);\n",
              "    border-color: transparent;\n",
              "    border-bottom-color: var(--fill-color);\n",
              "    animation:\n",
              "      spin 1s steps(1) infinite;\n",
              "  }\n",
              "\n",
              "  @keyframes spin {\n",
              "    0% {\n",
              "      border-color: transparent;\n",
              "      border-bottom-color: var(--fill-color);\n",
              "      border-left-color: var(--fill-color);\n",
              "    }\n",
              "    20% {\n",
              "      border-color: transparent;\n",
              "      border-left-color: var(--fill-color);\n",
              "      border-top-color: var(--fill-color);\n",
              "    }\n",
              "    30% {\n",
              "      border-color: transparent;\n",
              "      border-left-color: var(--fill-color);\n",
              "      border-top-color: var(--fill-color);\n",
              "      border-right-color: var(--fill-color);\n",
              "    }\n",
              "    40% {\n",
              "      border-color: transparent;\n",
              "      border-right-color: var(--fill-color);\n",
              "      border-top-color: var(--fill-color);\n",
              "    }\n",
              "    60% {\n",
              "      border-color: transparent;\n",
              "      border-right-color: var(--fill-color);\n",
              "    }\n",
              "    80% {\n",
              "      border-color: transparent;\n",
              "      border-right-color: var(--fill-color);\n",
              "      border-bottom-color: var(--fill-color);\n",
              "    }\n",
              "    90% {\n",
              "      border-color: transparent;\n",
              "      border-bottom-color: var(--fill-color);\n",
              "    }\n",
              "  }\n",
              "</style>\n",
              "\n",
              "      <script>\n",
              "        async function quickchart(key) {\n",
              "          const quickchartButtonEl =\n",
              "            document.querySelector('#' + key + ' button');\n",
              "          quickchartButtonEl.disabled = true;  // To prevent multiple clicks.\n",
              "          quickchartButtonEl.classList.add('colab-df-spinner');\n",
              "          try {\n",
              "            const charts = await google.colab.kernel.invokeFunction(\n",
              "                'suggestCharts', [key], {});\n",
              "          } catch (error) {\n",
              "            console.error('Error during call to suggestCharts:', error);\n",
              "          }\n",
              "          quickchartButtonEl.classList.remove('colab-df-spinner');\n",
              "          quickchartButtonEl.classList.add('colab-df-quickchart-complete');\n",
              "        }\n",
              "        (() => {\n",
              "          let quickchartButtonEl =\n",
              "            document.querySelector('#df-3edd9adc-5def-4a27-9b15-634b38478e94 button');\n",
              "          quickchartButtonEl.style.display =\n",
              "            google.colab.kernel.accessAllowed ? 'block' : 'none';\n",
              "        })();\n",
              "      </script>\n",
              "    </div>\n",
              "\n",
              "    </div>\n",
              "  </div>\n"
            ],
            "application/vnd.google.colaboratory.intrinsic+json": {
              "type": "dataframe",
              "summary": "{\n  \"name\": \"display(df_combined\",\n  \"rows\": 5,\n  \"fields\": [\n    {\n      \"column\": \"timestamp\",\n      \"properties\": {\n        \"dtype\": \"date\",\n        \"min\": \"2024-10-20 00:00:00\",\n        \"max\": \"2024-10-24 00:00:00\",\n        \"num_unique_values\": 5,\n        \"samples\": [\n          \"2024-10-21 00:00:00\",\n          \"2024-10-24 00:00:00\",\n          \"2024-10-22 00:00:00\"\n        ],\n        \"semantic_type\": \"\",\n        \"description\": \"\"\n      }\n    },\n    {\n      \"column\": \"price\",\n      \"properties\": {\n        \"dtype\": \"number\",\n        \"std\": 908.3810609336026,\n        \"min\": 66683.96806542306,\n        \"max\": 68962.82918045693,\n        \"num_unique_values\": 5,\n        \"samples\": [\n          68962.82918045693,\n          66683.96806542306,\n          67394.85775735618\n        ],\n        \"semantic_type\": \"\",\n        \"description\": \"\"\n      }\n    },\n    {\n      \"column\": \"volume\",\n      \"properties\": {\n        \"dtype\": \"number\",\n        \"std\": 11117293516.153038,\n        \"min\": 14110889435.452631,\n        \"max\": 40485496091.95008,\n        \"num_unique_values\": 5,\n        \"samples\": [\n          17253863432.786995,\n          32676918488.059,\n          40485496091.95008\n        ],\n        \"semantic_type\": \"\",\n        \"description\": \"\"\n      }\n    },\n    {\n      \"column\": \"market_cap\",\n      \"properties\": {\n        \"dtype\": \"number\",\n        \"std\": 17640948532.194496,\n        \"min\": 1318285437546.2786,\n        \"max\": 1362381684459.9053,\n        \"num_unique_values\": 5,\n        \"samples\": [\n          1362381684459.9053,\n          1318285437546.2786,\n          1332326858574.4448\n        ],\n        \"semantic_type\": \"\",\n        \"description\": \"\"\n      }\n    }\n  ]\n}"
            }
          },
          "metadata": {}
        }
      ]
    },
    {
      "cell_type": "code",
      "metadata": {
        "id": "0ed1cf8b"
      },
      "source": [
        "import plotly.graph_objects as go\n",
        "from plotly.subplots import make_subplots\n",
        "\n",
        "fig = make_subplots(specs=[[{\"secondary_y\": True}, {\"secondary_y\": True}]])\n",
        "\n",
        "fig.add_trace(\n",
        "    go.Scatter(x=df_combined.index, y=df_combined['price'], name='Price'),\n",
        "    secondary_y=False,\n",
        ")\n",
        "\n",
        "fig.add_trace(\n",
        "    go.Scatter(x=df_combined.index, y=df_combined['volume'], name='Volume'),\n",
        "    secondary_y=True,\n",
        ")\n",
        "\n",
        "fig.add_trace(\n",
        "    go.Scatter(x=df_combined.index, y=df_combined['market_cap'], name='Market Cap', yaxis='y3'),\n",
        "    secondary_y=True,\n",
        ")\n",
        "\n",
        "fig.update_layout(\n",
        "    title_text='Bitcoin Price, Trading Volume, and Market Cap Over Time',\n",
        "    xaxis_title='Timestamp',\n",
        "    yaxis=dict(title='Price (USD)'),\n",
        "    yaxis2=dict(title='Volume (USD)', overlaying='y', side='right'),\n",
        "    yaxis3=dict(title='Market Cap (USD)', overlaying='y', side='right', position=0.85)\n",
        ")\n",
        "\n",
        "fig.show()"
      ],
      "execution_count": null,
      "outputs": []
    },
    {
      "cell_type": "code",
      "metadata": {
        "colab": {
          "base_uri": "https://localhost:8080/",
          "height": 542
        },
        "id": "Oj4_83ZLqxgO",
        "outputId": "29395e93-d155-407d-b978-81cf98086a6a"
      },
      "source": [
        "fig = make_subplots(specs=[[{\"secondary_y\": True}]])\n",
        "\n",
        "fig.add_trace(\n",
        "    go.Scatter(x=df_combined.index, y=df_combined['price'], name='Price'),\n",
        "    secondary_y=False,\n",
        ")\n",
        "\n",
        "fig.add_trace(\n",
        "    go.Scatter(x=df_combined.index, y=df_combined['volume'], name='Volume'),\n",
        "    secondary_y=True,\n",
        ")\n",
        "\n",
        "fig.add_trace(\n",
        "    go.Scatter(x=df_combined.index, y=df_combined['market_cap'], name='Market Cap', yaxis='y3'),\n",
        "    secondary_y=True,\n",
        ")\n",
        "\n",
        "fig.update_layout(\n",
        "    title_text='Bitcoin Price, Trading Volume, and Market Cap Over Time',\n",
        "    xaxis_title='Timestamp',\n",
        "    yaxis=dict(title='Price (USD)'),\n",
        "    yaxis2=dict(title='Volume (USD)', overlaying='y', side='right'),\n",
        "    yaxis3=dict(title='Market Cap (USD)', overlaying='y', side='right', position=0.85)\n",
        ")\n",
        "\n",
        "fig.show()"
      ],
      "execution_count": 23,
      "outputs": [
        {
          "output_type": "display_data",
          "data": {
            "text/html": [
              "<html>\n",
              "<head><meta charset=\"utf-8\" /></head>\n",
              "<body>\n",
              "    <div>            <script src=\"https://cdnjs.cloudflare.com/ajax/libs/mathjax/2.7.5/MathJax.js?config=TeX-AMS-MML_SVG\"></script><script type=\"text/javascript\">if (window.MathJax && window.MathJax.Hub && window.MathJax.Hub.Config) {window.MathJax.Hub.Config({SVG: {font: \"STIX-Web\"}});}</script>                <script type=\"text/javascript\">window.PlotlyConfig = {MathJaxConfig: 'local'};</script>\n",
              "        <script charset=\"utf-8\" src=\"https://cdn.plot.ly/plotly-2.35.2.min.js\"></script>                <div id=\"990b4570-8821-474f-9ec2-6a7be4decc6d\" class=\"plotly-graph-div\" style=\"height:525px; width:100%;\"></div>            <script type=\"text/javascript\">                                    window.PLOTLYENV=window.PLOTLYENV || {};                                    if (document.getElementById(\"990b4570-8821-474f-9ec2-6a7be4decc6d\")) {                    Plotly.newPlot(                        \"990b4570-8821-474f-9ec2-6a7be4decc6d\",                        [{\"name\":\"Price\",\"x\":[\"2024-10-20T00:00:00\",\"2024-10-21T00:00:00\",\"2024-10-22T00:00:00\",\"2024-10-23T00:00:00\",\"2024-10-24T00:00:00\",\"2024-10-25T00:00:00\",\"2024-10-26T00:00:00\",\"2024-10-27T00:00:00\",\"2024-10-28T00:00:00\",\"2024-10-29T00:00:00\",\"2024-10-30T00:00:00\",\"2024-10-31T00:00:00\",\"2024-11-01T00:00:00\",\"2024-11-02T00:00:00\",\"2024-11-03T00:00:00\",\"2024-11-04T00:00:00\",\"2024-11-05T00:00:00\",\"2024-11-06T00:00:00\",\"2024-11-07T00:00:00\",\"2024-11-08T00:00:00\",\"2024-11-09T00:00:00\",\"2024-11-10T00:00:00\",\"2024-11-11T00:00:00\",\"2024-11-12T00:00:00\",\"2024-11-13T00:00:00\",\"2024-11-14T00:00:00\",\"2024-11-15T00:00:00\",\"2024-11-16T00:00:00\",\"2024-11-17T00:00:00\",\"2024-11-18T00:00:00\",\"2024-11-19T00:00:00\",\"2024-11-20T00:00:00\",\"2024-11-21T00:00:00\",\"2024-11-22T00:00:00\",\"2024-11-23T00:00:00\",\"2024-11-24T00:00:00\",\"2024-11-25T00:00:00\",\"2024-11-26T00:00:00\",\"2024-11-27T00:00:00\",\"2024-11-28T00:00:00\",\"2024-11-29T00:00:00\",\"2024-11-30T00:00:00\",\"2024-12-01T00:00:00\",\"2024-12-02T00:00:00\",\"2024-12-03T00:00:00\",\"2024-12-04T00:00:00\",\"2024-12-05T00:00:00\",\"2024-12-06T00:00:00\",\"2024-12-07T00:00:00\",\"2024-12-08T00:00:00\",\"2024-12-09T00:00:00\",\"2024-12-10T00:00:00\",\"2024-12-11T00:00:00\",\"2024-12-12T00:00:00\",\"2024-12-13T00:00:00\",\"2024-12-14T00:00:00\",\"2024-12-15T00:00:00\",\"2024-12-16T00:00:00\",\"2024-12-17T00:00:00\",\"2024-12-18T00:00:00\",\"2024-12-19T00:00:00\",\"2024-12-20T00:00:00\",\"2024-12-21T00:00:00\",\"2024-12-22T00:00:00\",\"2024-12-23T00:00:00\",\"2024-12-24T00:00:00\",\"2024-12-25T00:00:00\",\"2024-12-26T00:00:00\",\"2024-12-27T00:00:00\",\"2024-12-28T00:00:00\",\"2024-12-29T00:00:00\",\"2024-12-30T00:00:00\",\"2024-12-31T00:00:00\",\"2025-01-01T00:00:00\",\"2025-01-02T00:00:00\",\"2025-01-03T00:00:00\",\"2025-01-04T00:00:00\",\"2025-01-05T00:00:00\",\"2025-01-06T00:00:00\",\"2025-01-07T00:00:00\",\"2025-01-08T00:00:00\",\"2025-01-09T00:00:00\",\"2025-01-10T00:00:00\",\"2025-01-11T00:00:00\",\"2025-01-12T00:00:00\",\"2025-01-13T00:00:00\",\"2025-01-14T00:00:00\",\"2025-01-15T00:00:00\",\"2025-01-16T00:00:00\",\"2025-01-17T00:00:00\",\"2025-01-18T00:00:00\",\"2025-01-19T00:00:00\",\"2025-01-20T00:00:00\",\"2025-01-21T00:00:00\",\"2025-01-22T00:00:00\",\"2025-01-23T00:00:00\",\"2025-01-24T00:00:00\",\"2025-01-25T00:00:00\",\"2025-01-26T00:00:00\",\"2025-01-27T00:00:00\",\"2025-01-28T00:00:00\",\"2025-01-29T00:00:00\",\"2025-01-30T00:00:00\",\"2025-01-31T00:00:00\",\"2025-02-01T00:00:00\",\"2025-02-02T00:00:00\",\"2025-02-03T00:00:00\",\"2025-02-04T00:00:00\",\"2025-02-05T00:00:00\",\"2025-02-06T00:00:00\",\"2025-02-07T00:00:00\",\"2025-02-08T00:00:00\",\"2025-02-09T00:00:00\",\"2025-02-10T00:00:00\",\"2025-02-11T00:00:00\",\"2025-02-12T00:00:00\",\"2025-02-13T00:00:00\",\"2025-02-14T00:00:00\",\"2025-02-15T00:00:00\",\"2025-02-16T00:00:00\",\"2025-02-17T00:00:00\",\"2025-02-18T00:00:00\",\"2025-02-19T00:00:00\",\"2025-02-20T00:00:00\",\"2025-02-21T00:00:00\",\"2025-02-22T00:00:00\",\"2025-02-23T00:00:00\",\"2025-02-24T00:00:00\",\"2025-02-25T00:00:00\",\"2025-02-26T00:00:00\",\"2025-02-27T00:00:00\",\"2025-02-28T00:00:00\",\"2025-03-01T00:00:00\",\"2025-03-02T00:00:00\",\"2025-03-03T00:00:00\",\"2025-03-04T00:00:00\",\"2025-03-05T00:00:00\",\"2025-03-06T00:00:00\",\"2025-03-07T00:00:00\",\"2025-03-08T00:00:00\",\"2025-03-09T00:00:00\",\"2025-03-10T00:00:00\",\"2025-03-11T00:00:00\",\"2025-03-12T00:00:00\",\"2025-03-13T00:00:00\",\"2025-03-14T00:00:00\",\"2025-03-15T00:00:00\",\"2025-03-16T00:00:00\",\"2025-03-17T00:00:00\",\"2025-03-18T00:00:00\",\"2025-03-19T00:00:00\",\"2025-03-20T00:00:00\",\"2025-03-21T00:00:00\",\"2025-03-22T00:00:00\",\"2025-03-23T00:00:00\",\"2025-03-24T00:00:00\",\"2025-03-25T00:00:00\",\"2025-03-26T00:00:00\",\"2025-03-27T00:00:00\",\"2025-03-28T00:00:00\",\"2025-03-29T00:00:00\",\"2025-03-30T00:00:00\",\"2025-03-31T00:00:00\",\"2025-04-01T00:00:00\",\"2025-04-02T00:00:00\",\"2025-04-03T00:00:00\",\"2025-04-04T00:00:00\",\"2025-04-05T00:00:00\",\"2025-04-06T00:00:00\",\"2025-04-07T00:00:00\",\"2025-04-08T00:00:00\",\"2025-04-09T00:00:00\",\"2025-04-10T00:00:00\",\"2025-04-11T00:00:00\",\"2025-04-12T00:00:00\",\"2025-04-13T00:00:00\",\"2025-04-14T00:00:00\",\"2025-04-15T00:00:00\",\"2025-04-16T00:00:00\",\"2025-04-17T00:00:00\",\"2025-04-18T00:00:00\",\"2025-04-19T00:00:00\",\"2025-04-20T00:00:00\",\"2025-04-21T00:00:00\",\"2025-04-22T00:00:00\",\"2025-04-23T00:00:00\",\"2025-04-24T00:00:00\",\"2025-04-25T00:00:00\",\"2025-04-26T00:00:00\",\"2025-04-27T00:00:00\",\"2025-04-28T00:00:00\",\"2025-04-29T00:00:00\",\"2025-04-30T00:00:00\",\"2025-05-01T00:00:00\",\"2025-05-02T00:00:00\",\"2025-05-03T00:00:00\",\"2025-05-04T00:00:00\",\"2025-05-05T00:00:00\",\"2025-05-06T00:00:00\",\"2025-05-07T00:00:00\",\"2025-05-08T00:00:00\",\"2025-05-09T00:00:00\",\"2025-05-10T00:00:00\",\"2025-05-11T00:00:00\",\"2025-05-12T00:00:00\",\"2025-05-13T00:00:00\",\"2025-05-14T00:00:00\",\"2025-05-15T00:00:00\",\"2025-05-16T00:00:00\",\"2025-05-17T00:00:00\",\"2025-05-18T00:00:00\",\"2025-05-19T00:00:00\",\"2025-05-20T00:00:00\",\"2025-05-21T00:00:00\",\"2025-05-22T00:00:00\",\"2025-05-23T00:00:00\",\"2025-05-24T00:00:00\",\"2025-05-25T00:00:00\",\"2025-05-26T00:00:00\",\"2025-05-27T00:00:00\",\"2025-05-28T00:00:00\",\"2025-05-29T00:00:00\",\"2025-05-30T00:00:00\",\"2025-05-31T00:00:00\",\"2025-06-01T00:00:00\",\"2025-06-02T00:00:00\",\"2025-06-03T00:00:00\",\"2025-06-04T00:00:00\",\"2025-06-05T00:00:00\",\"2025-06-06T00:00:00\",\"2025-06-07T00:00:00\",\"2025-06-08T00:00:00\",\"2025-06-09T00:00:00\",\"2025-06-10T00:00:00\",\"2025-06-11T00:00:00\",\"2025-06-12T00:00:00\",\"2025-06-13T00:00:00\",\"2025-06-14T00:00:00\",\"2025-06-15T00:00:00\",\"2025-06-16T00:00:00\",\"2025-06-17T00:00:00\",\"2025-06-18T00:00:00\",\"2025-06-19T00:00:00\",\"2025-06-20T00:00:00\",\"2025-06-21T00:00:00\",\"2025-06-22T00:00:00\",\"2025-06-23T00:00:00\",\"2025-06-24T00:00:00\",\"2025-06-25T00:00:00\",\"2025-06-26T00:00:00\",\"2025-06-27T00:00:00\",\"2025-06-28T00:00:00\",\"2025-06-29T00:00:00\",\"2025-06-30T00:00:00\",\"2025-07-01T00:00:00\",\"2025-07-02T00:00:00\",\"2025-07-03T00:00:00\",\"2025-07-04T00:00:00\",\"2025-07-05T00:00:00\",\"2025-07-06T00:00:00\",\"2025-07-07T00:00:00\",\"2025-07-08T00:00:00\",\"2025-07-09T00:00:00\",\"2025-07-10T00:00:00\",\"2025-07-11T00:00:00\",\"2025-07-12T00:00:00\",\"2025-07-13T00:00:00\",\"2025-07-14T00:00:00\",\"2025-07-15T00:00:00\",\"2025-07-16T00:00:00\",\"2025-07-17T00:00:00\",\"2025-07-18T00:00:00\",\"2025-07-19T00:00:00\",\"2025-07-20T00:00:00\",\"2025-07-21T00:00:00\",\"2025-07-22T00:00:00\",\"2025-07-23T00:00:00\",\"2025-07-24T00:00:00\",\"2025-07-25T00:00:00\",\"2025-07-26T00:00:00\",\"2025-07-27T00:00:00\",\"2025-07-28T00:00:00\",\"2025-07-29T00:00:00\",\"2025-07-30T00:00:00\",\"2025-07-31T00:00:00\",\"2025-08-01T00:00:00\",\"2025-08-02T00:00:00\",\"2025-08-03T00:00:00\",\"2025-08-04T00:00:00\",\"2025-08-05T00:00:00\",\"2025-08-06T00:00:00\",\"2025-08-07T00:00:00\",\"2025-08-08T00:00:00\",\"2025-08-09T00:00:00\",\"2025-08-10T00:00:00\",\"2025-08-11T00:00:00\",\"2025-08-12T00:00:00\",\"2025-08-13T00:00:00\",\"2025-08-14T00:00:00\",\"2025-08-15T00:00:00\",\"2025-08-16T00:00:00\",\"2025-08-17T00:00:00\",\"2025-08-18T00:00:00\",\"2025-08-19T00:00:00\",\"2025-08-20T00:00:00\",\"2025-08-21T00:00:00\",\"2025-08-22T00:00:00\",\"2025-08-23T00:00:00\",\"2025-08-24T00:00:00\",\"2025-08-25T00:00:00\",\"2025-08-26T00:00:00\",\"2025-08-27T00:00:00\",\"2025-08-28T00:00:00\",\"2025-08-29T00:00:00\",\"2025-08-30T00:00:00\",\"2025-08-31T00:00:00\",\"2025-09-01T00:00:00\",\"2025-09-02T00:00:00\",\"2025-09-03T00:00:00\",\"2025-09-04T00:00:00\",\"2025-09-05T00:00:00\",\"2025-09-06T00:00:00\",\"2025-09-07T00:00:00\",\"2025-09-08T00:00:00\",\"2025-09-09T00:00:00\",\"2025-09-10T00:00:00\",\"2025-09-11T00:00:00\",\"2025-09-12T00:00:00\",\"2025-09-13T00:00:00\",\"2025-09-14T00:00:00\",\"2025-09-15T00:00:00\",\"2025-09-16T00:00:00\",\"2025-09-17T00:00:00\",\"2025-09-18T00:00:00\",\"2025-09-19T00:00:00\",\"2025-09-20T00:00:00\",\"2025-09-21T00:00:00\",\"2025-09-22T00:00:00\",\"2025-09-23T00:00:00\",\"2025-09-24T00:00:00\",\"2025-09-25T00:00:00\",\"2025-09-26T00:00:00\",\"2025-09-27T00:00:00\",\"2025-09-28T00:00:00\",\"2025-09-29T00:00:00\",\"2025-09-30T00:00:00\",\"2025-10-01T00:00:00\",\"2025-10-02T00:00:00\",\"2025-10-03T00:00:00\",\"2025-10-04T00:00:00\",\"2025-10-05T00:00:00\",\"2025-10-06T00:00:00\",\"2025-10-07T00:00:00\",\"2025-10-08T00:00:00\",\"2025-10-09T00:00:00\",\"2025-10-10T00:00:00\",\"2025-10-11T00:00:00\",\"2025-10-12T00:00:00\",\"2025-10-13T00:00:00\",\"2025-10-14T00:00:00\",\"2025-10-15T00:00:00\",\"2025-10-16T00:00:00\",\"2025-10-17T00:00:00\",\"2025-10-18T00:00:00\",\"2025-10-19T00:00:00\",\"2025-10-19T22:49:50\"],\"y\":[68388.87128965274,68962.82918045693,67394.85775735618,67351.04793512498,66683.96806542306,68214.05205157402,66585.66535501445,67018.1650170265,67938.55412885673,69845.304531169,72781.11308158132,72342.62171127986,70264.99735573279,69507.92256395647,69299.16036699413,68803.50626277467,67793.29782704762,69335.42553133758,75620.88606963192,75987.24178320667,76550.0213845611,76630.22631415377,80466.71654833542,88637.42000322911,88264.59974582895,90488.10007497849,87407.51273710128,90947.97509443703,90606.45489380708,89841.47194135105,90534.62459650292,92251.65240738312,94217.02229634205,98509.11859102432,98927.49494553401,97679.46381643033,98015.9355289458,93004.70093103287,91931.83077291827,95981.18057210564,95661.59595817851,97453.2473451042,96513.14234698225,97311.70719084324,95833.1362300365,96031.63097759831,98881.4694561823,97201.50036407741,99973.85150659826,99781.82999198174,101235.3717025316,97353.94700820887,96649.71446771531,101123.61811033697,100000.80836535197,101352.22971292294,101367.01064553364,104721.50151808978,106074.10723541168,106034.913402645,100355.5761481501,97851.35377075805,97691.43431692653,97202.82496847633,95094.27394862173,94644.91085464321,98695.71400782601,99344.95417367229,95678.31244565405,94331.94727053077,95184.61945288602,93663.44751964067,92627.28213113277,93507.85874741491,94384.1761153871,96852.14681235075,98084.34279280754,98256.73876849933,98364.58946599838,102229.39453189743,96952.09886774956,95016.71440989176,92376.27578346101,94736.6267420969,94559.55167224213,94454.77089638807,94456.3493746993,96574.07768799194,100313.15239828422,100044.57926776377,104160.69358484233,104334.61575724394,101275.33714814208,101764.90860170545,106182.2368201815,103673.53509537787,104067.60991206947,104835.19253555956,104796.04077738234,102552.24874280207,101958.46953745594,101313.11264498268,103718.97939813645,104781.5135100103,102382.39409722165,100674.78762544956,97568.31653024875,101466.8606657039,98118.43921664466,96582.88682919052,96635.41875332211,96558.4563096667,96558.23762501091,96548.57865379585,97399.98161383197,95739.97737079239,97836.18856127483,96561.6639990985,97488.48148536457,97569.95169430465,96149.3484548204,95776.15723852723,95495.89153299287,96554.87156259285,98384.31738240314,96135.15541305285,96564.15414290235,96327.46309127835,91396.76686930266,88755.7693356979,83900.11496524839,84709.14477847965,84441.9012237131,86005.25629681018,94261.53286538439,86124.71418722175,87310.80531078295,90604.08098523637,90001.40087607042,86773.33597555371,86142.9833586432,80751.13893300897,78783.94057934263,82799.1080292053,83884.24578828987,81098.90052436228,83971.70916064628,84391.69087647168,82610.61750343916,84075.36559694471,82780.03048688271,86815.44109470697,84270.84358966233,84009.532917822,83793.30854192551,85787.70914901773,87327.72969669085,87520.58391530563,86960.8555491039,87227.27158032371,84359.46915506005,82679.17255385047,82356.38111183756,82514.09365397849,85237.5876052852,82526.4221526433,83163.98757387721,83852.00765399594,83595.88550177493,78211.48358199988,79179.29226757778,76329.090356324,82622.17029546302,79596.35732250768,83439.28818043756,85305.09728392666,83600.82010054543,84523.4524914945,83656.49248858042,84105.77942167096,84930.90857600998,84433.75017215389,85126.66244301842,85073.16544858096,87452.04699068287,93576.16588573981,93605.45230873208,93872.81422867288,94773.11200643536,94644.06637120107,93809.33781968223,95030.60645474444,94256.35946318062,94235.75331048167,96426.94522273027,96855.5681343944,95922.86842404422,94326.62048529249,94758.8237105546,96854.53198815876,97026.49376966801,103076.27555512934,102962.54045692299,104630.8792994166,103994.061616746,102876.8304286011,104184.49039270742,103594.42575090709,103708.85136423641,103556.03493982446,103212.36483885496,106030.6376831359,105629.41580436694,106786.71995834043,109665.86371625263,111560.356938144,107216.66856870624,107831.36374380375,108861.81037744327,109377.71513263129,109068.45694901445,107838.18431100152,105745.41660358038,104010.91956242644,104687.50742934884,105710.00593822816,105884.74263221149,105434.47745144971,104812.9182188067,101650.7387545425,104409.74967959142,105681.4546141758,105692.24740699006,110261.57485948496,110212.73252109604,108679.9760916168,105979.22902375912,106045.56440819203,105482.90611628917,105554.49383061715,106951.2720181497,104683.42479835715,104722.695052907,104690.65002458123,103290.105144757,101532.5683847329,100852.58264648831,105511.62437933135,105976.06929808448,107238.53045016268,106984.01253775663,107078.91560644074,107331.58548463577,108396.61631317894,107132.79910701896,105613.39974163055,108824.44423167943,109602.20483914016,108040.8919400104,108217.46849992426,109215.19771840284,108300.71675785031,108953.19187727802,111327.53054245669,115879.65030112496,117571.02510036016,117418.95745007684,119117.55666327637,119833.67446712355,117678.19493404306,118748.1627367753,119445.36520434043,117988.94664455787,117901.62655900871,117256.9208222684,117482.46977767294,119955.79570607653,118629.05588130427,118354.43517438594,117540.80837085741,117959.54234360624,119418.91405141471,118003.30201607826,117853.30892863822,117833.24087995925,115700.00243915782,113234.6051343189,112554.90232221723,114199.10966460757,115138.68613070177,114128.35408881678,115022.09576830892,117463.47451085235,116688.36663186055,116510.08393213755,119266.92516880555,118773.79960860992,120202.53485503166,123560.99363577305,118405.59579823953,117339.79190213277,117501.21653394958,117542.83687778088,116256.41276740946,112778.34483555844,114252.39755195397,112414.39987336512,116834.24948202295,115359.98346714744,113399.54847314971,110185.35443900425,111842.70999260596,111216.08479629169,112525.59740669793,108480.30666639366,108781.95727925687,108253.36092385623,109162.68557992298,111190.18209845416,111711.51977725117,110724.736377486,110662.18112628513,110209.1888247784,111131.9923868407,112025.12878118771,111547.43956434788,113975.32489468766,115503.16663193036,116160.14344594491,115970.58488443034,115373.55555886829,115397.25272727509,116762.8496864193,116455.94648225319,117145.49508952006,115655.81046441344,115715.51536781774,115304.47999407038,112696.74101711863,112022.16587861195,113320.56908541008,108963.53013595635,109710.20874667744,109654.81021075726,112142.57362752674,114309.15041119447,114024.22783550054,118503.24451752483,120611.71911591051,122250.15186842803,122380.93708463266,123506.18520027678,124773.50823074432,121518.75593575071,123352.50487523204,121698.03066778315,113201.74064138904,110853.11663883903,115189.5714637257,115222.28302116522,113156.56943826913,110708.66960879423,108076.72862033188,106443.61194984635,107156.00337647724,109329.91148381626],\"type\":\"scatter\",\"xaxis\":\"x\",\"yaxis\":\"y\"},{\"name\":\"Volume\",\"x\":[\"2024-10-20T00:00:00\",\"2024-10-21T00:00:00\",\"2024-10-22T00:00:00\",\"2024-10-23T00:00:00\",\"2024-10-24T00:00:00\",\"2024-10-25T00:00:00\",\"2024-10-26T00:00:00\",\"2024-10-27T00:00:00\",\"2024-10-28T00:00:00\",\"2024-10-29T00:00:00\",\"2024-10-30T00:00:00\",\"2024-10-31T00:00:00\",\"2024-11-01T00:00:00\",\"2024-11-02T00:00:00\",\"2024-11-03T00:00:00\",\"2024-11-04T00:00:00\",\"2024-11-05T00:00:00\",\"2024-11-06T00:00:00\",\"2024-11-07T00:00:00\",\"2024-11-08T00:00:00\",\"2024-11-09T00:00:00\",\"2024-11-10T00:00:00\",\"2024-11-11T00:00:00\",\"2024-11-12T00:00:00\",\"2024-11-13T00:00:00\",\"2024-11-14T00:00:00\",\"2024-11-15T00:00:00\",\"2024-11-16T00:00:00\",\"2024-11-17T00:00:00\",\"2024-11-18T00:00:00\",\"2024-11-19T00:00:00\",\"2024-11-20T00:00:00\",\"2024-11-21T00:00:00\",\"2024-11-22T00:00:00\",\"2024-11-23T00:00:00\",\"2024-11-24T00:00:00\",\"2024-11-25T00:00:00\",\"2024-11-26T00:00:00\",\"2024-11-27T00:00:00\",\"2024-11-28T00:00:00\",\"2024-11-29T00:00:00\",\"2024-11-30T00:00:00\",\"2024-12-01T00:00:00\",\"2024-12-02T00:00:00\",\"2024-12-03T00:00:00\",\"2024-12-04T00:00:00\",\"2024-12-05T00:00:00\",\"2024-12-06T00:00:00\",\"2024-12-07T00:00:00\",\"2024-12-08T00:00:00\",\"2024-12-09T00:00:00\",\"2024-12-10T00:00:00\",\"2024-12-11T00:00:00\",\"2024-12-12T00:00:00\",\"2024-12-13T00:00:00\",\"2024-12-14T00:00:00\",\"2024-12-15T00:00:00\",\"2024-12-16T00:00:00\",\"2024-12-17T00:00:00\",\"2024-12-18T00:00:00\",\"2024-12-19T00:00:00\",\"2024-12-20T00:00:00\",\"2024-12-21T00:00:00\",\"2024-12-22T00:00:00\",\"2024-12-23T00:00:00\",\"2024-12-24T00:00:00\",\"2024-12-25T00:00:00\",\"2024-12-26T00:00:00\",\"2024-12-27T00:00:00\",\"2024-12-28T00:00:00\",\"2024-12-29T00:00:00\",\"2024-12-30T00:00:00\",\"2024-12-31T00:00:00\",\"2025-01-01T00:00:00\",\"2025-01-02T00:00:00\",\"2025-01-03T00:00:00\",\"2025-01-04T00:00:00\",\"2025-01-05T00:00:00\",\"2025-01-06T00:00:00\",\"2025-01-07T00:00:00\",\"2025-01-08T00:00:00\",\"2025-01-09T00:00:00\",\"2025-01-10T00:00:00\",\"2025-01-11T00:00:00\",\"2025-01-12T00:00:00\",\"2025-01-13T00:00:00\",\"2025-01-14T00:00:00\",\"2025-01-15T00:00:00\",\"2025-01-16T00:00:00\",\"2025-01-17T00:00:00\",\"2025-01-18T00:00:00\",\"2025-01-19T00:00:00\",\"2025-01-20T00:00:00\",\"2025-01-21T00:00:00\",\"2025-01-22T00:00:00\",\"2025-01-23T00:00:00\",\"2025-01-24T00:00:00\",\"2025-01-25T00:00:00\",\"2025-01-26T00:00:00\",\"2025-01-27T00:00:00\",\"2025-01-28T00:00:00\",\"2025-01-29T00:00:00\",\"2025-01-30T00:00:00\",\"2025-01-31T00:00:00\",\"2025-02-01T00:00:00\",\"2025-02-02T00:00:00\",\"2025-02-03T00:00:00\",\"2025-02-04T00:00:00\",\"2025-02-05T00:00:00\",\"2025-02-06T00:00:00\",\"2025-02-07T00:00:00\",\"2025-02-08T00:00:00\",\"2025-02-09T00:00:00\",\"2025-02-10T00:00:00\",\"2025-02-11T00:00:00\",\"2025-02-12T00:00:00\",\"2025-02-13T00:00:00\",\"2025-02-14T00:00:00\",\"2025-02-15T00:00:00\",\"2025-02-16T00:00:00\",\"2025-02-17T00:00:00\",\"2025-02-18T00:00:00\",\"2025-02-19T00:00:00\",\"2025-02-20T00:00:00\",\"2025-02-21T00:00:00\",\"2025-02-22T00:00:00\",\"2025-02-23T00:00:00\",\"2025-02-24T00:00:00\",\"2025-02-25T00:00:00\",\"2025-02-26T00:00:00\",\"2025-02-27T00:00:00\",\"2025-02-28T00:00:00\",\"2025-03-01T00:00:00\",\"2025-03-02T00:00:00\",\"2025-03-03T00:00:00\",\"2025-03-04T00:00:00\",\"2025-03-05T00:00:00\",\"2025-03-06T00:00:00\",\"2025-03-07T00:00:00\",\"2025-03-08T00:00:00\",\"2025-03-09T00:00:00\",\"2025-03-10T00:00:00\",\"2025-03-11T00:00:00\",\"2025-03-12T00:00:00\",\"2025-03-13T00:00:00\",\"2025-03-14T00:00:00\",\"2025-03-15T00:00:00\",\"2025-03-16T00:00:00\",\"2025-03-17T00:00:00\",\"2025-03-18T00:00:00\",\"2025-03-19T00:00:00\",\"2025-03-20T00:00:00\",\"2025-03-21T00:00:00\",\"2025-03-22T00:00:00\",\"2025-03-23T00:00:00\",\"2025-03-24T00:00:00\",\"2025-03-25T00:00:00\",\"2025-03-26T00:00:00\",\"2025-03-27T00:00:00\",\"2025-03-28T00:00:00\",\"2025-03-29T00:00:00\",\"2025-03-30T00:00:00\",\"2025-03-31T00:00:00\",\"2025-04-01T00:00:00\",\"2025-04-02T00:00:00\",\"2025-04-03T00:00:00\",\"2025-04-04T00:00:00\",\"2025-04-05T00:00:00\",\"2025-04-06T00:00:00\",\"2025-04-07T00:00:00\",\"2025-04-08T00:00:00\",\"2025-04-09T00:00:00\",\"2025-04-10T00:00:00\",\"2025-04-11T00:00:00\",\"2025-04-12T00:00:00\",\"2025-04-13T00:00:00\",\"2025-04-14T00:00:00\",\"2025-04-15T00:00:00\",\"2025-04-16T00:00:00\",\"2025-04-17T00:00:00\",\"2025-04-18T00:00:00\",\"2025-04-19T00:00:00\",\"2025-04-20T00:00:00\",\"2025-04-21T00:00:00\",\"2025-04-22T00:00:00\",\"2025-04-23T00:00:00\",\"2025-04-24T00:00:00\",\"2025-04-25T00:00:00\",\"2025-04-26T00:00:00\",\"2025-04-27T00:00:00\",\"2025-04-28T00:00:00\",\"2025-04-29T00:00:00\",\"2025-04-30T00:00:00\",\"2025-05-01T00:00:00\",\"2025-05-02T00:00:00\",\"2025-05-03T00:00:00\",\"2025-05-04T00:00:00\",\"2025-05-05T00:00:00\",\"2025-05-06T00:00:00\",\"2025-05-07T00:00:00\",\"2025-05-08T00:00:00\",\"2025-05-09T00:00:00\",\"2025-05-10T00:00:00\",\"2025-05-11T00:00:00\",\"2025-05-12T00:00:00\",\"2025-05-13T00:00:00\",\"2025-05-14T00:00:00\",\"2025-05-15T00:00:00\",\"2025-05-16T00:00:00\",\"2025-05-17T00:00:00\",\"2025-05-18T00:00:00\",\"2025-05-19T00:00:00\",\"2025-05-20T00:00:00\",\"2025-05-21T00:00:00\",\"2025-05-22T00:00:00\",\"2025-05-23T00:00:00\",\"2025-05-24T00:00:00\",\"2025-05-25T00:00:00\",\"2025-05-26T00:00:00\",\"2025-05-27T00:00:00\",\"2025-05-28T00:00:00\",\"2025-05-29T00:00:00\",\"2025-05-30T00:00:00\",\"2025-05-31T00:00:00\",\"2025-06-01T00:00:00\",\"2025-06-02T00:00:00\",\"2025-06-03T00:00:00\",\"2025-06-04T00:00:00\",\"2025-06-05T00:00:00\",\"2025-06-06T00:00:00\",\"2025-06-07T00:00:00\",\"2025-06-08T00:00:00\",\"2025-06-09T00:00:00\",\"2025-06-10T00:00:00\",\"2025-06-11T00:00:00\",\"2025-06-12T00:00:00\",\"2025-06-13T00:00:00\",\"2025-06-14T00:00:00\",\"2025-06-15T00:00:00\",\"2025-06-16T00:00:00\",\"2025-06-17T00:00:00\",\"2025-06-18T00:00:00\",\"2025-06-19T00:00:00\",\"2025-06-20T00:00:00\",\"2025-06-21T00:00:00\",\"2025-06-22T00:00:00\",\"2025-06-23T00:00:00\",\"2025-06-24T00:00:00\",\"2025-06-25T00:00:00\",\"2025-06-26T00:00:00\",\"2025-06-27T00:00:00\",\"2025-06-28T00:00:00\",\"2025-06-29T00:00:00\",\"2025-06-30T00:00:00\",\"2025-07-01T00:00:00\",\"2025-07-02T00:00:00\",\"2025-07-03T00:00:00\",\"2025-07-04T00:00:00\",\"2025-07-05T00:00:00\",\"2025-07-06T00:00:00\",\"2025-07-07T00:00:00\",\"2025-07-08T00:00:00\",\"2025-07-09T00:00:00\",\"2025-07-10T00:00:00\",\"2025-07-11T00:00:00\",\"2025-07-12T00:00:00\",\"2025-07-13T00:00:00\",\"2025-07-14T00:00:00\",\"2025-07-15T00:00:00\",\"2025-07-16T00:00:00\",\"2025-07-17T00:00:00\",\"2025-07-18T00:00:00\",\"2025-07-19T00:00:00\",\"2025-07-20T00:00:00\",\"2025-07-21T00:00:00\",\"2025-07-22T00:00:00\",\"2025-07-23T00:00:00\",\"2025-07-24T00:00:00\",\"2025-07-25T00:00:00\",\"2025-07-26T00:00:00\",\"2025-07-27T00:00:00\",\"2025-07-28T00:00:00\",\"2025-07-29T00:00:00\",\"2025-07-30T00:00:00\",\"2025-07-31T00:00:00\",\"2025-08-01T00:00:00\",\"2025-08-02T00:00:00\",\"2025-08-03T00:00:00\",\"2025-08-04T00:00:00\",\"2025-08-05T00:00:00\",\"2025-08-06T00:00:00\",\"2025-08-07T00:00:00\",\"2025-08-08T00:00:00\",\"2025-08-09T00:00:00\",\"2025-08-10T00:00:00\",\"2025-08-11T00:00:00\",\"2025-08-12T00:00:00\",\"2025-08-13T00:00:00\",\"2025-08-14T00:00:00\",\"2025-08-15T00:00:00\",\"2025-08-16T00:00:00\",\"2025-08-17T00:00:00\",\"2025-08-18T00:00:00\",\"2025-08-19T00:00:00\",\"2025-08-20T00:00:00\",\"2025-08-21T00:00:00\",\"2025-08-22T00:00:00\",\"2025-08-23T00:00:00\",\"2025-08-24T00:00:00\",\"2025-08-25T00:00:00\",\"2025-08-26T00:00:00\",\"2025-08-27T00:00:00\",\"2025-08-28T00:00:00\",\"2025-08-29T00:00:00\",\"2025-08-30T00:00:00\",\"2025-08-31T00:00:00\",\"2025-09-01T00:00:00\",\"2025-09-02T00:00:00\",\"2025-09-03T00:00:00\",\"2025-09-04T00:00:00\",\"2025-09-05T00:00:00\",\"2025-09-06T00:00:00\",\"2025-09-07T00:00:00\",\"2025-09-08T00:00:00\",\"2025-09-09T00:00:00\",\"2025-09-10T00:00:00\",\"2025-09-11T00:00:00\",\"2025-09-12T00:00:00\",\"2025-09-13T00:00:00\",\"2025-09-14T00:00:00\",\"2025-09-15T00:00:00\",\"2025-09-16T00:00:00\",\"2025-09-17T00:00:00\",\"2025-09-18T00:00:00\",\"2025-09-19T00:00:00\",\"2025-09-20T00:00:00\",\"2025-09-21T00:00:00\",\"2025-09-22T00:00:00\",\"2025-09-23T00:00:00\",\"2025-09-24T00:00:00\",\"2025-09-25T00:00:00\",\"2025-09-26T00:00:00\",\"2025-09-27T00:00:00\",\"2025-09-28T00:00:00\",\"2025-09-29T00:00:00\",\"2025-09-30T00:00:00\",\"2025-10-01T00:00:00\",\"2025-10-02T00:00:00\",\"2025-10-03T00:00:00\",\"2025-10-04T00:00:00\",\"2025-10-05T00:00:00\",\"2025-10-06T00:00:00\",\"2025-10-07T00:00:00\",\"2025-10-08T00:00:00\",\"2025-10-09T00:00:00\",\"2025-10-10T00:00:00\",\"2025-10-11T00:00:00\",\"2025-10-12T00:00:00\",\"2025-10-13T00:00:00\",\"2025-10-14T00:00:00\",\"2025-10-15T00:00:00\",\"2025-10-16T00:00:00\",\"2025-10-17T00:00:00\",\"2025-10-18T00:00:00\",\"2025-10-19T00:00:00\",\"2025-10-19T22:49:50\"],\"y\":[14110889435.452631,17253863432.786995,40485496091.95008,31398389967.38113,32676918488.059,35892606570.03549,48426924850.053406,21169467789.89267,16533385730.434193,41990540384.96554,65487782004.97014,43498144313.67304,45907074188.570145,54863092261.31101,14709379754.965973,37659435506.757034,46183110993.79166,40025021601.49395,128492534668.23851,66590396087.4524,50687468387.720375,31430906055.796104,93473126207.67865,133959805308.72511,152356811694.44943,136046309843.60645,99649391847.08359,84382485697.84985,49255174407.368774,48556083101.64749,77391724184.19348,80493234958.49161,80747272080.24826,118163852022.3175,85746174563.98602,47414200206.70341,50665680246.86775,89476321216.0935,97389239315.52954,81469353259.75,49067932024.40325,74670031635.5065,43580019720.720634,49147687432.565895,101019861361.49252,87935752287.975,98230784298.0459,190460293531.53802,115812632020.44765,61061136199.7846,62677764785.05408,146846843211.51685,125835977742.51114,118484957960.76833,100092043319.81221,78802903278.85962,57321924844.41535,70645074624.52869,115184737759.33566,93417826250.1972,113692025885.44745,100611554887.24123,112340864006.62827,53058382639.48845,44619017105.36954,64937790292.61125,49169088282.15742,33963749856.44743,45049342388.18843,41498540807.666954,22429850903.940086,24065314499.502274,57595164139.4709,45327464907.74362,23275007789.496334,45157338602.617516,35721645948.10051,20979035420.980793,20060293834.7155,46111387334.46171,60610257147.15405,65790469838.34392,65850881574.76184,63433655716.757095,17836423168.41627,19608932595.53299,76328330233.31137,51241728228.81719,57637319739.543396,50150102497.2729,69135117732.00064,49416447749.13053,72970313683.92325,120158523166.88387,95344290057.8965,55030669602.56557,102455227371.20761,51418786362.7815,22740744964.719296,20639818380.26942,93191643783.24739,45780526813.56264,47425401641.53094,42122570869.034325,37187819228.35328,22827776122.48367,59784234332.21204,122163969235.23686,73196693057.98114,48848958931.79228,44462180396.172516,57077722340.22422,20760850644.84597,25457107581.051964,37054987393.57789,36454577154.5622,47115618235.19051,29084371910.690556,32289906944.92862,14215311318.346336,13634794998.739267,25324374113.08163,38311133144.729355,27703222487.389572,24175261969.81266,42477472950.92155,18464415570.762142,16643044374.983364,45539703844.38777,96742453402.56294,69277430795.68657,81960688217.70384,80695237175.07367,30634474722.6359,61859112550.80991,68715362745.4567,65863356680.42408,51606642859.81411,47555759124.64708,63216440874.73251,18809360803.37126,32013406240.51754,49983692766.22745,56404462275.083046,41782186208.59073,32583592654.882656,28571483950.074646,10761796127.312485,21638031633.118767,19659366246.596867,24557570268.85276,33871216993.304657,27579127651.06656,18091004975.919056,7771134681.982918,12617587530.619724,27270889835.1835,30351832942.705593,25522877558.700558,24620445368.489468,31674486232.097313,16837439419.924389,13428975108.070734,30326148749.91535,29172899851.734768,46332905657.77597,36594464539.14662,35647289400.47406,14910400035.531416,36140377231.68329,82909748172.59216,47812787635.22632,87408220482.11568,41213520154.25157,39813566443.76779,22428929482.069122,28731125717.934357,33155578229.343513,25084671427.622566,26948109141.803364,19323821375.14309,9550691272.782005,12635983530.804455,12625843856.313684,40070025414.28289,53841992235.36636,39901515879.65954,30031246761.093452,39336184715.04292,15445392739.787264,15926259371.057959,31913814736.53902,25882629766.278946,26541700309.366146,30207566405.468834,23276376191.483967,13797554863.642815,14903122945.616686,24086456278.203846,23348052607.071873,64376174032.08048,50020047720.65604,40800894903.23446,21558992540.042442,27389436049.454792,43090605819.36596,33861432519.50822,28398245846.798244,31823340473.339912,25887953182.14765,18950056010.479057,30744060179.802963,43339734153.75087,36393687094.25122,60722883113.84,52218408239.45193,49251745837.96465,27128230116.517162,29652659665.048733,27950577137.918888,38978783508.88622,29794278037.284946,38279231892.56757,39680060337.610214,20432694555.09522,17721500507.53389,26313843058.73954,25925661121.080395,25812143562.797962,39711941132.0234,29897390978.090103,17749731308.73042,16044679696.270103,38222993297.50514,36303839182.734825,30338936631.626648,35865159511.38857,49471015505.74361,17916412455.866283,16568441852.649668,32095957011.724205,38603212010.889435,30339326410.154945,18063282658.152298,30632751225.407444,21644463198.719532,51287142390.02526,50011797128.6837,31704641076.941063,30468274982.034847,24320699663.15122,25194306261.888832,8960877693.57604,14881078675.366829,22489515582.41552,25033160828.30909,36395184773.06136,29892049537.628605,24248906784.57383,10042942280.966904,14638669497.351297,25493246475.80407,20488865138.27645,37078460440.66385,56204086624.04028,64185145923.88688,24351256098.393543,27310851454.97692,68915956378.80447,80299520980.2335,50374263848.76278,49282617205.72662,58896449260.69391,23934511126.349533,36702153882.06748,46344384345.39471,58939000420.94166,45225685167.61703,51940414419.3327,91617702596.10347,25145925063.881348,30220402191.467663,43433742203.62158,42860287143.68828,43054424656.58649,45238249453.35885,65794680822.25255,33543439044.09785,24689273719.085533,32488023582.82734,37316213251.97167,32052509631.058872,38289687095.00489,33017415812.97353,27638785406.21056,37157754754.85189,61739781527.95854,46941089789.57991,61818118105.53991,73822008367.99681,44268714220.021,23202714236.542347,20906566026.645443,47337926940.98573,46156885037.403885,42166369117.006935,32048202090.65466,50878158870.82928,27306719885.257973,40682656776.69001,52854872363.936554,43023800053.0546,36957904262.995804,34222495087.206894,51702115726.38959,27799981330.792213,26140904019.246822,42999610648.39302,50235464642.845955,36406080683.42747,38708366685.43147,56020470627.40665,19340758702.076332,22147049159.335133,37159847899.8603,45338021458.38368,52205187155.05567,43752917632.95067,51192951485.864395,30063858747.76022,26889399414.610912,46947581231.08198,39964451595.099724,54740952295.37868,43642467075.25838,34296721252.33001,18774953731.290394,18659113982.495464,69152342029.46799,46154878824.043465,46677543220.334526,74481796351.47305,55257214020.568245,23294896964.31016,31274654338.51212,57833295882.65785,57718901820.70616,69920179085.4708,71252850672.75252,83155430408.51796,35161626561.80918,72011486031.26575,69605991064.72382,76087884719.80028,62576032795.36722,72097306668.91356,151002213089.8765,108643865752.17674,93857100744.12454,68935270367.04033,91211854988.91518,68877328886.40259,84773160808.27399,94325236794.78163,34412835719.61292,44721039056.98355],\"type\":\"scatter\",\"xaxis\":\"x\",\"yaxis\":\"y2\"},{\"name\":\"Market Cap\",\"x\":[\"2024-10-20T00:00:00\",\"2024-10-21T00:00:00\",\"2024-10-22T00:00:00\",\"2024-10-23T00:00:00\",\"2024-10-24T00:00:00\",\"2024-10-25T00:00:00\",\"2024-10-26T00:00:00\",\"2024-10-27T00:00:00\",\"2024-10-28T00:00:00\",\"2024-10-29T00:00:00\",\"2024-10-30T00:00:00\",\"2024-10-31T00:00:00\",\"2024-11-01T00:00:00\",\"2024-11-02T00:00:00\",\"2024-11-03T00:00:00\",\"2024-11-04T00:00:00\",\"2024-11-05T00:00:00\",\"2024-11-06T00:00:00\",\"2024-11-07T00:00:00\",\"2024-11-08T00:00:00\",\"2024-11-09T00:00:00\",\"2024-11-10T00:00:00\",\"2024-11-11T00:00:00\",\"2024-11-12T00:00:00\",\"2024-11-13T00:00:00\",\"2024-11-14T00:00:00\",\"2024-11-15T00:00:00\",\"2024-11-16T00:00:00\",\"2024-11-17T00:00:00\",\"2024-11-18T00:00:00\",\"2024-11-19T00:00:00\",\"2024-11-20T00:00:00\",\"2024-11-21T00:00:00\",\"2024-11-22T00:00:00\",\"2024-11-23T00:00:00\",\"2024-11-24T00:00:00\",\"2024-11-25T00:00:00\",\"2024-11-26T00:00:00\",\"2024-11-27T00:00:00\",\"2024-11-28T00:00:00\",\"2024-11-29T00:00:00\",\"2024-11-30T00:00:00\",\"2024-12-01T00:00:00\",\"2024-12-02T00:00:00\",\"2024-12-03T00:00:00\",\"2024-12-04T00:00:00\",\"2024-12-05T00:00:00\",\"2024-12-06T00:00:00\",\"2024-12-07T00:00:00\",\"2024-12-08T00:00:00\",\"2024-12-09T00:00:00\",\"2024-12-10T00:00:00\",\"2024-12-11T00:00:00\",\"2024-12-12T00:00:00\",\"2024-12-13T00:00:00\",\"2024-12-14T00:00:00\",\"2024-12-15T00:00:00\",\"2024-12-16T00:00:00\",\"2024-12-17T00:00:00\",\"2024-12-18T00:00:00\",\"2024-12-19T00:00:00\",\"2024-12-20T00:00:00\",\"2024-12-21T00:00:00\",\"2024-12-22T00:00:00\",\"2024-12-23T00:00:00\",\"2024-12-24T00:00:00\",\"2024-12-25T00:00:00\",\"2024-12-26T00:00:00\",\"2024-12-27T00:00:00\",\"2024-12-28T00:00:00\",\"2024-12-29T00:00:00\",\"2024-12-30T00:00:00\",\"2024-12-31T00:00:00\",\"2025-01-01T00:00:00\",\"2025-01-02T00:00:00\",\"2025-01-03T00:00:00\",\"2025-01-04T00:00:00\",\"2025-01-05T00:00:00\",\"2025-01-06T00:00:00\",\"2025-01-07T00:00:00\",\"2025-01-08T00:00:00\",\"2025-01-09T00:00:00\",\"2025-01-10T00:00:00\",\"2025-01-11T00:00:00\",\"2025-01-12T00:00:00\",\"2025-01-13T00:00:00\",\"2025-01-14T00:00:00\",\"2025-01-15T00:00:00\",\"2025-01-16T00:00:00\",\"2025-01-17T00:00:00\",\"2025-01-18T00:00:00\",\"2025-01-19T00:00:00\",\"2025-01-20T00:00:00\",\"2025-01-21T00:00:00\",\"2025-01-22T00:00:00\",\"2025-01-23T00:00:00\",\"2025-01-24T00:00:00\",\"2025-01-25T00:00:00\",\"2025-01-26T00:00:00\",\"2025-01-27T00:00:00\",\"2025-01-28T00:00:00\",\"2025-01-29T00:00:00\",\"2025-01-30T00:00:00\",\"2025-01-31T00:00:00\",\"2025-02-01T00:00:00\",\"2025-02-02T00:00:00\",\"2025-02-03T00:00:00\",\"2025-02-04T00:00:00\",\"2025-02-05T00:00:00\",\"2025-02-06T00:00:00\",\"2025-02-07T00:00:00\",\"2025-02-08T00:00:00\",\"2025-02-09T00:00:00\",\"2025-02-10T00:00:00\",\"2025-02-11T00:00:00\",\"2025-02-12T00:00:00\",\"2025-02-13T00:00:00\",\"2025-02-14T00:00:00\",\"2025-02-15T00:00:00\",\"2025-02-16T00:00:00\",\"2025-02-17T00:00:00\",\"2025-02-18T00:00:00\",\"2025-02-19T00:00:00\",\"2025-02-20T00:00:00\",\"2025-02-21T00:00:00\",\"2025-02-22T00:00:00\",\"2025-02-23T00:00:00\",\"2025-02-24T00:00:00\",\"2025-02-25T00:00:00\",\"2025-02-26T00:00:00\",\"2025-02-27T00:00:00\",\"2025-02-28T00:00:00\",\"2025-03-01T00:00:00\",\"2025-03-02T00:00:00\",\"2025-03-03T00:00:00\",\"2025-03-04T00:00:00\",\"2025-03-05T00:00:00\",\"2025-03-06T00:00:00\",\"2025-03-07T00:00:00\",\"2025-03-08T00:00:00\",\"2025-03-09T00:00:00\",\"2025-03-10T00:00:00\",\"2025-03-11T00:00:00\",\"2025-03-12T00:00:00\",\"2025-03-13T00:00:00\",\"2025-03-14T00:00:00\",\"2025-03-15T00:00:00\",\"2025-03-16T00:00:00\",\"2025-03-17T00:00:00\",\"2025-03-18T00:00:00\",\"2025-03-19T00:00:00\",\"2025-03-20T00:00:00\",\"2025-03-21T00:00:00\",\"2025-03-22T00:00:00\",\"2025-03-23T00:00:00\",\"2025-03-24T00:00:00\",\"2025-03-25T00:00:00\",\"2025-03-26T00:00:00\",\"2025-03-27T00:00:00\",\"2025-03-28T00:00:00\",\"2025-03-29T00:00:00\",\"2025-03-30T00:00:00\",\"2025-03-31T00:00:00\",\"2025-04-01T00:00:00\",\"2025-04-02T00:00:00\",\"2025-04-03T00:00:00\",\"2025-04-04T00:00:00\",\"2025-04-05T00:00:00\",\"2025-04-06T00:00:00\",\"2025-04-07T00:00:00\",\"2025-04-08T00:00:00\",\"2025-04-09T00:00:00\",\"2025-04-10T00:00:00\",\"2025-04-11T00:00:00\",\"2025-04-12T00:00:00\",\"2025-04-13T00:00:00\",\"2025-04-14T00:00:00\",\"2025-04-15T00:00:00\",\"2025-04-16T00:00:00\",\"2025-04-17T00:00:00\",\"2025-04-18T00:00:00\",\"2025-04-19T00:00:00\",\"2025-04-20T00:00:00\",\"2025-04-21T00:00:00\",\"2025-04-22T00:00:00\",\"2025-04-23T00:00:00\",\"2025-04-24T00:00:00\",\"2025-04-25T00:00:00\",\"2025-04-26T00:00:00\",\"2025-04-27T00:00:00\",\"2025-04-28T00:00:00\",\"2025-04-29T00:00:00\",\"2025-04-30T00:00:00\",\"2025-05-01T00:00:00\",\"2025-05-02T00:00:00\",\"2025-05-03T00:00:00\",\"2025-05-04T00:00:00\",\"2025-05-05T00:00:00\",\"2025-05-06T00:00:00\",\"2025-05-07T00:00:00\",\"2025-05-08T00:00:00\",\"2025-05-09T00:00:00\",\"2025-05-10T00:00:00\",\"2025-05-11T00:00:00\",\"2025-05-12T00:00:00\",\"2025-05-13T00:00:00\",\"2025-05-14T00:00:00\",\"2025-05-15T00:00:00\",\"2025-05-16T00:00:00\",\"2025-05-17T00:00:00\",\"2025-05-18T00:00:00\",\"2025-05-19T00:00:00\",\"2025-05-20T00:00:00\",\"2025-05-21T00:00:00\",\"2025-05-22T00:00:00\",\"2025-05-23T00:00:00\",\"2025-05-24T00:00:00\",\"2025-05-25T00:00:00\",\"2025-05-26T00:00:00\",\"2025-05-27T00:00:00\",\"2025-05-28T00:00:00\",\"2025-05-29T00:00:00\",\"2025-05-30T00:00:00\",\"2025-05-31T00:00:00\",\"2025-06-01T00:00:00\",\"2025-06-02T00:00:00\",\"2025-06-03T00:00:00\",\"2025-06-04T00:00:00\",\"2025-06-05T00:00:00\",\"2025-06-06T00:00:00\",\"2025-06-07T00:00:00\",\"2025-06-08T00:00:00\",\"2025-06-09T00:00:00\",\"2025-06-10T00:00:00\",\"2025-06-11T00:00:00\",\"2025-06-12T00:00:00\",\"2025-06-13T00:00:00\",\"2025-06-14T00:00:00\",\"2025-06-15T00:00:00\",\"2025-06-16T00:00:00\",\"2025-06-17T00:00:00\",\"2025-06-18T00:00:00\",\"2025-06-19T00:00:00\",\"2025-06-20T00:00:00\",\"2025-06-21T00:00:00\",\"2025-06-22T00:00:00\",\"2025-06-23T00:00:00\",\"2025-06-24T00:00:00\",\"2025-06-25T00:00:00\",\"2025-06-26T00:00:00\",\"2025-06-27T00:00:00\",\"2025-06-28T00:00:00\",\"2025-06-29T00:00:00\",\"2025-06-30T00:00:00\",\"2025-07-01T00:00:00\",\"2025-07-02T00:00:00\",\"2025-07-03T00:00:00\",\"2025-07-04T00:00:00\",\"2025-07-05T00:00:00\",\"2025-07-06T00:00:00\",\"2025-07-07T00:00:00\",\"2025-07-08T00:00:00\",\"2025-07-09T00:00:00\",\"2025-07-10T00:00:00\",\"2025-07-11T00:00:00\",\"2025-07-12T00:00:00\",\"2025-07-13T00:00:00\",\"2025-07-14T00:00:00\",\"2025-07-15T00:00:00\",\"2025-07-16T00:00:00\",\"2025-07-17T00:00:00\",\"2025-07-18T00:00:00\",\"2025-07-19T00:00:00\",\"2025-07-20T00:00:00\",\"2025-07-21T00:00:00\",\"2025-07-22T00:00:00\",\"2025-07-23T00:00:00\",\"2025-07-24T00:00:00\",\"2025-07-25T00:00:00\",\"2025-07-26T00:00:00\",\"2025-07-27T00:00:00\",\"2025-07-28T00:00:00\",\"2025-07-29T00:00:00\",\"2025-07-30T00:00:00\",\"2025-07-31T00:00:00\",\"2025-08-01T00:00:00\",\"2025-08-02T00:00:00\",\"2025-08-03T00:00:00\",\"2025-08-04T00:00:00\",\"2025-08-05T00:00:00\",\"2025-08-06T00:00:00\",\"2025-08-07T00:00:00\",\"2025-08-08T00:00:00\",\"2025-08-09T00:00:00\",\"2025-08-10T00:00:00\",\"2025-08-11T00:00:00\",\"2025-08-12T00:00:00\",\"2025-08-13T00:00:00\",\"2025-08-14T00:00:00\",\"2025-08-15T00:00:00\",\"2025-08-16T00:00:00\",\"2025-08-17T00:00:00\",\"2025-08-18T00:00:00\",\"2025-08-19T00:00:00\",\"2025-08-20T00:00:00\",\"2025-08-21T00:00:00\",\"2025-08-22T00:00:00\",\"2025-08-23T00:00:00\",\"2025-08-24T00:00:00\",\"2025-08-25T00:00:00\",\"2025-08-26T00:00:00\",\"2025-08-27T00:00:00\",\"2025-08-28T00:00:00\",\"2025-08-29T00:00:00\",\"2025-08-30T00:00:00\",\"2025-08-31T00:00:00\",\"2025-09-01T00:00:00\",\"2025-09-02T00:00:00\",\"2025-09-03T00:00:00\",\"2025-09-04T00:00:00\",\"2025-09-05T00:00:00\",\"2025-09-06T00:00:00\",\"2025-09-07T00:00:00\",\"2025-09-08T00:00:00\",\"2025-09-09T00:00:00\",\"2025-09-10T00:00:00\",\"2025-09-11T00:00:00\",\"2025-09-12T00:00:00\",\"2025-09-13T00:00:00\",\"2025-09-14T00:00:00\",\"2025-09-15T00:00:00\",\"2025-09-16T00:00:00\",\"2025-09-17T00:00:00\",\"2025-09-18T00:00:00\",\"2025-09-19T00:00:00\",\"2025-09-20T00:00:00\",\"2025-09-21T00:00:00\",\"2025-09-22T00:00:00\",\"2025-09-23T00:00:00\",\"2025-09-24T00:00:00\",\"2025-09-25T00:00:00\",\"2025-09-26T00:00:00\",\"2025-09-27T00:00:00\",\"2025-09-28T00:00:00\",\"2025-09-29T00:00:00\",\"2025-09-30T00:00:00\",\"2025-10-01T00:00:00\",\"2025-10-02T00:00:00\",\"2025-10-03T00:00:00\",\"2025-10-04T00:00:00\",\"2025-10-05T00:00:00\",\"2025-10-06T00:00:00\",\"2025-10-07T00:00:00\",\"2025-10-08T00:00:00\",\"2025-10-09T00:00:00\",\"2025-10-10T00:00:00\",\"2025-10-11T00:00:00\",\"2025-10-12T00:00:00\",\"2025-10-13T00:00:00\",\"2025-10-14T00:00:00\",\"2025-10-15T00:00:00\",\"2025-10-16T00:00:00\",\"2025-10-17T00:00:00\",\"2025-10-18T00:00:00\",\"2025-10-19T00:00:00\",\"2025-10-19T22:49:50\"],\"y\":[1351942347611.1997,1362381684459.9053,1332326858574.4448,1331426858508.4004,1318285437546.2786,1347888109010.5889,1313975091942.221,1325192118637.2595,1343350549900.1233,1380874923096.4146,1439310420089.3665,1431085552900.1965,1390195908292.9321,1374687306836.925,1370516856365.7996,1362302032218.0198,1340192510479.9568,1370963795352.6948,1496392703840.9058,1502620808927.6982,1514048743889.1255,1519470275068.1016,1590846468754.067,1756619702929.0437,1741113172482.1243,1790737763695.3328,1726797438787.217,1799276211921.9302,1790415769635.4927,1776887033229.9082,1790917617392.4407,1825195454018.501,1862618759426.145,1948284556982.0486,1958091000957.8345,1931255637661.502,1939446484727.4285,1838788677873.8657,1819990514406.0881,1899088665519.225,1892297852304.72,1926826079390.2441,1910022814269.8855,1925808416477.5068,1896576914275.523,1900922167493.3643,1957276192604.2603,1920742551503.6094,1978389972043.7947,1974739091620.7542,2003238967638.8286,1926047690157.6282,1913115778728.2837,2001746436338.842,1979166149963.3093,2005406021235.8357,2007646386698.8667,2075487816560.1924,2097460193710.789,2100629850064.9119,1985284833093.572,1937022229972.2085,1932373308116.0107,1922768195068.165,1884599149192.4587,1874912975786.6604,1951173788529.116,1966481159354.1177,1894744251986.1084,1867708753554.924,1885556552231.4314,1854872605738.8086,1833188187477.531,1851839954625.13,1869193319140.2422,1917905016063.62,1942834829349.9563,1946611205641.351,1948339898718.8586,2024825178619.8228,1919133187081.3127,1885313354913.7239,1832933628117.9436,1876836759923.398,1874286243377.8525,1870314882306.9236,1870609367804.8223,1912603332624.1123,1986831430651.8647,1980935754458.284,2063854663834.0774,2067151195362.0425,2014842808849.5005,2017837068202.1384,2098829000928.49,2054288661793.9773,2062360759045.0,2076156720642.786,2077647817531.3406,2036324005947.406,2019295541213.5288,2007072201507.5273,2056581551171.7,2076760153260.6191,2028504133577.489,1996423711261.7268,1933691439792.2544,2011121374511.8835,1943535291172.1597,1912584628590.309,1915093756057.5637,1911296376425.356,1914211835440.1182,1913068773356.083,1930742951090.367,1898788887978.3252,1936842454813.9983,1914315097486.3862,1931656846871.4856,1934308378710.2861,1905012222220.3691,1898997753781.9536,1892702154844.508,1914337919659.5537,1950376106325.3228,1906058197506.3809,1915260330870.798,1909625674815.4763,1814176779160.4363,1759750360550.3337,1664314955447.7466,1679555320077.2097,1674754437110.342,1705564098300.8237,1868321705444.4878,1708198960874.3418,1731441668069.6523,1797706868227.531,1782785866811.654,1720436931689.2776,1708605516770.228,1602073794580.0344,1563547150147.7332,1642997419531.6057,1662502658717.542,1608477373718.186,1665725559905.8198,1674173293916.4658,1638672153483.722,1667799227887.438,1642578274105.806,1721565138141.278,1672550706502.8184,1666749159154.2927,1662574363663.653,1702009594329.4495,1732715331970.134,1735368473904.4885,1724854479045.6724,1729729987159.4822,1673182800974.1038,1640665503855.1438,1633996304187.2593,1635076581047.3545,1690602036035.04,1637358764747.381,1652537223074.958,1664234880198.049,1656020067997.187,1555325260787.2627,1581407565278.352,1515042499757.3254,1640567909122.172,1580023209138.0547,1655868880454.1702,1693600655371.0874,1658923208081.8682,1677843510120.269,1660749023283.0562,1670497569762.047,1686226810049.1836,1676373197914.5117,1690090596771.3958,1689008667806.3804,1735703747771.06,1858587811717.8286,1858660302322.256,1864298110563.3408,1882121595175.8462,1879131951239.1846,1862772247122.064,1887067388174.3481,1870818389258.4038,1871350362569.0933,1914884389769.3945,1923251765866.1472,1904894886394.57,1872812442453.0322,1882511286487.958,1923643840814.599,1927134557858.269,2047883753852.6929,2045046445523.5242,2077132539531.3464,2065659960471.3655,2044347271866.1707,2069356072124.024,2057798367292.5637,2060142559914.034,2057725640290.0767,2050318521477.805,2104889720872.8306,2098485415895.0496,2121778617273.821,2178838967665.505,2214712145787.249,2131595896624.4407,2142540077685.2197,2163072841533.6133,2173059855839.4187,2167551887130.0073,2143342706888.307,2101348752694.3137,2066830946978.0637,2080467809295.7695,2101178071590.9749,2104229403094.936,2095294001281.4797,2083148839111.2068,2020294099992.3677,2075175500201.4253,2100553336902.5076,2100654769399.4705,2191877481230.9468,2189350055406.3333,2159529375273.4956,2107911943768.2988,2107973087547.7922,2097486541223.27,2098499110552.6216,2127895470544.7178,2080968120976.949,2081677732261.6853,2081355279873.408,2054120245608.2085,2017415966695.5278,2005179769771.7349,2097741233586.5918,2107110352429.8032,2132141147369.0017,2127292099754.93,2129020567385.9595,2134239999929.6584,2155183166489.813,2130471589191.581,2100087563077.9324,2163835371770.0977,2179664531219.9346,2148601712907.3433,2152344091389.654,2171497503296.0474,2153777588647.4504,2167049398056.7417,2215210888568.426,2303292356999.7437,2338612196961.7437,2335485977830.673,2369050366835.5605,2383825813673.847,2341223394839.9204,2363194640209.576,2376237382764.3013,2347165317624.536,2345398337785.541,2333757287859.664,2337365497467.1313,2387516761560.4927,2359931875300.5244,2354764508342.9937,2338855554998.7812,2346959472845.027,2376524838793.0137,2349472897426.4688,2345126504020.1143,2343717963709.7124,2302199162425.1206,2253609880959.403,2240413983638.112,2272802075267.0376,2292395156144.1514,2271583255077.356,2289295036528.6577,2337732858703.5435,2323026541073.3213,2318815857401.68,2374097296837.8896,2364060561672.9995,2392854421745.6157,2458895200752.567,2360043737045.272,2335290383260.173,2339465736068.208,2340648324181.828,2313556987528.4634,2245419916215.7417,2274471285844.184,2238121481749.57,2326174803320.612,2296786080139.701,2259663171125.389,2194453712375.598,2227025695775.593,2215255294289.9937,2239422945686.892,2160278651486.2852,2166165747945.1812,2155694976689.5986,2174100506466.4321,2212595221503.454,2225365905592.233,2204051936301.3257,2204045604630.5625,2195288669199.568,2213764479139.3647,2231763512226.867,2222026777598.0474,2270241314652.7144,2299764311655.674,2314347371939.946,2310166037871.29,2297459118244.424,2297977599504.5527,2325326932460.9644,2321583680138.891,2333705338232.097,2303469041668.8,2305371926506.302,2297332085237.645,2245929069310.8535,2232693472656.6514,2257741194218.8286,2171950311711.4429,2185866776171.5464,2185203231301.0562,2235798877396.134,2278362523594.3135,2272137555069.4507,2359569556068.08,2399524207991.5527,2436956902844.7153,2438832157552.7866,2461221856764.1885,2486073086655.2866,2421938444026.2783,2459003621170.118,2423288659157.484,2265659827789.9917,2211404015103.109,2294724465036.9785,2296863527017.9863,2257545230986.0146,2207742082237.0483,2154964541836.455,2123017949517.1426,2135575517405.9185,2179918813282.3298],\"yaxis\":\"y2\",\"type\":\"scatter\",\"xaxis\":\"x\"}],                        {\"template\":{\"data\":{\"histogram2dcontour\":[{\"type\":\"histogram2dcontour\",\"colorbar\":{\"outlinewidth\":0,\"ticks\":\"\"},\"colorscale\":[[0.0,\"#0d0887\"],[0.1111111111111111,\"#46039f\"],[0.2222222222222222,\"#7201a8\"],[0.3333333333333333,\"#9c179e\"],[0.4444444444444444,\"#bd3786\"],[0.5555555555555556,\"#d8576b\"],[0.6666666666666666,\"#ed7953\"],[0.7777777777777778,\"#fb9f3a\"],[0.8888888888888888,\"#fdca26\"],[1.0,\"#f0f921\"]]}],\"choropleth\":[{\"type\":\"choropleth\",\"colorbar\":{\"outlinewidth\":0,\"ticks\":\"\"}}],\"histogram2d\":[{\"type\":\"histogram2d\",\"colorbar\":{\"outlinewidth\":0,\"ticks\":\"\"},\"colorscale\":[[0.0,\"#0d0887\"],[0.1111111111111111,\"#46039f\"],[0.2222222222222222,\"#7201a8\"],[0.3333333333333333,\"#9c179e\"],[0.4444444444444444,\"#bd3786\"],[0.5555555555555556,\"#d8576b\"],[0.6666666666666666,\"#ed7953\"],[0.7777777777777778,\"#fb9f3a\"],[0.8888888888888888,\"#fdca26\"],[1.0,\"#f0f921\"]]}],\"heatmap\":[{\"type\":\"heatmap\",\"colorbar\":{\"outlinewidth\":0,\"ticks\":\"\"},\"colorscale\":[[0.0,\"#0d0887\"],[0.1111111111111111,\"#46039f\"],[0.2222222222222222,\"#7201a8\"],[0.3333333333333333,\"#9c179e\"],[0.4444444444444444,\"#bd3786\"],[0.5555555555555556,\"#d8576b\"],[0.6666666666666666,\"#ed7953\"],[0.7777777777777778,\"#fb9f3a\"],[0.8888888888888888,\"#fdca26\"],[1.0,\"#f0f921\"]]}],\"heatmapgl\":[{\"type\":\"heatmapgl\",\"colorbar\":{\"outlinewidth\":0,\"ticks\":\"\"},\"colorscale\":[[0.0,\"#0d0887\"],[0.1111111111111111,\"#46039f\"],[0.2222222222222222,\"#7201a8\"],[0.3333333333333333,\"#9c179e\"],[0.4444444444444444,\"#bd3786\"],[0.5555555555555556,\"#d8576b\"],[0.6666666666666666,\"#ed7953\"],[0.7777777777777778,\"#fb9f3a\"],[0.8888888888888888,\"#fdca26\"],[1.0,\"#f0f921\"]]}],\"contourcarpet\":[{\"type\":\"contourcarpet\",\"colorbar\":{\"outlinewidth\":0,\"ticks\":\"\"}}],\"contour\":[{\"type\":\"contour\",\"colorbar\":{\"outlinewidth\":0,\"ticks\":\"\"},\"colorscale\":[[0.0,\"#0d0887\"],[0.1111111111111111,\"#46039f\"],[0.2222222222222222,\"#7201a8\"],[0.3333333333333333,\"#9c179e\"],[0.4444444444444444,\"#bd3786\"],[0.5555555555555556,\"#d8576b\"],[0.6666666666666666,\"#ed7953\"],[0.7777777777777778,\"#fb9f3a\"],[0.8888888888888888,\"#fdca26\"],[1.0,\"#f0f921\"]]}],\"surface\":[{\"type\":\"surface\",\"colorbar\":{\"outlinewidth\":0,\"ticks\":\"\"},\"colorscale\":[[0.0,\"#0d0887\"],[0.1111111111111111,\"#46039f\"],[0.2222222222222222,\"#7201a8\"],[0.3333333333333333,\"#9c179e\"],[0.4444444444444444,\"#bd3786\"],[0.5555555555555556,\"#d8576b\"],[0.6666666666666666,\"#ed7953\"],[0.7777777777777778,\"#fb9f3a\"],[0.8888888888888888,\"#fdca26\"],[1.0,\"#f0f921\"]]}],\"mesh3d\":[{\"type\":\"mesh3d\",\"colorbar\":{\"outlinewidth\":0,\"ticks\":\"\"}}],\"scatter\":[{\"fillpattern\":{\"fillmode\":\"overlay\",\"size\":10,\"solidity\":0.2},\"type\":\"scatter\"}],\"parcoords\":[{\"type\":\"parcoords\",\"line\":{\"colorbar\":{\"outlinewidth\":0,\"ticks\":\"\"}}}],\"scatterpolargl\":[{\"type\":\"scatterpolargl\",\"marker\":{\"colorbar\":{\"outlinewidth\":0,\"ticks\":\"\"}}}],\"bar\":[{\"error_x\":{\"color\":\"#2a3f5f\"},\"error_y\":{\"color\":\"#2a3f5f\"},\"marker\":{\"line\":{\"color\":\"#E5ECF6\",\"width\":0.5},\"pattern\":{\"fillmode\":\"overlay\",\"size\":10,\"solidity\":0.2}},\"type\":\"bar\"}],\"scattergeo\":[{\"type\":\"scattergeo\",\"marker\":{\"colorbar\":{\"outlinewidth\":0,\"ticks\":\"\"}}}],\"scatterpolar\":[{\"type\":\"scatterpolar\",\"marker\":{\"colorbar\":{\"outlinewidth\":0,\"ticks\":\"\"}}}],\"histogram\":[{\"marker\":{\"pattern\":{\"fillmode\":\"overlay\",\"size\":10,\"solidity\":0.2}},\"type\":\"histogram\"}],\"scattergl\":[{\"type\":\"scattergl\",\"marker\":{\"colorbar\":{\"outlinewidth\":0,\"ticks\":\"\"}}}],\"scatter3d\":[{\"type\":\"scatter3d\",\"line\":{\"colorbar\":{\"outlinewidth\":0,\"ticks\":\"\"}},\"marker\":{\"colorbar\":{\"outlinewidth\":0,\"ticks\":\"\"}}}],\"scattermapbox\":[{\"type\":\"scattermapbox\",\"marker\":{\"colorbar\":{\"outlinewidth\":0,\"ticks\":\"\"}}}],\"scatterternary\":[{\"type\":\"scatterternary\",\"marker\":{\"colorbar\":{\"outlinewidth\":0,\"ticks\":\"\"}}}],\"scattercarpet\":[{\"type\":\"scattercarpet\",\"marker\":{\"colorbar\":{\"outlinewidth\":0,\"ticks\":\"\"}}}],\"carpet\":[{\"aaxis\":{\"endlinecolor\":\"#2a3f5f\",\"gridcolor\":\"white\",\"linecolor\":\"white\",\"minorgridcolor\":\"white\",\"startlinecolor\":\"#2a3f5f\"},\"baxis\":{\"endlinecolor\":\"#2a3f5f\",\"gridcolor\":\"white\",\"linecolor\":\"white\",\"minorgridcolor\":\"white\",\"startlinecolor\":\"#2a3f5f\"},\"type\":\"carpet\"}],\"table\":[{\"cells\":{\"fill\":{\"color\":\"#EBF0F8\"},\"line\":{\"color\":\"white\"}},\"header\":{\"fill\":{\"color\":\"#C8D4E3\"},\"line\":{\"color\":\"white\"}},\"type\":\"table\"}],\"barpolar\":[{\"marker\":{\"line\":{\"color\":\"#E5ECF6\",\"width\":0.5},\"pattern\":{\"fillmode\":\"overlay\",\"size\":10,\"solidity\":0.2}},\"type\":\"barpolar\"}],\"pie\":[{\"automargin\":true,\"type\":\"pie\"}]},\"layout\":{\"autotypenumbers\":\"strict\",\"colorway\":[\"#636efa\",\"#EF553B\",\"#00cc96\",\"#ab63fa\",\"#FFA15A\",\"#19d3f3\",\"#FF6692\",\"#B6E880\",\"#FF97FF\",\"#FECB52\"],\"font\":{\"color\":\"#2a3f5f\"},\"hovermode\":\"closest\",\"hoverlabel\":{\"align\":\"left\"},\"paper_bgcolor\":\"white\",\"plot_bgcolor\":\"#E5ECF6\",\"polar\":{\"bgcolor\":\"#E5ECF6\",\"angularaxis\":{\"gridcolor\":\"white\",\"linecolor\":\"white\",\"ticks\":\"\"},\"radialaxis\":{\"gridcolor\":\"white\",\"linecolor\":\"white\",\"ticks\":\"\"}},\"ternary\":{\"bgcolor\":\"#E5ECF6\",\"aaxis\":{\"gridcolor\":\"white\",\"linecolor\":\"white\",\"ticks\":\"\"},\"baxis\":{\"gridcolor\":\"white\",\"linecolor\":\"white\",\"ticks\":\"\"},\"caxis\":{\"gridcolor\":\"white\",\"linecolor\":\"white\",\"ticks\":\"\"}},\"coloraxis\":{\"colorbar\":{\"outlinewidth\":0,\"ticks\":\"\"}},\"colorscale\":{\"sequential\":[[0.0,\"#0d0887\"],[0.1111111111111111,\"#46039f\"],[0.2222222222222222,\"#7201a8\"],[0.3333333333333333,\"#9c179e\"],[0.4444444444444444,\"#bd3786\"],[0.5555555555555556,\"#d8576b\"],[0.6666666666666666,\"#ed7953\"],[0.7777777777777778,\"#fb9f3a\"],[0.8888888888888888,\"#fdca26\"],[1.0,\"#f0f921\"]],\"sequentialminus\":[[0.0,\"#0d0887\"],[0.1111111111111111,\"#46039f\"],[0.2222222222222222,\"#7201a8\"],[0.3333333333333333,\"#9c179e\"],[0.4444444444444444,\"#bd3786\"],[0.5555555555555556,\"#d8576b\"],[0.6666666666666666,\"#ed7953\"],[0.7777777777777778,\"#fb9f3a\"],[0.8888888888888888,\"#fdca26\"],[1.0,\"#f0f921\"]],\"diverging\":[[0,\"#8e0152\"],[0.1,\"#c51b7d\"],[0.2,\"#de77ae\"],[0.3,\"#f1b6da\"],[0.4,\"#fde0ef\"],[0.5,\"#f7f7f7\"],[0.6,\"#e6f5d0\"],[0.7,\"#b8e186\"],[0.8,\"#7fbc41\"],[0.9,\"#4d9221\"],[1,\"#276419\"]]},\"xaxis\":{\"gridcolor\":\"white\",\"linecolor\":\"white\",\"ticks\":\"\",\"title\":{\"standoff\":15},\"zerolinecolor\":\"white\",\"automargin\":true,\"zerolinewidth\":2},\"yaxis\":{\"gridcolor\":\"white\",\"linecolor\":\"white\",\"ticks\":\"\",\"title\":{\"standoff\":15},\"zerolinecolor\":\"white\",\"automargin\":true,\"zerolinewidth\":2},\"scene\":{\"xaxis\":{\"backgroundcolor\":\"#E5ECF6\",\"gridcolor\":\"white\",\"linecolor\":\"white\",\"showbackground\":true,\"ticks\":\"\",\"zerolinecolor\":\"white\",\"gridwidth\":2},\"yaxis\":{\"backgroundcolor\":\"#E5ECF6\",\"gridcolor\":\"white\",\"linecolor\":\"white\",\"showbackground\":true,\"ticks\":\"\",\"zerolinecolor\":\"white\",\"gridwidth\":2},\"zaxis\":{\"backgroundcolor\":\"#E5ECF6\",\"gridcolor\":\"white\",\"linecolor\":\"white\",\"showbackground\":true,\"ticks\":\"\",\"zerolinecolor\":\"white\",\"gridwidth\":2}},\"shapedefaults\":{\"line\":{\"color\":\"#2a3f5f\"}},\"annotationdefaults\":{\"arrowcolor\":\"#2a3f5f\",\"arrowhead\":0,\"arrowwidth\":1},\"geo\":{\"bgcolor\":\"white\",\"landcolor\":\"#E5ECF6\",\"subunitcolor\":\"white\",\"showland\":true,\"showlakes\":true,\"lakecolor\":\"white\"},\"title\":{\"x\":0.05},\"mapbox\":{\"style\":\"light\"}}},\"xaxis\":{\"anchor\":\"y\",\"domain\":[0.0,0.94],\"title\":{\"text\":\"Timestamp\"}},\"yaxis\":{\"anchor\":\"x\",\"domain\":[0.0,1.0],\"title\":{\"text\":\"Price (USD)\"}},\"yaxis2\":{\"anchor\":\"x\",\"overlaying\":\"y\",\"side\":\"right\",\"title\":{\"text\":\"Volume (USD)\"}},\"title\":{\"text\":\"Bitcoin Price, Trading Volume, and Market Cap Over Time\"},\"yaxis3\":{\"title\":{\"text\":\"Market Cap (USD)\"},\"overlaying\":\"y\",\"side\":\"right\",\"position\":0.85}},                        {\"responsive\": true}                    ).then(function(){\n",
              "                            \n",
              "var gd = document.getElementById('990b4570-8821-474f-9ec2-6a7be4decc6d');\n",
              "var x = new MutationObserver(function (mutations, observer) {{\n",
              "        var display = window.getComputedStyle(gd).display;\n",
              "        if (!display || display === 'none') {{\n",
              "            console.log([gd, 'removed!']);\n",
              "            Plotly.purge(gd);\n",
              "            observer.disconnect();\n",
              "        }}\n",
              "}});\n",
              "\n",
              "// Listen for the removal of the full notebook cells\n",
              "var notebookContainer = gd.closest('#notebook-container');\n",
              "if (notebookContainer) {{\n",
              "    x.observe(notebookContainer, {childList: true});\n",
              "}}\n",
              "\n",
              "// Listen for the clearing of the current output cell\n",
              "var outputEl = gd.closest('.output');\n",
              "if (outputEl) {{\n",
              "    x.observe(outputEl, {childList: true});\n",
              "}}\n",
              "\n",
              "                        })                };                            </script>        </div>\n",
              "</body>\n",
              "</html>"
            ]
          },
          "metadata": {}
        }
      ]
    },
    {
      "cell_type": "markdown",
      "source": [
        "Technical Indicators"
      ],
      "metadata": {
        "id": "lJh0MtXYrZLF"
      }
    },
    {
      "cell_type": "markdown",
      "source": [],
      "metadata": {
        "id": "iy-a35i6rY9x"
      }
    },
    {
      "cell_type": "code",
      "source": [
        "pip install ta"
      ],
      "metadata": {
        "colab": {
          "base_uri": "https://localhost:8080/",
          "height": 0
        },
        "id": "5ABJCeBlrYNW",
        "outputId": "04e42efb-a5a0-4144-ac8d-38e0376c4235"
      },
      "execution_count": 24,
      "outputs": [
        {
          "output_type": "stream",
          "name": "stdout",
          "text": [
            "Collecting ta\n",
            "  Downloading ta-0.11.0.tar.gz (25 kB)\n",
            "  Preparing metadata (setup.py) ... \u001b[?25l\u001b[?25hdone\n",
            "Requirement already satisfied: numpy in /usr/local/lib/python3.12/dist-packages (from ta) (2.0.2)\n",
            "Requirement already satisfied: pandas in /usr/local/lib/python3.12/dist-packages (from ta) (2.2.2)\n",
            "Requirement already satisfied: python-dateutil>=2.8.2 in /usr/local/lib/python3.12/dist-packages (from pandas->ta) (2.9.0.post0)\n",
            "Requirement already satisfied: pytz>=2020.1 in /usr/local/lib/python3.12/dist-packages (from pandas->ta) (2025.2)\n",
            "Requirement already satisfied: tzdata>=2022.7 in /usr/local/lib/python3.12/dist-packages (from pandas->ta) (2025.2)\n",
            "Requirement already satisfied: six>=1.5 in /usr/local/lib/python3.12/dist-packages (from python-dateutil>=2.8.2->pandas->ta) (1.17.0)\n",
            "Building wheels for collected packages: ta\n",
            "  Building wheel for ta (setup.py) ... \u001b[?25l\u001b[?25hdone\n",
            "  Created wheel for ta: filename=ta-0.11.0-py3-none-any.whl size=29412 sha256=94f46779e3280090c64ec6b85228ad39d52528b1165c869393d5b44d1c505ce7\n",
            "  Stored in directory: /root/.cache/pip/wheels/5c/a1/5f/c6b85a7d9452057be4ce68a8e45d77ba34234a6d46581777c6\n",
            "Successfully built ta\n",
            "Installing collected packages: ta\n",
            "Successfully installed ta-0.11.0\n"
          ]
        }
      ]
    },
    {
      "cell_type": "code",
      "source": [
        "import ta\n",
        "\n",
        "prices['rsi'] = ta.momentum.RSIIndicator(prices['price']).rsi()"
      ],
      "metadata": {
        "id": "4hkVsY8jrguX"
      },
      "execution_count": 26,
      "outputs": []
    },
    {
      "cell_type": "code",
      "source": [
        "## Analyze Volatility and Returns\n",
        "prices['daily_return'] = prices['price'].pct_change()\n",
        "volatility = prices['daily_return'].std()\n",
        "cumulative_return = (prices['price'].iloc[-1] / prices['price'].iloc[0]) - 1"
      ],
      "metadata": {
        "id": "_r-qTooDrv3E"
      },
      "execution_count": 27,
      "outputs": []
    },
    {
      "cell_type": "markdown",
      "source": [
        "Forecasting"
      ],
      "metadata": {
        "id": "TKXGi3TwsSRC"
      }
    },
    {
      "cell_type": "code",
      "source": [
        "pip install prophet"
      ],
      "metadata": {
        "colab": {
          "base_uri": "https://localhost:8080/",
          "height": 0
        },
        "id": "oQYZk6idsUtB",
        "outputId": "b9edab6a-c784-4fa5-e933-48a6bc5af907"
      },
      "execution_count": 28,
      "outputs": [
        {
          "output_type": "stream",
          "name": "stdout",
          "text": [
            "Requirement already satisfied: prophet in /usr/local/lib/python3.12/dist-packages (1.1.7)\n",
            "Requirement already satisfied: cmdstanpy>=1.0.4 in /usr/local/lib/python3.12/dist-packages (from prophet) (1.2.5)\n",
            "Requirement already satisfied: numpy>=1.15.4 in /usr/local/lib/python3.12/dist-packages (from prophet) (2.0.2)\n",
            "Requirement already satisfied: matplotlib>=2.0.0 in /usr/local/lib/python3.12/dist-packages (from prophet) (3.10.0)\n",
            "Requirement already satisfied: pandas>=1.0.4 in /usr/local/lib/python3.12/dist-packages (from prophet) (2.2.2)\n",
            "Requirement already satisfied: holidays<1,>=0.25 in /usr/local/lib/python3.12/dist-packages (from prophet) (0.82)\n",
            "Requirement already satisfied: tqdm>=4.36.1 in /usr/local/lib/python3.12/dist-packages (from prophet) (4.67.1)\n",
            "Requirement already satisfied: importlib_resources in /usr/local/lib/python3.12/dist-packages (from prophet) (6.5.2)\n",
            "Requirement already satisfied: stanio<2.0.0,>=0.4.0 in /usr/local/lib/python3.12/dist-packages (from cmdstanpy>=1.0.4->prophet) (0.5.1)\n",
            "Requirement already satisfied: python-dateutil in /usr/local/lib/python3.12/dist-packages (from holidays<1,>=0.25->prophet) (2.9.0.post0)\n",
            "Requirement already satisfied: contourpy>=1.0.1 in /usr/local/lib/python3.12/dist-packages (from matplotlib>=2.0.0->prophet) (1.3.3)\n",
            "Requirement already satisfied: cycler>=0.10 in /usr/local/lib/python3.12/dist-packages (from matplotlib>=2.0.0->prophet) (0.12.1)\n",
            "Requirement already satisfied: fonttools>=4.22.0 in /usr/local/lib/python3.12/dist-packages (from matplotlib>=2.0.0->prophet) (4.60.1)\n",
            "Requirement already satisfied: kiwisolver>=1.3.1 in /usr/local/lib/python3.12/dist-packages (from matplotlib>=2.0.0->prophet) (1.4.9)\n",
            "Requirement already satisfied: packaging>=20.0 in /usr/local/lib/python3.12/dist-packages (from matplotlib>=2.0.0->prophet) (25.0)\n",
            "Requirement already satisfied: pillow>=8 in /usr/local/lib/python3.12/dist-packages (from matplotlib>=2.0.0->prophet) (11.3.0)\n",
            "Requirement already satisfied: pyparsing>=2.3.1 in /usr/local/lib/python3.12/dist-packages (from matplotlib>=2.0.0->prophet) (3.2.5)\n",
            "Requirement already satisfied: pytz>=2020.1 in /usr/local/lib/python3.12/dist-packages (from pandas>=1.0.4->prophet) (2025.2)\n",
            "Requirement already satisfied: tzdata>=2022.7 in /usr/local/lib/python3.12/dist-packages (from pandas>=1.0.4->prophet) (2025.2)\n",
            "Requirement already satisfied: six>=1.5 in /usr/local/lib/python3.12/dist-packages (from python-dateutil->holidays<1,>=0.25->prophet) (1.17.0)\n"
          ]
        }
      ]
    },
    {
      "cell_type": "code",
      "source": [
        "from prophet import Prophet\n",
        "\n",
        "df = prices.reset_index().rename(columns={'timestamp': 'ds', 'price': 'y'})\n",
        "model = Prophet()\n",
        "model.fit(df)\n",
        "future = model.make_future_dataframe(periods=365)\n",
        "forecast = model.predict(future)"
      ],
      "metadata": {
        "colab": {
          "base_uri": "https://localhost:8080/",
          "height": 0
        },
        "id": "-_0p4esXsX0P",
        "outputId": "69fe32c4-9dee-47a2-b678-46770a70187c"
      },
      "execution_count": 29,
      "outputs": [
        {
          "output_type": "stream",
          "name": "stderr",
          "text": [
            "INFO:prophet:Disabling yearly seasonality. Run prophet with yearly_seasonality=True to override this.\n",
            "DEBUG:cmdstanpy:input tempfile: /tmp/tmp559ucmfa/w720czf9.json\n",
            "DEBUG:cmdstanpy:input tempfile: /tmp/tmp559ucmfa/04klnzuk.json\n",
            "DEBUG:cmdstanpy:idx 0\n",
            "DEBUG:cmdstanpy:running CmdStan, num_threads: None\n",
            "DEBUG:cmdstanpy:CmdStan args: ['/usr/local/lib/python3.12/dist-packages/prophet/stan_model/prophet_model.bin', 'random', 'seed=62578', 'data', 'file=/tmp/tmp559ucmfa/w720czf9.json', 'init=/tmp/tmp559ucmfa/04klnzuk.json', 'output', 'file=/tmp/tmp559ucmfa/prophet_modelg77tsjoa/prophet_model-20251019225814.csv', 'method=optimize', 'algorithm=lbfgs', 'iter=10000']\n",
            "22:58:14 - cmdstanpy - INFO - Chain [1] start processing\n",
            "INFO:cmdstanpy:Chain [1] start processing\n",
            "22:58:15 - cmdstanpy - INFO - Chain [1] done processing\n",
            "INFO:cmdstanpy:Chain [1] done processing\n"
          ]
        }
      ]
    },
    {
      "cell_type": "markdown",
      "metadata": {
        "id": "f8ae8450"
      },
      "source": [
        "# Task\n",
        "Add technical indicators like Moving Average to the plot"
      ]
    },
    {
      "cell_type": "markdown",
      "metadata": {
        "id": "6b4890e0"
      },
      "source": [
        "## Calculate moving average\n",
        "\n",
        "### Subtask:\n",
        "Calculate the Moving Average for the price data.\n"
      ]
    },
    {
      "cell_type": "markdown",
      "metadata": {
        "id": "c3bad909"
      },
      "source": [
        "**Reasoning**:\n",
        "Calculate the 50-day and 200-day Simple Moving Averages for the 'price' column and add them as new columns to the `prices` DataFrame.\n",
        "\n"
      ]
    },
    {
      "cell_type": "code",
      "metadata": {
        "id": "7ffb57c7"
      },
      "source": [
        "prices['SMA_50'] = prices['price'].rolling(window=50).mean()\n",
        "prices['SMA_200'] = prices['price'].rolling(window=200).mean()"
      ],
      "execution_count": 30,
      "outputs": []
    },
    {
      "cell_type": "markdown",
      "metadata": {
        "id": "7b76660e"
      },
      "source": [
        "## Modify visualization\n",
        "\n",
        "### Subtask:\n",
        "Update the plotting code to include the Moving Average line on the price plot.\n"
      ]
    },
    {
      "cell_type": "markdown",
      "metadata": {
        "id": "4c0108a1"
      },
      "source": [
        "**Reasoning**:\n",
        "Update the plotting code to include traces for SMA_50 and SMA_200 on the same y-axis as the price.\n",
        "\n"
      ]
    },
    {
      "cell_type": "code",
      "metadata": {
        "colab": {
          "base_uri": "https://localhost:8080/",
          "height": 542
        },
        "id": "88133152",
        "outputId": "92d56272-d4c0-499f-b75f-75e36cf7de61"
      },
      "source": [
        "fig = make_subplots(specs=[[{\"secondary_y\": True}]])\n",
        "\n",
        "fig.add_trace(\n",
        "    go.Scatter(x=df_combined.index, y=df_combined['price'], name='Price'),\n",
        "    secondary_y=False,\n",
        ")\n",
        "\n",
        "fig.add_trace(\n",
        "    go.Scatter(x=df_combined.index, y=df_combined['volume'], name='Volume'),\n",
        "    secondary_y=True,\n",
        ")\n",
        "\n",
        "fig.add_trace(\n",
        "    go.Scatter(x=df_combined.index, y=df_combined['market_cap'], name='Market Cap', yaxis='y3'),\n",
        "    secondary_y=True,\n",
        ")\n",
        "\n",
        "fig.add_trace(\n",
        "    go.Scatter(x=prices.index, y=prices['SMA_50'], name='SMA 50'),\n",
        "    secondary_y=False,\n",
        ")\n",
        "\n",
        "fig.add_trace(\n",
        "    go.Scatter(x=prices.index, y=prices['SMA_200'], name='SMA 200'),\n",
        "    secondary_y=False,\n",
        ")\n",
        "\n",
        "fig.update_layout(\n",
        "    title_text='Bitcoin Price, Trading Volume, Market Cap, and Moving Averages Over Time',\n",
        "    xaxis_title='Timestamp',\n",
        "    yaxis=dict(title='Price (USD)'),\n",
        "    yaxis2=dict(title='Volume (USD)', overlaying='y', side='right'),\n",
        "    yaxis3=dict(title='Market Cap (USD)', overlaying='y', side='right', position=0.85)\n",
        ")\n",
        "\n",
        "fig.show()"
      ],
      "execution_count": 31,
      "outputs": [
        {
          "output_type": "display_data",
          "data": {
            "text/html": [
              "<html>\n",
              "<head><meta charset=\"utf-8\" /></head>\n",
              "<body>\n",
              "    <div>            <script src=\"https://cdnjs.cloudflare.com/ajax/libs/mathjax/2.7.5/MathJax.js?config=TeX-AMS-MML_SVG\"></script><script type=\"text/javascript\">if (window.MathJax && window.MathJax.Hub && window.MathJax.Hub.Config) {window.MathJax.Hub.Config({SVG: {font: \"STIX-Web\"}});}</script>                <script type=\"text/javascript\">window.PlotlyConfig = {MathJaxConfig: 'local'};</script>\n",
              "        <script charset=\"utf-8\" src=\"https://cdn.plot.ly/plotly-2.35.2.min.js\"></script>                <div id=\"da41b7f9-ecda-43c2-a0ba-8aca5e976ac1\" class=\"plotly-graph-div\" style=\"height:525px; width:100%;\"></div>            <script type=\"text/javascript\">                                    window.PLOTLYENV=window.PLOTLYENV || {};                                    if (document.getElementById(\"da41b7f9-ecda-43c2-a0ba-8aca5e976ac1\")) {                    Plotly.newPlot(                        \"da41b7f9-ecda-43c2-a0ba-8aca5e976ac1\",                        [{\"name\":\"Price\",\"x\":[\"2024-10-20T00:00:00\",\"2024-10-21T00:00:00\",\"2024-10-22T00:00:00\",\"2024-10-23T00:00:00\",\"2024-10-24T00:00:00\",\"2024-10-25T00:00:00\",\"2024-10-26T00:00:00\",\"2024-10-27T00:00:00\",\"2024-10-28T00:00:00\",\"2024-10-29T00:00:00\",\"2024-10-30T00:00:00\",\"2024-10-31T00:00:00\",\"2024-11-01T00:00:00\",\"2024-11-02T00:00:00\",\"2024-11-03T00:00:00\",\"2024-11-04T00:00:00\",\"2024-11-05T00:00:00\",\"2024-11-06T00:00:00\",\"2024-11-07T00:00:00\",\"2024-11-08T00:00:00\",\"2024-11-09T00:00:00\",\"2024-11-10T00:00:00\",\"2024-11-11T00:00:00\",\"2024-11-12T00:00:00\",\"2024-11-13T00:00:00\",\"2024-11-14T00:00:00\",\"2024-11-15T00:00:00\",\"2024-11-16T00:00:00\",\"2024-11-17T00:00:00\",\"2024-11-18T00:00:00\",\"2024-11-19T00:00:00\",\"2024-11-20T00:00:00\",\"2024-11-21T00:00:00\",\"2024-11-22T00:00:00\",\"2024-11-23T00:00:00\",\"2024-11-24T00:00:00\",\"2024-11-25T00:00:00\",\"2024-11-26T00:00:00\",\"2024-11-27T00:00:00\",\"2024-11-28T00:00:00\",\"2024-11-29T00:00:00\",\"2024-11-30T00:00:00\",\"2024-12-01T00:00:00\",\"2024-12-02T00:00:00\",\"2024-12-03T00:00:00\",\"2024-12-04T00:00:00\",\"2024-12-05T00:00:00\",\"2024-12-06T00:00:00\",\"2024-12-07T00:00:00\",\"2024-12-08T00:00:00\",\"2024-12-09T00:00:00\",\"2024-12-10T00:00:00\",\"2024-12-11T00:00:00\",\"2024-12-12T00:00:00\",\"2024-12-13T00:00:00\",\"2024-12-14T00:00:00\",\"2024-12-15T00:00:00\",\"2024-12-16T00:00:00\",\"2024-12-17T00:00:00\",\"2024-12-18T00:00:00\",\"2024-12-19T00:00:00\",\"2024-12-20T00:00:00\",\"2024-12-21T00:00:00\",\"2024-12-22T00:00:00\",\"2024-12-23T00:00:00\",\"2024-12-24T00:00:00\",\"2024-12-25T00:00:00\",\"2024-12-26T00:00:00\",\"2024-12-27T00:00:00\",\"2024-12-28T00:00:00\",\"2024-12-29T00:00:00\",\"2024-12-30T00:00:00\",\"2024-12-31T00:00:00\",\"2025-01-01T00:00:00\",\"2025-01-02T00:00:00\",\"2025-01-03T00:00:00\",\"2025-01-04T00:00:00\",\"2025-01-05T00:00:00\",\"2025-01-06T00:00:00\",\"2025-01-07T00:00:00\",\"2025-01-08T00:00:00\",\"2025-01-09T00:00:00\",\"2025-01-10T00:00:00\",\"2025-01-11T00:00:00\",\"2025-01-12T00:00:00\",\"2025-01-13T00:00:00\",\"2025-01-14T00:00:00\",\"2025-01-15T00:00:00\",\"2025-01-16T00:00:00\",\"2025-01-17T00:00:00\",\"2025-01-18T00:00:00\",\"2025-01-19T00:00:00\",\"2025-01-20T00:00:00\",\"2025-01-21T00:00:00\",\"2025-01-22T00:00:00\",\"2025-01-23T00:00:00\",\"2025-01-24T00:00:00\",\"2025-01-25T00:00:00\",\"2025-01-26T00:00:00\",\"2025-01-27T00:00:00\",\"2025-01-28T00:00:00\",\"2025-01-29T00:00:00\",\"2025-01-30T00:00:00\",\"2025-01-31T00:00:00\",\"2025-02-01T00:00:00\",\"2025-02-02T00:00:00\",\"2025-02-03T00:00:00\",\"2025-02-04T00:00:00\",\"2025-02-05T00:00:00\",\"2025-02-06T00:00:00\",\"2025-02-07T00:00:00\",\"2025-02-08T00:00:00\",\"2025-02-09T00:00:00\",\"2025-02-10T00:00:00\",\"2025-02-11T00:00:00\",\"2025-02-12T00:00:00\",\"2025-02-13T00:00:00\",\"2025-02-14T00:00:00\",\"2025-02-15T00:00:00\",\"2025-02-16T00:00:00\",\"2025-02-17T00:00:00\",\"2025-02-18T00:00:00\",\"2025-02-19T00:00:00\",\"2025-02-20T00:00:00\",\"2025-02-21T00:00:00\",\"2025-02-22T00:00:00\",\"2025-02-23T00:00:00\",\"2025-02-24T00:00:00\",\"2025-02-25T00:00:00\",\"2025-02-26T00:00:00\",\"2025-02-27T00:00:00\",\"2025-02-28T00:00:00\",\"2025-03-01T00:00:00\",\"2025-03-02T00:00:00\",\"2025-03-03T00:00:00\",\"2025-03-04T00:00:00\",\"2025-03-05T00:00:00\",\"2025-03-06T00:00:00\",\"2025-03-07T00:00:00\",\"2025-03-08T00:00:00\",\"2025-03-09T00:00:00\",\"2025-03-10T00:00:00\",\"2025-03-11T00:00:00\",\"2025-03-12T00:00:00\",\"2025-03-13T00:00:00\",\"2025-03-14T00:00:00\",\"2025-03-15T00:00:00\",\"2025-03-16T00:00:00\",\"2025-03-17T00:00:00\",\"2025-03-18T00:00:00\",\"2025-03-19T00:00:00\",\"2025-03-20T00:00:00\",\"2025-03-21T00:00:00\",\"2025-03-22T00:00:00\",\"2025-03-23T00:00:00\",\"2025-03-24T00:00:00\",\"2025-03-25T00:00:00\",\"2025-03-26T00:00:00\",\"2025-03-27T00:00:00\",\"2025-03-28T00:00:00\",\"2025-03-29T00:00:00\",\"2025-03-30T00:00:00\",\"2025-03-31T00:00:00\",\"2025-04-01T00:00:00\",\"2025-04-02T00:00:00\",\"2025-04-03T00:00:00\",\"2025-04-04T00:00:00\",\"2025-04-05T00:00:00\",\"2025-04-06T00:00:00\",\"2025-04-07T00:00:00\",\"2025-04-08T00:00:00\",\"2025-04-09T00:00:00\",\"2025-04-10T00:00:00\",\"2025-04-11T00:00:00\",\"2025-04-12T00:00:00\",\"2025-04-13T00:00:00\",\"2025-04-14T00:00:00\",\"2025-04-15T00:00:00\",\"2025-04-16T00:00:00\",\"2025-04-17T00:00:00\",\"2025-04-18T00:00:00\",\"2025-04-19T00:00:00\",\"2025-04-20T00:00:00\",\"2025-04-21T00:00:00\",\"2025-04-22T00:00:00\",\"2025-04-23T00:00:00\",\"2025-04-24T00:00:00\",\"2025-04-25T00:00:00\",\"2025-04-26T00:00:00\",\"2025-04-27T00:00:00\",\"2025-04-28T00:00:00\",\"2025-04-29T00:00:00\",\"2025-04-30T00:00:00\",\"2025-05-01T00:00:00\",\"2025-05-02T00:00:00\",\"2025-05-03T00:00:00\",\"2025-05-04T00:00:00\",\"2025-05-05T00:00:00\",\"2025-05-06T00:00:00\",\"2025-05-07T00:00:00\",\"2025-05-08T00:00:00\",\"2025-05-09T00:00:00\",\"2025-05-10T00:00:00\",\"2025-05-11T00:00:00\",\"2025-05-12T00:00:00\",\"2025-05-13T00:00:00\",\"2025-05-14T00:00:00\",\"2025-05-15T00:00:00\",\"2025-05-16T00:00:00\",\"2025-05-17T00:00:00\",\"2025-05-18T00:00:00\",\"2025-05-19T00:00:00\",\"2025-05-20T00:00:00\",\"2025-05-21T00:00:00\",\"2025-05-22T00:00:00\",\"2025-05-23T00:00:00\",\"2025-05-24T00:00:00\",\"2025-05-25T00:00:00\",\"2025-05-26T00:00:00\",\"2025-05-27T00:00:00\",\"2025-05-28T00:00:00\",\"2025-05-29T00:00:00\",\"2025-05-30T00:00:00\",\"2025-05-31T00:00:00\",\"2025-06-01T00:00:00\",\"2025-06-02T00:00:00\",\"2025-06-03T00:00:00\",\"2025-06-04T00:00:00\",\"2025-06-05T00:00:00\",\"2025-06-06T00:00:00\",\"2025-06-07T00:00:00\",\"2025-06-08T00:00:00\",\"2025-06-09T00:00:00\",\"2025-06-10T00:00:00\",\"2025-06-11T00:00:00\",\"2025-06-12T00:00:00\",\"2025-06-13T00:00:00\",\"2025-06-14T00:00:00\",\"2025-06-15T00:00:00\",\"2025-06-16T00:00:00\",\"2025-06-17T00:00:00\",\"2025-06-18T00:00:00\",\"2025-06-19T00:00:00\",\"2025-06-20T00:00:00\",\"2025-06-21T00:00:00\",\"2025-06-22T00:00:00\",\"2025-06-23T00:00:00\",\"2025-06-24T00:00:00\",\"2025-06-25T00:00:00\",\"2025-06-26T00:00:00\",\"2025-06-27T00:00:00\",\"2025-06-28T00:00:00\",\"2025-06-29T00:00:00\",\"2025-06-30T00:00:00\",\"2025-07-01T00:00:00\",\"2025-07-02T00:00:00\",\"2025-07-03T00:00:00\",\"2025-07-04T00:00:00\",\"2025-07-05T00:00:00\",\"2025-07-06T00:00:00\",\"2025-07-07T00:00:00\",\"2025-07-08T00:00:00\",\"2025-07-09T00:00:00\",\"2025-07-10T00:00:00\",\"2025-07-11T00:00:00\",\"2025-07-12T00:00:00\",\"2025-07-13T00:00:00\",\"2025-07-14T00:00:00\",\"2025-07-15T00:00:00\",\"2025-07-16T00:00:00\",\"2025-07-17T00:00:00\",\"2025-07-18T00:00:00\",\"2025-07-19T00:00:00\",\"2025-07-20T00:00:00\",\"2025-07-21T00:00:00\",\"2025-07-22T00:00:00\",\"2025-07-23T00:00:00\",\"2025-07-24T00:00:00\",\"2025-07-25T00:00:00\",\"2025-07-26T00:00:00\",\"2025-07-27T00:00:00\",\"2025-07-28T00:00:00\",\"2025-07-29T00:00:00\",\"2025-07-30T00:00:00\",\"2025-07-31T00:00:00\",\"2025-08-01T00:00:00\",\"2025-08-02T00:00:00\",\"2025-08-03T00:00:00\",\"2025-08-04T00:00:00\",\"2025-08-05T00:00:00\",\"2025-08-06T00:00:00\",\"2025-08-07T00:00:00\",\"2025-08-08T00:00:00\",\"2025-08-09T00:00:00\",\"2025-08-10T00:00:00\",\"2025-08-11T00:00:00\",\"2025-08-12T00:00:00\",\"2025-08-13T00:00:00\",\"2025-08-14T00:00:00\",\"2025-08-15T00:00:00\",\"2025-08-16T00:00:00\",\"2025-08-17T00:00:00\",\"2025-08-18T00:00:00\",\"2025-08-19T00:00:00\",\"2025-08-20T00:00:00\",\"2025-08-21T00:00:00\",\"2025-08-22T00:00:00\",\"2025-08-23T00:00:00\",\"2025-08-24T00:00:00\",\"2025-08-25T00:00:00\",\"2025-08-26T00:00:00\",\"2025-08-27T00:00:00\",\"2025-08-28T00:00:00\",\"2025-08-29T00:00:00\",\"2025-08-30T00:00:00\",\"2025-08-31T00:00:00\",\"2025-09-01T00:00:00\",\"2025-09-02T00:00:00\",\"2025-09-03T00:00:00\",\"2025-09-04T00:00:00\",\"2025-09-05T00:00:00\",\"2025-09-06T00:00:00\",\"2025-09-07T00:00:00\",\"2025-09-08T00:00:00\",\"2025-09-09T00:00:00\",\"2025-09-10T00:00:00\",\"2025-09-11T00:00:00\",\"2025-09-12T00:00:00\",\"2025-09-13T00:00:00\",\"2025-09-14T00:00:00\",\"2025-09-15T00:00:00\",\"2025-09-16T00:00:00\",\"2025-09-17T00:00:00\",\"2025-09-18T00:00:00\",\"2025-09-19T00:00:00\",\"2025-09-20T00:00:00\",\"2025-09-21T00:00:00\",\"2025-09-22T00:00:00\",\"2025-09-23T00:00:00\",\"2025-09-24T00:00:00\",\"2025-09-25T00:00:00\",\"2025-09-26T00:00:00\",\"2025-09-27T00:00:00\",\"2025-09-28T00:00:00\",\"2025-09-29T00:00:00\",\"2025-09-30T00:00:00\",\"2025-10-01T00:00:00\",\"2025-10-02T00:00:00\",\"2025-10-03T00:00:00\",\"2025-10-04T00:00:00\",\"2025-10-05T00:00:00\",\"2025-10-06T00:00:00\",\"2025-10-07T00:00:00\",\"2025-10-08T00:00:00\",\"2025-10-09T00:00:00\",\"2025-10-10T00:00:00\",\"2025-10-11T00:00:00\",\"2025-10-12T00:00:00\",\"2025-10-13T00:00:00\",\"2025-10-14T00:00:00\",\"2025-10-15T00:00:00\",\"2025-10-16T00:00:00\",\"2025-10-17T00:00:00\",\"2025-10-18T00:00:00\",\"2025-10-19T00:00:00\",\"2025-10-19T22:49:50\"],\"y\":[68388.87128965274,68962.82918045693,67394.85775735618,67351.04793512498,66683.96806542306,68214.05205157402,66585.66535501445,67018.1650170265,67938.55412885673,69845.304531169,72781.11308158132,72342.62171127986,70264.99735573279,69507.92256395647,69299.16036699413,68803.50626277467,67793.29782704762,69335.42553133758,75620.88606963192,75987.24178320667,76550.0213845611,76630.22631415377,80466.71654833542,88637.42000322911,88264.59974582895,90488.10007497849,87407.51273710128,90947.97509443703,90606.45489380708,89841.47194135105,90534.62459650292,92251.65240738312,94217.02229634205,98509.11859102432,98927.49494553401,97679.46381643033,98015.9355289458,93004.70093103287,91931.83077291827,95981.18057210564,95661.59595817851,97453.2473451042,96513.14234698225,97311.70719084324,95833.1362300365,96031.63097759831,98881.4694561823,97201.50036407741,99973.85150659826,99781.82999198174,101235.3717025316,97353.94700820887,96649.71446771531,101123.61811033697,100000.80836535197,101352.22971292294,101367.01064553364,104721.50151808978,106074.10723541168,106034.913402645,100355.5761481501,97851.35377075805,97691.43431692653,97202.82496847633,95094.27394862173,94644.91085464321,98695.71400782601,99344.95417367229,95678.31244565405,94331.94727053077,95184.61945288602,93663.44751964067,92627.28213113277,93507.85874741491,94384.1761153871,96852.14681235075,98084.34279280754,98256.73876849933,98364.58946599838,102229.39453189743,96952.09886774956,95016.71440989176,92376.27578346101,94736.6267420969,94559.55167224213,94454.77089638807,94456.3493746993,96574.07768799194,100313.15239828422,100044.57926776377,104160.69358484233,104334.61575724394,101275.33714814208,101764.90860170545,106182.2368201815,103673.53509537787,104067.60991206947,104835.19253555956,104796.04077738234,102552.24874280207,101958.46953745594,101313.11264498268,103718.97939813645,104781.5135100103,102382.39409722165,100674.78762544956,97568.31653024875,101466.8606657039,98118.43921664466,96582.88682919052,96635.41875332211,96558.4563096667,96558.23762501091,96548.57865379585,97399.98161383197,95739.97737079239,97836.18856127483,96561.6639990985,97488.48148536457,97569.95169430465,96149.3484548204,95776.15723852723,95495.89153299287,96554.87156259285,98384.31738240314,96135.15541305285,96564.15414290235,96327.46309127835,91396.76686930266,88755.7693356979,83900.11496524839,84709.14477847965,84441.9012237131,86005.25629681018,94261.53286538439,86124.71418722175,87310.80531078295,90604.08098523637,90001.40087607042,86773.33597555371,86142.9833586432,80751.13893300897,78783.94057934263,82799.1080292053,83884.24578828987,81098.90052436228,83971.70916064628,84391.69087647168,82610.61750343916,84075.36559694471,82780.03048688271,86815.44109470697,84270.84358966233,84009.532917822,83793.30854192551,85787.70914901773,87327.72969669085,87520.58391530563,86960.8555491039,87227.27158032371,84359.46915506005,82679.17255385047,82356.38111183756,82514.09365397849,85237.5876052852,82526.4221526433,83163.98757387721,83852.00765399594,83595.88550177493,78211.48358199988,79179.29226757778,76329.090356324,82622.17029546302,79596.35732250768,83439.28818043756,85305.09728392666,83600.82010054543,84523.4524914945,83656.49248858042,84105.77942167096,84930.90857600998,84433.75017215389,85126.66244301842,85073.16544858096,87452.04699068287,93576.16588573981,93605.45230873208,93872.81422867288,94773.11200643536,94644.06637120107,93809.33781968223,95030.60645474444,94256.35946318062,94235.75331048167,96426.94522273027,96855.5681343944,95922.86842404422,94326.62048529249,94758.8237105546,96854.53198815876,97026.49376966801,103076.27555512934,102962.54045692299,104630.8792994166,103994.061616746,102876.8304286011,104184.49039270742,103594.42575090709,103708.85136423641,103556.03493982446,103212.36483885496,106030.6376831359,105629.41580436694,106786.71995834043,109665.86371625263,111560.356938144,107216.66856870624,107831.36374380375,108861.81037744327,109377.71513263129,109068.45694901445,107838.18431100152,105745.41660358038,104010.91956242644,104687.50742934884,105710.00593822816,105884.74263221149,105434.47745144971,104812.9182188067,101650.7387545425,104409.74967959142,105681.4546141758,105692.24740699006,110261.57485948496,110212.73252109604,108679.9760916168,105979.22902375912,106045.56440819203,105482.90611628917,105554.49383061715,106951.2720181497,104683.42479835715,104722.695052907,104690.65002458123,103290.105144757,101532.5683847329,100852.58264648831,105511.62437933135,105976.06929808448,107238.53045016268,106984.01253775663,107078.91560644074,107331.58548463577,108396.61631317894,107132.79910701896,105613.39974163055,108824.44423167943,109602.20483914016,108040.8919400104,108217.46849992426,109215.19771840284,108300.71675785031,108953.19187727802,111327.53054245669,115879.65030112496,117571.02510036016,117418.95745007684,119117.55666327637,119833.67446712355,117678.19493404306,118748.1627367753,119445.36520434043,117988.94664455787,117901.62655900871,117256.9208222684,117482.46977767294,119955.79570607653,118629.05588130427,118354.43517438594,117540.80837085741,117959.54234360624,119418.91405141471,118003.30201607826,117853.30892863822,117833.24087995925,115700.00243915782,113234.6051343189,112554.90232221723,114199.10966460757,115138.68613070177,114128.35408881678,115022.09576830892,117463.47451085235,116688.36663186055,116510.08393213755,119266.92516880555,118773.79960860992,120202.53485503166,123560.99363577305,118405.59579823953,117339.79190213277,117501.21653394958,117542.83687778088,116256.41276740946,112778.34483555844,114252.39755195397,112414.39987336512,116834.24948202295,115359.98346714744,113399.54847314971,110185.35443900425,111842.70999260596,111216.08479629169,112525.59740669793,108480.30666639366,108781.95727925687,108253.36092385623,109162.68557992298,111190.18209845416,111711.51977725117,110724.736377486,110662.18112628513,110209.1888247784,111131.9923868407,112025.12878118771,111547.43956434788,113975.32489468766,115503.16663193036,116160.14344594491,115970.58488443034,115373.55555886829,115397.25272727509,116762.8496864193,116455.94648225319,117145.49508952006,115655.81046441344,115715.51536781774,115304.47999407038,112696.74101711863,112022.16587861195,113320.56908541008,108963.53013595635,109710.20874667744,109654.81021075726,112142.57362752674,114309.15041119447,114024.22783550054,118503.24451752483,120611.71911591051,122250.15186842803,122380.93708463266,123506.18520027678,124773.50823074432,121518.75593575071,123352.50487523204,121698.03066778315,113201.74064138904,110853.11663883903,115189.5714637257,115222.28302116522,113156.56943826913,110708.66960879423,108076.72862033188,106443.61194984635,107156.00337647724,109329.91148381626],\"type\":\"scatter\",\"xaxis\":\"x\",\"yaxis\":\"y\"},{\"name\":\"Volume\",\"x\":[\"2024-10-20T00:00:00\",\"2024-10-21T00:00:00\",\"2024-10-22T00:00:00\",\"2024-10-23T00:00:00\",\"2024-10-24T00:00:00\",\"2024-10-25T00:00:00\",\"2024-10-26T00:00:00\",\"2024-10-27T00:00:00\",\"2024-10-28T00:00:00\",\"2024-10-29T00:00:00\",\"2024-10-30T00:00:00\",\"2024-10-31T00:00:00\",\"2024-11-01T00:00:00\",\"2024-11-02T00:00:00\",\"2024-11-03T00:00:00\",\"2024-11-04T00:00:00\",\"2024-11-05T00:00:00\",\"2024-11-06T00:00:00\",\"2024-11-07T00:00:00\",\"2024-11-08T00:00:00\",\"2024-11-09T00:00:00\",\"2024-11-10T00:00:00\",\"2024-11-11T00:00:00\",\"2024-11-12T00:00:00\",\"2024-11-13T00:00:00\",\"2024-11-14T00:00:00\",\"2024-11-15T00:00:00\",\"2024-11-16T00:00:00\",\"2024-11-17T00:00:00\",\"2024-11-18T00:00:00\",\"2024-11-19T00:00:00\",\"2024-11-20T00:00:00\",\"2024-11-21T00:00:00\",\"2024-11-22T00:00:00\",\"2024-11-23T00:00:00\",\"2024-11-24T00:00:00\",\"2024-11-25T00:00:00\",\"2024-11-26T00:00:00\",\"2024-11-27T00:00:00\",\"2024-11-28T00:00:00\",\"2024-11-29T00:00:00\",\"2024-11-30T00:00:00\",\"2024-12-01T00:00:00\",\"2024-12-02T00:00:00\",\"2024-12-03T00:00:00\",\"2024-12-04T00:00:00\",\"2024-12-05T00:00:00\",\"2024-12-06T00:00:00\",\"2024-12-07T00:00:00\",\"2024-12-08T00:00:00\",\"2024-12-09T00:00:00\",\"2024-12-10T00:00:00\",\"2024-12-11T00:00:00\",\"2024-12-12T00:00:00\",\"2024-12-13T00:00:00\",\"2024-12-14T00:00:00\",\"2024-12-15T00:00:00\",\"2024-12-16T00:00:00\",\"2024-12-17T00:00:00\",\"2024-12-18T00:00:00\",\"2024-12-19T00:00:00\",\"2024-12-20T00:00:00\",\"2024-12-21T00:00:00\",\"2024-12-22T00:00:00\",\"2024-12-23T00:00:00\",\"2024-12-24T00:00:00\",\"2024-12-25T00:00:00\",\"2024-12-26T00:00:00\",\"2024-12-27T00:00:00\",\"2024-12-28T00:00:00\",\"2024-12-29T00:00:00\",\"2024-12-30T00:00:00\",\"2024-12-31T00:00:00\",\"2025-01-01T00:00:00\",\"2025-01-02T00:00:00\",\"2025-01-03T00:00:00\",\"2025-01-04T00:00:00\",\"2025-01-05T00:00:00\",\"2025-01-06T00:00:00\",\"2025-01-07T00:00:00\",\"2025-01-08T00:00:00\",\"2025-01-09T00:00:00\",\"2025-01-10T00:00:00\",\"2025-01-11T00:00:00\",\"2025-01-12T00:00:00\",\"2025-01-13T00:00:00\",\"2025-01-14T00:00:00\",\"2025-01-15T00:00:00\",\"2025-01-16T00:00:00\",\"2025-01-17T00:00:00\",\"2025-01-18T00:00:00\",\"2025-01-19T00:00:00\",\"2025-01-20T00:00:00\",\"2025-01-21T00:00:00\",\"2025-01-22T00:00:00\",\"2025-01-23T00:00:00\",\"2025-01-24T00:00:00\",\"2025-01-25T00:00:00\",\"2025-01-26T00:00:00\",\"2025-01-27T00:00:00\",\"2025-01-28T00:00:00\",\"2025-01-29T00:00:00\",\"2025-01-30T00:00:00\",\"2025-01-31T00:00:00\",\"2025-02-01T00:00:00\",\"2025-02-02T00:00:00\",\"2025-02-03T00:00:00\",\"2025-02-04T00:00:00\",\"2025-02-05T00:00:00\",\"2025-02-06T00:00:00\",\"2025-02-07T00:00:00\",\"2025-02-08T00:00:00\",\"2025-02-09T00:00:00\",\"2025-02-10T00:00:00\",\"2025-02-11T00:00:00\",\"2025-02-12T00:00:00\",\"2025-02-13T00:00:00\",\"2025-02-14T00:00:00\",\"2025-02-15T00:00:00\",\"2025-02-16T00:00:00\",\"2025-02-17T00:00:00\",\"2025-02-18T00:00:00\",\"2025-02-19T00:00:00\",\"2025-02-20T00:00:00\",\"2025-02-21T00:00:00\",\"2025-02-22T00:00:00\",\"2025-02-23T00:00:00\",\"2025-02-24T00:00:00\",\"2025-02-25T00:00:00\",\"2025-02-26T00:00:00\",\"2025-02-27T00:00:00\",\"2025-02-28T00:00:00\",\"2025-03-01T00:00:00\",\"2025-03-02T00:00:00\",\"2025-03-03T00:00:00\",\"2025-03-04T00:00:00\",\"2025-03-05T00:00:00\",\"2025-03-06T00:00:00\",\"2025-03-07T00:00:00\",\"2025-03-08T00:00:00\",\"2025-03-09T00:00:00\",\"2025-03-10T00:00:00\",\"2025-03-11T00:00:00\",\"2025-03-12T00:00:00\",\"2025-03-13T00:00:00\",\"2025-03-14T00:00:00\",\"2025-03-15T00:00:00\",\"2025-03-16T00:00:00\",\"2025-03-17T00:00:00\",\"2025-03-18T00:00:00\",\"2025-03-19T00:00:00\",\"2025-03-20T00:00:00\",\"2025-03-21T00:00:00\",\"2025-03-22T00:00:00\",\"2025-03-23T00:00:00\",\"2025-03-24T00:00:00\",\"2025-03-25T00:00:00\",\"2025-03-26T00:00:00\",\"2025-03-27T00:00:00\",\"2025-03-28T00:00:00\",\"2025-03-29T00:00:00\",\"2025-03-30T00:00:00\",\"2025-03-31T00:00:00\",\"2025-04-01T00:00:00\",\"2025-04-02T00:00:00\",\"2025-04-03T00:00:00\",\"2025-04-04T00:00:00\",\"2025-04-05T00:00:00\",\"2025-04-06T00:00:00\",\"2025-04-07T00:00:00\",\"2025-04-08T00:00:00\",\"2025-04-09T00:00:00\",\"2025-04-10T00:00:00\",\"2025-04-11T00:00:00\",\"2025-04-12T00:00:00\",\"2025-04-13T00:00:00\",\"2025-04-14T00:00:00\",\"2025-04-15T00:00:00\",\"2025-04-16T00:00:00\",\"2025-04-17T00:00:00\",\"2025-04-18T00:00:00\",\"2025-04-19T00:00:00\",\"2025-04-20T00:00:00\",\"2025-04-21T00:00:00\",\"2025-04-22T00:00:00\",\"2025-04-23T00:00:00\",\"2025-04-24T00:00:00\",\"2025-04-25T00:00:00\",\"2025-04-26T00:00:00\",\"2025-04-27T00:00:00\",\"2025-04-28T00:00:00\",\"2025-04-29T00:00:00\",\"2025-04-30T00:00:00\",\"2025-05-01T00:00:00\",\"2025-05-02T00:00:00\",\"2025-05-03T00:00:00\",\"2025-05-04T00:00:00\",\"2025-05-05T00:00:00\",\"2025-05-06T00:00:00\",\"2025-05-07T00:00:00\",\"2025-05-08T00:00:00\",\"2025-05-09T00:00:00\",\"2025-05-10T00:00:00\",\"2025-05-11T00:00:00\",\"2025-05-12T00:00:00\",\"2025-05-13T00:00:00\",\"2025-05-14T00:00:00\",\"2025-05-15T00:00:00\",\"2025-05-16T00:00:00\",\"2025-05-17T00:00:00\",\"2025-05-18T00:00:00\",\"2025-05-19T00:00:00\",\"2025-05-20T00:00:00\",\"2025-05-21T00:00:00\",\"2025-05-22T00:00:00\",\"2025-05-23T00:00:00\",\"2025-05-24T00:00:00\",\"2025-05-25T00:00:00\",\"2025-05-26T00:00:00\",\"2025-05-27T00:00:00\",\"2025-05-28T00:00:00\",\"2025-05-29T00:00:00\",\"2025-05-30T00:00:00\",\"2025-05-31T00:00:00\",\"2025-06-01T00:00:00\",\"2025-06-02T00:00:00\",\"2025-06-03T00:00:00\",\"2025-06-04T00:00:00\",\"2025-06-05T00:00:00\",\"2025-06-06T00:00:00\",\"2025-06-07T00:00:00\",\"2025-06-08T00:00:00\",\"2025-06-09T00:00:00\",\"2025-06-10T00:00:00\",\"2025-06-11T00:00:00\",\"2025-06-12T00:00:00\",\"2025-06-13T00:00:00\",\"2025-06-14T00:00:00\",\"2025-06-15T00:00:00\",\"2025-06-16T00:00:00\",\"2025-06-17T00:00:00\",\"2025-06-18T00:00:00\",\"2025-06-19T00:00:00\",\"2025-06-20T00:00:00\",\"2025-06-21T00:00:00\",\"2025-06-22T00:00:00\",\"2025-06-23T00:00:00\",\"2025-06-24T00:00:00\",\"2025-06-25T00:00:00\",\"2025-06-26T00:00:00\",\"2025-06-27T00:00:00\",\"2025-06-28T00:00:00\",\"2025-06-29T00:00:00\",\"2025-06-30T00:00:00\",\"2025-07-01T00:00:00\",\"2025-07-02T00:00:00\",\"2025-07-03T00:00:00\",\"2025-07-04T00:00:00\",\"2025-07-05T00:00:00\",\"2025-07-06T00:00:00\",\"2025-07-07T00:00:00\",\"2025-07-08T00:00:00\",\"2025-07-09T00:00:00\",\"2025-07-10T00:00:00\",\"2025-07-11T00:00:00\",\"2025-07-12T00:00:00\",\"2025-07-13T00:00:00\",\"2025-07-14T00:00:00\",\"2025-07-15T00:00:00\",\"2025-07-16T00:00:00\",\"2025-07-17T00:00:00\",\"2025-07-18T00:00:00\",\"2025-07-19T00:00:00\",\"2025-07-20T00:00:00\",\"2025-07-21T00:00:00\",\"2025-07-22T00:00:00\",\"2025-07-23T00:00:00\",\"2025-07-24T00:00:00\",\"2025-07-25T00:00:00\",\"2025-07-26T00:00:00\",\"2025-07-27T00:00:00\",\"2025-07-28T00:00:00\",\"2025-07-29T00:00:00\",\"2025-07-30T00:00:00\",\"2025-07-31T00:00:00\",\"2025-08-01T00:00:00\",\"2025-08-02T00:00:00\",\"2025-08-03T00:00:00\",\"2025-08-04T00:00:00\",\"2025-08-05T00:00:00\",\"2025-08-06T00:00:00\",\"2025-08-07T00:00:00\",\"2025-08-08T00:00:00\",\"2025-08-09T00:00:00\",\"2025-08-10T00:00:00\",\"2025-08-11T00:00:00\",\"2025-08-12T00:00:00\",\"2025-08-13T00:00:00\",\"2025-08-14T00:00:00\",\"2025-08-15T00:00:00\",\"2025-08-16T00:00:00\",\"2025-08-17T00:00:00\",\"2025-08-18T00:00:00\",\"2025-08-19T00:00:00\",\"2025-08-20T00:00:00\",\"2025-08-21T00:00:00\",\"2025-08-22T00:00:00\",\"2025-08-23T00:00:00\",\"2025-08-24T00:00:00\",\"2025-08-25T00:00:00\",\"2025-08-26T00:00:00\",\"2025-08-27T00:00:00\",\"2025-08-28T00:00:00\",\"2025-08-29T00:00:00\",\"2025-08-30T00:00:00\",\"2025-08-31T00:00:00\",\"2025-09-01T00:00:00\",\"2025-09-02T00:00:00\",\"2025-09-03T00:00:00\",\"2025-09-04T00:00:00\",\"2025-09-05T00:00:00\",\"2025-09-06T00:00:00\",\"2025-09-07T00:00:00\",\"2025-09-08T00:00:00\",\"2025-09-09T00:00:00\",\"2025-09-10T00:00:00\",\"2025-09-11T00:00:00\",\"2025-09-12T00:00:00\",\"2025-09-13T00:00:00\",\"2025-09-14T00:00:00\",\"2025-09-15T00:00:00\",\"2025-09-16T00:00:00\",\"2025-09-17T00:00:00\",\"2025-09-18T00:00:00\",\"2025-09-19T00:00:00\",\"2025-09-20T00:00:00\",\"2025-09-21T00:00:00\",\"2025-09-22T00:00:00\",\"2025-09-23T00:00:00\",\"2025-09-24T00:00:00\",\"2025-09-25T00:00:00\",\"2025-09-26T00:00:00\",\"2025-09-27T00:00:00\",\"2025-09-28T00:00:00\",\"2025-09-29T00:00:00\",\"2025-09-30T00:00:00\",\"2025-10-01T00:00:00\",\"2025-10-02T00:00:00\",\"2025-10-03T00:00:00\",\"2025-10-04T00:00:00\",\"2025-10-05T00:00:00\",\"2025-10-06T00:00:00\",\"2025-10-07T00:00:00\",\"2025-10-08T00:00:00\",\"2025-10-09T00:00:00\",\"2025-10-10T00:00:00\",\"2025-10-11T00:00:00\",\"2025-10-12T00:00:00\",\"2025-10-13T00:00:00\",\"2025-10-14T00:00:00\",\"2025-10-15T00:00:00\",\"2025-10-16T00:00:00\",\"2025-10-17T00:00:00\",\"2025-10-18T00:00:00\",\"2025-10-19T00:00:00\",\"2025-10-19T22:49:50\"],\"y\":[14110889435.452631,17253863432.786995,40485496091.95008,31398389967.38113,32676918488.059,35892606570.03549,48426924850.053406,21169467789.89267,16533385730.434193,41990540384.96554,65487782004.97014,43498144313.67304,45907074188.570145,54863092261.31101,14709379754.965973,37659435506.757034,46183110993.79166,40025021601.49395,128492534668.23851,66590396087.4524,50687468387.720375,31430906055.796104,93473126207.67865,133959805308.72511,152356811694.44943,136046309843.60645,99649391847.08359,84382485697.84985,49255174407.368774,48556083101.64749,77391724184.19348,80493234958.49161,80747272080.24826,118163852022.3175,85746174563.98602,47414200206.70341,50665680246.86775,89476321216.0935,97389239315.52954,81469353259.75,49067932024.40325,74670031635.5065,43580019720.720634,49147687432.565895,101019861361.49252,87935752287.975,98230784298.0459,190460293531.53802,115812632020.44765,61061136199.7846,62677764785.05408,146846843211.51685,125835977742.51114,118484957960.76833,100092043319.81221,78802903278.85962,57321924844.41535,70645074624.52869,115184737759.33566,93417826250.1972,113692025885.44745,100611554887.24123,112340864006.62827,53058382639.48845,44619017105.36954,64937790292.61125,49169088282.15742,33963749856.44743,45049342388.18843,41498540807.666954,22429850903.940086,24065314499.502274,57595164139.4709,45327464907.74362,23275007789.496334,45157338602.617516,35721645948.10051,20979035420.980793,20060293834.7155,46111387334.46171,60610257147.15405,65790469838.34392,65850881574.76184,63433655716.757095,17836423168.41627,19608932595.53299,76328330233.31137,51241728228.81719,57637319739.543396,50150102497.2729,69135117732.00064,49416447749.13053,72970313683.92325,120158523166.88387,95344290057.8965,55030669602.56557,102455227371.20761,51418786362.7815,22740744964.719296,20639818380.26942,93191643783.24739,45780526813.56264,47425401641.53094,42122570869.034325,37187819228.35328,22827776122.48367,59784234332.21204,122163969235.23686,73196693057.98114,48848958931.79228,44462180396.172516,57077722340.22422,20760850644.84597,25457107581.051964,37054987393.57789,36454577154.5622,47115618235.19051,29084371910.690556,32289906944.92862,14215311318.346336,13634794998.739267,25324374113.08163,38311133144.729355,27703222487.389572,24175261969.81266,42477472950.92155,18464415570.762142,16643044374.983364,45539703844.38777,96742453402.56294,69277430795.68657,81960688217.70384,80695237175.07367,30634474722.6359,61859112550.80991,68715362745.4567,65863356680.42408,51606642859.81411,47555759124.64708,63216440874.73251,18809360803.37126,32013406240.51754,49983692766.22745,56404462275.083046,41782186208.59073,32583592654.882656,28571483950.074646,10761796127.312485,21638031633.118767,19659366246.596867,24557570268.85276,33871216993.304657,27579127651.06656,18091004975.919056,7771134681.982918,12617587530.619724,27270889835.1835,30351832942.705593,25522877558.700558,24620445368.489468,31674486232.097313,16837439419.924389,13428975108.070734,30326148749.91535,29172899851.734768,46332905657.77597,36594464539.14662,35647289400.47406,14910400035.531416,36140377231.68329,82909748172.59216,47812787635.22632,87408220482.11568,41213520154.25157,39813566443.76779,22428929482.069122,28731125717.934357,33155578229.343513,25084671427.622566,26948109141.803364,19323821375.14309,9550691272.782005,12635983530.804455,12625843856.313684,40070025414.28289,53841992235.36636,39901515879.65954,30031246761.093452,39336184715.04292,15445392739.787264,15926259371.057959,31913814736.53902,25882629766.278946,26541700309.366146,30207566405.468834,23276376191.483967,13797554863.642815,14903122945.616686,24086456278.203846,23348052607.071873,64376174032.08048,50020047720.65604,40800894903.23446,21558992540.042442,27389436049.454792,43090605819.36596,33861432519.50822,28398245846.798244,31823340473.339912,25887953182.14765,18950056010.479057,30744060179.802963,43339734153.75087,36393687094.25122,60722883113.84,52218408239.45193,49251745837.96465,27128230116.517162,29652659665.048733,27950577137.918888,38978783508.88622,29794278037.284946,38279231892.56757,39680060337.610214,20432694555.09522,17721500507.53389,26313843058.73954,25925661121.080395,25812143562.797962,39711941132.0234,29897390978.090103,17749731308.73042,16044679696.270103,38222993297.50514,36303839182.734825,30338936631.626648,35865159511.38857,49471015505.74361,17916412455.866283,16568441852.649668,32095957011.724205,38603212010.889435,30339326410.154945,18063282658.152298,30632751225.407444,21644463198.719532,51287142390.02526,50011797128.6837,31704641076.941063,30468274982.034847,24320699663.15122,25194306261.888832,8960877693.57604,14881078675.366829,22489515582.41552,25033160828.30909,36395184773.06136,29892049537.628605,24248906784.57383,10042942280.966904,14638669497.351297,25493246475.80407,20488865138.27645,37078460440.66385,56204086624.04028,64185145923.88688,24351256098.393543,27310851454.97692,68915956378.80447,80299520980.2335,50374263848.76278,49282617205.72662,58896449260.69391,23934511126.349533,36702153882.06748,46344384345.39471,58939000420.94166,45225685167.61703,51940414419.3327,91617702596.10347,25145925063.881348,30220402191.467663,43433742203.62158,42860287143.68828,43054424656.58649,45238249453.35885,65794680822.25255,33543439044.09785,24689273719.085533,32488023582.82734,37316213251.97167,32052509631.058872,38289687095.00489,33017415812.97353,27638785406.21056,37157754754.85189,61739781527.95854,46941089789.57991,61818118105.53991,73822008367.99681,44268714220.021,23202714236.542347,20906566026.645443,47337926940.98573,46156885037.403885,42166369117.006935,32048202090.65466,50878158870.82928,27306719885.257973,40682656776.69001,52854872363.936554,43023800053.0546,36957904262.995804,34222495087.206894,51702115726.38959,27799981330.792213,26140904019.246822,42999610648.39302,50235464642.845955,36406080683.42747,38708366685.43147,56020470627.40665,19340758702.076332,22147049159.335133,37159847899.8603,45338021458.38368,52205187155.05567,43752917632.95067,51192951485.864395,30063858747.76022,26889399414.610912,46947581231.08198,39964451595.099724,54740952295.37868,43642467075.25838,34296721252.33001,18774953731.290394,18659113982.495464,69152342029.46799,46154878824.043465,46677543220.334526,74481796351.47305,55257214020.568245,23294896964.31016,31274654338.51212,57833295882.65785,57718901820.70616,69920179085.4708,71252850672.75252,83155430408.51796,35161626561.80918,72011486031.26575,69605991064.72382,76087884719.80028,62576032795.36722,72097306668.91356,151002213089.8765,108643865752.17674,93857100744.12454,68935270367.04033,91211854988.91518,68877328886.40259,84773160808.27399,94325236794.78163,34412835719.61292,44721039056.98355],\"type\":\"scatter\",\"xaxis\":\"x\",\"yaxis\":\"y2\"},{\"name\":\"Market Cap\",\"x\":[\"2024-10-20T00:00:00\",\"2024-10-21T00:00:00\",\"2024-10-22T00:00:00\",\"2024-10-23T00:00:00\",\"2024-10-24T00:00:00\",\"2024-10-25T00:00:00\",\"2024-10-26T00:00:00\",\"2024-10-27T00:00:00\",\"2024-10-28T00:00:00\",\"2024-10-29T00:00:00\",\"2024-10-30T00:00:00\",\"2024-10-31T00:00:00\",\"2024-11-01T00:00:00\",\"2024-11-02T00:00:00\",\"2024-11-03T00:00:00\",\"2024-11-04T00:00:00\",\"2024-11-05T00:00:00\",\"2024-11-06T00:00:00\",\"2024-11-07T00:00:00\",\"2024-11-08T00:00:00\",\"2024-11-09T00:00:00\",\"2024-11-10T00:00:00\",\"2024-11-11T00:00:00\",\"2024-11-12T00:00:00\",\"2024-11-13T00:00:00\",\"2024-11-14T00:00:00\",\"2024-11-15T00:00:00\",\"2024-11-16T00:00:00\",\"2024-11-17T00:00:00\",\"2024-11-18T00:00:00\",\"2024-11-19T00:00:00\",\"2024-11-20T00:00:00\",\"2024-11-21T00:00:00\",\"2024-11-22T00:00:00\",\"2024-11-23T00:00:00\",\"2024-11-24T00:00:00\",\"2024-11-25T00:00:00\",\"2024-11-26T00:00:00\",\"2024-11-27T00:00:00\",\"2024-11-28T00:00:00\",\"2024-11-29T00:00:00\",\"2024-11-30T00:00:00\",\"2024-12-01T00:00:00\",\"2024-12-02T00:00:00\",\"2024-12-03T00:00:00\",\"2024-12-04T00:00:00\",\"2024-12-05T00:00:00\",\"2024-12-06T00:00:00\",\"2024-12-07T00:00:00\",\"2024-12-08T00:00:00\",\"2024-12-09T00:00:00\",\"2024-12-10T00:00:00\",\"2024-12-11T00:00:00\",\"2024-12-12T00:00:00\",\"2024-12-13T00:00:00\",\"2024-12-14T00:00:00\",\"2024-12-15T00:00:00\",\"2024-12-16T00:00:00\",\"2024-12-17T00:00:00\",\"2024-12-18T00:00:00\",\"2024-12-19T00:00:00\",\"2024-12-20T00:00:00\",\"2024-12-21T00:00:00\",\"2024-12-22T00:00:00\",\"2024-12-23T00:00:00\",\"2024-12-24T00:00:00\",\"2024-12-25T00:00:00\",\"2024-12-26T00:00:00\",\"2024-12-27T00:00:00\",\"2024-12-28T00:00:00\",\"2024-12-29T00:00:00\",\"2024-12-30T00:00:00\",\"2024-12-31T00:00:00\",\"2025-01-01T00:00:00\",\"2025-01-02T00:00:00\",\"2025-01-03T00:00:00\",\"2025-01-04T00:00:00\",\"2025-01-05T00:00:00\",\"2025-01-06T00:00:00\",\"2025-01-07T00:00:00\",\"2025-01-08T00:00:00\",\"2025-01-09T00:00:00\",\"2025-01-10T00:00:00\",\"2025-01-11T00:00:00\",\"2025-01-12T00:00:00\",\"2025-01-13T00:00:00\",\"2025-01-14T00:00:00\",\"2025-01-15T00:00:00\",\"2025-01-16T00:00:00\",\"2025-01-17T00:00:00\",\"2025-01-18T00:00:00\",\"2025-01-19T00:00:00\",\"2025-01-20T00:00:00\",\"2025-01-21T00:00:00\",\"2025-01-22T00:00:00\",\"2025-01-23T00:00:00\",\"2025-01-24T00:00:00\",\"2025-01-25T00:00:00\",\"2025-01-26T00:00:00\",\"2025-01-27T00:00:00\",\"2025-01-28T00:00:00\",\"2025-01-29T00:00:00\",\"2025-01-30T00:00:00\",\"2025-01-31T00:00:00\",\"2025-02-01T00:00:00\",\"2025-02-02T00:00:00\",\"2025-02-03T00:00:00\",\"2025-02-04T00:00:00\",\"2025-02-05T00:00:00\",\"2025-02-06T00:00:00\",\"2025-02-07T00:00:00\",\"2025-02-08T00:00:00\",\"2025-02-09T00:00:00\",\"2025-02-10T00:00:00\",\"2025-02-11T00:00:00\",\"2025-02-12T00:00:00\",\"2025-02-13T00:00:00\",\"2025-02-14T00:00:00\",\"2025-02-15T00:00:00\",\"2025-02-16T00:00:00\",\"2025-02-17T00:00:00\",\"2025-02-18T00:00:00\",\"2025-02-19T00:00:00\",\"2025-02-20T00:00:00\",\"2025-02-21T00:00:00\",\"2025-02-22T00:00:00\",\"2025-02-23T00:00:00\",\"2025-02-24T00:00:00\",\"2025-02-25T00:00:00\",\"2025-02-26T00:00:00\",\"2025-02-27T00:00:00\",\"2025-02-28T00:00:00\",\"2025-03-01T00:00:00\",\"2025-03-02T00:00:00\",\"2025-03-03T00:00:00\",\"2025-03-04T00:00:00\",\"2025-03-05T00:00:00\",\"2025-03-06T00:00:00\",\"2025-03-07T00:00:00\",\"2025-03-08T00:00:00\",\"2025-03-09T00:00:00\",\"2025-03-10T00:00:00\",\"2025-03-11T00:00:00\",\"2025-03-12T00:00:00\",\"2025-03-13T00:00:00\",\"2025-03-14T00:00:00\",\"2025-03-15T00:00:00\",\"2025-03-16T00:00:00\",\"2025-03-17T00:00:00\",\"2025-03-18T00:00:00\",\"2025-03-19T00:00:00\",\"2025-03-20T00:00:00\",\"2025-03-21T00:00:00\",\"2025-03-22T00:00:00\",\"2025-03-23T00:00:00\",\"2025-03-24T00:00:00\",\"2025-03-25T00:00:00\",\"2025-03-26T00:00:00\",\"2025-03-27T00:00:00\",\"2025-03-28T00:00:00\",\"2025-03-29T00:00:00\",\"2025-03-30T00:00:00\",\"2025-03-31T00:00:00\",\"2025-04-01T00:00:00\",\"2025-04-02T00:00:00\",\"2025-04-03T00:00:00\",\"2025-04-04T00:00:00\",\"2025-04-05T00:00:00\",\"2025-04-06T00:00:00\",\"2025-04-07T00:00:00\",\"2025-04-08T00:00:00\",\"2025-04-09T00:00:00\",\"2025-04-10T00:00:00\",\"2025-04-11T00:00:00\",\"2025-04-12T00:00:00\",\"2025-04-13T00:00:00\",\"2025-04-14T00:00:00\",\"2025-04-15T00:00:00\",\"2025-04-16T00:00:00\",\"2025-04-17T00:00:00\",\"2025-04-18T00:00:00\",\"2025-04-19T00:00:00\",\"2025-04-20T00:00:00\",\"2025-04-21T00:00:00\",\"2025-04-22T00:00:00\",\"2025-04-23T00:00:00\",\"2025-04-24T00:00:00\",\"2025-04-25T00:00:00\",\"2025-04-26T00:00:00\",\"2025-04-27T00:00:00\",\"2025-04-28T00:00:00\",\"2025-04-29T00:00:00\",\"2025-04-30T00:00:00\",\"2025-05-01T00:00:00\",\"2025-05-02T00:00:00\",\"2025-05-03T00:00:00\",\"2025-05-04T00:00:00\",\"2025-05-05T00:00:00\",\"2025-05-06T00:00:00\",\"2025-05-07T00:00:00\",\"2025-05-08T00:00:00\",\"2025-05-09T00:00:00\",\"2025-05-10T00:00:00\",\"2025-05-11T00:00:00\",\"2025-05-12T00:00:00\",\"2025-05-13T00:00:00\",\"2025-05-14T00:00:00\",\"2025-05-15T00:00:00\",\"2025-05-16T00:00:00\",\"2025-05-17T00:00:00\",\"2025-05-18T00:00:00\",\"2025-05-19T00:00:00\",\"2025-05-20T00:00:00\",\"2025-05-21T00:00:00\",\"2025-05-22T00:00:00\",\"2025-05-23T00:00:00\",\"2025-05-24T00:00:00\",\"2025-05-25T00:00:00\",\"2025-05-26T00:00:00\",\"2025-05-27T00:00:00\",\"2025-05-28T00:00:00\",\"2025-05-29T00:00:00\",\"2025-05-30T00:00:00\",\"2025-05-31T00:00:00\",\"2025-06-01T00:00:00\",\"2025-06-02T00:00:00\",\"2025-06-03T00:00:00\",\"2025-06-04T00:00:00\",\"2025-06-05T00:00:00\",\"2025-06-06T00:00:00\",\"2025-06-07T00:00:00\",\"2025-06-08T00:00:00\",\"2025-06-09T00:00:00\",\"2025-06-10T00:00:00\",\"2025-06-11T00:00:00\",\"2025-06-12T00:00:00\",\"2025-06-13T00:00:00\",\"2025-06-14T00:00:00\",\"2025-06-15T00:00:00\",\"2025-06-16T00:00:00\",\"2025-06-17T00:00:00\",\"2025-06-18T00:00:00\",\"2025-06-19T00:00:00\",\"2025-06-20T00:00:00\",\"2025-06-21T00:00:00\",\"2025-06-22T00:00:00\",\"2025-06-23T00:00:00\",\"2025-06-24T00:00:00\",\"2025-06-25T00:00:00\",\"2025-06-26T00:00:00\",\"2025-06-27T00:00:00\",\"2025-06-28T00:00:00\",\"2025-06-29T00:00:00\",\"2025-06-30T00:00:00\",\"2025-07-01T00:00:00\",\"2025-07-02T00:00:00\",\"2025-07-03T00:00:00\",\"2025-07-04T00:00:00\",\"2025-07-05T00:00:00\",\"2025-07-06T00:00:00\",\"2025-07-07T00:00:00\",\"2025-07-08T00:00:00\",\"2025-07-09T00:00:00\",\"2025-07-10T00:00:00\",\"2025-07-11T00:00:00\",\"2025-07-12T00:00:00\",\"2025-07-13T00:00:00\",\"2025-07-14T00:00:00\",\"2025-07-15T00:00:00\",\"2025-07-16T00:00:00\",\"2025-07-17T00:00:00\",\"2025-07-18T00:00:00\",\"2025-07-19T00:00:00\",\"2025-07-20T00:00:00\",\"2025-07-21T00:00:00\",\"2025-07-22T00:00:00\",\"2025-07-23T00:00:00\",\"2025-07-24T00:00:00\",\"2025-07-25T00:00:00\",\"2025-07-26T00:00:00\",\"2025-07-27T00:00:00\",\"2025-07-28T00:00:00\",\"2025-07-29T00:00:00\",\"2025-07-30T00:00:00\",\"2025-07-31T00:00:00\",\"2025-08-01T00:00:00\",\"2025-08-02T00:00:00\",\"2025-08-03T00:00:00\",\"2025-08-04T00:00:00\",\"2025-08-05T00:00:00\",\"2025-08-06T00:00:00\",\"2025-08-07T00:00:00\",\"2025-08-08T00:00:00\",\"2025-08-09T00:00:00\",\"2025-08-10T00:00:00\",\"2025-08-11T00:00:00\",\"2025-08-12T00:00:00\",\"2025-08-13T00:00:00\",\"2025-08-14T00:00:00\",\"2025-08-15T00:00:00\",\"2025-08-16T00:00:00\",\"2025-08-17T00:00:00\",\"2025-08-18T00:00:00\",\"2025-08-19T00:00:00\",\"2025-08-20T00:00:00\",\"2025-08-21T00:00:00\",\"2025-08-22T00:00:00\",\"2025-08-23T00:00:00\",\"2025-08-24T00:00:00\",\"2025-08-25T00:00:00\",\"2025-08-26T00:00:00\",\"2025-08-27T00:00:00\",\"2025-08-28T00:00:00\",\"2025-08-29T00:00:00\",\"2025-08-30T00:00:00\",\"2025-08-31T00:00:00\",\"2025-09-01T00:00:00\",\"2025-09-02T00:00:00\",\"2025-09-03T00:00:00\",\"2025-09-04T00:00:00\",\"2025-09-05T00:00:00\",\"2025-09-06T00:00:00\",\"2025-09-07T00:00:00\",\"2025-09-08T00:00:00\",\"2025-09-09T00:00:00\",\"2025-09-10T00:00:00\",\"2025-09-11T00:00:00\",\"2025-09-12T00:00:00\",\"2025-09-13T00:00:00\",\"2025-09-14T00:00:00\",\"2025-09-15T00:00:00\",\"2025-09-16T00:00:00\",\"2025-09-17T00:00:00\",\"2025-09-18T00:00:00\",\"2025-09-19T00:00:00\",\"2025-09-20T00:00:00\",\"2025-09-21T00:00:00\",\"2025-09-22T00:00:00\",\"2025-09-23T00:00:00\",\"2025-09-24T00:00:00\",\"2025-09-25T00:00:00\",\"2025-09-26T00:00:00\",\"2025-09-27T00:00:00\",\"2025-09-28T00:00:00\",\"2025-09-29T00:00:00\",\"2025-09-30T00:00:00\",\"2025-10-01T00:00:00\",\"2025-10-02T00:00:00\",\"2025-10-03T00:00:00\",\"2025-10-04T00:00:00\",\"2025-10-05T00:00:00\",\"2025-10-06T00:00:00\",\"2025-10-07T00:00:00\",\"2025-10-08T00:00:00\",\"2025-10-09T00:00:00\",\"2025-10-10T00:00:00\",\"2025-10-11T00:00:00\",\"2025-10-12T00:00:00\",\"2025-10-13T00:00:00\",\"2025-10-14T00:00:00\",\"2025-10-15T00:00:00\",\"2025-10-16T00:00:00\",\"2025-10-17T00:00:00\",\"2025-10-18T00:00:00\",\"2025-10-19T00:00:00\",\"2025-10-19T22:49:50\"],\"y\":[1351942347611.1997,1362381684459.9053,1332326858574.4448,1331426858508.4004,1318285437546.2786,1347888109010.5889,1313975091942.221,1325192118637.2595,1343350549900.1233,1380874923096.4146,1439310420089.3665,1431085552900.1965,1390195908292.9321,1374687306836.925,1370516856365.7996,1362302032218.0198,1340192510479.9568,1370963795352.6948,1496392703840.9058,1502620808927.6982,1514048743889.1255,1519470275068.1016,1590846468754.067,1756619702929.0437,1741113172482.1243,1790737763695.3328,1726797438787.217,1799276211921.9302,1790415769635.4927,1776887033229.9082,1790917617392.4407,1825195454018.501,1862618759426.145,1948284556982.0486,1958091000957.8345,1931255637661.502,1939446484727.4285,1838788677873.8657,1819990514406.0881,1899088665519.225,1892297852304.72,1926826079390.2441,1910022814269.8855,1925808416477.5068,1896576914275.523,1900922167493.3643,1957276192604.2603,1920742551503.6094,1978389972043.7947,1974739091620.7542,2003238967638.8286,1926047690157.6282,1913115778728.2837,2001746436338.842,1979166149963.3093,2005406021235.8357,2007646386698.8667,2075487816560.1924,2097460193710.789,2100629850064.9119,1985284833093.572,1937022229972.2085,1932373308116.0107,1922768195068.165,1884599149192.4587,1874912975786.6604,1951173788529.116,1966481159354.1177,1894744251986.1084,1867708753554.924,1885556552231.4314,1854872605738.8086,1833188187477.531,1851839954625.13,1869193319140.2422,1917905016063.62,1942834829349.9563,1946611205641.351,1948339898718.8586,2024825178619.8228,1919133187081.3127,1885313354913.7239,1832933628117.9436,1876836759923.398,1874286243377.8525,1870314882306.9236,1870609367804.8223,1912603332624.1123,1986831430651.8647,1980935754458.284,2063854663834.0774,2067151195362.0425,2014842808849.5005,2017837068202.1384,2098829000928.49,2054288661793.9773,2062360759045.0,2076156720642.786,2077647817531.3406,2036324005947.406,2019295541213.5288,2007072201507.5273,2056581551171.7,2076760153260.6191,2028504133577.489,1996423711261.7268,1933691439792.2544,2011121374511.8835,1943535291172.1597,1912584628590.309,1915093756057.5637,1911296376425.356,1914211835440.1182,1913068773356.083,1930742951090.367,1898788887978.3252,1936842454813.9983,1914315097486.3862,1931656846871.4856,1934308378710.2861,1905012222220.3691,1898997753781.9536,1892702154844.508,1914337919659.5537,1950376106325.3228,1906058197506.3809,1915260330870.798,1909625674815.4763,1814176779160.4363,1759750360550.3337,1664314955447.7466,1679555320077.2097,1674754437110.342,1705564098300.8237,1868321705444.4878,1708198960874.3418,1731441668069.6523,1797706868227.531,1782785866811.654,1720436931689.2776,1708605516770.228,1602073794580.0344,1563547150147.7332,1642997419531.6057,1662502658717.542,1608477373718.186,1665725559905.8198,1674173293916.4658,1638672153483.722,1667799227887.438,1642578274105.806,1721565138141.278,1672550706502.8184,1666749159154.2927,1662574363663.653,1702009594329.4495,1732715331970.134,1735368473904.4885,1724854479045.6724,1729729987159.4822,1673182800974.1038,1640665503855.1438,1633996304187.2593,1635076581047.3545,1690602036035.04,1637358764747.381,1652537223074.958,1664234880198.049,1656020067997.187,1555325260787.2627,1581407565278.352,1515042499757.3254,1640567909122.172,1580023209138.0547,1655868880454.1702,1693600655371.0874,1658923208081.8682,1677843510120.269,1660749023283.0562,1670497569762.047,1686226810049.1836,1676373197914.5117,1690090596771.3958,1689008667806.3804,1735703747771.06,1858587811717.8286,1858660302322.256,1864298110563.3408,1882121595175.8462,1879131951239.1846,1862772247122.064,1887067388174.3481,1870818389258.4038,1871350362569.0933,1914884389769.3945,1923251765866.1472,1904894886394.57,1872812442453.0322,1882511286487.958,1923643840814.599,1927134557858.269,2047883753852.6929,2045046445523.5242,2077132539531.3464,2065659960471.3655,2044347271866.1707,2069356072124.024,2057798367292.5637,2060142559914.034,2057725640290.0767,2050318521477.805,2104889720872.8306,2098485415895.0496,2121778617273.821,2178838967665.505,2214712145787.249,2131595896624.4407,2142540077685.2197,2163072841533.6133,2173059855839.4187,2167551887130.0073,2143342706888.307,2101348752694.3137,2066830946978.0637,2080467809295.7695,2101178071590.9749,2104229403094.936,2095294001281.4797,2083148839111.2068,2020294099992.3677,2075175500201.4253,2100553336902.5076,2100654769399.4705,2191877481230.9468,2189350055406.3333,2159529375273.4956,2107911943768.2988,2107973087547.7922,2097486541223.27,2098499110552.6216,2127895470544.7178,2080968120976.949,2081677732261.6853,2081355279873.408,2054120245608.2085,2017415966695.5278,2005179769771.7349,2097741233586.5918,2107110352429.8032,2132141147369.0017,2127292099754.93,2129020567385.9595,2134239999929.6584,2155183166489.813,2130471589191.581,2100087563077.9324,2163835371770.0977,2179664531219.9346,2148601712907.3433,2152344091389.654,2171497503296.0474,2153777588647.4504,2167049398056.7417,2215210888568.426,2303292356999.7437,2338612196961.7437,2335485977830.673,2369050366835.5605,2383825813673.847,2341223394839.9204,2363194640209.576,2376237382764.3013,2347165317624.536,2345398337785.541,2333757287859.664,2337365497467.1313,2387516761560.4927,2359931875300.5244,2354764508342.9937,2338855554998.7812,2346959472845.027,2376524838793.0137,2349472897426.4688,2345126504020.1143,2343717963709.7124,2302199162425.1206,2253609880959.403,2240413983638.112,2272802075267.0376,2292395156144.1514,2271583255077.356,2289295036528.6577,2337732858703.5435,2323026541073.3213,2318815857401.68,2374097296837.8896,2364060561672.9995,2392854421745.6157,2458895200752.567,2360043737045.272,2335290383260.173,2339465736068.208,2340648324181.828,2313556987528.4634,2245419916215.7417,2274471285844.184,2238121481749.57,2326174803320.612,2296786080139.701,2259663171125.389,2194453712375.598,2227025695775.593,2215255294289.9937,2239422945686.892,2160278651486.2852,2166165747945.1812,2155694976689.5986,2174100506466.4321,2212595221503.454,2225365905592.233,2204051936301.3257,2204045604630.5625,2195288669199.568,2213764479139.3647,2231763512226.867,2222026777598.0474,2270241314652.7144,2299764311655.674,2314347371939.946,2310166037871.29,2297459118244.424,2297977599504.5527,2325326932460.9644,2321583680138.891,2333705338232.097,2303469041668.8,2305371926506.302,2297332085237.645,2245929069310.8535,2232693472656.6514,2257741194218.8286,2171950311711.4429,2185866776171.5464,2185203231301.0562,2235798877396.134,2278362523594.3135,2272137555069.4507,2359569556068.08,2399524207991.5527,2436956902844.7153,2438832157552.7866,2461221856764.1885,2486073086655.2866,2421938444026.2783,2459003621170.118,2423288659157.484,2265659827789.9917,2211404015103.109,2294724465036.9785,2296863527017.9863,2257545230986.0146,2207742082237.0483,2154964541836.455,2123017949517.1426,2135575517405.9185,2179918813282.3298],\"yaxis\":\"y2\",\"type\":\"scatter\",\"xaxis\":\"x\"},{\"name\":\"SMA 50\",\"x\":[\"2024-10-20T00:00:00\",\"2024-10-21T00:00:00\",\"2024-10-22T00:00:00\",\"2024-10-23T00:00:00\",\"2024-10-24T00:00:00\",\"2024-10-25T00:00:00\",\"2024-10-26T00:00:00\",\"2024-10-27T00:00:00\",\"2024-10-28T00:00:00\",\"2024-10-29T00:00:00\",\"2024-10-30T00:00:00\",\"2024-10-31T00:00:00\",\"2024-11-01T00:00:00\",\"2024-11-02T00:00:00\",\"2024-11-03T00:00:00\",\"2024-11-04T00:00:00\",\"2024-11-05T00:00:00\",\"2024-11-06T00:00:00\",\"2024-11-07T00:00:00\",\"2024-11-08T00:00:00\",\"2024-11-09T00:00:00\",\"2024-11-10T00:00:00\",\"2024-11-11T00:00:00\",\"2024-11-12T00:00:00\",\"2024-11-13T00:00:00\",\"2024-11-14T00:00:00\",\"2024-11-15T00:00:00\",\"2024-11-16T00:00:00\",\"2024-11-17T00:00:00\",\"2024-11-18T00:00:00\",\"2024-11-19T00:00:00\",\"2024-11-20T00:00:00\",\"2024-11-21T00:00:00\",\"2024-11-22T00:00:00\",\"2024-11-23T00:00:00\",\"2024-11-24T00:00:00\",\"2024-11-25T00:00:00\",\"2024-11-26T00:00:00\",\"2024-11-27T00:00:00\",\"2024-11-28T00:00:00\",\"2024-11-29T00:00:00\",\"2024-11-30T00:00:00\",\"2024-12-01T00:00:00\",\"2024-12-02T00:00:00\",\"2024-12-03T00:00:00\",\"2024-12-04T00:00:00\",\"2024-12-05T00:00:00\",\"2024-12-06T00:00:00\",\"2024-12-07T00:00:00\",\"2024-12-08T00:00:00\",\"2024-12-09T00:00:00\",\"2024-12-10T00:00:00\",\"2024-12-11T00:00:00\",\"2024-12-12T00:00:00\",\"2024-12-13T00:00:00\",\"2024-12-14T00:00:00\",\"2024-12-15T00:00:00\",\"2024-12-16T00:00:00\",\"2024-12-17T00:00:00\",\"2024-12-18T00:00:00\",\"2024-12-19T00:00:00\",\"2024-12-20T00:00:00\",\"2024-12-21T00:00:00\",\"2024-12-22T00:00:00\",\"2024-12-23T00:00:00\",\"2024-12-24T00:00:00\",\"2024-12-25T00:00:00\",\"2024-12-26T00:00:00\",\"2024-12-27T00:00:00\",\"2024-12-28T00:00:00\",\"2024-12-29T00:00:00\",\"2024-12-30T00:00:00\",\"2024-12-31T00:00:00\",\"2025-01-01T00:00:00\",\"2025-01-02T00:00:00\",\"2025-01-03T00:00:00\",\"2025-01-04T00:00:00\",\"2025-01-05T00:00:00\",\"2025-01-06T00:00:00\",\"2025-01-07T00:00:00\",\"2025-01-08T00:00:00\",\"2025-01-09T00:00:00\",\"2025-01-10T00:00:00\",\"2025-01-11T00:00:00\",\"2025-01-12T00:00:00\",\"2025-01-13T00:00:00\",\"2025-01-14T00:00:00\",\"2025-01-15T00:00:00\",\"2025-01-16T00:00:00\",\"2025-01-17T00:00:00\",\"2025-01-18T00:00:00\",\"2025-01-19T00:00:00\",\"2025-01-20T00:00:00\",\"2025-01-21T00:00:00\",\"2025-01-22T00:00:00\",\"2025-01-23T00:00:00\",\"2025-01-24T00:00:00\",\"2025-01-25T00:00:00\",\"2025-01-26T00:00:00\",\"2025-01-27T00:00:00\",\"2025-01-28T00:00:00\",\"2025-01-29T00:00:00\",\"2025-01-30T00:00:00\",\"2025-01-31T00:00:00\",\"2025-02-01T00:00:00\",\"2025-02-02T00:00:00\",\"2025-02-03T00:00:00\",\"2025-02-04T00:00:00\",\"2025-02-05T00:00:00\",\"2025-02-06T00:00:00\",\"2025-02-07T00:00:00\",\"2025-02-08T00:00:00\",\"2025-02-09T00:00:00\",\"2025-02-10T00:00:00\",\"2025-02-11T00:00:00\",\"2025-02-12T00:00:00\",\"2025-02-13T00:00:00\",\"2025-02-14T00:00:00\",\"2025-02-15T00:00:00\",\"2025-02-16T00:00:00\",\"2025-02-17T00:00:00\",\"2025-02-18T00:00:00\",\"2025-02-19T00:00:00\",\"2025-02-20T00:00:00\",\"2025-02-21T00:00:00\",\"2025-02-22T00:00:00\",\"2025-02-23T00:00:00\",\"2025-02-24T00:00:00\",\"2025-02-25T00:00:00\",\"2025-02-26T00:00:00\",\"2025-02-27T00:00:00\",\"2025-02-28T00:00:00\",\"2025-03-01T00:00:00\",\"2025-03-02T00:00:00\",\"2025-03-03T00:00:00\",\"2025-03-04T00:00:00\",\"2025-03-05T00:00:00\",\"2025-03-06T00:00:00\",\"2025-03-07T00:00:00\",\"2025-03-08T00:00:00\",\"2025-03-09T00:00:00\",\"2025-03-10T00:00:00\",\"2025-03-11T00:00:00\",\"2025-03-12T00:00:00\",\"2025-03-13T00:00:00\",\"2025-03-14T00:00:00\",\"2025-03-15T00:00:00\",\"2025-03-16T00:00:00\",\"2025-03-17T00:00:00\",\"2025-03-18T00:00:00\",\"2025-03-19T00:00:00\",\"2025-03-20T00:00:00\",\"2025-03-21T00:00:00\",\"2025-03-22T00:00:00\",\"2025-03-23T00:00:00\",\"2025-03-24T00:00:00\",\"2025-03-25T00:00:00\",\"2025-03-26T00:00:00\",\"2025-03-27T00:00:00\",\"2025-03-28T00:00:00\",\"2025-03-29T00:00:00\",\"2025-03-30T00:00:00\",\"2025-03-31T00:00:00\",\"2025-04-01T00:00:00\",\"2025-04-02T00:00:00\",\"2025-04-03T00:00:00\",\"2025-04-04T00:00:00\",\"2025-04-05T00:00:00\",\"2025-04-06T00:00:00\",\"2025-04-07T00:00:00\",\"2025-04-08T00:00:00\",\"2025-04-09T00:00:00\",\"2025-04-10T00:00:00\",\"2025-04-11T00:00:00\",\"2025-04-12T00:00:00\",\"2025-04-13T00:00:00\",\"2025-04-14T00:00:00\",\"2025-04-15T00:00:00\",\"2025-04-16T00:00:00\",\"2025-04-17T00:00:00\",\"2025-04-18T00:00:00\",\"2025-04-19T00:00:00\",\"2025-04-20T00:00:00\",\"2025-04-21T00:00:00\",\"2025-04-22T00:00:00\",\"2025-04-23T00:00:00\",\"2025-04-24T00:00:00\",\"2025-04-25T00:00:00\",\"2025-04-26T00:00:00\",\"2025-04-27T00:00:00\",\"2025-04-28T00:00:00\",\"2025-04-29T00:00:00\",\"2025-04-30T00:00:00\",\"2025-05-01T00:00:00\",\"2025-05-02T00:00:00\",\"2025-05-03T00:00:00\",\"2025-05-04T00:00:00\",\"2025-05-05T00:00:00\",\"2025-05-06T00:00:00\",\"2025-05-07T00:00:00\",\"2025-05-08T00:00:00\",\"2025-05-09T00:00:00\",\"2025-05-10T00:00:00\",\"2025-05-11T00:00:00\",\"2025-05-12T00:00:00\",\"2025-05-13T00:00:00\",\"2025-05-14T00:00:00\",\"2025-05-15T00:00:00\",\"2025-05-16T00:00:00\",\"2025-05-17T00:00:00\",\"2025-05-18T00:00:00\",\"2025-05-19T00:00:00\",\"2025-05-20T00:00:00\",\"2025-05-21T00:00:00\",\"2025-05-22T00:00:00\",\"2025-05-23T00:00:00\",\"2025-05-24T00:00:00\",\"2025-05-25T00:00:00\",\"2025-05-26T00:00:00\",\"2025-05-27T00:00:00\",\"2025-05-28T00:00:00\",\"2025-05-29T00:00:00\",\"2025-05-30T00:00:00\",\"2025-05-31T00:00:00\",\"2025-06-01T00:00:00\",\"2025-06-02T00:00:00\",\"2025-06-03T00:00:00\",\"2025-06-04T00:00:00\",\"2025-06-05T00:00:00\",\"2025-06-06T00:00:00\",\"2025-06-07T00:00:00\",\"2025-06-08T00:00:00\",\"2025-06-09T00:00:00\",\"2025-06-10T00:00:00\",\"2025-06-11T00:00:00\",\"2025-06-12T00:00:00\",\"2025-06-13T00:00:00\",\"2025-06-14T00:00:00\",\"2025-06-15T00:00:00\",\"2025-06-16T00:00:00\",\"2025-06-17T00:00:00\",\"2025-06-18T00:00:00\",\"2025-06-19T00:00:00\",\"2025-06-20T00:00:00\",\"2025-06-21T00:00:00\",\"2025-06-22T00:00:00\",\"2025-06-23T00:00:00\",\"2025-06-24T00:00:00\",\"2025-06-25T00:00:00\",\"2025-06-26T00:00:00\",\"2025-06-27T00:00:00\",\"2025-06-28T00:00:00\",\"2025-06-29T00:00:00\",\"2025-06-30T00:00:00\",\"2025-07-01T00:00:00\",\"2025-07-02T00:00:00\",\"2025-07-03T00:00:00\",\"2025-07-04T00:00:00\",\"2025-07-05T00:00:00\",\"2025-07-06T00:00:00\",\"2025-07-07T00:00:00\",\"2025-07-08T00:00:00\",\"2025-07-09T00:00:00\",\"2025-07-10T00:00:00\",\"2025-07-11T00:00:00\",\"2025-07-12T00:00:00\",\"2025-07-13T00:00:00\",\"2025-07-14T00:00:00\",\"2025-07-15T00:00:00\",\"2025-07-16T00:00:00\",\"2025-07-17T00:00:00\",\"2025-07-18T00:00:00\",\"2025-07-19T00:00:00\",\"2025-07-20T00:00:00\",\"2025-07-21T00:00:00\",\"2025-07-22T00:00:00\",\"2025-07-23T00:00:00\",\"2025-07-24T00:00:00\",\"2025-07-25T00:00:00\",\"2025-07-26T00:00:00\",\"2025-07-27T00:00:00\",\"2025-07-28T00:00:00\",\"2025-07-29T00:00:00\",\"2025-07-30T00:00:00\",\"2025-07-31T00:00:00\",\"2025-08-01T00:00:00\",\"2025-08-02T00:00:00\",\"2025-08-03T00:00:00\",\"2025-08-04T00:00:00\",\"2025-08-05T00:00:00\",\"2025-08-06T00:00:00\",\"2025-08-07T00:00:00\",\"2025-08-08T00:00:00\",\"2025-08-09T00:00:00\",\"2025-08-10T00:00:00\",\"2025-08-11T00:00:00\",\"2025-08-12T00:00:00\",\"2025-08-13T00:00:00\",\"2025-08-14T00:00:00\",\"2025-08-15T00:00:00\",\"2025-08-16T00:00:00\",\"2025-08-17T00:00:00\",\"2025-08-18T00:00:00\",\"2025-08-19T00:00:00\",\"2025-08-20T00:00:00\",\"2025-08-21T00:00:00\",\"2025-08-22T00:00:00\",\"2025-08-23T00:00:00\",\"2025-08-24T00:00:00\",\"2025-08-25T00:00:00\",\"2025-08-26T00:00:00\",\"2025-08-27T00:00:00\",\"2025-08-28T00:00:00\",\"2025-08-29T00:00:00\",\"2025-08-30T00:00:00\",\"2025-08-31T00:00:00\",\"2025-09-01T00:00:00\",\"2025-09-02T00:00:00\",\"2025-09-03T00:00:00\",\"2025-09-04T00:00:00\",\"2025-09-05T00:00:00\",\"2025-09-06T00:00:00\",\"2025-09-07T00:00:00\",\"2025-09-08T00:00:00\",\"2025-09-09T00:00:00\",\"2025-09-10T00:00:00\",\"2025-09-11T00:00:00\",\"2025-09-12T00:00:00\",\"2025-09-13T00:00:00\",\"2025-09-14T00:00:00\",\"2025-09-15T00:00:00\",\"2025-09-16T00:00:00\",\"2025-09-17T00:00:00\",\"2025-09-18T00:00:00\",\"2025-09-19T00:00:00\",\"2025-09-20T00:00:00\",\"2025-09-21T00:00:00\",\"2025-09-22T00:00:00\",\"2025-09-23T00:00:00\",\"2025-09-24T00:00:00\",\"2025-09-25T00:00:00\",\"2025-09-26T00:00:00\",\"2025-09-27T00:00:00\",\"2025-09-28T00:00:00\",\"2025-09-29T00:00:00\",\"2025-09-30T00:00:00\",\"2025-10-01T00:00:00\",\"2025-10-02T00:00:00\",\"2025-10-03T00:00:00\",\"2025-10-04T00:00:00\",\"2025-10-05T00:00:00\",\"2025-10-06T00:00:00\",\"2025-10-07T00:00:00\",\"2025-10-08T00:00:00\",\"2025-10-09T00:00:00\",\"2025-10-10T00:00:00\",\"2025-10-11T00:00:00\",\"2025-10-12T00:00:00\",\"2025-10-13T00:00:00\",\"2025-10-14T00:00:00\",\"2025-10-15T00:00:00\",\"2025-10-16T00:00:00\",\"2025-10-17T00:00:00\",\"2025-10-18T00:00:00\",\"2025-10-19T00:00:00\",\"2025-10-19T22:49:50\"],\"y\":[null,null,null,null,null,null,null,null,null,null,null,null,null,null,null,null,null,null,null,null,null,null,null,null,null,null,null,null,null,null,null,null,null,null,null,null,null,null,null,null,null,null,null,null,null,null,null,null,null,83513.12244857565,84170.05245683323,84737.87481338829,85322.97194759546,85998.42335109971,86664.76015709827,87327.52371032524,88023.15061613565,88777.2173461569,89539.928408288,90263.72058571753,90815.2098470489,91325.38448823844,91873.91322746234,92427.81127555274,92943.71354718527,93460.54163902265,94078.58996263823,94678.78053548491,95079.92906300537,95446.82317275183,95819.51513411835,96160.17955822806,96403.39086988402,96500.79964476773,96623.1911721589,96750.47210690634,96964.00870802048,97110.18398150172,97265.34667294554,97513.10512475648,97641.45461018142,97696.75585023157,97659.94091997396,97584.49108299542,97497.13221752956,97432.63835912872,97361.44663604381,97432.83417118299,97600.4606036903,97681.72857760346,97851.71053013676,97989.33789837953,98084.58179440274,98173.64582261998,98380.62783442286,98533.46591677847,98637.1887258962,98789.86256932585,98886.30635474152,98941.71472975794,98956.17668645643,99035.3599991919,99176.74529780033,99249.90320579377,99297.5349204312,99283.98607868172,99208.012196376,99142.9193793283,98983.80601895295,98794.76548748388,98720.36233958733,98694.5043903655,98671.84045652718,98658.75553023355,98704.86968353778,98726.77101386077,98709.58050492972,98653.91470143826,98690.11808223245,98754.87817070795,98774.17275074663,98816.42694512436,98873.79913316156,98934.73938946512,99014.74221480545,99000.40238681949,98969.99861382139,98931.41310027696,98792.05664834304,98522.58414441906,98261.54446636903,98055.3930737408,97896.70558254582,97722.0781736401,97716.11779750296,97549.51666331962,97406.60578204128,97287.20584798619,97080.97081754191,96815.5459516977,96455.19174717373,95983.52221068901,95533.69427931303,95154.37826786302,94708.41844722521,94256.92575580488,93855.00774077643,93446.13770759467,93002.4292421158,92632.89157919865,92249.32279818719,91959.36936718166,91570.40665101219,91154.96703916842,90783.1853280625,90485.44375853386,90280.63202186272,90001.70648685475,89778.55481350393,89591.4425085266,89345.92351656134,89068.33784144503,88784.30071118155,88503.61101118522,88260.36313101428,87996.0920266513,87702.64800690334,87448.45488000129,87170.6029603295,86783.43359808339,86444.03247433854,86055.09113669448,85797.61671194389,85458.44642714219,85159.54584310288,84942.94468052035,84683.67799967321,84447.59778767753,84292.7923000631,84199.79250178255,84220.40837399777,84214.90048187127,84228.59570625737,84209.9538892928,84073.76417179876,84222.79320576912,84348.6861457281,84414.06081059683,84509.49503320413,84666.90964111708,84820.23673033786,85105.82608077256,85415.27445844933,85644.00736407485,85894.86135276366,86209.99470496431,86449.01789023227,86647.71648240868,86890.68060655099,87146.26393437527,87431.19320003098,87756.40988923942,88130.24382658463,88542.67075421654,88946.68581571295,89288.46824130461,89625.60345522493,89947.08029193697,90282.04020823963,90608.61547542961,90985.67338910553,91452.70269169124,91918.16338554183,92403.61591162907,92892.1814338484,93472.86012955842,93953.91374945501,94433.50087125115,94938.81936876451,95562.14399977715,96159.92729340591,96790.10917249945,97252.57409866179,97740.86534346016,98165.82972843839,98573.92790152441,99019.60635215775,99437.82685135685,99860.95536596136,100211.85455261878,100601.43137469042,101026.38546353087,101437.69716281029,101941.46535102837,102396.67906163665,102698.75526575418,102946.23080005472,103189.68580364512,103403.88168584218,103622.0902350305,103884.92891899987,104077.98528587211,104287.31199766663,104496.40993194863,104633.67313038916,104727.21313539593,104825.80741984482,105049.50749772559,105273.8524094762,105481.53237871626,105680.68275407804,105760.73555510427,105848.11645565853,105923.43119593376,105986.20594573923,106040.93733199983,106133.73640877927,106253.89199054393,106340.53280205939,106433.7614732614,106553.81813085236,106599.21971234665,106665.69523380486,106756.51144548718,106880.78717718464,107001.00054042897,107205.04631805638,107430.77017644582,107650.20745823944,107816.21705426768,108009.81117002288,108241.95478788967,108486.82538870921,108764.63952864084,109016.02779649924,109251.47707328814,109532.89813476543,109796.78970336253,110067.62004247413,110385.42143480042,110656.41728808072,110931.1664768255,111177.38756900726,111329.22225039033,111481.6324175676,111622.0329445184,111767.1404667296,111897.3272250101,112071.65129597647,112263.33514197817,112406.8767833915,112613.65020279055,112868.46579194945,113108.42012409505,113372.81969984266,113727.50683552411,114085.93117476653,114379.74938428054,114731.44787103431,114954.78917799584,115161.90476528337,115370.35078383355,115574.57581169644,115731.77174078107,115844.68265535185,116017.46261155831,116089.26172439202,116233.90261724968,116380.28444779244,116483.92604725694,116503.32918166896,116574.16904636408,116619.42690474435,116643.38824202918,116495.40136933455,116319.62001291248,116136.30808238806,115937.210660721,115764.3408133476,115645.00731021177,115484.53878302599,115308.87510146489,115153.27994506928,115017.88726162593,114913.25142080434,114794.55081653781,114674.94140031004,114612.42361532258,114568.53778075374,114537.1333110252,114485.41357533046,114404.98034884763,114380.17130225449,114352.22405332678,114338.46913751798,114337.58529802311,114387.20350269307,114442.19505613013,114412.14768318036,114349.81727813857,114333.66157807043,114212.49026542337,114057.42495013987,113916.7538217178,113829.40361562559,113730.24812047338,113635.2566850112,113601.27087826107,113542.2853878638,113619.17650926758,113719.99941291758,113840.09878624411,113984.71221330338,114089.9590766702,114301.44227746368,114450.35493978027,114466.10175514074,114346.47909827708,114343.07085820864,114379.52554916895,114438.94984915425,114416.269041478,114353.4819179588,114231.84220882178,114205.35614302344,114216.31522711464],\"type\":\"scatter\",\"xaxis\":\"x\",\"yaxis\":\"y\"},{\"name\":\"SMA 200\",\"x\":[\"2024-10-20T00:00:00\",\"2024-10-21T00:00:00\",\"2024-10-22T00:00:00\",\"2024-10-23T00:00:00\",\"2024-10-24T00:00:00\",\"2024-10-25T00:00:00\",\"2024-10-26T00:00:00\",\"2024-10-27T00:00:00\",\"2024-10-28T00:00:00\",\"2024-10-29T00:00:00\",\"2024-10-30T00:00:00\",\"2024-10-31T00:00:00\",\"2024-11-01T00:00:00\",\"2024-11-02T00:00:00\",\"2024-11-03T00:00:00\",\"2024-11-04T00:00:00\",\"2024-11-05T00:00:00\",\"2024-11-06T00:00:00\",\"2024-11-07T00:00:00\",\"2024-11-08T00:00:00\",\"2024-11-09T00:00:00\",\"2024-11-10T00:00:00\",\"2024-11-11T00:00:00\",\"2024-11-12T00:00:00\",\"2024-11-13T00:00:00\",\"2024-11-14T00:00:00\",\"2024-11-15T00:00:00\",\"2024-11-16T00:00:00\",\"2024-11-17T00:00:00\",\"2024-11-18T00:00:00\",\"2024-11-19T00:00:00\",\"2024-11-20T00:00:00\",\"2024-11-21T00:00:00\",\"2024-11-22T00:00:00\",\"2024-11-23T00:00:00\",\"2024-11-24T00:00:00\",\"2024-11-25T00:00:00\",\"2024-11-26T00:00:00\",\"2024-11-27T00:00:00\",\"2024-11-28T00:00:00\",\"2024-11-29T00:00:00\",\"2024-11-30T00:00:00\",\"2024-12-01T00:00:00\",\"2024-12-02T00:00:00\",\"2024-12-03T00:00:00\",\"2024-12-04T00:00:00\",\"2024-12-05T00:00:00\",\"2024-12-06T00:00:00\",\"2024-12-07T00:00:00\",\"2024-12-08T00:00:00\",\"2024-12-09T00:00:00\",\"2024-12-10T00:00:00\",\"2024-12-11T00:00:00\",\"2024-12-12T00:00:00\",\"2024-12-13T00:00:00\",\"2024-12-14T00:00:00\",\"2024-12-15T00:00:00\",\"2024-12-16T00:00:00\",\"2024-12-17T00:00:00\",\"2024-12-18T00:00:00\",\"2024-12-19T00:00:00\",\"2024-12-20T00:00:00\",\"2024-12-21T00:00:00\",\"2024-12-22T00:00:00\",\"2024-12-23T00:00:00\",\"2024-12-24T00:00:00\",\"2024-12-25T00:00:00\",\"2024-12-26T00:00:00\",\"2024-12-27T00:00:00\",\"2024-12-28T00:00:00\",\"2024-12-29T00:00:00\",\"2024-12-30T00:00:00\",\"2024-12-31T00:00:00\",\"2025-01-01T00:00:00\",\"2025-01-02T00:00:00\",\"2025-01-03T00:00:00\",\"2025-01-04T00:00:00\",\"2025-01-05T00:00:00\",\"2025-01-06T00:00:00\",\"2025-01-07T00:00:00\",\"2025-01-08T00:00:00\",\"2025-01-09T00:00:00\",\"2025-01-10T00:00:00\",\"2025-01-11T00:00:00\",\"2025-01-12T00:00:00\",\"2025-01-13T00:00:00\",\"2025-01-14T00:00:00\",\"2025-01-15T00:00:00\",\"2025-01-16T00:00:00\",\"2025-01-17T00:00:00\",\"2025-01-18T00:00:00\",\"2025-01-19T00:00:00\",\"2025-01-20T00:00:00\",\"2025-01-21T00:00:00\",\"2025-01-22T00:00:00\",\"2025-01-23T00:00:00\",\"2025-01-24T00:00:00\",\"2025-01-25T00:00:00\",\"2025-01-26T00:00:00\",\"2025-01-27T00:00:00\",\"2025-01-28T00:00:00\",\"2025-01-29T00:00:00\",\"2025-01-30T00:00:00\",\"2025-01-31T00:00:00\",\"2025-02-01T00:00:00\",\"2025-02-02T00:00:00\",\"2025-02-03T00:00:00\",\"2025-02-04T00:00:00\",\"2025-02-05T00:00:00\",\"2025-02-06T00:00:00\",\"2025-02-07T00:00:00\",\"2025-02-08T00:00:00\",\"2025-02-09T00:00:00\",\"2025-02-10T00:00:00\",\"2025-02-11T00:00:00\",\"2025-02-12T00:00:00\",\"2025-02-13T00:00:00\",\"2025-02-14T00:00:00\",\"2025-02-15T00:00:00\",\"2025-02-16T00:00:00\",\"2025-02-17T00:00:00\",\"2025-02-18T00:00:00\",\"2025-02-19T00:00:00\",\"2025-02-20T00:00:00\",\"2025-02-21T00:00:00\",\"2025-02-22T00:00:00\",\"2025-02-23T00:00:00\",\"2025-02-24T00:00:00\",\"2025-02-25T00:00:00\",\"2025-02-26T00:00:00\",\"2025-02-27T00:00:00\",\"2025-02-28T00:00:00\",\"2025-03-01T00:00:00\",\"2025-03-02T00:00:00\",\"2025-03-03T00:00:00\",\"2025-03-04T00:00:00\",\"2025-03-05T00:00:00\",\"2025-03-06T00:00:00\",\"2025-03-07T00:00:00\",\"2025-03-08T00:00:00\",\"2025-03-09T00:00:00\",\"2025-03-10T00:00:00\",\"2025-03-11T00:00:00\",\"2025-03-12T00:00:00\",\"2025-03-13T00:00:00\",\"2025-03-14T00:00:00\",\"2025-03-15T00:00:00\",\"2025-03-16T00:00:00\",\"2025-03-17T00:00:00\",\"2025-03-18T00:00:00\",\"2025-03-19T00:00:00\",\"2025-03-20T00:00:00\",\"2025-03-21T00:00:00\",\"2025-03-22T00:00:00\",\"2025-03-23T00:00:00\",\"2025-03-24T00:00:00\",\"2025-03-25T00:00:00\",\"2025-03-26T00:00:00\",\"2025-03-27T00:00:00\",\"2025-03-28T00:00:00\",\"2025-03-29T00:00:00\",\"2025-03-30T00:00:00\",\"2025-03-31T00:00:00\",\"2025-04-01T00:00:00\",\"2025-04-02T00:00:00\",\"2025-04-03T00:00:00\",\"2025-04-04T00:00:00\",\"2025-04-05T00:00:00\",\"2025-04-06T00:00:00\",\"2025-04-07T00:00:00\",\"2025-04-08T00:00:00\",\"2025-04-09T00:00:00\",\"2025-04-10T00:00:00\",\"2025-04-11T00:00:00\",\"2025-04-12T00:00:00\",\"2025-04-13T00:00:00\",\"2025-04-14T00:00:00\",\"2025-04-15T00:00:00\",\"2025-04-16T00:00:00\",\"2025-04-17T00:00:00\",\"2025-04-18T00:00:00\",\"2025-04-19T00:00:00\",\"2025-04-20T00:00:00\",\"2025-04-21T00:00:00\",\"2025-04-22T00:00:00\",\"2025-04-23T00:00:00\",\"2025-04-24T00:00:00\",\"2025-04-25T00:00:00\",\"2025-04-26T00:00:00\",\"2025-04-27T00:00:00\",\"2025-04-28T00:00:00\",\"2025-04-29T00:00:00\",\"2025-04-30T00:00:00\",\"2025-05-01T00:00:00\",\"2025-05-02T00:00:00\",\"2025-05-03T00:00:00\",\"2025-05-04T00:00:00\",\"2025-05-05T00:00:00\",\"2025-05-06T00:00:00\",\"2025-05-07T00:00:00\",\"2025-05-08T00:00:00\",\"2025-05-09T00:00:00\",\"2025-05-10T00:00:00\",\"2025-05-11T00:00:00\",\"2025-05-12T00:00:00\",\"2025-05-13T00:00:00\",\"2025-05-14T00:00:00\",\"2025-05-15T00:00:00\",\"2025-05-16T00:00:00\",\"2025-05-17T00:00:00\",\"2025-05-18T00:00:00\",\"2025-05-19T00:00:00\",\"2025-05-20T00:00:00\",\"2025-05-21T00:00:00\",\"2025-05-22T00:00:00\",\"2025-05-23T00:00:00\",\"2025-05-24T00:00:00\",\"2025-05-25T00:00:00\",\"2025-05-26T00:00:00\",\"2025-05-27T00:00:00\",\"2025-05-28T00:00:00\",\"2025-05-29T00:00:00\",\"2025-05-30T00:00:00\",\"2025-05-31T00:00:00\",\"2025-06-01T00:00:00\",\"2025-06-02T00:00:00\",\"2025-06-03T00:00:00\",\"2025-06-04T00:00:00\",\"2025-06-05T00:00:00\",\"2025-06-06T00:00:00\",\"2025-06-07T00:00:00\",\"2025-06-08T00:00:00\",\"2025-06-09T00:00:00\",\"2025-06-10T00:00:00\",\"2025-06-11T00:00:00\",\"2025-06-12T00:00:00\",\"2025-06-13T00:00:00\",\"2025-06-14T00:00:00\",\"2025-06-15T00:00:00\",\"2025-06-16T00:00:00\",\"2025-06-17T00:00:00\",\"2025-06-18T00:00:00\",\"2025-06-19T00:00:00\",\"2025-06-20T00:00:00\",\"2025-06-21T00:00:00\",\"2025-06-22T00:00:00\",\"2025-06-23T00:00:00\",\"2025-06-24T00:00:00\",\"2025-06-25T00:00:00\",\"2025-06-26T00:00:00\",\"2025-06-27T00:00:00\",\"2025-06-28T00:00:00\",\"2025-06-29T00:00:00\",\"2025-06-30T00:00:00\",\"2025-07-01T00:00:00\",\"2025-07-02T00:00:00\",\"2025-07-03T00:00:00\",\"2025-07-04T00:00:00\",\"2025-07-05T00:00:00\",\"2025-07-06T00:00:00\",\"2025-07-07T00:00:00\",\"2025-07-08T00:00:00\",\"2025-07-09T00:00:00\",\"2025-07-10T00:00:00\",\"2025-07-11T00:00:00\",\"2025-07-12T00:00:00\",\"2025-07-13T00:00:00\",\"2025-07-14T00:00:00\",\"2025-07-15T00:00:00\",\"2025-07-16T00:00:00\",\"2025-07-17T00:00:00\",\"2025-07-18T00:00:00\",\"2025-07-19T00:00:00\",\"2025-07-20T00:00:00\",\"2025-07-21T00:00:00\",\"2025-07-22T00:00:00\",\"2025-07-23T00:00:00\",\"2025-07-24T00:00:00\",\"2025-07-25T00:00:00\",\"2025-07-26T00:00:00\",\"2025-07-27T00:00:00\",\"2025-07-28T00:00:00\",\"2025-07-29T00:00:00\",\"2025-07-30T00:00:00\",\"2025-07-31T00:00:00\",\"2025-08-01T00:00:00\",\"2025-08-02T00:00:00\",\"2025-08-03T00:00:00\",\"2025-08-04T00:00:00\",\"2025-08-05T00:00:00\",\"2025-08-06T00:00:00\",\"2025-08-07T00:00:00\",\"2025-08-08T00:00:00\",\"2025-08-09T00:00:00\",\"2025-08-10T00:00:00\",\"2025-08-11T00:00:00\",\"2025-08-12T00:00:00\",\"2025-08-13T00:00:00\",\"2025-08-14T00:00:00\",\"2025-08-15T00:00:00\",\"2025-08-16T00:00:00\",\"2025-08-17T00:00:00\",\"2025-08-18T00:00:00\",\"2025-08-19T00:00:00\",\"2025-08-20T00:00:00\",\"2025-08-21T00:00:00\",\"2025-08-22T00:00:00\",\"2025-08-23T00:00:00\",\"2025-08-24T00:00:00\",\"2025-08-25T00:00:00\",\"2025-08-26T00:00:00\",\"2025-08-27T00:00:00\",\"2025-08-28T00:00:00\",\"2025-08-29T00:00:00\",\"2025-08-30T00:00:00\",\"2025-08-31T00:00:00\",\"2025-09-01T00:00:00\",\"2025-09-02T00:00:00\",\"2025-09-03T00:00:00\",\"2025-09-04T00:00:00\",\"2025-09-05T00:00:00\",\"2025-09-06T00:00:00\",\"2025-09-07T00:00:00\",\"2025-09-08T00:00:00\",\"2025-09-09T00:00:00\",\"2025-09-10T00:00:00\",\"2025-09-11T00:00:00\",\"2025-09-12T00:00:00\",\"2025-09-13T00:00:00\",\"2025-09-14T00:00:00\",\"2025-09-15T00:00:00\",\"2025-09-16T00:00:00\",\"2025-09-17T00:00:00\",\"2025-09-18T00:00:00\",\"2025-09-19T00:00:00\",\"2025-09-20T00:00:00\",\"2025-09-21T00:00:00\",\"2025-09-22T00:00:00\",\"2025-09-23T00:00:00\",\"2025-09-24T00:00:00\",\"2025-09-25T00:00:00\",\"2025-09-26T00:00:00\",\"2025-09-27T00:00:00\",\"2025-09-28T00:00:00\",\"2025-09-29T00:00:00\",\"2025-09-30T00:00:00\",\"2025-10-01T00:00:00\",\"2025-10-02T00:00:00\",\"2025-10-03T00:00:00\",\"2025-10-04T00:00:00\",\"2025-10-05T00:00:00\",\"2025-10-06T00:00:00\",\"2025-10-07T00:00:00\",\"2025-10-08T00:00:00\",\"2025-10-09T00:00:00\",\"2025-10-10T00:00:00\",\"2025-10-11T00:00:00\",\"2025-10-12T00:00:00\",\"2025-10-13T00:00:00\",\"2025-10-14T00:00:00\",\"2025-10-15T00:00:00\",\"2025-10-16T00:00:00\",\"2025-10-17T00:00:00\",\"2025-10-18T00:00:00\",\"2025-10-19T00:00:00\",\"2025-10-19T22:49:50\"],\"y\":[null,null,null,null,null,null,null,null,null,null,null,null,null,null,null,null,null,null,null,null,null,null,null,null,null,null,null,null,null,null,null,null,null,null,null,null,null,null,null,null,null,null,null,null,null,null,null,null,null,null,null,null,null,null,null,null,null,null,null,null,null,null,null,null,null,null,null,null,null,null,null,null,null,null,null,null,null,null,null,null,null,null,null,null,null,null,null,null,null,null,null,null,null,null,null,null,null,null,null,null,null,null,null,null,null,null,null,null,null,null,null,null,null,null,null,null,null,null,null,null,null,null,null,null,null,null,null,null,null,null,null,null,null,null,null,null,null,null,null,null,null,null,null,null,null,null,null,null,null,null,null,null,null,null,null,null,null,null,null,null,null,null,null,null,null,null,null,null,null,null,null,null,null,null,null,null,null,null,null,null,null,null,null,null,null,null,null,null,null,null,null,null,null,null,null,null,null,null,null,90558.49817297688,90701.68628537696,90872.25351725033,91050.09193074815,91236.49108756961,91423.04155532623,91596.35544721136,91784.34957239983,91967.23087606924,92146.08236224612,92314.6360142894,92466.79227307577,92635.23235293504,92812.05444517823,92998.44843215015,93200.28194889645,93414.06620227327,93611.18305598159,93803.6627470439,93969.86736858297,94136.81973533008,94299.41191315236,94455.4517031366,94581.84520341283,94658.7127012088,94740.82723962641,94816.93676894266,94909.3229184182,94981.75543020327,95052.78774682827,95111.83408089422,95181.20970630966,95248.35871734362,95305.73484289687,95364.49712423916,95420.92331211697,95475.92587349292,95515.74234096699,95580.94665835277,95648.70203506964,95696.56860136219,95753.01698166205,95789.1678689283,95830.21563245793,95867.11034662662,95904.39519120022,95931.89987823591,95941.75544418742,95983.3060642637,96013.31715322113,96050.60065551203,96079.34385968816,96127.96870267931,96181.37805776391,96217.74304877814,96253.40300248648,96274.70885263002,96311.99602056073,96336.39953716598,96346.23346068896,96357.14623617538,96401.44434402663,96453.6911589621,96509.99994676386,96580.62347463374,96684.55035639627,96799.18092762487,96892.7971448361,96991.66015728412,97112.43696739148,97229.16820570905,97346.98592212849,97475.89551055199,97602.70383311913,97724.67267217708,97839.03639571149,97942.18801053808,98051.54527510445,98153.40686066847,98253.35608921041,98329.9131584052,98434.95037578448,98556.96137399209,98685.09650515519,98800.67991608792,98917.04836212649,99023.27451984033,99117.16579863844,99197.06992180954,99266.49970814116,99341.97024245586,99391.80854497572,99445.24594503107,99526.18663184463,99600.8039219954,99652.44315755516,99730.41010792229,99803.941056405,99880.77776800236,99974.60253229432,100053.8692675715,100130.7758793949,100211.71639883972,100280.83568623796,100338.21018252496,100390.18993621663,100458.07798584916,100532.30840256473,100609.14534664633,100695.35306789885,100779.43637611864,100847.18605454706,100923.60732296175,100996.89655881815,101076.78165258266,101132.18327784546,101197.39317738778,101249.4790392007,101312.48414710481,101380.99265017027,101451.70049058499,101524.57743019835,101599.00754963713,101672.57403609603,101745.45964021728,101813.6636972112,101890.72511796767,101977.7809717266,102073.65948942988,102197.47637231309,102333.55045005673,102490.91765302485,102644.35819276882,102805.96293508234,102958.21638600956,103072.63619713025,103220.2916785162,103362.31522880137,103485.81722384553,103599.29392455079,103725.53807406608,103861.42600269993,104002.48795871464,104157.11929955133,104291.39781045908,104432.68944965527,104598.74069908942,104749.00329246368,104919.56106066897,105109.56656873132,105300.44050008875,105498.4450330775,105681.89875360533,105884.41207681075,106071.9581919004,106269.75417356692,106449.30578116074,106578.67583588423,106695.3384995019,106836.48207907501,106976.45713627923,107120.44263769528,107260.59012297,107389.19186051245,107508.83945199181,107618.43153084775,107752.44897750363],\"type\":\"scatter\",\"xaxis\":\"x\",\"yaxis\":\"y\"}],                        {\"template\":{\"data\":{\"histogram2dcontour\":[{\"type\":\"histogram2dcontour\",\"colorbar\":{\"outlinewidth\":0,\"ticks\":\"\"},\"colorscale\":[[0.0,\"#0d0887\"],[0.1111111111111111,\"#46039f\"],[0.2222222222222222,\"#7201a8\"],[0.3333333333333333,\"#9c179e\"],[0.4444444444444444,\"#bd3786\"],[0.5555555555555556,\"#d8576b\"],[0.6666666666666666,\"#ed7953\"],[0.7777777777777778,\"#fb9f3a\"],[0.8888888888888888,\"#fdca26\"],[1.0,\"#f0f921\"]]}],\"choropleth\":[{\"type\":\"choropleth\",\"colorbar\":{\"outlinewidth\":0,\"ticks\":\"\"}}],\"histogram2d\":[{\"type\":\"histogram2d\",\"colorbar\":{\"outlinewidth\":0,\"ticks\":\"\"},\"colorscale\":[[0.0,\"#0d0887\"],[0.1111111111111111,\"#46039f\"],[0.2222222222222222,\"#7201a8\"],[0.3333333333333333,\"#9c179e\"],[0.4444444444444444,\"#bd3786\"],[0.5555555555555556,\"#d8576b\"],[0.6666666666666666,\"#ed7953\"],[0.7777777777777778,\"#fb9f3a\"],[0.8888888888888888,\"#fdca26\"],[1.0,\"#f0f921\"]]}],\"heatmap\":[{\"type\":\"heatmap\",\"colorbar\":{\"outlinewidth\":0,\"ticks\":\"\"},\"colorscale\":[[0.0,\"#0d0887\"],[0.1111111111111111,\"#46039f\"],[0.2222222222222222,\"#7201a8\"],[0.3333333333333333,\"#9c179e\"],[0.4444444444444444,\"#bd3786\"],[0.5555555555555556,\"#d8576b\"],[0.6666666666666666,\"#ed7953\"],[0.7777777777777778,\"#fb9f3a\"],[0.8888888888888888,\"#fdca26\"],[1.0,\"#f0f921\"]]}],\"heatmapgl\":[{\"type\":\"heatmapgl\",\"colorbar\":{\"outlinewidth\":0,\"ticks\":\"\"},\"colorscale\":[[0.0,\"#0d0887\"],[0.1111111111111111,\"#46039f\"],[0.2222222222222222,\"#7201a8\"],[0.3333333333333333,\"#9c179e\"],[0.4444444444444444,\"#bd3786\"],[0.5555555555555556,\"#d8576b\"],[0.6666666666666666,\"#ed7953\"],[0.7777777777777778,\"#fb9f3a\"],[0.8888888888888888,\"#fdca26\"],[1.0,\"#f0f921\"]]}],\"contourcarpet\":[{\"type\":\"contourcarpet\",\"colorbar\":{\"outlinewidth\":0,\"ticks\":\"\"}}],\"contour\":[{\"type\":\"contour\",\"colorbar\":{\"outlinewidth\":0,\"ticks\":\"\"},\"colorscale\":[[0.0,\"#0d0887\"],[0.1111111111111111,\"#46039f\"],[0.2222222222222222,\"#7201a8\"],[0.3333333333333333,\"#9c179e\"],[0.4444444444444444,\"#bd3786\"],[0.5555555555555556,\"#d8576b\"],[0.6666666666666666,\"#ed7953\"],[0.7777777777777778,\"#fb9f3a\"],[0.8888888888888888,\"#fdca26\"],[1.0,\"#f0f921\"]]}],\"surface\":[{\"type\":\"surface\",\"colorbar\":{\"outlinewidth\":0,\"ticks\":\"\"},\"colorscale\":[[0.0,\"#0d0887\"],[0.1111111111111111,\"#46039f\"],[0.2222222222222222,\"#7201a8\"],[0.3333333333333333,\"#9c179e\"],[0.4444444444444444,\"#bd3786\"],[0.5555555555555556,\"#d8576b\"],[0.6666666666666666,\"#ed7953\"],[0.7777777777777778,\"#fb9f3a\"],[0.8888888888888888,\"#fdca26\"],[1.0,\"#f0f921\"]]}],\"mesh3d\":[{\"type\":\"mesh3d\",\"colorbar\":{\"outlinewidth\":0,\"ticks\":\"\"}}],\"scatter\":[{\"fillpattern\":{\"fillmode\":\"overlay\",\"size\":10,\"solidity\":0.2},\"type\":\"scatter\"}],\"parcoords\":[{\"type\":\"parcoords\",\"line\":{\"colorbar\":{\"outlinewidth\":0,\"ticks\":\"\"}}}],\"scatterpolargl\":[{\"type\":\"scatterpolargl\",\"marker\":{\"colorbar\":{\"outlinewidth\":0,\"ticks\":\"\"}}}],\"bar\":[{\"error_x\":{\"color\":\"#2a3f5f\"},\"error_y\":{\"color\":\"#2a3f5f\"},\"marker\":{\"line\":{\"color\":\"#E5ECF6\",\"width\":0.5},\"pattern\":{\"fillmode\":\"overlay\",\"size\":10,\"solidity\":0.2}},\"type\":\"bar\"}],\"scattergeo\":[{\"type\":\"scattergeo\",\"marker\":{\"colorbar\":{\"outlinewidth\":0,\"ticks\":\"\"}}}],\"scatterpolar\":[{\"type\":\"scatterpolar\",\"marker\":{\"colorbar\":{\"outlinewidth\":0,\"ticks\":\"\"}}}],\"histogram\":[{\"marker\":{\"pattern\":{\"fillmode\":\"overlay\",\"size\":10,\"solidity\":0.2}},\"type\":\"histogram\"}],\"scattergl\":[{\"type\":\"scattergl\",\"marker\":{\"colorbar\":{\"outlinewidth\":0,\"ticks\":\"\"}}}],\"scatter3d\":[{\"type\":\"scatter3d\",\"line\":{\"colorbar\":{\"outlinewidth\":0,\"ticks\":\"\"}},\"marker\":{\"colorbar\":{\"outlinewidth\":0,\"ticks\":\"\"}}}],\"scattermapbox\":[{\"type\":\"scattermapbox\",\"marker\":{\"colorbar\":{\"outlinewidth\":0,\"ticks\":\"\"}}}],\"scatterternary\":[{\"type\":\"scatterternary\",\"marker\":{\"colorbar\":{\"outlinewidth\":0,\"ticks\":\"\"}}}],\"scattercarpet\":[{\"type\":\"scattercarpet\",\"marker\":{\"colorbar\":{\"outlinewidth\":0,\"ticks\":\"\"}}}],\"carpet\":[{\"aaxis\":{\"endlinecolor\":\"#2a3f5f\",\"gridcolor\":\"white\",\"linecolor\":\"white\",\"minorgridcolor\":\"white\",\"startlinecolor\":\"#2a3f5f\"},\"baxis\":{\"endlinecolor\":\"#2a3f5f\",\"gridcolor\":\"white\",\"linecolor\":\"white\",\"minorgridcolor\":\"white\",\"startlinecolor\":\"#2a3f5f\"},\"type\":\"carpet\"}],\"table\":[{\"cells\":{\"fill\":{\"color\":\"#EBF0F8\"},\"line\":{\"color\":\"white\"}},\"header\":{\"fill\":{\"color\":\"#C8D4E3\"},\"line\":{\"color\":\"white\"}},\"type\":\"table\"}],\"barpolar\":[{\"marker\":{\"line\":{\"color\":\"#E5ECF6\",\"width\":0.5},\"pattern\":{\"fillmode\":\"overlay\",\"size\":10,\"solidity\":0.2}},\"type\":\"barpolar\"}],\"pie\":[{\"automargin\":true,\"type\":\"pie\"}]},\"layout\":{\"autotypenumbers\":\"strict\",\"colorway\":[\"#636efa\",\"#EF553B\",\"#00cc96\",\"#ab63fa\",\"#FFA15A\",\"#19d3f3\",\"#FF6692\",\"#B6E880\",\"#FF97FF\",\"#FECB52\"],\"font\":{\"color\":\"#2a3f5f\"},\"hovermode\":\"closest\",\"hoverlabel\":{\"align\":\"left\"},\"paper_bgcolor\":\"white\",\"plot_bgcolor\":\"#E5ECF6\",\"polar\":{\"bgcolor\":\"#E5ECF6\",\"angularaxis\":{\"gridcolor\":\"white\",\"linecolor\":\"white\",\"ticks\":\"\"},\"radialaxis\":{\"gridcolor\":\"white\",\"linecolor\":\"white\",\"ticks\":\"\"}},\"ternary\":{\"bgcolor\":\"#E5ECF6\",\"aaxis\":{\"gridcolor\":\"white\",\"linecolor\":\"white\",\"ticks\":\"\"},\"baxis\":{\"gridcolor\":\"white\",\"linecolor\":\"white\",\"ticks\":\"\"},\"caxis\":{\"gridcolor\":\"white\",\"linecolor\":\"white\",\"ticks\":\"\"}},\"coloraxis\":{\"colorbar\":{\"outlinewidth\":0,\"ticks\":\"\"}},\"colorscale\":{\"sequential\":[[0.0,\"#0d0887\"],[0.1111111111111111,\"#46039f\"],[0.2222222222222222,\"#7201a8\"],[0.3333333333333333,\"#9c179e\"],[0.4444444444444444,\"#bd3786\"],[0.5555555555555556,\"#d8576b\"],[0.6666666666666666,\"#ed7953\"],[0.7777777777777778,\"#fb9f3a\"],[0.8888888888888888,\"#fdca26\"],[1.0,\"#f0f921\"]],\"sequentialminus\":[[0.0,\"#0d0887\"],[0.1111111111111111,\"#46039f\"],[0.2222222222222222,\"#7201a8\"],[0.3333333333333333,\"#9c179e\"],[0.4444444444444444,\"#bd3786\"],[0.5555555555555556,\"#d8576b\"],[0.6666666666666666,\"#ed7953\"],[0.7777777777777778,\"#fb9f3a\"],[0.8888888888888888,\"#fdca26\"],[1.0,\"#f0f921\"]],\"diverging\":[[0,\"#8e0152\"],[0.1,\"#c51b7d\"],[0.2,\"#de77ae\"],[0.3,\"#f1b6da\"],[0.4,\"#fde0ef\"],[0.5,\"#f7f7f7\"],[0.6,\"#e6f5d0\"],[0.7,\"#b8e186\"],[0.8,\"#7fbc41\"],[0.9,\"#4d9221\"],[1,\"#276419\"]]},\"xaxis\":{\"gridcolor\":\"white\",\"linecolor\":\"white\",\"ticks\":\"\",\"title\":{\"standoff\":15},\"zerolinecolor\":\"white\",\"automargin\":true,\"zerolinewidth\":2},\"yaxis\":{\"gridcolor\":\"white\",\"linecolor\":\"white\",\"ticks\":\"\",\"title\":{\"standoff\":15},\"zerolinecolor\":\"white\",\"automargin\":true,\"zerolinewidth\":2},\"scene\":{\"xaxis\":{\"backgroundcolor\":\"#E5ECF6\",\"gridcolor\":\"white\",\"linecolor\":\"white\",\"showbackground\":true,\"ticks\":\"\",\"zerolinecolor\":\"white\",\"gridwidth\":2},\"yaxis\":{\"backgroundcolor\":\"#E5ECF6\",\"gridcolor\":\"white\",\"linecolor\":\"white\",\"showbackground\":true,\"ticks\":\"\",\"zerolinecolor\":\"white\",\"gridwidth\":2},\"zaxis\":{\"backgroundcolor\":\"#E5ECF6\",\"gridcolor\":\"white\",\"linecolor\":\"white\",\"showbackground\":true,\"ticks\":\"\",\"zerolinecolor\":\"white\",\"gridwidth\":2}},\"shapedefaults\":{\"line\":{\"color\":\"#2a3f5f\"}},\"annotationdefaults\":{\"arrowcolor\":\"#2a3f5f\",\"arrowhead\":0,\"arrowwidth\":1},\"geo\":{\"bgcolor\":\"white\",\"landcolor\":\"#E5ECF6\",\"subunitcolor\":\"white\",\"showland\":true,\"showlakes\":true,\"lakecolor\":\"white\"},\"title\":{\"x\":0.05},\"mapbox\":{\"style\":\"light\"}}},\"xaxis\":{\"anchor\":\"y\",\"domain\":[0.0,0.94],\"title\":{\"text\":\"Timestamp\"}},\"yaxis\":{\"anchor\":\"x\",\"domain\":[0.0,1.0],\"title\":{\"text\":\"Price (USD)\"}},\"yaxis2\":{\"anchor\":\"x\",\"overlaying\":\"y\",\"side\":\"right\",\"title\":{\"text\":\"Volume (USD)\"}},\"title\":{\"text\":\"Bitcoin Price, Trading Volume, Market Cap, and Moving Averages Over Time\"},\"yaxis3\":{\"title\":{\"text\":\"Market Cap (USD)\"},\"overlaying\":\"y\",\"side\":\"right\",\"position\":0.85}},                        {\"responsive\": true}                    ).then(function(){\n",
              "                            \n",
              "var gd = document.getElementById('da41b7f9-ecda-43c2-a0ba-8aca5e976ac1');\n",
              "var x = new MutationObserver(function (mutations, observer) {{\n",
              "        var display = window.getComputedStyle(gd).display;\n",
              "        if (!display || display === 'none') {{\n",
              "            console.log([gd, 'removed!']);\n",
              "            Plotly.purge(gd);\n",
              "            observer.disconnect();\n",
              "        }}\n",
              "}});\n",
              "\n",
              "// Listen for the removal of the full notebook cells\n",
              "var notebookContainer = gd.closest('#notebook-container');\n",
              "if (notebookContainer) {{\n",
              "    x.observe(notebookContainer, {childList: true});\n",
              "}}\n",
              "\n",
              "// Listen for the clearing of the current output cell\n",
              "var outputEl = gd.closest('.output');\n",
              "if (outputEl) {{\n",
              "    x.observe(outputEl, {childList: true});\n",
              "}}\n",
              "\n",
              "                        })                };                            </script>        </div>\n",
              "</body>\n",
              "</html>"
            ]
          },
          "metadata": {}
        }
      ]
    },
    {
      "cell_type": "markdown",
      "metadata": {
        "id": "59e773ff"
      },
      "source": [
        "## Summary:\n",
        "\n",
        "### Data Analysis Key Findings\n",
        "\n",
        "*   The 50-day and 200-day Simple Moving Averages (SMA) were calculated and added as new columns ('SMA\\_50' and 'SMA\\_200') to the `prices` DataFrame.\n",
        "*   The visualization was successfully updated to include lines for the calculated 50-day and 200-day SMAs on the primary y-axis, alongside the Bitcoin price.\n",
        "*   The final plot displays Bitcoin's price, trading volume, market cap, and the two moving averages over time.\n",
        "\n",
        "### Insights or Next Steps\n",
        "\n",
        "*   Analyze the relationship between the price and the moving averages (e.g., crossovers) to identify potential trends or signals.\n",
        "*   Consider adding other technical indicators (e.g., RSI, MACD) to the plot for a more comprehensive technical analysis.\n"
      ]
    }
  ]
}